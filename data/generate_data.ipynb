{
 "cells": [
  {
   "cell_type": "markdown",
   "metadata": {},
   "source": [
    "# Generate Data\n",
    "\n",
    "Generates UMAP coordinates and model from HuggingFace datasets or a JSON file.\n",
    "\n",
    "In this notebook, we use the [Wikipedia sentences](https://huggingface.co/datasets/sentence-transformers/wikipedia-en-sentences) (HuggingFace) + [CHI 2024 paper titles](https://observablehq.com/@john-guerra/chi2024-papers) (JSON) datasets as examples. You may need to adjust the code to fit your needs."
   ]
  },
  {
   "cell_type": "markdown",
   "metadata": {},
   "source": [
    "## Helpers and imports"
   ]
  },
  {
   "cell_type": "code",
   "execution_count": 1,
   "metadata": {},
   "outputs": [
    {
     "name": "stderr",
     "output_type": "stream",
     "text": [
      "c:\\Users\\euije\\.virtualenvs\\ml-interactive-data-augmentation-oGByDv0u\\Lib\\site-packages\\tqdm\\auto.py:21: TqdmWarning: IProgress not found. Please update jupyter and ipywidgets. See https://ipywidgets.readthedocs.io/en/stable/user_install.html\n",
      "  from .autonotebook import tqdm as notebook_tqdm\n"
     ]
    }
   ],
   "source": [
    "from datasets import load_dataset\n",
    "import pandas as pd\n",
    "import os\n",
    "import json\n",
    "import pickle\n",
    "import numpy as np\n",
    "\n",
    "import torch\n",
    "from transformers import AutoModel, AutoTokenizer, PreTrainedTokenizer, PreTrainedModel\n",
    "import vec2text\n",
    "\n",
    "import umap\n",
    "import plotly.express as px\n",
    "from sklearn.cluster import KMeans\n",
    "\n",
    "from openai import OpenAI\n",
    "import ast"
   ]
  },
  {
   "cell_type": "code",
   "execution_count": 2,
   "metadata": {},
   "outputs": [],
   "source": [
    "# check if models folder exists\n",
    "if not os.path.exists(\"../models\"):\n",
    "    os.makedirs(\"../models\")"
   ]
  },
  {
   "cell_type": "code",
   "execution_count": 3,
   "metadata": {},
   "outputs": [
    {
     "name": "stdout",
     "output_type": "stream",
     "text": [
      "API keys loaded.\n"
     ]
    }
   ],
   "source": [
    "# load the api keys from the secrets file\n",
    "try:\n",
    "    with open(\"../secrets.json\") as f:\n",
    "        secrets = json.load(f)\n",
    "    open_ai_key = secrets[\"openai\"]\n",
    "    print(\"API keys loaded.\")\n",
    "except FileNotFoundError:\n",
    "    print(\"Secrets file not found. YOU NEED THEM TO RUN THIS.\")"
   ]
  },
  {
   "cell_type": "code",
   "execution_count": 4,
   "metadata": {},
   "outputs": [],
   "source": [
    "OPENAI_MODEL = \"gpt-4o-mini\"\n",
    "llm = OpenAI(api_key=open_ai_key)"
   ]
  },
  {
   "cell_type": "code",
   "execution_count": 5,
   "metadata": {},
   "outputs": [],
   "source": [
    "# Setting the random seed for reproducibility\n",
    "random_state = 42\n",
    "sample_size = 1000\n",
    "os.environ[\"TOKENIZERS_PARALLELISM\"] = \"false\""
   ]
  },
  {
   "cell_type": "code",
   "execution_count": 13,
   "metadata": {},
   "outputs": [
    {
     "data": {
      "text/plain": [
       "device(type='cpu')"
      ]
     },
     "execution_count": 13,
     "metadata": {},
     "output_type": "execute_result"
    }
   ],
   "source": [
    "# check for cuda\n",
    "device = torch.device('cuda' if torch.cuda.is_available() else 'cpu')\n",
    "device"
   ]
  },
  {
   "cell_type": "markdown",
   "metadata": {},
   "source": [
    "### generate embeddings"
   ]
  },
  {
   "cell_type": "code",
   "execution_count": 7,
   "metadata": {},
   "outputs": [],
   "source": [
    "def get_gtr_embeddings(text_list,\n",
    "                       encoder: PreTrainedModel,\n",
    "                       tokenizer: PreTrainedTokenizer) -> torch.Tensor:\n",
    "\n",
    "    inputs = tokenizer(text_list,\n",
    "                       return_tensors=\"pt\",\n",
    "                       max_length=128,\n",
    "                       truncation=True,\n",
    "                       padding=\"max_length\",).to(device)\n",
    "\n",
    "    with torch.no_grad():\n",
    "        model_output = encoder(input_ids=inputs['input_ids'], attention_mask=inputs['attention_mask'])\n",
    "        hidden_state = model_output.last_hidden_state\n",
    "        embeddings = vec2text.models.model_utils.mean_pool(hidden_state, inputs['attention_mask'])\n",
    "\n",
    "    return embeddings\n",
    "\n",
    "encoder = AutoModel.from_pretrained(\"sentence-transformers/gtr-t5-base\").encoder.to(device)\n",
    "tokenizer = AutoTokenizer.from_pretrained(\"sentence-transformers/gtr-t5-base\")"
   ]
  },
  {
   "cell_type": "code",
   "execution_count": 8,
   "metadata": {},
   "outputs": [],
   "source": [
    "def generate_embeddings(sentences, dataset_name):\n",
    "    # batch embedding process\n",
    "    batch_size = 100\n",
    "    embeddings = []\n",
    "    for i in range(0, len(sentences), batch_size):\n",
    "        embeddings.append(get_gtr_embeddings(sentences[i:i+batch_size], encoder, tokenizer))\n",
    "\n",
    "    # combine embeddings into one tensor\n",
    "    embeddings = torch.cat(embeddings, dim=0)\n",
    "\n",
    "    # normalize embeddings\n",
    "    norms = torch.norm(embeddings, dim=1)\n",
    "    embeddings /= norms[:, None]\n",
    "\n",
    "    # save embeddings to file \n",
    "    torch.save(embeddings, f\"{dataset_name}/{dataset_name}_embeddings.pt\")\n",
    "\n",
    "    print(f\"Embeddings for {dataset_name} generated and saved to file.\")\n",
    "    return embeddings"
   ]
  },
  {
   "cell_type": "markdown",
   "metadata": {},
   "source": [
    "### UMAP"
   ]
  },
  {
   "cell_type": "code",
   "execution_count": 9,
   "metadata": {},
   "outputs": [],
   "source": [
    "def run_umap(embeddings, sentences, dataset_name, n_neighbors=100, min_dist=0.1):\n",
    "    umap_model = umap.UMAP(n_neighbors=n_neighbors, min_dist=min_dist, n_components=2, metric='cosine', random_state=random_state)\n",
    "    reducer = umap_model.fit(embeddings.cpu())\n",
    "    umap_embeddings = reducer.transform(embeddings.cpu())\n",
    "\n",
    "    # save results to df\n",
    "    df_res = pd.DataFrame()\n",
    "    df_res['sentence'] = sentences\n",
    "    df_res['umap_x'] = umap_embeddings[:,0]\n",
    "    df_res['umap_y'] = umap_embeddings[:,1]\n",
    "\n",
    "    # save umap model\n",
    "    umap_path = f'../models/{dataset_name}_umap_reducer'\n",
    "    umap_pickle = open(umap_path, 'wb')\n",
    "    pickle.dump(reducer, umap_pickle)\n",
    "    umap_pickle.close()\n",
    "\n",
    "    print(f\"UMAP model for {dataset_name} saved to file.\")\n",
    "    return df_res"
   ]
  },
  {
   "cell_type": "markdown",
   "metadata": {},
   "source": [
    "### Cluster"
   ]
  },
  {
   "cell_type": "code",
   "execution_count": 10,
   "metadata": {},
   "outputs": [],
   "source": [
    "def label_clusters(cluster_samples):\n",
    "    cluster_examples = \"\" # input to LLM\n",
    "    for cluster, samples in cluster_samples.items():\n",
    "        cluster_examples += f'Cluster {cluster}\\n'\n",
    "        cluster_examples += '----------------\\n'\n",
    "        for sample in samples:\n",
    "            cluster_examples += sample + '\\n'\n",
    "        cluster_examples += '\\n'\n",
    "\n",
    "    system_prompt = f\"\"\"Given the example 10 sentences in each cluster, please assign a short phrase to describe each cluster. \n",
    "                    Format your answer as a dict where the key is the cluster number and the value is the phrase.\n",
    "                    Just output the dict, nothing else.\"\"\"\n",
    "    user_prompt = f\"{cluster_examples}\"\n",
    "    temperature = 0.1\n",
    "\n",
    "    # get completion from LLM (ask it to label the clusters)\n",
    "    completion = llm.chat.completions.create(\n",
    "        model=OPENAI_MODEL,\n",
    "        temperature=temperature,\n",
    "        messages=[\n",
    "            {\"role\": \"system\", \"content\": system_prompt},\n",
    "            {\"role\": \"user\", \"content\": user_prompt}\n",
    "        ],\n",
    "    )\n",
    "    res = completion.choices[0].message.content\n",
    "\n",
    "    # read res as a dictionary\n",
    "    label_map = ast.literal_eval(res)\n",
    "    print(\"Cluster labels generated.\")\n",
    "    return label_map\n"
   ]
  },
  {
   "cell_type": "code",
   "execution_count": 11,
   "metadata": {},
   "outputs": [],
   "source": [
    "def get_clusters(df_res, embeddings, dataset_name, num_clusters=10):\n",
    "    # create copy of df_res\n",
    "    df_cluster = df_res.copy()\n",
    "\n",
    "    # create a kmeans model\n",
    "    kmeans = KMeans(n_clusters=num_clusters, random_state=random_state)\n",
    "\n",
    "    # fit the model\n",
    "    kmeans.fit(embeddings)\n",
    "\n",
    "    # get the cluster labels\n",
    "    cluster_labels = kmeans.labels_\n",
    "    df_cluster['cluster'] = cluster_labels\n",
    "\n",
    "    # randomly sample 10 sentences from each cluster\n",
    "    # and add them to a dictionary where the key is the cluster number\n",
    "    cluster_samples = {}\n",
    "    for cluster in range(num_clusters):\n",
    "        cluster_samples[cluster] = df_cluster[df_cluster['cluster'] == cluster].sample(10)['sentence'].tolist()\n",
    "\n",
    "    # get the labels for the clusters\n",
    "    label_map = label_clusters(cluster_samples)\n",
    "\n",
    "    # map df_cluster['cluster'] to the labels\n",
    "    df_cluster['cluster'] = df_cluster['cluster'].map(label_map)\n",
    "\n",
    "    # save data to json\n",
    "    df_cluster.to_json(f'{dataset_name}/{dataset_name}_data.json', orient='records')\n",
    "    \n",
    "    print(f\"Cluster info and umap coords for {dataset_name} saved to file.\")\n",
    "    return df_cluster"
   ]
  },
  {
   "cell_type": "code",
   "execution_count": 12,
   "metadata": {},
   "outputs": [],
   "source": [
    "def visualize_clusters(df_cluster):\n",
    "    # create interactive visualization of the embeddings\n",
    "    fig = px.scatter(df_cluster, x='umap_x', y='umap_y', hover_data=['sentence'], color='cluster')\n",
    "\n",
    "    width = 1000\n",
    "\n",
    "    # add a title and change the layout\n",
    "    fig.update_layout(title='UMAP of sentence embeddings with clusters',\n",
    "        autosize=False,\n",
    "        width=width,\n",
    "        height=400,\n",
    "    )\n",
    "\n",
    "    # show the plot\n",
    "    fig.show()"
   ]
  },
  {
   "cell_type": "markdown",
   "metadata": {},
   "source": [
    "## Wikipedia Sentences (HuggingFace Example)"
   ]
  },
  {
   "cell_type": "code",
   "execution_count": null,
   "metadata": {},
   "outputs": [
    {
     "name": "stderr",
     "output_type": "stream",
     "text": [
      "c:\\Users\\euije\\.virtualenvs\\ml-interactive-data-augmentation-oGByDv0u\\Lib\\site-packages\\huggingface_hub\\file_download.py:143: UserWarning: `huggingface_hub` cache-system uses symlinks by default to efficiently store duplicated files but your machine does not support them in C:\\Users\\euije\\.cache\\huggingface\\hub\\datasets--sentence-transformers--wikipedia-en-sentences. Caching files will still work but in a degraded version that might require more space on your disk. This warning can be disabled by setting the `HF_HUB_DISABLE_SYMLINKS_WARNING` environment variable. For more details, see https://huggingface.co/docs/huggingface_hub/how-to-cache#limitations.\n",
      "To support symlinks on Windows, you either need to activate Developer Mode or to run Python as an administrator. In order to activate developer mode, see this article: https://docs.microsoft.com/en-us/windows/apps/get-started/enable-your-device-for-development\n",
      "  warnings.warn(message)\n",
      "Xet Storage is enabled for this repo, but the 'hf_xet' package is not installed. Falling back to regular HTTP download. For better performance, install the package with: `pip install huggingface_hub[hf_xet]` or `pip install hf_xet`\n",
      "Xet Storage is enabled for this repo, but the 'hf_xet' package is not installed. Falling back to regular HTTP download. For better performance, install the package with: `pip install huggingface_hub[hf_xet]` or `pip install hf_xet`\n",
      "Generating train split: 100%|██████████| 7871825/7871825 [00:01<00:00, 5969719.13 examples/s]\n"
     ]
    }
   ],
   "source": [
    "dataset_to_load = \"sentence-transformers/wikipedia-en-sentences\" # TODO: REPLACE WITH ANY HUGGINGFACE DATASET\n",
    "data = load_dataset(dataset_to_load)\n",
    "\n",
    "dataset_name = \"wiki\" # TODO: REPLACE WITH YOUR DATASET NAME"
   ]
  },
  {
   "cell_type": "code",
   "execution_count": 15,
   "metadata": {},
   "outputs": [],
   "source": [
    "# check if folder exists\n",
    "if not os.path.exists(dataset_name):\n",
    "    os.makedirs(dataset_name)"
   ]
  },
  {
   "cell_type": "code",
   "execution_count": 16,
   "metadata": {},
   "outputs": [],
   "source": [
    "# sample n rows from the dataset\n",
    "n = 10000\n",
    "sample = data['train'].shuffle(seed=42).select(range(n))"
   ]
  },
  {
   "cell_type": "code",
   "execution_count": 17,
   "metadata": {},
   "outputs": [
    {
     "data": {
      "text/html": [
       "<div>\n",
       "<style scoped>\n",
       "    .dataframe tbody tr th:only-of-type {\n",
       "        vertical-align: middle;\n",
       "    }\n",
       "\n",
       "    .dataframe tbody tr th {\n",
       "        vertical-align: top;\n",
       "    }\n",
       "\n",
       "    .dataframe thead th {\n",
       "        text-align: right;\n",
       "    }\n",
       "</style>\n",
       "<table border=\"1\" class=\"dataframe\">\n",
       "  <thead>\n",
       "    <tr style=\"text-align: right;\">\n",
       "      <th></th>\n",
       "      <th>Sentence</th>\n",
       "    </tr>\n",
       "  </thead>\n",
       "  <tbody>\n",
       "    <tr>\n",
       "      <th>0</th>\n",
       "      <td>The EP, and \"Kaleidoscope World\" in particular...</td>\n",
       "    </tr>\n",
       "    <tr>\n",
       "      <th>1</th>\n",
       "      <td>Reiner used an ink wash to give the strip a gr...</td>\n",
       "    </tr>\n",
       "    <tr>\n",
       "      <th>2</th>\n",
       "      <td>He has competed in IMSA GT, sprint car racing,...</td>\n",
       "    </tr>\n",
       "    <tr>\n",
       "      <th>3</th>\n",
       "      <td>She is a co-founder of Sweatshop Watch.</td>\n",
       "    </tr>\n",
       "    <tr>\n",
       "      <th>4</th>\n",
       "      <td>The traditional notion of the application of t...</td>\n",
       "    </tr>\n",
       "  </tbody>\n",
       "</table>\n",
       "</div>"
      ],
      "text/plain": [
       "                                            Sentence\n",
       "0  The EP, and \"Kaleidoscope World\" in particular...\n",
       "1  Reiner used an ink wash to give the strip a gr...\n",
       "2  He has competed in IMSA GT, sprint car racing,...\n",
       "3            She is a co-founder of Sweatshop Watch.\n",
       "4  The traditional notion of the application of t..."
      ]
     },
     "execution_count": 17,
     "metadata": {},
     "output_type": "execute_result"
    }
   ],
   "source": [
    "df = pd.DataFrame(sample[:sample_size])\n",
    "# rename the column to 'Sentence'\n",
    "df = df.rename(columns={'sentence': 'Sentence'})\n",
    "df.head()"
   ]
  },
  {
   "cell_type": "code",
   "execution_count": 18,
   "metadata": {},
   "outputs": [],
   "source": [
    "sentences = df['Sentence'].to_list() # get sentences from df"
   ]
  },
  {
   "cell_type": "code",
   "execution_count": 19,
   "metadata": {},
   "outputs": [
    {
     "name": "stdout",
     "output_type": "stream",
     "text": [
      "Embeddings for wiki generated and saved to file.\n"
     ]
    }
   ],
   "source": [
    "# generate embeddings\n",
    "embeddings = generate_embeddings(sentences, dataset_name)"
   ]
  },
  {
   "cell_type": "code",
   "execution_count": 20,
   "metadata": {},
   "outputs": [
    {
     "name": "stderr",
     "output_type": "stream",
     "text": [
      "c:\\Users\\euije\\.virtualenvs\\ml-interactive-data-augmentation-oGByDv0u\\Lib\\site-packages\\umap\\umap_.py:1952: UserWarning: n_jobs value 1 overridden to 1 by setting random_state. Use no seed for parallelism.\n",
      "  warn(\n"
     ]
    },
    {
     "name": "stdout",
     "output_type": "stream",
     "text": [
      "UMAP model for wiki saved to file.\n"
     ]
    }
   ],
   "source": [
    "# get umap coords\n",
    "df_res = run_umap(embeddings, sentences, dataset_name)"
   ]
  },
  {
   "cell_type": "code",
   "execution_count": 21,
   "metadata": {},
   "outputs": [
    {
     "name": "stdout",
     "output_type": "stream",
     "text": [
      "Cluster labels generated.\n",
      "Cluster info and umap coords for wiki saved to file.\n"
     ]
    }
   ],
   "source": [
    "# cluster the data\n",
    "df_cluster = get_clusters(df_res, embeddings, dataset_name)"
   ]
  },
  {
   "cell_type": "code",
   "execution_count": 22,
   "metadata": {},
   "outputs": [
    {
     "data": {
      "application/vnd.plotly.v1+json": {
       "config": {
        "plotlyServerURL": "https://plot.ly"
       },
       "data": [
        {
         "customdata": [
          [
           "The EP, and \"Kaleidoscope World\" in particular, were the launching pad for Dunedin's acceptance as an important source of New Zealand music."
          ],
          [
           "It was released on November 11th 2013 by Xtra Mile Recordings."
          ],
          [
           "Produced during the pregnancy of her twins Emme and Max, Love? was cited by Lopez as her most personal album to date, taking inspiration from the birth of her twins and her own experiences with love."
          ],
          [
           "The Cat is a Dutch/American reggae/ska/punk rock band originating from Boston, Massachusetts (US), currently based in Amsterdam, the Netherlands."
          ],
          [
           "EVER! is the first album from The Shirehorses, a spoof English band."
          ],
          [
           "The song peaked to number 89 on the UK Singles Chart."
          ],
          [
           "It boasts the entire unabridged audio from the concert documented in the DVD of the same name."
          ],
          [
           "A second Herwin Records was started in 1971 by Bernard Klatzko, a collector who reissued rare, early-jazz disks."
          ],
          [
           "His recordings include the hit single \"Im Wagen vor mir\",."
          ],
          [
           "Former lead singer of the band Sean Kennedy has a new band called \"Talisker Skye\"."
          ],
          [
           "In Rainbows (2007), Radiohead developed The King of Limbs by sampling and looping, working with longtime Radiohead producer Nigel Godrich in Los Angeles."
          ],
          [
           "His replacement, Mike Johnson came aboard for three major-label albums."
          ],
          [
           "Both of them, who were jazz musicians at the time, joined Matthews after hearing the demo."
          ],
          [
           "It was originally released as an album track on 1971's Poems, Prayers & Promises and later, as a single in 1973."
          ],
          [
           "Catalyst Records released the album in 1976."
          ],
          [
           "They continue to tour Germany every Christmas and run their own independent record label, Ska Revolution Records."
          ],
          [
           "KRS-One rose to prominence as part of the hip hop music group Boogie Down Productions, which he formed with DJ Scott La Rock in the mid-1980s."
          ],
          [
           "The last track on the album is a version of the song, \"Outlaw Band,\" written by Bob Childers and Randy Crouch."
          ],
          [
           "Although reaction to the new record was predominantly positive, critical opinion was more heavily divided than had been the case with the almost universal praise enjoyed by Pure."
          ],
          [
           "Plague Songs is an album of songs, by various artists, about the ten Plagues of Egypt described in the Book of Exodus."
          ],
          [
           "Canadian rock band Stampeders included a cover of the song on their 1975 album Steamin, and Teddi King also covered it on her 2008 album 'Round Midnight."
          ],
          [
           "Wakeman continues to record albums and perform concerts worldwide in various capacities; his most recent album is Piano Portraits (2017)."
          ],
          [
           "In a Mellow Tone is a 1989 studio album by Anita O'Day."
          ],
          [
           "On or after the date of release, it was to be brought back to the place of purchase in exchange for a hard copy of the album as well as a bonus four-song EP Black Angel Exit."
          ],
          [
           "The band has had 16 different members in 20 years and put out 25 albums under the leadership of keyboardist/composer Brian Haas."
          ],
          [
           "4 Seasons in One Day is Candy Lo's 2nd compilation album."
          ],
          [
           "The song had vacated the top spot for one week as the Lewisham and Greenwich NHS Choir secured the 2015 Christmas number-one with \"A Bridge Over You\"."
          ],
          [
           "The album was released by Atlantic Records on January 25, 1994."
          ],
          [
           "It was released in Greece in 2006 by Minos EMI and was certified gold by IFPI."
          ],
          [
           "Along with two CDs that include tracks from each one of the band's studio albums, the compilation also includes a 16-track companion DVD which features numerous television appearances, videos, and live recordings."
          ],
          [
           "Upon release the record was released on both seafoam green and clear vinyl with a CD copy of the album included."
          ],
          [
           "The album featured a number of well-known session musicians including Chris Spedding, Ray Fenwick, Roy Babbington and ex-Fleetwood Mac guitarist Danny Kirwan."
          ],
          [
           "Is of the Essence is Michael Brecker's sixth album as a leader."
          ],
          [
           "The original version of the song was released through 5 Point Records and produced by David Kahne, later being remastered by Emile Haynie and Dan Heath."
          ],
          [
           "\"I Would've Loved You Anyway\", the lead single from her number one studio album Inside Out (2001)."
          ],
          [
           "They have a wide range of difficulty, from simple accent patterns to complex rhythms including hybrid rudiments, and are played by virtually every modern drum line."
          ],
          [
           "The lead single from Lovestrong, \"Jar of Hearts\", was an unexpected success across the United States."
          ],
          [
           "Rumors began to spread throughout Telford's then booming musical community of a new original material band coming onto the scene and speculation as to the style and direction of the band began to circulate."
          ],
          [
           "A Holocaust in Your Head is the debut album for British crust punk/grindcore band Extreme Noise Terror."
          ],
          [
           "Paul McCartney has cited John Lennon's Bungalow Bill, released in 1968, as among the first animal rights songs."
          ],
          [
           "\"You Make My Dreams\", \"I Can't Go for That (No Can Do)\", \"Maneater\", and \"Adult Education\"."
          ],
          [
           "SingStar is a series of music video games developed by SCE London Studio and published by Sony Computer Entertainment for the PlayStation 2, PlayStation 3 And PlayStation 4 video game consoles."
          ],
          [
           "It is the group's first single to chart worldwide in countries including Australia, New Zealand and most of the European nations, where it reached the top five in many."
          ],
          [
           "Reputation and Rarities is the name of a repackaged/re-released version of British singer Dusty Springfield's 1990 studio album, Reputation."
          ],
          [
           "The song had minor chart placements in the United States and the United Kingdom, placing at 78 and 84, respectively."
          ],
          [
           "In contrast, it was the duo's final song to enter the US Billboard Hot 100, peaking at number fifty."
          ],
          [
           "They have gone on three national tours, mostly through the East Coast, but as far as Texas."
          ],
          [
           "The Life and Times of the Franklin Silver Cornet Band retells the band's history."
          ],
          [
           "During its heyday, the venue was known for late-night live performances of many popular jazz artists, including Billie Holiday, Louis Armstrong, Chet Baker, and Charlie Parker, and was one of the most famous jazz clubs of its time, being instrumental in popularizing the modern jazz style in San Francisco."
          ],
          [
           "Such bluesmen as Roosevelt Sykes, Lightnin' Hopkins, Rev. Gary Davis, and Sonny Terry and Brownie McGhee recorded for the label, accounting for more than one-fourth of their overall output."
          ],
          [
           "Little is known of the origins of these early instruments, although small details such as poems are recorded, decrying the use of the new-fangled gut strings, as opposed to the traditional strings of plaited horse hair."
          ],
          [
           "He gained popularity for composing the evergreen song \"Osru Diye Lekha E Gaan\", sung by Sabina Yasmin in the film Osru Diye Lekha (1972)."
          ],
          [
           "Pummel is the sixth studio album by the American punk rock band All, released April 4, 1995 through Interscope Records."
          ],
          [
           "All songs were again written and composed by Jody Turner."
          ],
          [
           "This article lists the tours, concerts, and other live performances for Barbra Streisand."
          ],
          [
           "They released their debut album, Transmissions, in 2014 and their second album, Vessels, on January 20, 2017."
          ],
          [
           "Evolver is an album by The Mammals, released in 2002 (see 2002 in music)."
          ],
          [
           "The album debuted at number 139 for the week of November 28."
          ],
          [
           "The release is a concept album on professional wrestling, though frontman John Darnielle has stated that several of its songs are \"really more about death and difficult-to-navigate interior spaces than wrestling.\""
          ],
          [
           "Musixmatch is a platform for users to search and share lyrics."
          ],
          [
           "Released in 1990, the album received a public endorsement by Led Zeppelin vocalist, Robert Plant, who claimed he preferred Dread Zep's version of \"Your Time Is Gonna Come\" to Led Zeppelin's original."
          ],
          [
           "The song hit number one in the United States on the Hot Country Singles charts."
          ],
          [
           "This episode is also known as \"Rock Star\"."
          ],
          [
           "Males sing from exposed branches during the breeding season, which can vary with region."
          ],
          [
           "Favorites across national radio stations including BBC Radio 1, 1xtra, Kiss, Kiss Fresh, Capital, Capital Xtra and Rinse FM, Tough Love have earned support from broadcasters and DJs Annie Mac, Pete Tong, B Traits, Mark Fowler, Mad Alan, Danny Howard, MistaJam, Target as well as gaining industry respect from DJs such as Duke Dumont, Solomun, Kenny Dope, Todd Terry and Roger Sanchez."
          ],
          [
           "This was Naughty by Nature's only single to not feature DJ Kay Gee on production, instead the production was handled by the remaining members, Treach and Vin Rock."
          ],
          [
           "The song's opening lyrics mirror the opening lyrics of Septimus Winner's \"Der Deitcher's Dog\"."
          ],
          [
           "The duo performed the new song on Boogie Prisen, a Danish award show on April 12, 2008."
          ],
          [
           "In music, \"Carversville\" is the title of a song by the band Lincoln and during a concert in 1998, the band announced it to be specifically about Carversville, Pennsylvania."
          ],
          [
           "The album reached the top 10 on the Billboard classical music chart."
          ],
          [
           "Starlight is the tenth studio album by Australian singer-songwriter Jon Stevens."
          ],
          [
           "The song was used as the closing theme to Black Butler's (Kuroshitsuji) episode 14 and on."
          ],
          [
           "Zayn announced the song through social media."
          ],
          [
           "The track was released as a single the same day."
          ],
          [
           "It recorded over 200,000 unit sales on Oricon Albums Chart in less than a month and in less than two months, it sold over 260,000 copies, earning it a Platinum certification by the Recording Industry Association of Japan (RIAJ)."
          ],
          [
           "The Birds were an English rhythm and blues band, formed in 1964 in London."
          ],
          [
           "She was a recording artist in the early 1930s, releasing eight sides, including \"You've Got to Save That Thing\" and \"I Crave Your Lovin' Every Day\"."
          ],
          [
           "Neofolk, also known as post-folk, apocalyptic folk or dark folk, is a music genre that emerged in the mid-1980s as an outgrowth of post-punk and post-industrial music, blending acoustic instruments such as guitar and snare drum with elements of industrial music."
          ],
          [
           "According to Billboard, the album debuted at #11 of the Top Heatseekers chart in March 2008.The songs on this album are more folk-oriented with occasional harmonica, bass, drums, banjo and mandolin as opposed to the previous releases which only consisted of acoustic guitar and piano."
          ],
          [
           "The most famous recent version of the song was recorded by Great Big Sea."
          ],
          [
           "It was released on October 6, 1986 by Elektra Records and features his only solo hit, the song \"Stay the Night\" which reached the Top 40 in 1987."
          ],
          [
           "Destination Failure was not as successful as the band's previous album Born to Quit; it failed to chart despite the release a single and music video for \"I Know You Love Me\"."
          ],
          [
           "It is scored for soprano, alto, tenor and bass soloists, SATB choir, violin I and II, viola, 2 oboes, 2 bassoons, 2 trumpets, timpani and basso continuo (cello, double bass and organ)."
          ]
         ],
         "hovertemplate": "cluster=Music and Albums<br>umap_x=%{x}<br>umap_y=%{y}<br>sentence=%{customdata[0]}<extra></extra>",
         "legendgroup": "Music and Albums",
         "marker": {
          "color": "#636efa",
          "symbol": "circle"
         },
         "mode": "markers",
         "name": "Music and Albums",
         "orientation": "v",
         "showlegend": true,
         "type": "scatter",
         "x": {
          "bdata": "VH7dQJKf/0CXo/VA8EjqQCWL9UBoNgVB7/jqQKCL+UBoaABBkB/1QEK+/0DMrvZAILjOQLlmAUEy0/xA6rnlQAZq8kCFm/dAcOz/QLwv70DWOPxATvX6QIBN/kBjuv5ALYXxQMBu+ECnnwRBycX+QIuk/UDJ4vlAnygAQbW18EAqa/hAVfMBQYUQBEEgpeVA3NUCQfsF40CGF/BAYYf9QDyz/kBBW99AeLEEQfY1+0D5oAZBIg4FQUob4ED+e+dA+o/fQOQE8EDI9NhAxHvvQOn+9UDrjfZA/nreQCDBAEETXPpAYbADQTG9+0CpCN5Aq5UAQQ06BUE/y+9Amf73QI9G6EBeJvlAW1j3QGRkBEGYIfNAMhgGQfvz/UDNFf5ADXwEQXanA0FySgRBT6nxQEE6AUE37eZAGhkCQZ/6A0Hk4wJBYmoCQSyk80A=",
          "dtype": "f4"
         },
         "xaxis": "x",
         "y": {
          "bdata": "7NVav9pmpL7AyUy/jaUHv7S8Gb/4sAK/OC1Qv3TZ8b5yilm/DNJ0v4WZMb+U2GO/bMDJv30Vdr5LRp++xiAyv11rbL/jdW6/TMD3vhgDC7/vdE6/3WIVv81wcb5QTVG/8/ZIvxXIR793MzW/kGJ6vhRleD1XECa/88+Vvpvih7/qUDC/FDRHv5A/Kr/huIS/z5ZRv9fa+r6iECu/uVCIvrjOeL88Wq6+5GTqvrxiBL8ZOsG+BaUYv36CYb+Nqkm/BZGQvwbbjb8RO1C/Kvuzv9pp6b68XqC/LsNav2x9t77ExMi+jUYuvoUNJb8wX+e+j38gvy8eEr/X/rG/J0Kqv5z3W79XIY6/SYSTv5qhI784nhS/Xa8Dv3ICSb+7UJm/T4jmvp1Mjb6G+pO+1crcvg3hSr9WowG/zXPFvoC4Sr+U29e+IxJZv40Iob8=",
          "dtype": "f4"
         },
         "yaxis": "y"
        },
        {
         "customdata": [
          [
           "Reiner used an ink wash to give the strip a grayish, monochromatic tone."
          ],
          [
           "The traditional notion of the application of these principles as matter of fact untrammeled by considerations of law or normative principles was found to be constitutionally untenable."
          ],
          [
           "The model will use data from satellite observations, buoys, and reconnaissance aircraft, making it able to access more meteorological data than any other hurricane model before it."
          ],
          [
           "The emphasis is on English language materials."
          ],
          [
           "The organization was formerly known as India Working Group on Arms Control (IWGAC)."
          ],
          [
           "Wraxall's final years were relatively uneventful."
          ],
          [
           "The issue before the court was whether there was a conditional right to privacy in prescription drug records."
          ],
          [
           "WWE Survivor Series is a professional wrestling video game developed by Natsume and published by THQ for the Game Boy Advance handheld console."
          ],
          [
           "The license is widespread internationally and is recognized by the International Civil Aviation Organization (ICAO)."
          ],
          [
           "Systematic persuasion is the process through which attitudes or beliefs are leveraged by appeals to logic and reason."
          ],
          [
           "Today one of the most important uses for jukeboxes is to archive data."
          ],
          [
           "Another flower is on the table."
          ],
          [
           "The PGIB has also been criticized internally by members who have suggested that the top-down organization has essentially become Chandler's personal lobby machine for his own SoCon agenda and that the PGIB does not do enough to canvass and promote the will and agenda of its general membership."
          ],
          [
           "Turbary was not always an unpaid right (easement), but, at least in Ireland, regulations governed the price that could be charged."
          ],
          [
           "The original DOS version was written in Visual Basic."
          ],
          [
           "Members of the organization have been involved in projects such as NNTP, GTK+, GIMP, Gnutella, and Viola."
          ],
          [
           "There is a strong police presence, as well as locks and a fence at the house in an attempt to deter further damage to the property."
          ],
          [
           "In theoretical linguistics, a converb (abbreviated cvb) is a nonfinite verb form that serves to express adverbial subordination: notions like 'when', 'because', 'after' and 'while'."
          ],
          [
           "The War Shipping Administration (WSA) was a World War II emergency war agency of the US government, tasked to purchase and operate the civilian shipping tonnage the US needed for fighting the war."
          ],
          [
           "Sex workers report law enforcement is corrupt, inconsistent and often abusive."
          ],
          [
           "Samachar is a journal about the India's Armed Forces."
          ],
          [
           "Others have no legs or multiple heads."
          ],
          [
           "Sets can be classified according to the properties they have."
          ],
          [
           "It can be specifically defined as a genre in which a woman is the protagonist."
          ],
          [
           "They are produced in molds and applied to the ware as sprigs."
          ],
          [
           "The motorcycle's relatively small size allows it to get to accident scenes more quickly when incidents such as traffic collisions slow down access by four-wheel vehicles."
          ],
          [
           "It is the third game in the Divinity franchise, and the first Divinity game to be released on consoles as well as for Microsoft Windows."
          ],
          [
           "The rear deck of a ship is often called the afterdeck or poop deck."
          ],
          [
           "The Everlasting is based on several immortal races who struggle with an unknown force."
          ],
          [
           "WalkMe owned by WalkMe Inc. is a software-as-a-service company that helps users navigate the features of other web-based services."
          ],
          [
           "H.O.R.S.E. is a variation of poker where the type of poker rotates between limit hold'em, Omaha, Razz, Stud, and Seven card stud Eight or better."
          ],
          [
           "The colors resemble those seen in soap bubbles and oil on a water surface."
          ],
          [
           "Seibu SPI boards \"update\" when a game cartridge is changed."
          ],
          [
           "Praise is expressed verbally as well as by body language (facial expression and gestures)."
          ],
          [
           "It now has retail stores in the UK."
          ],
          [
           "The Verdict Is Yours."
          ],
          [
           "In IWFM, the land surface, surface water and groundwater flow domains are simulated as separate processes, compiled into individual dynamic link libraries."
          ],
          [
           "In a federated portal network each portal can act as a producer, exposing the content to other portals or as a consumer, using the content shared by other producer portals."
          ],
          [
           "The crash contaminated many of the sample collectors, and, although most were damaged, some of the collectors were successfully recovered."
          ],
          [
           "The entire supply of servers had to be shut down due to rising temperatures."
          ],
          [
           "Storm splits also occur in environments where streamwise vorticity is immediately present to an updraft (i.e. right or left curve to the hodograph), however in this situation one split is highly favored over the other, with the weaker split quickly dying; in this case, the lesser favored split may be so weak that the process is not noticeable on radar imagery ."
          ],
          [
           "Austria went from an ally of Britain to an ally of France, while Prussia became an ally of Britain."
          ],
          [
           "For a list of fictional diaries, please see the list of fictional diaries."
          ],
          [
           "Subsequently, group members disbanded to pursue solo projects pioneering independent industry achievements."
          ],
          [
           "Its main function is to provide precise timing of fuel injection, particularly at the end of the injection time."
          ],
          [
           "The central organizational front for Democrats in the Senate, its primary function is communicating the party's message to all of its members under a single banner."
          ],
          [
           "NESTOR consists of three systems."
          ],
          [
           "In C, static is a storage class (not to be confused with classes in object-oriented programming), as are extern, auto and register (which are also reserved words)."
          ],
          [
           "She belonged to a group of agricultural deities which also comprised Setia (or Seja) and Segetia."
          ],
          [
           "According to this Act, helping the enemy state can be in the form of communicating a sketch, plan, model of an official secret, or of official codes or passwords, to the enemy."
          ],
          [
           "The town, with a population of approximately 3500, is a farming and residential community, with small businesses emerging in the downtown area."
          ],
          [
           "The 275-member National Assembly was a parliament created under the Transitional Law during the Occupation of Iraq."
          ],
          [
           "Separation of powers, therefore, refers to the division of responsibilities into distinct branches to limit any one branch from exercising the core functions of another."
          ],
          [
           "Applications include suppressing the harmonic output of transmitters and the design of wide-band diplexers."
          ],
          [
           "It is affiliated to International Triathlon Union (ITU), and the African Triathlon Union."
          ],
          [
           "There are 41 hanja with the reading \"woo\" and 43 hanja with the reading \"jin\" on the South Korean government's official list of hanja which may be registered for use in given names."
          ],
          [
           "Its facade has three pilasters supporting an entablature which gives a pedimented appearance, consistent with Greek Revival style, but the church's Jack arches are elements of Federal style."
          ],
          [
           "In cryptography, Tiger is a cryptographic hash function designed by Ross Anderson and Eli Biham in 1995 for efficiency on 64-bit platforms."
          ],
          [
           "Overall, the treaty confirmed the Edict of Amboise, which granted significant religious privileges and freedoms to the Huguenots."
          ],
          [
           "Engineers account for the bathymetry of standing bodies (like lakes) or moving bodies of water (like rivers or streams)."
          ],
          [
           "Plauger explains why LIL was abandoned in Bell Labs in favor of C: [1] ..."
          ],
          [
           "It features a group of animal-based characters and their adventures and activities through the Jingly Jangly Jungle."
          ],
          [
           "Post-war, after operating in the Pacific Ocean battle areas, her crew members returned home proudly with four battle stars to their credit for World War II and one for the Korean War."
          ],
          [
           "Her primary task was to guide ships in harbors, but she was also tasked with patrol duties."
          ],
          [
           "The reserve has its own elementary school, while high school students are bused to Timmins."
          ],
          [
           "The Journal of Wildlife Management is a peer-reviewed scientific journal devoted to the ecology of non-domesticated animal species."
          ],
          [
           "According to the program rules, 10 to 20 students from each school can participate and are accompanied by teachers from their home schools."
          ],
          [
           "Included in that number are reporters, editors, graphic designers, photojournalists, advertising sales reps, press operators, crews that package and deliver the paper, and employees that maintain electronic systems."
          ],
          [
           "Metallosis is the putative medical condition involving deposition and build-up of metal debris in the soft tissues of the body."
          ],
          [
           "Standard examples of scripting languages for specific environments include: Bash, for the Unix or Unix-like operating systems; ECMAScript (JavaScript), for web browsers; and Visual Basic for Applications, for Microsoft Office applications."
          ],
          [
           "It has been identified as related, though in some cases distinct, to Canadian nationalism."
          ],
          [
           "The habitat consists of dry woodland and savanna."
          ],
          [
           "Filling station attendants are still employed at gas stations in many countries."
          ],
          [
           "Spiritual day retreats have been held there by Orthodox Christian groups."
          ],
          [
           "In addition to nickel, the substantial financial support from France and tourism are keys to the health of the economy."
          ],
          [
           "Flugzeugwerke (EFW) was a short-lived aircraft manufacturer founded by Igo Etrich."
          ],
          [
           "Fragmentation for tandem mass spectrometry is accomplished by electron-capture dissociation or electron-transfer dissociation."
          ],
          [
           "Ripcord Games was a video game publisher and an entertainment software label of Panasonic Interactive Media based in Santa Clara, California."
          ],
          [
           "The game could be considered a successor to the NFL Street franchise, but it was converted to the new hardware (PlayStation 3 / Xbox 360)."
          ],
          [
           "The participants and delegates from countries across the globe came together to bridge the gap between environmental education and Education for Sustainable Development."
          ],
          [
           "It represents the infant Christ embracing his cousin John the Baptist."
          ],
          [
           "Thus, \"sporthorse\" refers to the phenotype, breeding, and intended use of these horses."
          ],
          [
           "After the retirement of the owner the station emerged as an affiliate of the \"Real Country\" network with classic country with call letters WZQK."
          ],
          [
           "It is generally constructed with a single mirror at half the talbot distance from the output facet of the laser array."
          ],
          [
           "In response, current work on strong reciprocity is focused on developing evolutionary models which can to account for this behavior."
          ],
          [
           "Most dividend growth investors seek dividend payouts that increase at a 10% or more rate annually."
          ],
          [
           "Siddha Central Research Institute (SCRI) is a center for clinical research and methodology in Siddha medicine."
          ],
          [
           "Apart from medical uses, this compound is useful as a building block in organic synthesis, allowing the insertion of an adamantyl group."
          ],
          [
           "Avalanche control begins with a risk assessment conducted by surveying for potential avalanche terrain by identifying geographic features such as vegetation patterns, drainages, and seasonal snow distribution that are indicative of avalanches."
          ],
          [
           "The Tri-City News has more than 190,000 readers each week, and with the sister website logging more than 22,000 visits per month."
          ],
          [
           "A missionary route is a term, almost exclusively used in the Philippines, that refers to a transport route that involves one or more points that have little or no service due to geographic limitation or absence of market viability."
          ],
          [
           "There are two isomers of dihydropyran that differ by the location of the double bond."
          ],
          [
           "A standalone browser game, BioShock Infinite: Industrial Revolution, was developed by Lazy 8 Studios under Irrational's direction to promote the main game and provide the player with in-game rewards."
          ],
          [
           "Traveling for exchanges has contributed to promoting swing dance internationally."
          ],
          [
           "This is the digital footprint left behind of everyone who uses online services."
          ],
          [
           "Some 6,400 migrants were evacuated from the encampment in 170 busses in October 2016, with the intent of resettling them in different regions of France."
          ],
          [
           "For example, a candidate for political office who shares the same view on abortion as a political organization may receive their endorsement regardless of the candidate's views on other subjects."
          ],
          [
           "The Irish Print Union was a trade union representing print workers in Ireland."
          ],
          [
           "The Graduate Center has 4,600 students, 31 doctoral programs, 14 master's programs, and 30 research centers and institutes."
          ],
          [
           "German nationals organized themselves as a foreign branch of the Nazi party, and were developing active pro-Hitler propaganda on the approved fifth-column lines."
          ],
          [
           "During World War II, NACA was described as \"The Force Behind Our Air Supremacy\" due to its key role in producing working superchargers for high altitude bombers, and for producing the laminar wing profiles for the North American P-51 Mustang."
          ],
          [
           "The time it takes to reach maturity varies widely, often by geography."
          ],
          [
           "There were two types, of which the later one entered the Deutsche Reichsbahn fleet and became Class 98.74."
          ],
          [
           "It has a stated dedication to peer-reviewed articles on religion and science."
          ],
          [
           "Lawyers are required to join the OSB in order to practice law in Oregon."
          ],
          [
           "Public relations specialists establish and maintain relationships with an organization's target audience, the media, relevant trade media, and other opinion leaders."
          ],
          [
           "The Consulate is headed by the Principal Officer and employs local hire individuals."
          ],
          [
           "Business-driven development is a meta-methodology for developing IT solutions that directly satisfy business requirements."
          ],
          [
           "Viaskin Peanut clinical development has received Fast Track designation from the US Food and Drug Administration."
          ],
          [
           "The nonsense phrase \"ETAOIN SHRDLU\" represents the 12 most frequent letters in typical English language text."
          ],
          [
           "They are used by anglers as bait."
          ],
          [
           "Defined by the SNPs M45 and PF5962, P1 is a primary branch (subclade) of P* (P-P295; K2b2)."
          ],
          [
           "One protester was killed and more than 60 were arrested."
          ],
          [
           "The implementation is available in the Java, C++ and Perl programming languages."
          ],
          [
           "The landlord must serve a notice on the tenant, giving them an opportunity to respond."
          ],
          [
           "However, Honda did have to create or modify some of the Pilot's components in order to support their next generation SUT, including: Extending the wheelbase Modifying various parts to support heavier hauling, towing, and more aggressive off-road use Incorporating notable features from the first generation, such as the dual-action tailgate and In-Bed Trunk Adding new exclusive features, such as Honda's Truck Bed Audio SystemDespite these modifications, Honda has stated that 73% of the second generation Ridgeline's components remain common in some way with the third generation Pilot."
          ],
          [
           "The protein also has RNA binding activity, and has a predicted coiled-coil domain."
          ],
          [
           "The Jamestown Exposition was one of the many world's fairs and expositions that were popular in the United States in the early part of the 20th century."
          ],
          [
           "In many cases, the OPR notifies the accused attorney and requests a written response."
          ],
          [
           "Ballot Measure 49 was a 1997 ballot measure in the U.S. state of Oregon that restricted the kind of lawsuits that could be brought by prison inmates, and allowed the interstate shipment of products made with prison labor."
          ],
          [
           "The system of transportation in the Gambia mixes both public and private operations and consists of a system of roads (both paved and unpaved), water and air transportation."
          ],
          [
           "Radio Erena is a Paris-based radio station which broadcasts news in Tigrinya and Arabic into Eritrea."
          ],
          [
           "Hyundai Rotem is a South Korean company manufacturing rolling stock, defense products and plant equipment."
          ],
          [
           "Seats on the Council are based on United Nations Regional Groups, with fourteen seats allocated to the African Group, eleven to the Asia-Pacific Group, six to the Eastern European Group, ten to the Latin American and Caribbean Group, and thirteen to the Western European and Others Group."
          ],
          [
           "Greater care should be taken in people with underlying liver problems."
          ],
          [
           "The money will come from the Department of Homeland Security (DHS) and will primarily involve the installation of alarms and surveillance equipment."
          ],
          [
           "Sequassen sold their land to the British."
          ],
          [
           "Its code is KM."
          ],
          [
           "If the tridentate ligand is not symmetrical, in the fac complexes in octahedral coordination there will be three possible isomers."
          ],
          [
           "The company is a leader in Europe."
          ],
          [
           "The egg white sometimes employed in other whiskey sours is not usually included."
          ],
          [
           "International policies involve the cooperation of several states to implement the same policy to address larger environmental issues on health like pollution and climate change."
          ],
          [
           "In theoretical physics, explicit symmetry breaking is the breaking of a symmetry of a theory by terms in its defining equations of motion (most typically, to the Lagrangian or the Hamiltonian) that do not respect the symmetry."
          ],
          [
           "The Medical Association for Prevention of War (Australia) is a professional not-for-profit organization which has promoted peace and disarmament since its foundation in 1981."
          ],
          [
           "Historically, legalese is language a lawyer might use in drafting a contract or a pleading but would not use in ordinary conversation."
          ],
          [
           "IV.The complete list of Schedule V drugs follows."
          ],
          [
           "A sheet cake is a cake baked in a large, flat rectangular pan such as a sheet pan or a jelly roll pan."
          ],
          [
           "An exemplar of modernist architecture, the building includes louvers similar to the Kaufmann Desert House."
          ],
          [
           "It needs water and sunlight."
          ],
          [
           "Various other doctors have contributed and written articles regarding the uses of aloe mucilaginous polysaccharides; Lawrence Plaskett, John C. Pittman, Jeffrey Bland, Julian J. Blitz, James W. Smith and Bruce Eric Hedendal, that support evidence suggesting consumption of aloe polysaccharides may have a beneficial effect on the body."
          ],
          [
           "Initially a weekly publication, it later began daily operation."
          ],
          [
           "The Games were deemed generally successful with its effective management of cost spent to host the games, arrangement of public transport and games promotion, commitment in environment conservation and with the rising standard of disabled sports competition amongst the Southeast Asian nations."
          ],
          [
           "Some artists became members of more than one gallery."
          ],
          [
           "The players are not paid to play; on the contrary, players must contribute funds to cover part of their expenses."
          ],
          [
           "The college offers associate degrees in more than 60 programs, plus non-credit classes and certificate programs."
          ],
          [
           "Interlex has worked on social awareness campaigns for TracFone Wireless, AARP, American Express, Del Monte, and public health campaigns for government entities, the American Heart Association, American Cancer Society, and United Healthcare."
          ],
          [
           "Other traditional religions or beliefs that are followed by many in the country are the orthodox Hanafi school of Sunni Islam."
          ],
          [
           "The interior walls and ceiling are covered with a pressed decorative metal."
          ],
          [
           "It also runs religious programs, sports, and other entertainment programs."
          ],
          [
           "Opponents of the law claim it will lead to massive forest destruction and should be repealed (see below)."
          ],
          [
           "These nerves normally help maintain a person's sense of position (proprioception), vibration, and discriminative touch."
          ],
          [
           "It is one of the most widely used image management systems in routine healthcare use, and is used to manage many different varieties of images associated with a patient's medical record."
          ],
          [
           "The modern proa exists in a wide variety of forms, from the traditional archetype still common in areas described, to high-technology interpretations specifically designed for breaking speed-sailing records."
          ],
          [
           "Three Arrows is member-run, with no paid staff other than an onsite caretaker and some teenage lifeguards during the summer months."
          ],
          [
           "Activities and games provide a fun way to develop skills and provide contact with nature and the environment when pursued in an outdoor setting."
          ],
          [
           "It is a software applicataion that offers single keypress input in Indian languages and others on the mobile phone."
          ],
          [
           "The company has 20 facilities in 13 countries."
          ],
          [
           "The exact syntax of OpenDDL is described on the website openddl.org as well as in an appendix of the Open Game Engine Exchange Specification."
          ],
          [
           "The prisoners were held in wire cages at the other end of the infirmary prior to execution."
          ],
          [
           "It protects a mountainous area of cerrado forest and contains slopes that are used for paragliding."
          ],
          [
           "This was extended in 2012 by the Food and Drug Administration Safety and Innovation Act to include rare pediatric diseases."
          ],
          [
           "The magazine used to contain a \"PSSST!\" compilation with each issue."
          ],
          [
           "Its sea bed is being explored and exploited for hydrocarbon reserves."
          ],
          [
           "The mobile numbers format is 5xxx xxxx."
          ],
          [
           "It deals with issues relating to education, cultural issues, tourism and human resources."
          ],
          [
           "A forced landing is a landing by an aircraft made under factors outside the pilot's control, such as the failure of engines, systems, components or weather which makes continued flight impossible."
          ],
          [
           "Mostly dinghies raced are Enterprises and Lasers."
          ],
          [
           "After a while, when more and more fluid has passed the stripes, particles accumulate and the stripe-area changes color."
          ],
          [
           "A monolithic kernel runs all the operating system instructions in the same address space for speed."
          ],
          [
           "The Embassy of Argentina is at number 65."
          ],
          [
           "Trustee Board Regulation 1.2 specifies that the award may be made even if the individual in question is not already a member of BCS and may not be eligible for any other class of membership."
          ],
          [
           "Generic Modeling Environment (GME) is a model-integrated program synthesis tool for creating domain-specific models of large-scale systems."
          ],
          [
           "The organization is incorporated under Sri Lankan law as a non-profit organization."
          ],
          [
           "Battle Assembly is the term used by the United States Army Reserve to describe monthly training, where soldiers practice and perfect their military skills and maintain individual and unit readiness in the event of mobilization and deployment."
          ],
          [
           "The HIV Organ Policy Equity Act (the HOPE Act) is a law that modifies rules regarding organ donation between HIV-positive individuals."
          ],
          [
           "The CCAS is affiliated to the International Trade Union Confederation."
          ],
          [
           "At the Good Friday service (The Celebration of the Passion of the Lord), the Blessed Sacrament is available for Communion."
          ],
          [
           "The \"Chamathwi bar\" is worn during important occasions like wedding ceremonies and festivals like Goria Puja and Hangrai."
          ],
          [
           "It looks to work for healing and for a just peace while supporting eco-friendly development, with special attention to the poorest sectors of society."
          ],
          [
           "Compare Maas, Mas."
          ],
          [
           "Artists can pick different brands to best suit the doll they wish to create."
          ],
          [
           "Watkins v. United States, 354 U.S. 178 (1957), is a decision of the Supreme Court of the United States that held that the power of the United States Congress is not unlimited in conducting investigations and that nothing in the US Constitution gives it the authority to expose individuals' private affairs."
          ],
          [
           "Spot-fixing refers to illegal activity in a sport in which a specific aspect of a game, unrelated to the final result but upon which a betting market exists, is fixed in an attempt to ensure a certain result in a proposition bet; examples include something as minor as timing a no ball or wide delivery in cricket, or timing the first throw-in or corner in association football."
          ],
          [
           "Some rallies are ride-in events, whereas some like the Iron Butt Rally involve days of riding and an actual gathering only at the end of the ride."
          ],
          [
           "It acts as a serotonin-norepinephrine reuptake inhibitor (SNRI), with little affinity for the muscarinic acetylcholine, histamine, adrenergic, and serotonin receptors."
          ],
          [
           "The success rate of usable DNA extraction is relatively high in paleofeces, making it more reliable than skeletal DNA retrieval."
          ],
          [
           "These observations are critical in developing our understanding of the Earth's atmosphere and issues such as climate change, ozone depletion and air quality."
          ],
          [
           "ES5's highly antagonistic position toward copyright advocacy and enforcement organizations garnered the group significant attention and peaked with an ES5 press release announcing a \"declaration of war\" against the Motion Picture Association of America."
          ],
          [
           "Also, the market had failed to bring about rationalization due to the rigidities in Britain's economic system."
          ],
          [
           "The Richmond Center for Visual Arts is made up of three galleries on the first floor."
          ],
          [
           "The flower color is predominantly Violet."
          ],
          [
           "Maine South is well known for its academic, athletic, and fine arts success."
          ],
          [
           "On Fedora and Arch, the words file is provided by the words package."
          ],
          [
           "SAL electrolytic capacitors (SAL = Solid Aluminum) are aluminum electrolytic capacitors with anodic oxidized aluminum oxide as dielectric and with the semiconducting solid manganese dioxide as electrolyte."
          ],
          [
           "They were defined more by their propaganda than by their own personalities."
          ],
          [
           "The licensing authority for brokers in Botswana is the Ministry of Finance."
          ],
          [
           "The Severn Stage is the family venue, holding party nights with high quality impressionists and tribute bands."
          ],
          [
           "There are also introduced populations in Europe and Asia."
          ],
          [
           "Poverty in Pakistan has fallen dramatically, independent bodies supported estimates of a considerable fall in the statistic by the 2007-08 fiscal year, when it was estimated that 17.2% of the total population lived below the poverty line."
          ],
          [
           "It is the fifth installment in the Hellraiser series and the first Hellraiser film to go straight-to-DVD."
          ],
          [
           "Human rights are moral principles or norms that describe certain standards of human behavior, and are regularly protected as legal rights in municipal and international law."
          ],
          [
           "It can also be used in biscuits or rolled into thin sheets and glazed for icing cakes, primarily birthday, wedding cakes and Christmas cakes."
          ],
          [
           "The word basse describes the nature of the dance, in which partners move quietly and gracefully in a slow gliding or walking motion without leaving the floor, while in livelier dances both feet left the floor in jumps or leaps."
          ],
          [
           "Another technique used to measure vesicle release is capacitive measurements."
          ],
          [
           "Those phones implement it as an I'M icon on the phone, which is typically renamed and customized by the cellphone carrier or removed completely if not supported at the network level."
          ],
          [
           "The group publishes the newspaper Al-Nahdah."
          ],
          [
           "Statements were made that the technology for growing new teeth would be available to the public in the near future, and as a result, an award of five hundred thousand pounds was made; however since the claim, nothing further has emerged."
          ],
          [
           "However the high ring strain present in cyclopropanes makes them challenging to produce and generally requires the use of highly reactive species, such as carbenes, ylids and carbanions."
          ],
          [
           "The memoirs gives Jancko's definition of the terms Schieringers and Vetkopers; 'Vetkopers' (fatbuyers) were so called because they had much and could buy fat products."
          ],
          [
           "The movement grew as a reaction to perceptions of predominant organized religion as male-dominated, and makes use of goddess worship and a focus on gender and femininity."
          ],
          [
           "It was affiliated with the Social Credit Party of Canada and espoused social credit theories of monetary reform."
          ],
          [
           "The rook and bishop versus rook endgame is a chess endgame where one player has just a rook, bishop and king, and the other player has only a rook and king."
          ],
          [
           "The game is a remake of the developer's previous game, Plague Inc., for PC and consoles."
          ],
          [
           "The medium contains crystal violet and gentamicin as selective agents to suppress the growth of other bacteria."
          ],
          [
           "Functional specialization suggests that different areas in the brain are specialized for different functions."
          ],
          [
           "The result is that the crushing burden on working folks gets even more unbearable."
          ]
         ],
         "hovertemplate": "cluster=Historical Events and Legal Issues<br>umap_x=%{x}<br>umap_y=%{y}<br>sentence=%{customdata[0]}<extra></extra>",
         "legendgroup": "Historical Events and Legal Issues",
         "marker": {
          "color": "#EF553B",
          "symbol": "circle"
         },
         "mode": "markers",
         "name": "Historical Events and Legal Issues",
         "orientation": "v",
         "showlegend": true,
         "type": "scatter",
         "x": {
          "bdata": "iuaxQCyTt0BUzrNAONejQH9vpkAYQt1A1XLDQHiM4kAivKJAIU2sQC3TxEBDd8FAKb6tQCg/tkAbbOVAJVXEQEm0wkBJurJA0CWlQPqWuEDYtYJAVH7AQDu+y0DjssxAulrIQDIsvEAI5+pAPWGsQBDMz0B3js1Ait67QIt4sUDs59tA28urQJeQvkDZvuZAu+WpQKZorUA6nMVA8/LdQK6DsUDyq6FAL/zPQI690kCpKrFAYZ6lQF7fvEDTmLZAVi6DQNvCrUBYErxAx3irQI3us0BspbxAfo2bQIobiUBYbaRA0NjTQG9Gp0Bcqa1APR21QEDGz0AS1JpA84OZQOz3mEBFUsZAr0mzQIsXv0AD8ERAXlfbQCGDoUDKfa1AcGOrQOkEkkBorZ9AX/WjQDE3rEB9Et9A1KDjQJjDrUAYEYVAhgWzQGtyxkBaSbFAnZi0QEgWvEBIH4NAif+7QA/MqkAiDMlAMRKfQEFdqECYrOBA22C1QP0qzkCF3cdA0K+pQFyLnkBIF7tAskenQPigoECMybRAHm2lQAQ8tEAu06FAl5SuQGqRmUADZrxALQnGQD8znEAnLrtADI7AQEvdv0ClFd1ApwW4QPBqoEDhKrRAHq/TQPXlr0A9x7lAk3yeQBIOlkDeUYZA3kiuQBuxsUDRkL1AuWHEQJEcn0B9CrBAeDXBQL30zECQYa5ATImwQOjxrUDKUKNA09nWQG3Mx0A9JadAXS6zQMLzvUAuh9BAEY6LQDtpykD0d3dA1g7AQAmstkCu6JlAdQHLQMSlpkCSlsFA5nWtQKzTvUAY87JAzh3DQJEDs0C1OM9AOqzDQBxK30ApZbxAgzemQOW7zEByT9dA2rGmQKTDzkB9VKlAQP2hQHDjt0ARdbNA1B/LQDn0g0DqAJpAVMzCQNfImUDnhrNAqL2sQPkzp0ADfYpAyNx6QFdqrUCHDqNAq9jFQLk+sUB7RrFAxlO5QMNypEDpn79Ajx+yQKuwwUBYkLlAdyS3QGMLskCA+o9AC67jQFpYqkAabb1ArrSeQHO/20A1srpA7dq+QFWg70DjdbBAtp3BQDLeuUAV+7hA1bjPQJlnyUAac8tAZ4u4QENOtECvjLhAoCmhQMfLskACAudABp6tQIZ3skBlrMNA",
          "dtype": "f4"
         },
         "xaxis": "x",
         "y": {
          "bdata": "loj5PzIE+jzSNKk+pxAxv+sfmz70cF4/xTilOr+l2r7jMT0+GCccvsDkr74sdYe/3dbuvgX3qz6pHLw9Duw9vyap6Ts29OO+Ol4EPqh6Nr9aA6g+lvJFvwZYfD7oGfe+ZPj/vmT8RL7qwWq+NK4iP1Hchr8sYw48/uf9vowSBkAbA6u+pmlBv/nupD/pKBa+rtQBP9XFGL9Sskq+/hdlPy9NHj9jvwE+BSpXv0MUDL9Z73K8+6ELv+/6mj8kpUS9KvTKvjDBYr47lO8/Q1UKPyLZAz2KAB49P3TrPc/Y7r3MHms/pva5PvsVLr8cM58+xgHEvr5gg7/Ps8++ek8nv5vABj/hcAS/0D57P7j5I79BJu8+WmH7PYQAnL54keU/jaH2Pf+QQj9SzGy+lOd3Pv+YrrzWdXG+r6qPvoFZTr8Gr0g9vMPuvnwKLD/tSJY/CE8WvnjI4z78gmg9f8qsvi4ERj/r95o/U5cWP5xHEz9tH7m+XxWPv7p+hr67e9I/vq83vwGEWz4CuYE/twVWvruP9bvFRcc/dGMyP5v9r7/yPUy+4P9Pv/yrKL/aaIk++maJPpxLfb5MS3m+G38LPmY12j8FBK09YLw8vsOQ/D036R09Fnclv/pPqL4MCMA+KJRHPxHeYz8QGlo+OuVQP4V40r1DmMY+7A6WP7ZKlj9+xhc/bJbCPwMUuL/tCCO/M3STvp6lu711goa+Mugfvg7m5byzxmg/yVTyP8mgLb9HWrU+gWQXwN+beL/oDS/AL9o+P3/WJr/3neY+L9wIvdqeq77j1Mq9bjjEvskV476gbIk+TcwrP2VYZb8EGzC+7rnTPzaOlD0svYk/1L7xP9YTBj9Zxbe95Hr+P5ebHj1pcu2+toaJPuDvTT9nbgBAa0JUP1ZyTj8ShBDAm9vTPaqC0r2Hg8q+VAt2vnZVIj740FU/aEW4PewmA7+wkbm/P7VyvxZxDb7YPMS+PQdCv388lT6kzB8+fAopv22lm70tT64+yl9gP7gbCECT65e/kS0JPAEXET5cyCe/2rzHPm0EDb+k5c8/S/h3P7Ht7b7Y+C++NcanvhJ6J7+Bhli/aMLxvGHu9zzoGuy+hGcxO20yYL8v6ve+yZIhv7khUb9mj7K+dl0JQNhwbz7p3qa+",
          "dtype": "f4"
         },
         "yaxis": "y"
        },
        {
         "customdata": [
          [
           "He has competed in IMSA GT, sprint car racing, midget car racing, and the Trans Am Series."
          ],
          [
           "She is a co-founder of Sweatshop Watch."
          ],
          [
           "This is also the school wherein the Great Raul Enorme started his life of being an engineering student."
          ],
          [
           "Mulder began her career as a teacher in a school for severely maladjusted children."
          ],
          [
           "He has been signed to Gotham Zone Entertainment (1995 - 2000), Psychopathic Records (1998 - 2013), Grundy Entertainment (2013 - present), Majik Ninja Entertainment (2014 - present)."
          ],
          [
           "She is the author of one monograph and co-editor of two critical studies."
          ],
          [
           "Later, in June 2015, he also earned a master's degree in business administration from UCLA."
          ],
          [
           "His approach is to \"pitch to contact,\" and use excellent control."
          ],
          [
           "Prior to managing the Rangers, Washington coached in the New York Mets and Oakland Athletics organizations."
          ],
          [
           "Since 2011, he is president of the Union of Belgian Composers."
          ],
          [
           "He has had over 70 works published and also draws pictures for jigsaw puzzles."
          ],
          [
           "His work is also rooted in the fairy tale and folk tale tradition, and is deeply influenced by the Danish author Hans Christian Andersen."
          ],
          [
           "He is also a co-founder of the cartoon magazine Unmad."
          ],
          [
           "His writing has appeared in literary magazines such as Maisonneuve Magazine, the Malahat Review,Event, the Rumpus, and the Oxford University Press."
          ],
          [
           "His grandson, the third Viscount, was a diplomat."
          ],
          [
           "A graduate of Montclair High School and Lehigh University, he served in the U.S. Army from 1954 to 1956."
          ],
          [
           "He represents Comodo at industry, government, customer and reseller events worldwide."
          ],
          [
           "This gave him the chance to development his game through school, the TAC cup and the VFL."
          ],
          [
           "He is considered one of the more decorated riders in Slopestyle Mountain biking behind the best rider of all time, the goat, Brandon Semenuk."
          ],
          [
           "McGhee has since managed several clubs in both England and Scotland, including Reading, Millwall, Aberdeen and Brighton & Hove Albion."
          ],
          [
           "It is alleged that he wanted to squeeze a higher price out of Danone."
          ],
          [
           "He stayed there for two years, DJing, and set up a small studio and making tracks for the parties, before moving to Goa, India."
          ],
          [
           "His most notable highlight was scoring the game-winning touchdown against the University of Michigan in 2000 at the Rosebowl."
          ],
          [
           "He looked after the company's overall sales, marketing and all other transactions across India."
          ],
          [
           "In April 2015, Arlen made the transition from professional athlete to sportscaster and joined ESPN as one of the youngest on-air talents hired by the company."
          ],
          [
           "He represented Presque Isle, Maine."
          ],
          [
           "She studied at University of Missouri and Rice University and did doctoral work in English at New York University."
          ],
          [
           "He enjoyed a meteoric rise in his professional career."
          ],
          [
           "He is the author of eight books and numerous articles that have appeared in classics, communication, English/Composition, philosophy, and psychology journals."
          ],
          [
           "He was Washington & Jefferson College on April 18, 1919 and was inaugurated October 22, 1919."
          ],
          [
           "He played college football at Washington and was signed by the Atlanta Falcons as an undrafted free agent in 2016."
          ],
          [
           "Since 2015, he has been mostly associated as the touring drummer for IAMX."
          ],
          [
           "Nick was educated at Kavanagh College, Dunedin."
          ],
          [
           "Franco currently works as a color commentator and analyst, covering Indian football for Star Sports."
          ],
          [
           "After returning to Canada in 1998, he was the books editor and then the literary columnist for the National Post."
          ],
          [
           "He is known for his work regarding Gnosticism in early Christianity."
          ],
          [
           "Stevenson's legislative accomplishments include the \"hero scholarship bill\", allowing children of firefighters, police, paramedics, and national guardsmen who are killed in the line of duty to attend certain Pennsylvania colleges for free."
          ],
          [
           "He conducted the first mixed-race marriage in the Brahmin society."
          ],
          [
           "Two months after his international debut, at the age of 16 years and 325 days, he became the youngest player to take a five-wicket haul in a One Day International match."
          ],
          [
           "He was most recently the manager for HamKam."
          ],
          [
           "He is one of active young physicists in the area of experimental particle and nuclear physics."
          ],
          [
           "He is a Democrat from Malden."
          ],
          [
           "He was employed by the New Zealand Ministry of Works and was involved in the expansion of Christchurch International Airport."
          ],
          [
           "Gallina had become a lawyer, defending major crime figures including East Coast Genovese crime family members."
          ],
          [
           "He spent the 2015-2016 academic year on sabbatical in Paris, France, working with TrustInSoft on Frama-C and related code analysis tools."
          ],
          [
           "He has published over 130 original articles."
          ],
          [
           "He was the inventor of Marshall's acid."
          ],
          [
           "He next played for Tonga in June 2005, with matches against Fiji and Samoa."
          ],
          [
           "In Israel he studied under the guidance of Haim Taub and in the United States under the guidance of Glenn Dicterow and Pinchas Zukerman."
          ],
          [
           "From 1994 to 2001, she served in the South Dakota House of Representatives."
          ],
          [
           "He holds a master's degree in English and a Ph.D. in American Literature from the University of Chicago."
          ],
          [
           "He was the chairman of the All India Madhva Philosophical Conference held in Bangalore in 1994."
          ],
          [
           "Prior to CNBC she worked for the Italian broadcaster RAI 3 in Rome."
          ],
          [
           "He was elected in 1998 to the Indian National Academy of Engineering."
          ],
          [
           "He is a former Shelby County, Tennessee, Criminal Court judge and a former arbiter of the arbitration-based reality court show, Judge Joe Brown."
          ],
          [
           "In 2009 he will compete full-time for the new Bryan Herta Autosport team."
          ],
          [
           "He was elected in the Indian general election, 2014 as a Bharatiya Janata Party candidate."
          ],
          [
           "She currently teaches at Brigham Young University."
          ],
          [
           "He played college football at Virginia Tech, and was drafted by the Redskins in the seventh round of the 2018 NFL Draft."
          ],
          [
           "He had previously represented Sheffield Central and Sheffield Neepsend in the House of Commons."
          ],
          [
           "His last contract was with Liga II team UTA Arad."
          ],
          [
           "Boyd emigrated from Scotland with his family at age 11."
          ],
          [
           "He joined ESPN in May 2008 for ESPNEWS, and became a SportsCenter host in 2010."
          ],
          [
           "The councilor for Tillingbourne classed himself as an independent councilor."
          ],
          [
           "Mood is a businessman and attended the University of Montana."
          ],
          [
           "Cooray is also a Science Editor of Journal of Cosmology and Astroparticle Physics (JCAP)."
          ],
          [
           "He was drafted with the 8th pick overall by the Houston Astros in the 2010 MLB Draft and is the son of former MLB player Delino DeShields."
          ],
          [
           "He unsuccessfully fought the Veiientes, and was later prosecuted by the tribunes of the plebs for his failure to prevent the disaster of the Cremera."
          ],
          [
           "He is connected to the Black Hebrew Israelites through his rhymes, and is known for his controversial and political subject matter."
          ],
          [
           "On 21 February 2015, it was announced that Prescott would return to politics as a special adviser to then-Labor leader, Ed Miliband."
          ],
          [
           "He is known for his research in using supernovae as cosmological probes."
          ],
          [
           "Dorfman occasionally teaches classes at the Nova Scotia College of Art and Design."
          ],
          [
           "He was raised in Buckley, Washington."
          ],
          [
           "In 1924 he was appointed Senior Medical Officer in Hafia."
          ],
          [
           "He worked for 45 years for the Chicago Tribune and Advertising Age, but gained prominence as the author of a series of authorized pastiches of Rex Stout's Nero Wolfe detective stories, published from 1986 to 1994."
          ],
          [
           "His work has appeared in Playboy, The Daily Beast, BuzzFeed and Salon.com."
          ],
          [
           "He is the current manager of the Wales national semi-professional football team and also works as a youth coach at Aldershot Town."
          ],
          [
           "He is known for being the original author and one of the most extensive contributors to the SWI-Prolog implementation of the Prolog programming language, as well as the SWI-Prolog reference manual."
          ],
          [
           "The writer describes God as his shepherd, in the role of protector and provider."
          ],
          [
           "He is the present President of the Society to Save Rocks, Hyderabad, India."
          ],
          [
           "O'Donnell continues to travel and speaks publicly, focusing on the topic of Voluntourism and global citizenship."
          ],
          [
           "By his statistical record, he is the best bowler to have played for Zimbabwe."
          ],
          [
           "He was drafted by the San Francisco 49ers in the third round of the 1992 NFL Draft."
          ],
          [
           "His cult became associated with that of Theonistus, who may have been a bishop of Philippi but who was confused with Thaumastus, a 5th-century bishop of Mainz."
          ],
          [
           "He works as a professor of English since 2003 at the State University in Tetovo and the University."
          ],
          [
           "He is associate director of the left-wing Christian think tank Ekklesia."
          ],
          [
           "He was reelected to the post, ultimately serving four terms before his election as state attorney general."
          ],
          [
           "He also appeared on Celebrity Poker Showdown several times."
          ],
          [
           "He is the founder of the circus outreach organization, Circus Remedy, as well as the independent publishing house, Putzina Press."
          ],
          [
           "In his research work he is an expert on the theory of Buildings, with a standard text on the subject, now being reissued in paperback."
          ],
          [
           "During that time, he also performed in Las Vegas with Ann-Margret and on European tours of West Side Story."
          ],
          [
           "He was an animation director on Uncle Grandpa as well as Craig of the Creek both for Cartoon Network."
          ],
          [
           "He also has a career high ATP doubles ranking of 767 achieved on 29 August 2016."
          ],
          [
           "He scored 338 runs with a highest score of 68 and took six wickets with a best performance of three for 68."
          ],
          [
           "Following attendance at the Industrial College of the Armed Forces, Holdaway served as Staff Judge Advocate of VII U.S. Corps in Stuttgart, Germany."
          ],
          [
           "He retired from the position of director of the NYSF in January 2005, and currently resides in Canberra, Australia."
          ],
          [
           "He is a columnist at The Wire, and at the American Herald Tribune."
          ],
          [
           "Between 1980 and 1988 he worked as a lecturer of Afrikaans and Dutch at the University of the Free State."
          ],
          [
           "He left three sons and one daughter."
          ],
          [
           "He was twice ex-vicechairman of PBC in 1994 and 2002."
          ],
          [
           "Francis Meynell often used an Albion to proof pages of his designs for Nonesuch Press books, and printed some small books and ephemera using the press."
          ],
          [
           "He attended Kingswood School before going on to do a foundation year at the Royal Academy of Dramatic Art, graduating in 2009."
          ]
         ],
         "hovertemplate": "cluster=Professional Achievements and Careers<br>umap_x=%{x}<br>umap_y=%{y}<br>sentence=%{customdata[0]}<extra></extra>",
         "legendgroup": "Professional Achievements and Careers",
         "marker": {
          "color": "#00cc96",
          "symbol": "circle"
         },
         "mode": "markers",
         "name": "Professional Achievements and Careers",
         "orientation": "v",
         "showlegend": true,
         "type": "scatter",
         "x": {
          "bdata": "mB+UQPo3nECtk5JAeoyTQGBIvUDuUK9Ap8eSQKu6o0Ae84RAY/uZQDdUsUA3/7pAWIerQAissUAQkZ9Al9mNQCcxpEB8mHhAKKGPQCcreUArlqJAIBGoQKKDhEB1BqZAOEWDQDT1kUB1hI5AwO+bQC9drUAVuYZAVPB5QFBFl0AzCoZAn+xxQOlJp0DJYKVAO8+eQIb0lECqZH5AY4yXQPk5pECKgYtANwSaQDnyikDHv5xAJyaxQHX5m0AR0YVAvTOOQAXwk0BTTKVAU8aUQHbFiEC9GpBAo2mHQFz+i0CERZFAOVSRQOdQfUDnF5hA6kGIQItsgUCAQ5ZAlXyYQH6Fk0DdBaJAtHh0QCv5qECpAKZAsRaZQLjIo0BtyY5A2v6BQKwjm0DwHbJAAwauQMJdgkAp06pAcfmxQJAjlkBPRKdAZYCGQDyccUBil59AyQibQPd1mUDfQ5tADvucQCo6qUAeRqhAJjyuQDb4rUAtwolA1MiGQPJplEDVh45AcdSkQNfhmEBdoLBA9ZORQJ8gtUCQbpRA",
          "dtype": "f4"
         },
         "xaxis": "x",
         "y": {
          "bdata": "SwcQwHl7mb+6eBq+GhNWv3sxAsAzv82/I8jcvyhUpr8YWLu/mG7kvy0Y47/16LG/34Xuv1Pf2b/Pu5S/j9zLv4Odp7/oHNa/2NEEwIzSpb/MzZq/39f6vx1z778xNae/vMLdv5m8lr9srIu/EG7dv7lk1r/cE8O/5TbTv+/W9L8TUjq/yGKfvzaJ9L9OSdy/ueOJvyi4wL91Duu/5dbhv2PV6b8jgZW/NQysv0jQN7/dPPK/cdTXv4z+6b8TJu6/ifm6vxB3mr+fJNG//QHHv0SbQb9MZs6/ktejv2YMBMD9Bby/HpuEvzwOz7/oBJS/EBb0vzwVqL8mn/q/KVtSv/Xxsb8QbOq/7XXLv+UMoL/hO8W/7p5mv1CU3b9M2+u+dm+cv2Isxb8QlOK/McDuv5Wlw7+yO+m/AvPIv8t1wb/+zYe/yN7hv3PaxL/pFXu/2Hfwv41XqL/xIJ2/yd0KwHGP2L+M29W/L6wJwPNIA8BipQTACZX+v8dUEL9edc+/6jjuv1KS578gjaK/dmrSvySsyL/U0NS/",
          "dtype": "f4"
         },
         "yaxis": "y"
        },
        {
         "customdata": [
          [
           "Kane is credited for unearthing substantive academic fraud in conjunction with whistleblower Mary Willingham regarding student-athletes who were directed towards phony classes, according to allegations."
          ],
          [
           "The modern-day Fury, initially a CIA agent, debuted a few months later in Fantastic Four #21 (Dec. 1963)."
          ],
          [
           "For decades, Pius XII has been nominated unsuccessfully for recognition as Righteous Among the Nations, an honor Yad Vashem confers on non-Jews who saved Jewish lives during the Holocaust altruistically and at risk to their own lives."
          ],
          [
           "Most parts of the seat now fall within the new seat of Collie-Preston, which is regarded as a marginal Labor seat by Antony Green based on 2005 figures, with the Busselton portions becoming part of Vasse."
          ],
          [
           "Downfall (German: Der Untergang) is a 2004 German historical war drama film directed by Oliver Hirschbiegel from a screenplay by producer Bernd Eichinger."
          ],
          [
           "Apart from these technicalities, the film has satisfied critics creatively with fine performances by Randeep Hooda, Richa Chadha and Adil Hussain."
          ],
          [
           "The story follows a hunchback fisherman, who finds a young girl and raised her into womanhood with the intention of marrying her."
          ],
          [
           "The episode yielded 0.86 million viewers, a decrease from the previous episode, and garnered a 0.4 rating in the 18-49 demographic."
          ],
          [
           "The program stars Michael Gambon as Peter John Moreton, Susannah Harker as Holly Moreton and John Hannah as Nick Simon."
          ],
          [
           "Under a Shadow is a 1915 American silent drama film directed by Joe De Grasse and featuring Lon Chaney."
          ],
          [
           "In the same manner, entire scenes and dialog have parallels with others through synchronicity, coincidence and repeated imagery."
          ],
          [
           "According to the population census conducted by the Institut National de la Statistique Benin on February 15, 2002, the arrondissement had a total population of 59,830."
          ],
          [
           "She also won a Silver Medal in the women's doubles, partnering Tamsyn Leevey."
          ],
          [
           "Elizabeth Kennedy, who married Sir John Cathcart, 2nd Baronet, as his second wife, and had children Anne Kennedy (c.1743-), who married John Blair of Dunskey and had children Their second son, Thomas, inherited the baronetcy after the death of his elder brother in 1744, and inherited the earldom of Cassillis following the death of John Kennedy, 8th Earl of Cassilis, in 1759."
          ],
          [
           "In the Poetic Edda, Prose Edda, and Heimskringla, Hel is referred to as a daughter of Loki."
          ],
          [
           "Arbus authored or contributed to several books about her mother, including Diane Arbus Revelations, published by Random House."
          ],
          [
           "The music is composed by Tanishk Bagchi, Dr Zeus, Javed Mohsin and Amjad Nadim."
          ],
          [
           "It is used in the story of Heracles and Deianeira, also in Richard Wagner's opera Tristan and Isolde, Donizetti's The Elixir of Love (L'Elisir d'amore), and Manuel de Falla's ballet El amor brujo (The magic of love)."
          ],
          [
           "The most prominent culturalist psychoanalyst was maybe Erich Fromm, and after him Karen Horney and Harry Stack Sullivan."
          ],
          [
           "Law's successors won both seats: the independent Dai Davies, Law's former election agent, won the Westminster seat with a majority of about two and a half thousand."
          ],
          [
           "Fictional horror icon characters include such as Dracula, Gill-man, Frankenstein's monster, Michael Myers, Ghostface, Freddy Krueger, Jason Voorhees, Chucky, Candyman, Leatherface, Pennywise the Dancing Clown, Pinhead, and The Mummy."
          ],
          [
           "Interplay is a ballet in one act made by Jerome Robbins, subsequently ballet master of New York City Ballet, for Billy Rose's Concert Varieties to Morton Gould's 1945 American Concertette."
          ],
          [
           "The avenue itself is named for Gil Puyat, a late senator and statesman."
          ],
          [
           "Alison DiLaurentis is a fictional character on Freeform's Pretty Little Liars, a television series which is based on a book series of the same name written by American author Sara Shepard."
          ],
          [
           "The graphic novel series is written by J. Torres and illustrated by Ed Northcott, and it is the basis for a set of Degrassi mangasodes."
          ],
          [
           "Wladimir Klitschko vs. Sultan Ibragimov, billed as \"The Unification\", was a professional boxing match contested on 23 February 2008 for the IBF, WBO and IBO heavyweight championship."
          ],
          [
           "The Lex Junia Licinia or Lex Junia et Licinia was an ancient Roman law produced in 62 BC that confirmed the similar Lex Caecilia Didia of 98 BC.The Lex Junia Licinia was a consular law of Decimus Junius Silanus and Lucius Licinius Murena enacted during their consulship."
          ],
          [
           "The game is influenced by popular action movies of the time such as Commando, Rambo: First Blood Part II, and Missing in Action."
          ],
          [
           "The building's original design in the modernist New Objectivity style was the subject of a competition which was eventually won by the architect Hans Poelzig."
          ],
          [
           "Out for Murder is a 1938 American crime film directed by H. Bruce Humberstone and written by Jerome Cady."
          ],
          [
           "She is also the chairperson of the Finland-Russia Society."
          ],
          [
           "It is said that Frakkok and her supporters had originally intended to advance the claims of Harald Haakonsson's son Erlend Haraldsson upon Paul's death."
          ],
          [
           "In New England the distribution of the film was handled by Joseph P. Kennedy who organized a successful premiere in Boston."
          ],
          [
           "It was based on a novel by Herman C. McNeile."
          ],
          [
           "The film stars Ratheesh, Shankar,Seema,T.G Ravi,Captain Raju,Jagathy Sreekumar,Mala Aravindan,Sukumari in the lead."
          ],
          [
           "By this time it had acquired the honorific title Gordiana (from the emperor Gordian I r. 238)."
          ],
          [
           "This episode centers around Cora as she tries to kill Mr. Gold, while flashbacks show her past with Rumplestiltskin."
          ],
          [
           "As an encore, Eddie does his most recent \"bad impression\", Christopher Walken."
          ],
          [
           "He distinguishes himself from the other two remaining survivors, Slim Charles and Dennis \"Cutty\" Wise, as the only low-level player who is able to completely move away from drug trade after the organization's collapse."
          ],
          [
           "Dan is the son of Bay Area Radio Hall of Famer Bob Fouts."
          ],
          [
           "It specializes in previously unpublished novels by science fiction authors such as Hal Clement and R. A. Lafferty and also in reprints of comic strips such as Prince Valiant, Modesty Blaise, Alley Oop, and Buz Sawyer."
          ],
          [
           "The method was developed by John E. Baldwin and collaborators in the Cavendish Astrophysics Group."
          ],
          [
           "Margaret Thompson is a fictional character in the HBO crime drama series Boardwalk Empire, portrayed by Kelly Macdonald."
          ],
          [
           "The interim Athletic Director is Larry Amicone."
          ],
          [
           "Along with Claudia Wilbourn and Rachel McLish, Bentley was among the first role models of bodybuilding for women and the benefits that it can bring to them."
          ],
          [
           "Even though he does not look like her husband his mannerisms appear to identify him in an undeniable way."
          ],
          [
           "Some sources falsely state that much acclaimed B movie director Edgar G. Ulmer was the uncredited original screenwriter of Blonde Ice."
          ],
          [
           "Morton hosted the series as Auntie Jean."
          ],
          [
           "Cosby not only starred in the film, but produced it and worked on the film's music."
          ],
          [
           "Esen Buqa is also known for giving refuge to two brothers, Jani Beg and Kerei against the Uzbeks."
          ],
          [
           "Academic Michael J. Bernsten wrote in his essay \"The Muppetry of Nightmares\" that the idea failed because the characters were irredeemable and unfunny."
          ],
          [
           "It features all of the current cast members and the return of former cast members Daniel Thomas-Tuck, James Tindale, Jay Gardner, Kyle Christie, Ricci Guarnaccio and Sophie Kasaei."
          ],
          [
           "Wike won in the 2015 gubernatorial election, receiving 87.77 percent of the popular vote."
          ],
          [
           "The movie stars Maurice Chevalier and Yvette Mimieux."
          ],
          [
           "The awards are hosted by the RCN TV network."
          ],
          [
           "Warren Duff wrote the screenplay with the assistance of Tom Warren, who was billed as \"Screenplay constructor\"."
          ],
          [
           "Farebi Daku also called Mysterious Bandit is a 1931 action silent film produced and directed by A. R. Kardar."
          ],
          [
           "USS Winona was a Unadilla-class gunboat built for service with the Union Navy during the American Civil War."
          ],
          [
           "Among the pentiti, D'Amico was one of the highest-ranking due to his position within the NCO."
          ],
          [
           "The first round tie between Curry and Enniscrone required two replays and one period of extra-time before Curry eventually emerged by a single point."
          ],
          [
           "Starring Geraldine James, Cathy Tyson, Barbara Dickson and Samantha Morton, the series revolves around the lives of a group of sex workers who live and work in Bradford's red-light district."
          ],
          [
           "Incumbent Republican Lieutenant Governor Abel Maldonado, who was appointed to the office, ran for election to a full term and was defeated by Democratic Mayor Gavin Newsom of San Francisco."
          ],
          [
           "Dil Dhoondta Hai is an Indian Hindi romantic drama television series, which premiered on September 21, 2017 and was broadcast on Zee TV."
          ],
          [
           "Downward was defeated in the election, receiving 76,423 votes (31%) to Abramson's 164,414 (67%)."
          ],
          [
           "Trick for Trick is a 1933 American mystery film directed by Hamilton MacFadden and written by Howard J. Green."
          ],
          [
           "Destiny's father cures Destiny, but is unable to cure Livvy, who, together with Ross, changes into a blackbird and flies off into the sky."
          ],
          [
           "She was the mother of Banasur, the demon, who was killed by Devi Kumari."
          ],
          [
           "In addition, Bradley was co-recipient of the ACA research award."
          ],
          [
           "It made a star of Betty Grable in her first leading role for the studio, and introduced American audiences to Carmen Miranda."
          ],
          [
           "Then a letter is received in Vijay's name from a man named Ashok Saxena, demanding that he repay his loan of one lakh rupees immediately."
          ],
          [
           "De Quant performs with pianists Elizabeth van Malde, Rudolf Jansen and Bart Berman, harpist Masumi Nagasawa and soprano Jannie Pranger."
          ],
          [
           "Omar Farah Iltireh was elected as the territory's MP."
          ],
          [
           "The ingredients of Uncle Joe's Mint Balls are: pure cane sugar, oil of peppermint and cream of tartar and are described on the tin as \"suitable for vegans\"."
          ],
          [
           "The Chair has been held by a number of prominent historians of Scotland, including two Historiographers Royal."
          ],
          [
           "The 1854 United States elections was the midterm election choosing members of the 32nd United States Congress during the middle of Democratic President Franklin Pierce's term."
          ],
          [
           "She has worked in films like Mere Haule Dost, Unfreedom and serials like Kasturi (TV series), Kahaani Ghar Ghar Kii."
          ],
          [
           "The film stars Marie Dressler, Lionel Barrymore, Helen Mack, Beulah Bondi and Russell Hardie."
          ],
          [
           "Tom Lehman topped the end-of-season money list, winning $2,081,526."
          ],
          [
           "The Philadelphia publishing house of Mitchell, Ames, & White published three American editions of The British Encyclopedia."
          ],
          [
           "Taylor can also be heard as Luke Stanley in YTV's The Stanley Dynamic (Nelvana/Amaze), filming its second season as of early 2016, a series that requires Taylor on-set four to five days a week to bring the animated character to life through his body as well as his voice."
          ],
          [
           "Ann Collier is the person who put the group Edith and the Eggs together after being asked to do so by John Waters."
          ],
          [
           "Bluesmobile is a 1974 Dodge Monaco sedan that was prominently featured in the 1980 Universal Pictures film The Blues Brothers."
          ],
          [
           "In 2012, the award was renamed the Laurence L. & Thomas Winship/PEN New England Award in honor of father and son, Thomas Winship, both long-time Boston Globe editors."
          ],
          [
           "In the 2000 movie Coyote Ugly, she was portrayed by Maria Bello."
          ],
          [
           "Defending race winner Bill Elliott won the pole for the second year in a row, and Geoffrey Bodine won the race."
          ],
          [
           "On October 10, 2017, President Donald Trump appointed Hargan as acting United States Secretary of Health and Human Services, which he held until January 29, 2018, when Alex Azar assumed the office."
          ],
          [
           "After replacing Alice Faye in Down Argentine Way (1940), she became the studio's biggest asset throughout the following decade, starring in a series of commercially successful musicals and comedies, often co-starring with renowned leading men, including Victor Mature, Don Ameche, John Payne, Tyrone Power, and Dan Dailey."
          ],
          [
           "This season, Stoerner threw the game-winning touchdown pass to Anthony Lucas late in the fourth quarter versus the Volunteers in Fayetteville, leading Arkansas to a victory by the same score, 28-24."
          ],
          [
           "The Government of India honored her, in 2014, with the Padma Shri, the fourth highest civilian award, for her services to the field of art and culture."
          ],
          [
           "It was the third such anthology assembled by Carter for the series."
          ],
          [
           "Literally it means respected uncle Tarini."
          ],
          [
           "The Social Credit Party led by W. A. C. Bennett formed the official opposition."
          ],
          [
           "South Queen Trisha will be reprising the character role of Rajani Pandit."
          ],
          [
           "At the time of the birth of Krishna as 8th Child of Devaki-Vasudeva, Maha-Yogini Mahamaya has taken birth at same time at Nanda-Yashoda and as per the instruction from God Vishnu, Vasudev had replaced Krishna with this girl child of Yashoda."
          ],
          [
           "Kuhlman died at Lenoir Memorial Hospital in Kinston on October 15, 2003 at the age of 84 and was buried at the Coastal Carolina State Veteran's Cemetery."
          ],
          [
           "Mortal Kombat is a 1995 American fantasy action film written by Kevin Droney, directed by Paul W. S. Anderson, produced by Lawrence Kasanoff, and starring Robin Shou, Linden Ashby, Bridgette Wilson and Christopher Lambert."
          ],
          [
           "The making of the movie was the subject of the documentary, Popatopolis."
          ],
          [
           "The book was promoted with the claim it was the first time the Conan Doyle Estate had authorized a new non-Doyle Sherlock Holmes pastiche."
          ],
          [
           "The film grossed about $4.7 million worldwide and received generally favorable reviews from critics."
          ],
          [
           "It stars Doug Jones (an alumnus of the university) as Jerry Arthur: a forty-something door-to-door salesman going through a mid-life crisis."
          ],
          [
           "Composed of former members of Pretty Girls Make Graves after its disbandment in 2007, former PGMG-member Derek Fudesco teamed up with Pete Quirk (of Hint Hint) and Marty Lund (of Cobra High) and began playing in the Seattle area."
          ],
          [
           "Farhana Mili is a Bangladeshi film and television actress."
          ],
          [
           "Sibley carried the backing in the 2010 election of former U.S. President George W. Bush, who had earlier befriended Birdwell, a burn victim of the terrorist attack on The Pentagon on September 11, 2001."
          ],
          [
           "The rim bears the name of the prizewinner."
          ],
          [
           "Although typically found in the Science fiction section of bookshops, it is a difficult novel to categorize; Rankin himself joked that he wanted to create a new genre of fiction, called \"Far Fetched Fiction\", so that he would have his own bookshelf in Smiths."
          ],
          [
           "Daisha progresses from her role as staff nurse to ward sister and also becomes an ambassador for The Byrne Foundation."
          ],
          [
           "Ginthupitiya was originally known as \"San Thome Pitiya\" by the Portuguese, who recorded finding a Nestorian cross in the area which they believed indicated an earlier presence of Persian Christians and possibly a site where Thomas the Apostle visited and delivered a sermon."
          ],
          [
           "Fetterman is the Democratic nominee for Lieutenant Governor of Pennsylvania in the 2018 election against Republican Jeff Bartos."
          ],
          [
           "Three of them appear in the Babylonian Talmud (bShabbat 116a, bNedarim 20a-b, bBaba Mezia 59b)."
          ],
          [
           "Each episode addresses a particular theme, which is addressed during Augustus Hill's narratives as well as during various points in the actual episode."
          ],
          [
           "In his part of the documentary, Pasolini deals with the 1956 Hungarian Revolution and of the Cuban Revolution, praises progressivism, decolonization and class struggle, he takes Marilyn Monroe's death as an example to speak about the death of beauty, complains about the disappearance of the rural world and heavily criticizes industrialization, conservativism, anti-communism and the bourgeoisie."
          ],
          [
           "The short film is about the nuclear bomb dropped on Hiroshima and its effects on the residents of that city sixty years later."
          ],
          [
           "The screenplay by Stephen Sewell is based on the play by Gordon Graham, with Graham influenced by the 1986 murder of Anita Cobby, with the play first performed by Griffin Theater Company under the direction of Alex Galeazzi."
          ],
          [
           "Her work has been reviewed by Holland Cotter, Ken Johnson and Roberta Smith in the New York Times, Ed Halter on Rhizome and in many other publications."
          ],
          [
           "Monsieur Maurice opened the box, into which Madame had put five francs at each session of the girl."
          ],
          [
           "Kanampulla Nayanar was a grass cutter; selling the special Kanampul grass used for lamp wicks in Shiva temples."
          ],
          [
           "The Cole Prize in algebra was funded by Cole himself, from funds given to him as a retirement gift; the prize fund was later augmented by his son, leading to the double award."
          ]
         ],
         "hovertemplate": "cluster=Film and Entertainment<br>umap_x=%{x}<br>umap_y=%{y}<br>sentence=%{customdata[0]}<extra></extra>",
         "legendgroup": "Film and Entertainment",
         "marker": {
          "color": "#ab63fa",
          "symbol": "circle"
         },
         "mode": "markers",
         "name": "Film and Entertainment",
         "orientation": "v",
         "showlegend": true,
         "type": "scatter",
         "x": {
          "bdata": "nSC0QJHk1kAqmZ9AbS+VQG5V30BcVNpACZPHQOx5+UCzC9RAJFfhQKb/z0D9m8VA27CWQOQYjEB/h59AspOyQJyK60DKKddAi+u7QDQDmEB0AMdAdqLXQO/0gkAPYMJAgwTFQGQBvUCrKmZAl6/dQOZ3sEDNsdxABH+IQC6Dn0DUSt9AptfVQPtU00AA3YBAkpHiQPj43EBJTrlAn8h5QHpVvkDCQ8NAnfvQQMenSkDdZbRADSOtQJk300DYPspAHRrlQAIykEAP0sJAT3PVQFYCmUDLENZAKAqcQOQX1EANx+BALQynQCo4lEDOQHRAMgPSQI20mUDqgtVAysOgQLFU30BdprNA7Q6BQJCym0AC/M1Ah8iGQDpQ3UC3WptA1xnMQMFkkUAKkJRAC3HMQH7o20CgBY9A/5q3QLTi10DKLsNAIBbZQOc/l0Cl1ddAalyRQAT3mUAix9xAFQl3QMA8i0BHT+xAkNV8QKDYqEBnJMlAFjpqQHOTi0CzItlATc7hQHXtv0BX3gBBH2TWQLkH2UCb43hA4GeqQKCYmEAg5sxA+yahQDIIeEBkSo1AtNKyQJCb60CF58hAqFvgQODh1kAKLLJAMRvCQGsPeUDShplA",
          "dtype": "f4"
         },
         "xaxis": "x",
         "y": {
          "bdata": "gtY8v3KqkL9lnj+/93UQv4VZor/iFdm/1tWpv67bAD/Olv2/HpO0v5won7/OGeE/gnUTwNCmhr9qeDu/hLXWv7MTv79DCTW/RJKXvzG61L7EZ5O/S1aUv9NXVD4+T96/wj/dv678kr8YW7Q8GQ2Iv38sJD/EZ7i/qbFOv/EcPL8jbCO/Rlymv0Cp4L/Z1I4+MVjHv9yyzr9fJre/BWCxv/Ectb+2bZq/qdL1v9GSVb9p6bm/DPGiv+Yv0L+GRQHAR7THv1F/3z7zboq/sWrtvzoVcr8am+O/e2MYwHifwb/UyLO/VWaXPmUvZL/haiLA49n4v82Jdr9cKq2/6jdjvyshsr878o6/BGeAvoYQEcD8wdy/no29vbLN2r8Ldfw+X+anvzt/NT6mtkO/Gwnrv3kq4L+sYiLAtWm0v+IgCMDrSdS/AZ/DPqv8GsDdH+e/U1clwNCXwb8kbeC/33vyv43LIL8NCby+sPqcPRPYg7+8zNi/MYPDPeYBoD/lSLa/2VTBv1sxr7/1uqI65nXxv1Qy6L8F+/6+6neYv0HuF8ABn0a/jPg5vwmenD6HFWi/cmymP8OZwb89KmW/3ZOsv/wjx7+HGcK/9Ibtv8l7PD6cwB3A",
          "dtype": "f4"
         },
         "yaxis": "y"
        },
        {
         "customdata": [
          [
           "Group H of the 2017 Africa Cup of Nations qualification tournament was one of the 13 groups to decide the teams which qualify for the 2017 Africa Cup of Nations finals tournament."
          ],
          [
           "Fitzmaurice made his senior debut during the 1988-89 league."
          ],
          [
           "Generally, this refers to players who have played 100 or more Football League matches for the club."
          ],
          [
           "Prior to this date, (the then) University College, Nottingham taught students for University of London examinations and \"Nottingham graduates\" were actually London graduates and wore the appropriate dress."
          ],
          [
           "South Africa competed at the 2012 Summer Paralympics in London with a team of 62 athletes."
          ],
          [
           "This was quickly followed by an impressive gathering of form with consecutive game tries against the soon to be announced 2012 Super League side Widnes Vikings and Keighley Cougars in the Northern Rail Cup."
          ],
          [
           "The Albania Davis Cup team represents Albania in Davis Cup tennis competition and are governed by the Albanian Tennis Federation."
          ],
          [
           "In the 2011-12 season, Baghdad FC will be competing in the Iraqi Premier League."
          ],
          [
           "Loveland Derby is the last amateur slalom ski race of the year that happens every year at the Loveland Ski Area near Georgetown, Colorado."
          ],
          [
           "2018 French F4 Championship is the eighth season to run under the guise of the French F4 Championship and the first season under the FIA Formula 4 regulations."
          ],
          [
           "The British Columbia general election of 1907 was the eleventh general election for the Province of British Columbia, Canada."
          ],
          [
           "Juventus F.C. finished 6th in Serie A this season, however, won the European Cup for the first time in Heysel."
          ],
          [
           "Founded on 10 July 1904, it is the fourth oldest regional football association under the Danish FA and kept its original name, Fyns Boldspil-Union (FBU), until 1 February 2011, where it was changed to its current name, DBU Fyn."
          ],
          [
           "This article displays the rosters for the teams competing at the EuroBasket Women 2015."
          ],
          [
           "Maccabi Arazim Ramat Gan competes in the Ligat Ha'Al."
          ],
          [
           "Netherlands Antilles national under-20 football team represented the former Netherlands Antilles in international football competitions such as FIFA U-20 World Cup and CONCACAF Caribbean Championship."
          ],
          [
           "She has run a cannabis legalization platform in the Green Party of British Columbia, and the British Columbia Marijuana Party, and in 2014 unsuccessfully filed a nomination for the federal Liberal Party in the riding of Vancouver East."
          ],
          [
           "This season is also the last season of this league before dissolved."
          ],
          [
           "According to the tribunal a 'minimal figure' of 250 haemophilliacs were infected with HIV or Hepatitis C while receiving treatment from the BTSB before 1985."
          ],
          [
           "The countries in which it occurs are Afghanistan, Armenia, Azerbaijan, Cyprus, Djibouti, Egypt, Eritrea, Ethiopia, Georgia, Iran, Iraq, Israel, Jordan, Kuwait, Lebanon, Oman, Pakistan, Qatar, Saudi Arabia, Sudan, Syria, Turkey, Turkmenistan, United Arab Emirates, and Yemen."
          ],
          [
           "In 2012, the 42nd DSN was held in Boston, United States."
          ],
          [
           "It was the second annual Phillip Island 6 Hour race to be held at the Victorian circuit."
          ],
          [
           "As a member of the Leinster inter-provincial team on a number of occasions Moran won three Railway Cup medals."
          ],
          [
           "That same year, a referendum was held to decide if Southern Rhodesia should join with Northern Rhodesia, and Nyasaland."
          ],
          [
           "He also won three European titles (two golds and one bronze for the individual and team events)."
          ],
          [
           "Of especial influence was the Dardi school of fencing with the spada da lato in the 16th to early 17th centuries, which gave rise to the classical early modern of fencing with the rapier, including Elizabethan Fencing in England and the French school of fencing in the 18th century (which in turn developed into modern sport fencing)."
          ],
          [
           "Only two races took place due to the Montreal Olympics."
          ],
          [
           "The company's rugby union team Racal Decca RFC of Tolworth continues and uses this ground once a year."
          ],
          [
           "The season began as the \"TPA Tour,\" then reverted to the \"PGA Tour\" in mid-March."
          ],
          [
           "As of January 2008 the company has a United States account base in running, golf, cycling, wintersports and outdoor sports."
          ],
          [
           "Later it was found that their number was bigger than required and five were sent to the Septemvri depot (76-11 to 76-15)."
          ],
          [
           "This same car, driven by Harry Firth and Bob Jane, had won the 1963 Armstrong 500 endurance race at Bathurst six months before and was using the same set of tires that had been on the car during its earlier victory."
          ],
          [
           "He is the 2013 Nebelhorn Trophy bronze medalist, 2014 CS Autumn Classic bronze medalist, and a three-time Canadian national medalist (silver in 2015, bronze in 2009 and 2012)."
          ],
          [
           "At the 2010 Winter Olympics, he finished 44th in the qualifying round of the individual large hill event while being disqualified in the individual normal hill event."
          ],
          [
           "Hearn competed in three Summer Olympics, earning his best finish of ninth in the C1 event in Atlanta in 1996."
          ],
          [
           "The season started on 5 April 2014 and concluded on 2 November 2014.Hammarby IF won Superettan this season, their first title and were thus promoted to Allsvenskan after five years absence along with runners-up GIF Sundsvall who returned to the top flight after two years absence."
          ],
          [
           "Romania competed at the 1980 Winter Olympics in Lake Placid, United States."
          ],
          [
           "After her title reinstatement, Raj placed as fourth runner-up finalist when she represented the Philippines in the 59th Miss Universe competition where she popularized her fumbled answer \"Major Major\"."
          ],
          [
           "The closest finish in a batting race came in 1945 when Snuffy Stirnweiss batted .309, topping Tony Cuccinello's .308 average for the American League title by .00008."
          ],
          [
           "In fact, no team played another more than once and the team pairings were also considered odd."
          ],
          [
           "He won five Junior Grand Prix titles, as well as U.S. national titles on the juvenile (2006), intermediate (2008) and novice level (2009)."
          ],
          [
           "As of April 2013, her best finish at a World Cup event is 26th, coming at St. Johann in 2009/10."
          ],
          [
           "The race was open to Production Sports Cars and was recognized by the Confederation of Australian Motor Sport as an Australian national title race."
          ],
          [
           "In his first collegiate game, Grady hit 7-of-10 3-pointers en route to scoring 23 points in a 110-62 win against Charleston Southern."
          ],
          [
           "It was the sixth edition of the tournament and was played in Schenectady, New York in the United States from August 24 through August 31, 1992."
          ],
          [
           "Guise was first elected to parliament at the 2001 state election, defeating sitting Liberal MP Iain McLean."
          ],
          [
           "Smith competed in the K-4 1000 m event at the 2008 Summer Olympics in Beijing, but was eliminated in the semifinals."
          ],
          [
           "The national team also represents the USA in international beach volleyball competitions including the Summer Olympics."
          ],
          [
           "Wilson played for the Tampa Bay Storm in the Arena Football League in 2002 and 2003."
          ],
          [
           "Each country chooses one male and/or one female bowler to represent them in the tournament, and in the majority of cases, this is done by running a qualifying tournament, the winners of which (male and/or female) are chosen."
          ],
          [
           "According to his NTRA profile, Joe Bravo has dominated the New Jersey racing circuit since the early 1990s."
          ],
          [
           "The Champions Classic was a golf tournament on the Champions Tour from 1983 to 1985."
          ],
          [
           "Thereafter, Pollard's first-class figures were never quite as good again, but in the one-day game it was to be 1995 that would prove his most successful season."
          ],
          [
           "The men's hammer throw event at the 1978 Commonwealth Games was held on 6 August at the Commonwealth Stadium in Edmonton, Alberta, Canada."
          ],
          [
           "Hurriyya Sports Club is a Maldivian sports club best known for its football team."
          ],
          [
           "The 2011-12 Azerbaijan First Division is the second-level of football in Azerbaijan."
          ],
          [
           "This competition is inspired by the Solar Splash competition at the university level."
          ],
          [
           "The 14th Prince of Wales's Own Scinde Horse was a regular cavalry regiment of the Bombay Army, and later British Indian Army, it can trace its formation back to The Scinde Irregular Horse raised at Hyderabad on 8 August 1838."
          ],
          [
           "In 2013, she represented USA at the first edition of Miss Grand International 2013 in Bangkok, Thailand where she placed in the Top 20."
          ],
          [
           "The ground later held six ICC Trophy matches in the 1990."
          ],
          [
           "Klaus Ludwig won both races, driving an Opel Calibra V6 4x4."
          ],
          [
           "Sri Lanka competed in the 2010 Commonwealth Games held in Delhi, India, from 3 to 14 October 2010."
          ],
          [
           "In 2015, the team were chosen by Kawasaki to be their satellite team competing in the World Superbike Championship with Javier Alviz and David Salom riding Kawasaki Ninja ZX-10R motorcycles."
          ],
          [
           "There will be no team events."
          ],
          [
           "The women's 200 meter butterfly competition of the swimming events at the 2011 World Aquatics Championships was held on July 27 with the heats and the semifinals and July 28 with the final."
          ],
          [
           "The club re-joined the Murray Football League in 1989."
          ],
          [
           "The best performance in its history was in the 1870 season; it was undefeated, but it finished second for the premiership behind Melbourne, which was also undefeated."
          ],
          [
           "After this he had a virtual clean sweep over the next two seasons - adding a 700cc Royal Enfield as a second ride in 1978."
          ],
          [
           "In 2011, Vengeance would return to replace WWE Bragging Rights on the October 2011 event card.."
          ],
          [
           "Alabama defeated LSU in the championship game, earning the conference's automatic bid to the 1997 NCAA Division I Baseball Tournament."
          ]
         ],
         "hovertemplate": "cluster=Sports and Competitions<br>umap_x=%{x}<br>umap_y=%{y}<br>sentence=%{customdata[0]}<extra></extra>",
         "legendgroup": "Sports and Competitions",
         "marker": {
          "color": "#FFA15A",
          "symbol": "circle"
         },
         "mode": "markers",
         "name": "Sports and Competitions",
         "orientation": "v",
         "showlegend": true,
         "type": "scatter",
         "x": {
          "bdata": "q0RkQJ2FYkCAU1tAUSmQQDXKc0CErWJAr9ZZQF+6XEA9uYFA4mBvQAUQkUA5TmRAz8VTQOdoeEAOInRAmr9kQESylUDPE2ZAm7fCQMlOqkC2jspAXjSDQO7ZjEAQbqBAAz2NQJnsp0ABqoZAu8xfQJvveUBF0upA8YjFQPcgh0BitJJAUPSFQBnmhkBK62hAqv5zQDyfjEAH3IJAqaZ9QNXAjkB80YFAOb6FQDuwgEBYw/VATtqOQNynf0CecHVARehoQG9xeUB2eIhAU9d2QDvLe0AiWF1AYuRUQBXNU0BWaYhAUMuJQNwRiUDNknNACqWKQDTncEAk0oNAJU5+QLaGeUBjnFNAYhpnQL/lhEAUyuBAN5lWQA==",
          "dtype": "f4"
         },
         "xaxis": "x",
         "y": {
          "bdata": "TiMPwCeJ9b9iC+i/VYOivsdqHsC4w/O/fWMIwNnE778NlhbA2/MewHOHCL93SwXAXxbDvy+sFsB42Je/xHvxv+cTU7+jwwnAi8qBP+oddz9Rm2c/WPAuwA8IDsDP0/4+4K4RwHYkib1OdyvAFwG9v52ZCMCl3MY/AAitP0jBIMDx6w3A4bsVwOk+EcAjLQnA21ATwJRvs79uiyDAL10kwKw2GMANRRDAbKorwIt2/L+8o3U/OphHv66IH8BZ/RPA7CvYv5VBG8DVov2/6VAVwAmkCcBf2R7Az77Zv97o6r8VZBbAg81zPh1Ft78mIhTAIGAlwFL/IcAQYyHAoJsowHPaIMDc3dq/koIXwFAVEMBke/++M3IFwA==",
          "dtype": "f4"
         },
         "yaxis": "y"
        },
        {
         "customdata": [
          [
           "They feed on the leaves and later the fruits of their host plant."
          ],
          [
           "Zamia inermis is a species of plant in the Zamiaceae family."
          ],
          [
           "It forms transparent to translucent variably colored crystals with an adamantine luster."
          ],
          [
           "In this stage of its life cycle, the \"cushion\" is a mass of chlamydospores."
          ],
          [
           "Haemoproteus vacuolatus is a parasite."
          ],
          [
           "Nassarius wolffi, common name the Torben Wolff nassa, is a species of sea snail, a marine gastropod mollusk in the family Nassariidae, the Nassa mud snails or dog whelks."
          ],
          [
           "Megachile praecipua is a species of bee in the family Megachilidae."
          ],
          [
           "Pseudotelphusa ontariensis is a moth of the Gelechiidae family."
          ],
          [
           "The Daguinaspididae is family of early Cambrian trilobites found in Morocco, Ukraine, and Siberia."
          ],
          [
           "Its creeping stems may reach up to about 20 centimeters long."
          ],
          [
           "It has distinctive wings with characteristic black blotches at their proximal ends, which make the dragonfly look as though it is wearing saddlebags."
          ],
          [
           "Dimorphocrambus is a genus of moths of the family Crambidae."
          ],
          [
           "Asanoa ishikariensis is a bacterium from the genus of Asanoa which has been isolated from soil from Japan."
          ],
          [
           "It is a colorless gas with the characteristic foul odor of rotten eggs."
          ],
          [
           "Legrandia is a genus of the plant family Myrtaceae, first described as a genus in 1944."
          ],
          [
           "Z Chamaeleontis (abbreviated Z Cha) is a dwarf nova variable star system approximately 316 light-years away from the Sun, where two stars orbit each other every 1.78 hours."
          ],
          [
           "The glottis is defined as the opening between the vocal folds (the rima glottidis)."
          ],
          [
           "Coralloconchus is a genus of cornulitid tubeworms with small, slender, irregularly curved conical tubes with slowly increasing diameter."
          ],
          [
           "Hyalea dividalis is a moth in the Crambidae family."
          ],
          [
           "Caprellidira is a parvorder of marine crustaceans of the infraorder Corophiida."
          ],
          [
           "Cryptocotyle is a genus of trematodes from the family Heterophyidae."
          ],
          [
           "Galium mexicanum (Mexican bedstraw) is a species of plant in the Rubiaceae family."
          ],
          [
           "Lithacodia metachrysa is a species of moth in the family Noctuidae."
          ],
          [
           "This species' range is further north than the other Mexican species."
          ],
          [
           "The bone found in superior nasal concha is part of the ethmoid bone."
          ],
          [
           "The Gallic epoch encompasses the Barremian, Aptian, Albian, Cenomanian and Turonian faunal stages."
          ],
          [
           "NGC 6786 is an interacting spiral galaxy 350 million light years from the Earth, in the constellation of Draco."
          ],
          [
           "For a few thousand years, people only recognized two species, but then several other less important species were discovered, and the genus contains two tested hybrid species, a semi-natural cross between a female Bombyx mori and a male Bombyx mandarina, and another hybrid the other way around from the first."
          ],
          [
           "In molecular biology, glycoside hydrolase family 79 is a family of glycoside hydrolases."
          ],
          [
           "Land planarians are unique in that they possess a \"creeping sole\" on their ventral side."
          ],
          [
           "The Sopwith Dragon was a British single-seat fighter biplane developed from the Sopwith Snipe."
          ],
          [
           "Solenochilus resembles its predecessor, Acanthonautilus', in overall anatomy, and both genera superficially resemble Permonautilus from the Clydonautilaceae."
          ],
          [
           "It contains the growth plate, the part of the bone that grows during childhood, and as it grows it ossifies near the diaphysis and the epiphyses."
          ],
          [
           "Eupogonius fulvovestitus is a species of beetle in the family Cerambycidae."
          ],
          [
           "It consists of about 20 species."
          ],
          [
           "It is a descriptive name because it resembles a Sphinx, a mythical figure of a crouching lion."
          ],
          [
           "Lethrinus harak, common names the thumbprint emperor and blackspot emperor, is a species of emperor fish."
          ],
          [
           "The inflorescence is up to 16 millimeters long but only 2 to 3 millimeters wide, and is yellow-green in color."
          ],
          [
           "Rare igneous carbonate rocks exist as intrusive carbonatites and even rarer volcanic carbonate lava."
          ],
          [
           "Georissa elegans is a species of minute cave snails, gastropod mollusks in the family Hydrocenidae of gastropod in the Hydrocenidae family."
          ],
          [
           "Hekou Group is a geological formation from which fossil pterosaur tracks have been recovered."
          ],
          [
           "Meteugoa melanoleuca is a moth of the family Erebidae."
          ],
          [
           "Copelatus evanidus is a species of diving beetle."
          ],
          [
           "Synchronous is an electric car concept by Ukrainian company Electric Marathon International."
          ],
          [
           "At other times of year, they eat mollusks and crustaceans found along the surf line on rocky coasts and are usually found in small flocks, often with turnstones."
          ],
          [
           "Cuthonella ferruginea is a species of sea slug, an aeolid nudibranch, a marine gastropod mollusc in the family Cuthonellidae."
          ],
          [
           "Brachyta interrogationis is the species of the Lepturinae subfamily in long-horned beetle family."
          ],
          [
           "The 37th Kentucky Volunteer Mounted Infantry Regiment was a mounted infantry regiment that served in the Union Army during the American Civil War."
          ],
          [
           "In gymnosperms, the remains of the female gametophyte serve also as food supply, and in flowering plants, the endosperm."
          ],
          [
           "Nitramide is a chemical compound with the molecular formula H2NNO2."
          ],
          [
           "Bucculatrix dulcis is a moth in the family Bucculatricidae."
          ],
          [
           "Enteromius trinotatus is a species of ray-finned fish in the genus Enteromius which is only found in the Democratic Republic of the Congo."
          ],
          [
           "It measures 44 feet wide and 20 feet deep, sits on a raised basement, and has four interior end chimneys."
          ],
          [
           "The condition is known by a number of names, including labial fusion, labial adhesion, labial synechiae, labial agglutination, labial adherence, gynatresia, vulvar fusion, and vulvar synechiae."
          ],
          [
           "Epicephala ancylopa is a moth of the Gracillariidae family."
          ],
          [
           "Mesodineutes amurensis is an extinct species of fossil beetle in the family Gyrinidae, the only species in the genus Mesodineutes."
          ]
         ],
         "hovertemplate": "cluster=Botanical and Biological Descriptions<br>umap_x=%{x}<br>umap_y=%{y}<br>sentence=%{customdata[0]}<extra></extra>",
         "legendgroup": "Botanical and Biological Descriptions",
         "marker": {
          "color": "#19d3f3",
          "symbol": "circle"
         },
         "mode": "markers",
         "name": "Botanical and Biological Descriptions",
         "orientation": "v",
         "showlegend": true,
         "type": "scatter",
         "x": {
          "bdata": "ZlaqQKPCRkDxobJAA7hJQHEjMUBz+UZA7bQtQEK0MUD8RkBApruyQHkCW0AUuThAL4NXQDCnsUAZa0ZAlE5uQDlKY0AzyzdAsaYzQBASQUAQsjNAPno5QMOGMED8XFpAiytXQMpLVUDAB1xAdQNRQDnmNUBwE0hAdeKaQIubRUBx6VtALPgxQNxMvUCWS1lAFqw/QEcQt0DEK2JAhzY8QFKjKUAo7TZASl01QOg6Z0BXBUpAoSY8QB9mM0CsbIhA5OlYQPR3lkDxJzpA8D1EQGQZuECPYFpAj+YwQPklMEA=",
          "dtype": "f4"
         },
         "xaxis": "x",
         "y": {
          "bdata": "O3LnPyqhST+ZAwNAzN0IP7blPT8rDK0+bNpjP2Z4UD85LXM/jGoRQKy+8z7uTHQ/7kcpP+wfC0ADqEY/SuosP/Jajr7F/jw/rXZuP5X0TT+MnlE/EYBPP2CPaT8Jwpk/OPa8P3J2Gz+Udj8/mwMZP/Z7hz/3tWg/z+KSPvqp6j7sXsw/kS9NP0wq7D95u9s+YJctP7eAEEA/hGs/P0NKP/GLXT8muWQ/9yc4P6iXWb3u94g/augsP4z4Xz+Gn8c+CtyxPzOplD5Ypiw/Ww1VP34iE0B+8xM+3lFnP9fVSD8=",
          "dtype": "f4"
         },
         "yaxis": "y"
        },
        {
         "customdata": [
          [
           "It was listed on the National Register of Historic Places in 1989, and was demolished sometime thereafter."
          ],
          [
           "Polar Bear was relaunched on 13 July 2013 by BBC newsreader and railway enthusiast Nicholas Owen, and is now in service sharing steam passenger duties at Amberley with the museum's 1917 Bagnall 0-4-0ST Peter."
          ],
          [
           "The solar park with 900,000 solar panels which went fully on line in October 2009, and will supply electricity for 15,000 households a year while reducing the use of pollution-generating fossil fuels."
          ],
          [
           "The company was founded in 1895 and is located in the neighborhood of Williamsburg."
          ],
          [
           "The property became part of the state parks system in 1970."
          ],
          [
           "Looking for Clancy was a 1975 television serial broadcast on BBC2."
          ],
          [
           "Initially regalities were a part of the system of government, delegated jurisdiction, but from the 14th century, the lords of regality frequently sought to usurp royal authority and establish semi-independent domains."
          ],
          [
           "She remained in service until 1744, when she was broken up."
          ],
          [
           "Joliet was founded in 1831, deemed an ideal place for a settlement to reap the local natural resources."
          ],
          [
           "Ltd, a family-owned company established in 1958."
          ],
          [
           "Conducted in its initial phase by a \"United Front Committee\" organized by the Trade Union Educational League of the Workers (Communist) Party, the strike began on January 25, 1926, and officially ended only on March 1, 1927, when the final mill being picketed signed a contract with the striking workers."
          ],
          [
           "A record crowd of 158,000 attended in 2003, before an advance-ticket-only admission policy came into force; attendance is now capped at 150,000."
          ],
          [
           "Bullbrook is one of the earlier estates of Bracknell and was built in the late 1950s."
          ],
          [
           "Almirante Condell was delivered to Chile in 1973."
          ],
          [
           "That pool has been expanded to $240 billion in 2012.The initiative began as a series of bilateral swap arrangements after the ASEAN Plus Three countries met on 6 May 2000 in Chiang Mai, Thailand, at an annual meeting of the Asian Development Bank."
          ],
          [
           "It is a 1-story, two-by-three-bay, frame building on a fieldstone foundation built about 1870."
          ],
          [
           "This is what became OS/8 in 1971.Other/related DEC operating systems were: OS/78, OS/278, OS/12."
          ],
          [
           "The county was established in 1415 after the Swiss conquest of the Aargau and was ruled as a shared condominium until 1798 when it became part of the short lived Canton of Baden."
          ],
          [
           "Gujarat State Handloom and Handicrafts Development Corporation Ltd is an agency of Government of Gujarat established in 1973 with the main objective of identification, revival, development of handicrafts and handlooms of Gujarat."
          ],
          [
           "She designed the jewelry worn by Michelle Obama to the inaugural ball in January 2009, now deposited in the permanent collection of the Smithsonian Institution."
          ],
          [
           "It opened on 28 March 1864 as \"Marton\", but was renamed \"Burton Constable\" on 1 August 1864, to avoid confusion with various other Martons elsewhere."
          ],
          [
           "WE tv announced in October 2012 that the series had been renewed for a ten episode second season, which debuted on June 6, 2013."
          ],
          [
           "Ahwahnee Heritage Days was originally held to celebrate the 75th anniversary of the Ahwahnee Hotel in 2002, and is brought back every year under various names."
          ],
          [
           "All eleven sides were recorded in Dallas, Texas in October 1929 and November 1930."
          ],
          [
           "According to the 2002 census, the village has a population of 1313 people."
          ],
          [
           "In 2015 Great Canadian Dollar Store was purchased by Kevin & Jane Kane of Quispamsis, NB."
          ],
          [
           "This Aerodrome was listed as permanently closed by NOTAM number 160284 issued by NavCanada in fall 2017."
          ],
          [
           "He married actress Hilda Anthony in 1913."
          ],
          [
           "In 1946, it relocated to a large loft on West 27th Street in Manhattan and then grew to a successful multimillion-dollar company."
          ],
          [
           "The current ferry boat, named No. 7, was built in 2006 and can carry up to 34 cars."
          ],
          [
           "The station simulcast the programming offerings of its co-owned station WHTG-FM until 1984, when the AM station began playing a big-band standards format while the FM station began featuring alternative rock."
          ],
          [
           "On 3 June 2006 Queen Beatrix of the Netherlands had visited the Mobarak Mosque to commemorate the building's 50th anniversary."
          ],
          [
           "There is a population for whom BMW did not allow renewal between March and December 2016, thus forcing them out of safety and security features."
          ],
          [
           "Much of the church was rebuilt in the English Decorated Gothic style during the 14th century despite financial problems within the abbey."
          ],
          [
           "October 2015 Aden missile attack occurred on 6 October 2015, when a group of attackers targeted the Al-Qasr hotel which housed the Vice President and Prime Minister of Yemen; and served as a de facto military base for the Arab Coalition and the Yemen Army units loyal to President Abd Rabbuh Mansur Hadi."
          ],
          [
           "Rock band Journey had enjoyed major success in the early 1980s, and Bally/Midway decided to ride this wave of popularity by creating an arcade game based on the group."
          ],
          [
           "The desktop Messages application replaced iChat as the native OS X instant messaging client with the release of OS X Mountain Lion in July 2012."
          ],
          [
           "The News was part of Kent Regional News and Media, owned since July 2007 by Northcliffe Media."
          ],
          [
           "It is the only Quaker weekly in the world, and has been published continuously since 1843."
          ],
          [
           "The show premiered on November 18, 2009 on History Television in Canada, in May 2011 on Quest in the UK, and on the National Geographic Channel in the US on April 22, 2011."
          ],
          [
           "The event took place from September 30 to October 12, 1969, at the Ciudad Deportiva Coliseum."
          ],
          [
           "At the time of the 2004 census, the commune had a total population of 7331 people living in 1475 households."
          ],
          [
           "After 20 episodes, however, it was canceled due to lack of merchandise connected to the series, with the final episode airing April 9, 2011."
          ],
          [
           "Following an electrical issue in 1999, the ride was closed indefinitely for a period of time."
          ],
          [
           "It was first raised on 16 August 1919 during the Polish uprising, before going on to serve during the subsequent war with the Bolsheviks."
          ],
          [
           "The Hanriot H.25 was a French, single-engined, six passenger airliner built in 1926."
          ],
          [
           "Founded in 1851, it has had many notable members and played an important early role in the history of mycology in Britain."
          ],
          [
           "It was discovered on 22 March 1999, by LONEOS program at Lowell's Anderson Mesa Station near Flagstaff, Arizona, United States."
          ],
          [
           "Its namesake bourbon brand, Buffalo Trace Kentucky Straight Bourbon whiskey, was introduced in August 1999."
          ],
          [
           "Freudenberg IT started as an IT spinoff in year 1995."
          ],
          [
           "It was established on September 1, 1962."
          ],
          [
           "The comic of the same name was published by American company WildStorm Productions, and ran from 2001 to 2002."
          ],
          [
           "The case was settled out of court in July 2011 after judge Ricardo S. Martinez denied Shah's motion for dismissal."
          ],
          [
           "A focus of Brass Tacks Press has been to publish books about the \"Lower Topanga\" artists community (bulldozed to make way for a state park in 2006), Malibu, and Downtown LA."
          ],
          [
           "The locomotive is notable as one of the four steam locomotives which worked the last steam railtour on British Railways (BR) in 1968."
          ],
          [
           "The game was removed from all digital stores in 2013."
          ],
          [
           "The school was founded in 1883."
          ],
          [
           "The canyon was formed by glaciers which retreated at the end of the last glacial maximum approximately 15,000 years ago."
          ],
          [
           "Alliance Boots had itself been formed in 2006 by the merger of Boots Group and Alliance UniChem on July 31, 2006."
          ],
          [
           "Paleographically it has been assigned to the 7th or 8th century."
          ],
          [
           "The game was released on October 13, 2016."
          ],
          [
           "The total population count was 14,009,429, representing a 21.8% increase over the 1941 Census population count of 11,506,655."
          ],
          [
           "On April 26, 2010, Atlantic Tele-Network acquired the remaining 26 divested Alltel markets, including licenses, network assets and 800,000 subscribers."
          ],
          [
           "This article presents lists of the literary events and publications in 1773."
          ],
          [
           "The concept of taxonomically categorizing trans women by sexual orientation originated with Magnus Hirschfeld in 1923, and was further posited by Harry Benjamin in 1966 as a component of the Benjamin scale."
          ],
          [
           "As of the 2010 census, the city population was 48."
          ],
          [
           "United! is a British television series which was produced by the BBC between 1965 and 1967, and was broadcast twice-weekly on BBC1."
          ],
          [
           "Since 2001 she has traveled extensively in Europe, finally returning to California in 2004."
          ],
          [
           "In 1912 Lord Kenyon assumed by Royal license the additional surname of Tyrell."
          ],
          [
           "In 1957, the task was carried out by a former Royal Air Force navigator."
          ],
          [
           "It first aired on the Fox network in the United States on January 10, 1999."
          ],
          [
           "Germany 1985 is a computer wargame published in 1983 by Strategic Simulations."
          ],
          [
           "It is of the Micro Four Thirds type and was introduced in January 2014."
          ],
          [
           "On 23 June 1941, Wolfram Freiherr von Richthofen's 8th Air Corps decimated the corps, operating as part of Western Front, when the 6th Cavalry Corps attempted a counterattack near Grodno."
          ],
          [
           "Physical Review is an American peer-reviewed scientific journal established in 1893 by Edward Nichols."
          ],
          [
           "On November 26, 1956 the law office of Darwish was closed by the government (but was re-opened soon afterwards, following protests)."
          ],
          [
           "The Canadian Association of Research Libraries (CARL) was established in 1976 and brings together thirty-one research libraries."
          ],
          [
           "On November 4, 2007, Dubois County returned to the Eastern Time Zone, after having moved to the Central Time Zone the previous year."
          ],
          [
           "The tribe is last mentioned in the late 10th century."
          ],
          [
           "After nationalization in 1948, another 200 were built by private contractors for British Railways (BR)."
          ],
          [
           "However some provisions have never come into force since the required statutory instruments were never passed by Parliament and considered to be \"shelved\" by 2014, and other sections were repealed."
          ],
          [
           "The Simple Gateway Control Protocol was published in several Internet Engineering Task Force (IETF) draft versions between May and July 1998 by Mauricio Arango and Christian Huitema, at Telcordia Technologies (formerly Bellcore)."
          ],
          [
           "In 1984, Gladding-Hearn became a licensee of designer Incat (now Incat Crowther), giving it access to designs for high speed catamaran vessels."
          ],
          [
           "Since 0.46, InfraRecorder is released under the terms of the GNU General Public License 3 and is free software."
          ],
          [
           "Since its foundation in 1990, the Korean Council has been operating on national and transnational stages."
          ],
          [
           "The earthfill dam is 6 meters high and records show it was constructed in the late 18th century."
          ],
          [
           "The ship was laid down by Permanente Metals in their Richmond Yard #2 on December 19, 1943, then launched on January 10, 1944."
          ],
          [
           "Originally established in 2000 by Hilary Browne-Wilkinson, a former solicitor at University College London, the Institute currently operates from offices in London and New York."
          ],
          [
           "The original Episcopal congregation worshiped about a half mile away in a 1786 building built on land donated by John Bull."
          ],
          [
           "In June 2015, the first test flight took place; the first customer deliveries were expected in 2018 but have slipped to 2019."
          ],
          [
           "The building was designed by Frank Shaver Allen."
          ],
          [
           "The Savoyard Club occupied the 27th floor of the Buhl Building from 1928 until its membership dwindled and the club closed in 1994."
          ],
          [
           "The show is now around 27 minutes long."
          ],
          [
           "It achieved diocesan status on June 21, 2011."
          ],
          [
           "She married Abbas I on 20 September 1604."
          ],
          [
           "After a 25-year hiatus, Tucker resumed publishing in 2000; these last 5 issues (also referred to as eZombie, but preserving the same numbering sequence) were electronically published as a webzine."
          ],
          [
           "The original product was developed and established in 1911 by Northam Warren Company, based in Stamford, Connecticut."
          ],
          [
           "After becoming overburdened with debt it was rescued by Hanson plc in 1991."
          ],
          [
           "This is a list of films produced in France in 1988."
          ],
          [
           "On January 29, 2015, Jagex announced that the game would be permanently closed effective immediately, following a security issue that took the game offline over a month earlier on December 22, 2014."
          ],
          [
           "Before she began filming her first scenes in early February 2013, Elmaloglou had to ask the producers to change the pronunciation of her character's name."
          ],
          [
           "Each episode is 11 minutes in length."
          ],
          [
           "It was established in 1960 and is published by Cambridge University Press."
          ],
          [
           "The park was established in July 2010 and is administered by the National Parks and Wildlife Service."
          ],
          [
           "They were given statutory status under the Industrial Development Act of 1995."
          ],
          [
           "The series debuted on Showtime on August 13, 2007 in the United States and ran for a total of 84 episodes over seven seasons."
          ],
          [
           "In March 2011, the ITU introduced a loudness gate in the second revision of the recommendation, ITU-R BS.1770-2."
          ],
          [
           "Archeological evidence shows human habitation in the watershed dating back to at least 8300 years."
          ],
          [
           "The apparent suicide of the Crown Prince in 1889 and the assassination of the subsequent heir in 1914 (considered one of the great causes of World War I) led to instability in the monarchy, perhaps contributing to its abolition at the end of the War in 1918."
          ],
          [
           "It was based on technology acquired from Dimension-X. A beta was released in 1998, and version 1.0 was released soon thereafter to compete with Macromedia Flash."
          ],
          [
           "In 1978 it was separated into four independent universities."
          ],
          [
           "It was released on August 31, 2004 in the United States and October 17, 2005 in the United Kingdom."
          ],
          [
           "The model, by then heavily outdated, was not a sales success and production ceased for a second and final time in 2011."
          ],
          [
           "It was acquired by the City Council in 1889."
          ],
          [
           "The Revolutionary Council of the People's Democratic Party of Afghanistan (PDPA) ruled the Democratic Republic of Afghanistan from 1978 until its collapse in 1992."
          ],
          [
           "During its final years before being sold the company was headed by Andrew Black from Armadale."
          ],
          [
           "It was first published as four installments in Analog from December 1987 to February 1988, and won the Nebula Award for Best Novel for 1988."
          ],
          [
           "The New Left Review is a bimonthly political academic journal covering world politics, economy, and culture which was established in 1960."
          ],
          [
           "The bridge is a girder bridge that opened in 1986 and is the sole roadway connecting the mainland to Banjul, with the only other method of entrance being a ferry from Barra."
          ],
          [
           "The series aired on CBS from March 31, 1995, to June 11, 1995."
          ],
          [
           "On 22 March 1988 the vessel was taken to Taiwan to be dismantled."
          ],
          [
           "Bleak House is BBC television drama first broadcast in 1985."
          ],
          [
           "The building was designed by architect Ellis Lawrence."
          ],
          [
           "It took its name from a fiberglass-bodied 1953 concept car."
          ],
          [
           "Fox Film Corp v. Doyal, 286 U.S. 123 (1932), was a United States Supreme Court case in which the Court held that states may tax copyright royalties, as they can patent royalties, because even though copyrights & patents are granted by the federal government, they are still private property subject to taxation."
          ],
          [
           "As a result primarily of irresponsible lending practices in connection with the sale of over $1 billion in \"loan participations\" to other banks throughout America, Penn Square Bank failed in July 1982."
          ],
          [
           "The company was created in June 2009."
          ],
          [
           "The station broadcasts on 690 AM (a clear channel frequency) and on 88.1 FM as CBU-2-FM."
          ],
          [
           "The theater was transformed into its current incarnation in 2008; become on of Tampa's premier live music and events venue."
          ],
          [
           "It also held a TL 9000 certification which it received from the QuEST Forum in May 2007."
          ],
          [
           "The flood, beginning on February 2, 2007 was a result of heavy rain, deforestation in areas south of the city, and waterways clogged with debris."
          ],
          [
           "The facility stands on the site of the former state reformatory, the Indiana House of Refuge, first established in 1867."
          ],
          [
           "He also worked with Buck Clayton in 1967."
          ],
          [
           "Official relations between Moldova and NATO began in 1992 when Moldova joined the North Atlantic Cooperation Council."
          ],
          [
           "It was released on July 10, 2015."
          ]
         ],
         "hovertemplate": "cluster=Media and Events<br>umap_x=%{x}<br>umap_y=%{y}<br>sentence=%{customdata[0]}<extra></extra>",
         "legendgroup": "Media and Events",
         "marker": {
          "color": "#FF6692",
          "symbol": "circle"
         },
         "mode": "markers",
         "name": "Media and Events",
         "orientation": "v",
         "showlegend": true,
         "type": "scatter",
         "x": {
          "bdata": "AkraQKzgz0Bt2MdAAcvhQMX/5UCQgPJAlgC9QN9K4EDZP9pAZ4XTQA6m3kAH9MlAHiHWQD8+4EAzacRAGhPZQCRI4UBLSd5AYnu0QDqNskCgAuNAoGLzQLTb3kBCc8pAA8vEQBnB40BgUNNAtpSfQEHv5UAYOdJATKjdQO7OqkAnetlAJaqnQIAIuUDCRulAZJXbQNDp20DIG+dA2o/zQJ065UCE7cVAViX3QGwc4kBW+OBAnvLEQI0Y4UBpetpAMR/oQN1q80Ab2OZA0njuQIk17UDCr9JAzNDQQHbK7kCqNuJAAJnaQMlj40Bjr9FAIIj3QJAbxkAjSOtADEzLQDDJzEDnaMZAcAXvQLxvlEDvhadAYeDcQJIv90DUg/FATuXjQI7XzUBkiNhAFobdQL7b00C32OhApFbTQFMkzUAWPdRAcNDlQF26skCwE+xA+gDXQLNu1ECyjd1AIxnUQB7xnkAzUfBA8QK8QDL8yEB8afhA2TzlQD1sh0APSeNAnr/tQK5c4ECwhuJAcA/qQLJP70DkePtAV2vlQP+H6EDZFNlApxv4QDpa30AxcNNAO7nMQLaJ8UAjVuJAfaP8QDyz6EApF+VANg+rQLI46UBQgvJAuDTaQMRi1UCF+/dA14HbQPBk70BEJrNADtvgQIIwxEBlcedAhH/pQGEbuUBw9dlAQ/nqQIBe2kBH1tlAwiizQK0Vy0B+Xv9A",
          "dtype": "f4"
         },
         "xaxis": "x",
         "y": {
          "bdata": "RCyyP3FllD+pY80/6dXGP4AZrD/1OFU/oPwRP5CdWD8kf9I/7oyaPyrBZD9j1+I/Wwu7Pxf0hT8pk4A/QvjEP5SFVj/aybY/4Z8AP+RvID+qLqM/uKIlP+26uz+nyqI/KE3oPy0Xqz+/oKE/YhPKv7gEpz/Nt7Q/b2cJP6yDHz9xLkg/FTlZP5QOeT/3RSC+TKHNPu3XQD+mysI+KGM+PwcXaz8RKN4/esE1P/Dbjz+R1IM/kFqzP6HQfD/HBms/SOSxP+hJTj/Q45s/2yuNPvXpRz/amPI8zsupP8pCzD7Up8k/hIrKP0E3gz9Z2L4/2dyOPnU66D9GCp8/1SiEvz0qfD7EF+0/XEsiP9ntnb8TjXk/1gloP1EvPT+Fkpc9DssoP6JpPT/C8x6+xAaqPyILgT9Xgn8/Rt6qP/J5lz+1sws/vTKPPgKNgb8cGwI9gMd1P02F4j9vgKs/+39WP6R8gT+GNhs/YjlxPykPkz9fyMc+A9GQPxgMi7/o3d49Yh2dPw2ikT/B8JG/pIcjP/tn9z7vicA+IbYYP1ebsT+c4Gs/wjQ1P4zw7j6yR9s/JL/5PueuwD5nyJQ/Nv1cPgbGND/6Uaw/0e5rPk5Zfj9GH8G8cnVRPqEu0T+HYFE/Z2WsP3gPVz/PZoI/9LWdP1k2jj7guKE/cXalP5HKtT94yls/XX7aPhFp1T/ILsw/bpMEwC/9/D687Aw+",
          "dtype": "f4"
         },
         "yaxis": "y"
        },
        {
         "customdata": [
          [
           "Inkuyo's namesake is a particular village in the Andes."
          ],
          [
           "Poniou or Ponjou is a hamlet west of Zennor in west Cornwall, England."
          ],
          [
           "Chandora is a Punjabi and Marwadi community living in Punjab, Rajasthan and scattered across India."
          ],
          [
           "The Treasure Valley is a valley in the western United States, primarily in southwestern Idaho, where the Payette, Boise, Weiser, Malheur, Owyhee, and Burnt rivers drain into the Snake River."
          ],
          [
           "Each installment revolves around the presence of giant, 30-foot-long man-eating crocodiles in the fictional location of Black Lake, Maine, and the efforts of various groups to capture or destroy the creatures."
          ],
          [
           "Assigned to the 5th Naval District and based at Norfolk, Virginia, Julia Hamilton served on patrol duties in the Chesapeake Bay during her naval career."
          ],
          [
           "It was published in the United States under the title Brian and Bob: the Tale of Two Guinea Pigs."
          ],
          [
           "The community has the name of the local Aldridge family."
          ],
          [
           "Research was also done at the University of Victoria, British Columbia, Canada."
          ],
          [
           "Originally, Bosanski lonac was made in ceramic pots and cooked in a fireplace or pit in the ground."
          ],
          [
           "This further solidified the status of Solano as the undisputed premier town of Cagayan Valley."
          ],
          [
           "Boiceville is a community in the Ulster County, New York, USA."
          ],
          [
           "Strangebrew is a reality situational comedy television show in the Philippines which formerly aired on UNTV Channel 37, People's Television Network and Studio 23."
          ],
          [
           "The large number of hollows found in Cooktown ironwoods at Kakadu National Park are also likely to be culturally modified trees (e.g. Taylor 2002 Figure 6.8)."
          ],
          [
           "RC Willey Home Furnishings (often called just RC Willey) is an American home furnishings company with stores in Utah, Idaho, Nevada and California."
          ],
          [
           "The caves were carved out before rock cut architecture begins in the Maharashtra."
          ],
          [
           "Mile End Delicatessen, is a Jewish deli in Boerum Hill, Brooklyn which opened in 2010 and is named after the neighborhood in Montreal, Quebec, Canada."
          ],
          [
           "STIKes Kapuas Raya (Indonesian: STIKes Kapuas Raya) or STIKes Kapuas Raya is a public university located in the city of Sintang in West Kalimantan, Indonesia."
          ],
          [
           "Baghial are a tribe of Punjab, Pakistan."
          ],
          [
           "Udpura is a census town in Kota District in the Indian state of Rajasthan."
          ],
          [
           "Kosacan (also, Kosadzhan, Kasadzhan and Kosakan) is a village and municipality in the Sharur District of Nakhchivan Autonomous Republic, Azerbaijan."
          ],
          [
           "Denmark Township is one of the twenty-seven townships of Ashtabula County, Ohio, United States."
          ],
          [
           "Earl of Kintore is a title in the Peerage of Scotland."
          ],
          [
           "Archeologist Stephen H. Lekson has proposed that they might have been the palaces of Puebloan royalty, particularly those found at Chaco Canyon."
          ],
          [
           "Battle of Donur was a battle fought between the Chola army under Raja Raja Chola I and the Western Chalukya king Satyashraya at the town of Donur in Bijapur district, Karnataka, in southern India, in 1007."
          ],
          [
           "Baunsanali, Dudhanali, Sanabaliposi, Sunariposi are the nearby villages to Machhagarh."
          ],
          [
           "Kalamazoo County is a county located in the U.S. state of Michigan."
          ],
          [
           "Hackett Publishing Company, Inc. is an academic publishing house based in Indianapolis, Indiana."
          ],
          [
           "In the mid-1960s, Pete Dye initially requested Nicklaus' advice for the design of The Golf Club in suburban Columbus, Ohio."
          ],
          [
           "Kokernag is a sub-district town and a notified area committee in Breng Valley (The Golden Crown of Kashmir), Anantnag district in the Indian administered state of Jammu & Kashmir."
          ],
          [
           "The Sutton Formation is a geologic formation in British Columbia."
          ],
          [
           "The college is operated by Wootton Academy Trust, who also operate Wootton Upper School."
          ],
          [
           "Providence Township is a township in Lac qui Parle County, Minnesota, United States."
          ],
          [
           "Its county seat is Lillington, and its largest city is Dunn."
          ],
          [
           "Chocolate Bayou is an Unincorporated community in Brazoria County, Texas, United States."
          ],
          [
           "Layana is a municipality located in the province of Zaragoza, Aragon, Spain."
          ],
          [
           "The second generation Pilot is also marketed in Russia, Ukraine, and in the Dominican Republic."
          ],
          [
           "Hot Lips Pizza is a chain of pizza restaurants in the Portland, Oregon, area."
          ],
          [
           "The National Consumer Law Center (NCLC) is an American nonprofit organization headquartered in Boston, Massachusetts, specializing in consumer issues on behalf of low-income people."
          ],
          [
           "The Provincial Party of British Columbia (PROV) was a political party in British Columbia, Canada."
          ],
          [
           "Currently, the valley comprises approximately ten settlements, each housing between three and eight families."
          ],
          [
           "Other island groups in the vicinity include the Aiyohok Islands, Akvitlak Islands, Bate Islands, Duke of York Archipelago, Nauyan Islands, Outcast Islands, and Sisters Islands."
          ],
          [
           "The Chickasha Express Star is a three-day daily newspaper in Chickasha, Oklahoma."
          ],
          [
           "Lakarka is a neighborhood in Dhanbad in Jharkhand state, India."
          ],
          [
           "The Real Housewives of Potomac (abbreviated RHOP) is an American reality television series that premiered on January 17, 2016, on Bravo."
          ],
          [
           "Capitol Beaver Family is a 1985 bronze sculpture depicting three beavers by artist Kenneth M. Scott, installed outside the Oregon State Capitol, in Salem, Oregon, United States."
          ],
          [
           "The Khlout is a Moroccan Arabian tribe of Jacham, of the Banu Hilal confideracy."
          ],
          [
           "This is the home of different ethnic groups, like Brahmin, chhetry, magar and so on."
          ],
          [
           "El Milagro District is one of seven districts of the province Utcubamba in Peru."
          ],
          [
           "The flag of Liguria is one of the official symbols of the region of Liguria, Italy."
          ],
          [
           "The PS Emmylou, also based at Echuca, starred as the PS Providence in the series."
          ],
          [
           "Kobrow is a municipality in the Ludwigslust-Parchim district, in Mecklenburg-Vorpommern, Germany."
          ],
          [
           "Brahmaputra Valley Film Festival is a homage to the rich culture of Northeast India."
          ],
          [
           "Oregon Community Credit Union, which was founded as Lane Federal Credit Union and then was called U-Lane-O Credit Union from 1981 to 2003, is a credit union based in Eugene, Oregon, USA, owned by more than 100,000 members."
          ],
          [
           "Liberty Fork is an unincorporated community in Caroline County, in the U.S. state of Virginia."
          ],
          [
           "The Virginia Housing Development Authority (VHDA) is a self-supporting, not-for-profit organization created by the Commonwealth of Virginia in 1972, to help Virginians attain quality affordable housing."
          ],
          [
           "Harbour Cruise Bauhinia is a sightseeing and dining cruise in Victoria Harbor, Hong Kong."
          ],
          [
           "Irene Koh is a comics artist from Seoul, South Korea."
          ],
          [
           "The river was named for Joseph Brazeau, a linguist associated with the Palliser Expedition."
          ],
          [
           "Geographically isolated, facing population pressures and having sparse resources, Burundi has the lowest GDP per capita in the world, arguably making it the poorest country on the planet."
          ],
          [
           "Plan-les-Ouates is a municipality of the canton of Geneva in Switzerland."
          ],
          [
           "Pasco High School is a high school in Dade City, Florida, United States."
          ],
          [
           "Boundaries of EKD churches within Germany partially resemble those of the states of the Holy Roman Empire and successor forms of German statehood (to the most part 1815 borders), due to the historically close relationship between individual German states and churches."
          ],
          [
           "Cope is a town in Orangeburg County, South Carolina, United States."
          ],
          [
           "Lihir Gold Limited was a gold mining company with operations in Papua New Guinea, Australia and West Africa."
          ]
         ],
         "hovertemplate": "cluster=Geographical and Cultural Information<br>umap_x=%{x}<br>umap_y=%{y}<br>sentence=%{customdata[0]}<extra></extra>",
         "legendgroup": "Geographical and Cultural Information",
         "marker": {
          "color": "#B6E880",
          "symbol": "circle"
         },
         "mode": "markers",
         "name": "Geographical and Cultural Information",
         "orientation": "v",
         "showlegend": true,
         "type": "scatter",
         "x": {
          "bdata": "KqNvQPtrgUA67H1Ar2iFQJUObkCEWZFAYzPtQLSSn0AHHI9Am2SGQGtphEDFCIBAgLLeQPjBeEA+O7dADj2BQBiAhECyn4dAgYNyQBXXfECpXXJAe0SDQHpnjEAjn5FABSV9QCO1gkDJ+YNAOSW3QAhgkkCjhXVAXHCLQOxVkUC6uIJAO36DQF9rfkCs03RATYeZQBkfoECW3YdACO6NQLMSvUBTRZJAw4+YQPQxekAEf+dAa5i5QEVUdUD7CIJAhq1oQM7AZUCNU5NASnBsQIAlgkBE3qVAnwOEQFSor0DT6o5AJUZ5QCLYlkCmm51AccJkQH8gjkA29ptAKLZ9QCdQmkA=",
          "dtype": "f4"
         },
         "xaxis": "x",
         "y": {
          "bdata": "vvprP4YX1T/vcQY/BRnKP5iyuT8OQ9W+kE0xPuWVgj/c8NS+kD8yPlvKhz88WdQ/kfSHPpStnT9UWmA/odQgP5ohuD9ml/A+qdoDP6m5Nz+yCAE/MKDTP4U0gT/ICRw/IXPXPgV7Pj+0dNI/GxuvvxS3Lj6vuUE/ljIDP78HNbyJJtQ/JRfmPxk83z/v3II/m7b9PhJEXj96ZnO+y0MbvsVB7T8ntZM/SU2JP/ptNz+Bb9s+j5UuPy/LJj+J0rY+6ImAP8vucz8Vcb88nJNpPzKZMT/wWVc/HwDnP2f+qD7HIQY/BVkUPuxcrT9wW4E/XlGlP1MJJD95kys/NOi6P9ZUCkA=",
          "dtype": "f4"
         },
         "yaxis": "y"
        },
        {
         "customdata": [
          [
           "The DCA operates within the New Jersey Department of Law and Public Safety in the office of the New Jersey Attorney General."
          ],
          [
           "Traffic was directed over the single-lane structure by means of traffic signals located at both ends of the bridge."
          ],
          [
           "In the center of the village is the church of St Michael & All Angels and Awliscombe C of E Primary School."
          ],
          [
           "Largo di Torre Argentina is a square in Rome, Italy, with four Roman Republican temples and the remains of Pompey's Theater."
          ],
          [
           "Davison died in Ottawa."
          ],
          [
           "It was formerly in the Barkston Ash wapentake in the West Riding of Yorkshire."
          ],
          [
           "It lies along State Highway 44, between the cities of Corpus Christi and Robstown."
          ],
          [
           "Catholics call it the \"Mother Church of the city of York\"."
          ],
          [
           "Its terrestrial digital signal is transmitted from Crystal Palace in South London."
          ],
          [
           "MV Cenwulf was one of Wightlink's 'C' class vehicle and passenger ferries on their route from Lymington to Yarmouth on the Isle of Wight."
          ],
          [
           "The gene is located on chromosome 17p13.1, on the reverse strand spanning bases 6578141 to 6641744."
          ],
          [
           "The Diocese of Lagos West is one of the 13 dioceses of the Anglican Province of Lagos, in the Church of Nigeria (Anglican Communion)."
          ],
          [
           "The entrance to the train station on Toorak Road is to be widened and the layout changed to make the station larger."
          ],
          [
           "Santa Maria di Canepanova is a Renaissance style Roman Catholic church located in central Pavia, region of Lombardy, Italy."
          ],
          [
           "It is located at the junction of SH1 and SH12 between Whangarei and Wellsford, and a narrowing of the North Auckland Peninsula between Bream Bay and the upper branches of the Kaipara Harbor."
          ],
          [
           "WIJD (1270 AM) is a radio station licensed to the community of Prichard, Alabama, United States, and serves the greater Mobile, Alabama, area."
          ],
          [
           "The South Central Railway Zone of the Indian Railways administers this train."
          ],
          [
           "While it is in the New Windsor ZIP Code, it is located off NY 94 just inside the Cornwall town line."
          ],
          [
           "Northolt Rugby Football Club (or Northolt RFC) are an English rugby union club, based at Cayton Park, Greenford in West London, that compete in Middlesex Merit Table 4."
          ],
          [
           "The neighborhood of Hannam-dong is home to various nations' embassies in Korea, and many can be accessed from this station, with the closest being the embassy of Slovakia."
          ],
          [
           "Millington Municipal Schools is an educational district serving Millington and the \"Millington Reserve\", an unincorporated area in Shelby County, both within the Greater Memphis area of Tennessee, United States."
          ],
          [
           "The adjacent sections of South Brunswick and North Brunswick, Middlesex County on the east side of Route 27 are also known as Franklin Park, but are not included within the CDP's boundaries."
          ],
          [
           "Rolleston on Dove was served by a railway station which was opened by the North Staffordshire Railway on 1 November 1894."
          ],
          [
           "Outtrim was the terminus station on the Outtrim railway line."
          ],
          [
           "Jackson Square station is a rapid transit station in Boston, Massachusetts."
          ],
          [
           "Is located in Mission, British Columbia, in the central Fraser Valley, about 80 kilometers east of Vancouver."
          ],
          [
           "Kranti Road Transport is a transportation company in the Indian state of Andhra Pradesh."
          ],
          [
           "Most notable is the appearance of the Floating Market at Harrods (in the novel) rather than under Battersea power station (the TV series)."
          ],
          [
           "Grove House School was a Quaker school in Tottenham, United Kingdom."
          ],
          [
           "It is located near Nam Co lake."
          ],
          [
           "The airport serves the nearby Argyle Diamond Mine."
          ],
          [
           "It is located in Kristiansand, Norway."
          ],
          [
           "Carrizal is a municipality located in the department of Chalatenango in the North of El Salvador."
          ],
          [
           "Being only known from its type locality near Tura in the Garo Hills in Meghalaya, northeastern India, it is an Indian endemic."
          ],
          [
           "It is found in North America, where it has been recorded from Arkansas, Illinois, Kentucky, New York and Ohio."
          ],
          [
           "Licensed to Wichita, Kansas, United States, the station serves the Wichita area."
          ],
          [
           "It was set at the heart of the South Yorkshire Coalfield, at Wath-upon-Dearne, approximately halfway between Barnsley and Doncaster, in the United Kingdom."
          ],
          [
           "Sarrant is a commune in the Gers department in southwestern France."
          ],
          [
           "The North Western Gas Board was a state-owned utility area gas board providing gas for light and heat to industries and homes in the north-west of England."
          ],
          [
           "It is found in Trinidad and Tobago and Paria Peninsula, Venezuela."
          ],
          [
           "It lies approximately three and a half miles northwest of Stonehaven in the former county of Kincardineshire."
          ],
          [
           "It contains a fumarole field, named Gayolesten."
          ],
          [
           "The two stations share studios on Television Circle in downtown Sacramento; KCRA's transmitter is located in Walnut Grove."
          ],
          [
           "The school, which serves grades 9 through 12, is a part of the Shelby County Schools district."
          ],
          [
           "End is a hamlet in County Durham, England."
          ],
          [
           "The Rhodes Footbridge is an ancient Greek arch bridge in the city of Rhodes, Greece."
          ],
          [
           "Owned by Charles, Prince of Wales as part of the landholdings of the Duchy of Cornwall, the site is managed by English Heritage."
          ],
          [
           "The route between Woodside and Addiscombe has now become Addiscombe Railway Park and the site of Addiscombe station has become East India Way housing development."
          ],
          [
           "Sky Pilot Creek is a river in the Hudson Bay drainage basin in Northern Manitoba, Canada."
          ],
          [
           "It is found in Ghana (the Volta Region), western Cameroon and the Democratic Republic of the Congo (the Pania Forest)."
          ],
          [
           "The New Jail (also sometimes known as The Old City Jail) is in Cumberland Road, Spike Island, Bristol, England, near Bristol Harbor."
          ],
          [
           "This area was a major trading and agricultural area."
          ],
          [
           "Formerly privately operated by Triboro Coach Corporation, the route is now city-operated under the MTA Bus Company brand of MTA Regional Bus Operations."
          ],
          [
           "WSLU (89.5 FM) is a radio station licensed to Canton, New York."
          ],
          [
           "Cherry Street is carried over the waterways of the Port Lands by Toronto's only two lift bridges ."
          ],
          [
           "It is native to northern South America and the West Indies."
          ],
          [
           "Warwickshire County Council in England is elected every four years."
          ],
          [
           "It was one of few cyclecars produced in Central Europe."
          ],
          [
           "It lies to the east of Mandung."
          ],
          [
           "This is a list of the National Register of Historic Places listings in Grainger County, Tennessee."
          ],
          [
           "On March 10, 2015, the station moved to Rochester Hills, Michigan (a suburb of Detroit) and signed on at 90.3 MHz with an effective radiated power of 37 watts."
          ],
          [
           "This road is named after the indian freedom fighter Karnad Sadashiva Rao."
          ],
          [
           "The Quemahoning Tunnel is a tunnel that was constructed for use on the stillborn South Pennsylvania Railroad."
          ],
          [
           "Route 301 is a collector road in the Canadian province of Nova Scotia."
          ],
          [
           "On leaving the station, the line continued its punishing climb across the thirteen arch Duke's Drive Viaduct on its way to Harpur Hill thence to Beswick's Sidings, where the gradient eased to 1 in 330 as far as Hindlow."
          ],
          [
           "It is one of 21 civil parishes in the historical barony of Eliogarty."
          ],
          [
           "It is found in the wet zones of Sri Lanka."
          ],
          [
           "The Battle of Methven took place at Methven, Scotland on 19 June 1306, during the Wars of Scottish Independence."
          ],
          [
           "The Halbammer is a river in Bavaria, Germany."
          ],
          [
           "Yarde Halt railway station was an intermediate halt on the initially privately run North Devon and Cornwall Junction Light Railway, constructed in 1925 to serve clay works along its route."
          ],
          [
           "Sims Chapel (also Darrah, Grandfield) is a census-designated place and unincorporated community in Washington County, Alabama, United States."
          ],
          [
           "It is separated from Loch Voil to the east by a small channel."
          ],
          [
           "On its way south from Bath the A36 passes a number of towns and a city, including Warminster, Wilton and Salisbury in Wiltshire, and Totton in Hampshire, on the western outskirts of Southampton, where it joins the A35."
          ],
          [
           "This article describes the New Jersey town."
          ],
          [
           "It lies on the western shore of the Loch of Clunie."
          ],
          [
           "The Archdeacon of Taunton has been, since the twelfth century, the senior ecclesiastical officer in charge of the archdeaconry of Taunton in the Diocese of Bath and Wells (in the ni Church of England)."
          ],
          [
           "At Portage-du-Fort there is a dam, the Chenaux Hydro-Electric Power Station, and bridge across the Ottawa River."
          ],
          [
           "The village, sited on the A43 road, is compact in form, with the older part of the village located north of the High Street."
          ],
          [
           "It is indigenous to the western part of the Little Karoo, in the Western Cape, South Africa."
          ],
          [
           "Tamayo is the driest location in the Dominican Republic and the only-one with a desertic climate."
          ],
          [
           "It was shot in various locations in Oakland, California and at Oakland Technical High School."
          ],
          [
           "Maplewood is located along Beechnut, Hillcroft, and Renwick."
          ],
          [
           "Ross Tower is a 45-story high-rise in Downtown Dallas, Texas."
          ],
          [
           "Many Anglican churches are of Anglo-Saxon or Norman architecture."
          ],
          [
           "The School is located in Durham, North East England and was an all-boys institution until becoming fully coeducational in 1985."
          ],
          [
           "Zion Lutheran Church and Graveyard is a historic church on Rosanna Street in Hummelstown, Pennsylvania, USA."
          ],
          [
           "Plenty is located equidistant among Kindersley, Biggar, Kerrobert and Rosetown and approximately 150 kilometers southwest of the city of Saskatoon."
          ],
          [
           "Gravesend Cemetery is a historic cemetery at Gravesend Neck Road and McDonald Avenue in Gravesend, Brooklyn, New York, New York."
          ],
          [
           "Unterentfelden is a municipality in the district of Aarau of the Canton of Aargau in Switzerland."
          ],
          [
           "The archdiocese of Santa Severina was a Roman Catholic ecclesiastical territory in Calabria, southern Italy, that existed until 1986."
          ],
          [
           "The 12-mile-long riverine reservoir it creates has a normal water surface of 5.5 square miles, a maximum capacity of 150,000 acre-feet, and normal storage of 69,400 acre-feet."
          ],
          [
           "There is access from roads including Bucksford Lane."
          ],
          [
           "Vanchinad Express is an intercity express train running between Thiruvananthapuram and Ernakulam in the state of Kerala, India."
          ],
          [
           "They are distributed in Southeast Asia, Malesia and Australia."
          ],
          [
           "Located between the Woronora River and Forbes Creek it holds the suburb of Woronora Heights."
          ],
          [
           "Watson's Mill is an historic flour and gristmill in Manotick, Ontario, Canada."
          ]
         ],
         "hovertemplate": "cluster=Geographical Locations and Radio Stations<br>umap_x=%{x}<br>umap_y=%{y}<br>sentence=%{customdata[0]}<extra></extra>",
         "legendgroup": "Geographical Locations and Radio Stations",
         "marker": {
          "color": "#FF97FF",
          "symbol": "circle"
         },
         "mode": "markers",
         "name": "Geographical Locations and Radio Stations",
         "orientation": "v",
         "showlegend": true,
         "type": "scatter",
         "x": {
          "bdata": "TC6hQN0qokCI/o5Avm58QAgykkDOOpFAfdmEQEMwj0AXgJpAPrqaQE4mkUCNcYZAbRCbQNfkgEDhiIpAObevQEnykECueY9AtBh1QIlyikArjoVAmeSIQMjhqUCUHaFA8P2gQDaojEC3J4tA8y6jQHRNkUDJYYZAluqeQD3GhkBygmtA/dqBQNpIjEAWHqlAGYaVQJVWgkBAUqlAW06MQD96ikDYn6BAubikQGunhUBjgYZAtjCPQComokCCdZRAiqKSQK1ciEBRqItA0ROlQFvamEC9p61AKwKZQLLpjUDEE41A0KWZQMFphkCDtYVAyF+sQEBdiUBfUIxAP8OMQBfLlkBoU4RAAK2KQCHwoEBnZ35A4VClQG0pi0AfMIxAFnOVQPjhmECoSYdAET2MQI0JmkDv85VA2M58QKqNiUCcH5xAf1CNQOYxtUBWZpdAr0GRQALmiEAXVY9AmySJQEBAakAdZYBALRi3QCkElkD79IdAmb6UQCmbg0CiDJJA",
          "dtype": "f4"
         },
         "xaxis": "x",
         "y": {
          "bdata": "x0YdvrwDxj+11Zw/xgWLP9zjrD+WYNA/k54FQANpfT/j28w/WyqgP1O3FEDXDoo/+zzPP7U7gz8gmwJADHucP+Zdij8KqANAmHc1v2/WLT/QRss/LdrpPxl30T8T+bo/UYOuPw6vuD/jqEw/TRK1Pzrubz/dKwdA9uX1P07WA0CC9pU/koD9P3jDEkCk06k/HjztPx0BSz+djHI/CuoJQDObB0DkMgBAcDazP5bDpD891LU/Z055Pw2FnD9vRsY/pSO4Pwl1CEBy19w/5vjLPxLPYj8ksas/MwXAP1rbEUAmiZ8/fxkIQGUlDUDvLOA/bLC1P747Gj8ikbU/22HaP94K1D+4iZk/yY8JQLPw2D90fpg/rPfbP9m8pz/Rs/k/7a/nP/xX7j9jPgFAh3s3P38wwj+M2/0/orz0P6hLmT9PQuU/y0X+PzbEiz+wX1k/hMSAPyYbnz8PF/c/zMPEP/0Zpj9THXM/8l0JQMv+3z9M5T4/m/oSQPx9B0C7luQ/",
          "dtype": "f4"
         },
         "yaxis": "y"
        },
        {
         "customdata": [
          [
           "Jean-Paul Philip Coussan, known as JP Coussan (born August 1978), is an American lawyer, small business owner and Republican politician from Lafayette, Louisiana, who has since 2016 represented District 45 in the Louisiana House of Representatives."
          ],
          [
           "Abraham Sarkakhyan (born 23 June 1986) is an Armenian alpine skier."
          ],
          [
           "Alana I. Capria (born 1985) is an American writer."
          ],
          [
           "Nick Brett is an English lawn and indoor bowler."
          ],
          [
           "Jeff Ferguson (born July 23, 1969) is a Canadian former professional ice hockey and roller hockey goaltender."
          ],
          [
           "Robert Emmet Chambers, Jr. (born September 25, 1966), nicknamed the \"Preppie Killer\" by the media, is an American criminal."
          ],
          [
           "She was born in Nassau."
          ],
          [
           "Patience Akyianu is a Ghanaian Banker and the managing director of Barclays Bank Ghana."
          ],
          [
           "Keegan Brown (born 5 November 1992) is an English darts player who plays in Professional Darts Corporation events."
          ],
          [
           "Shen Show-len (born October 18, 1978), better known by her stage name Showlen Maya (or Xiulan Maya), is a Taiwanese singer of Han Chinese (father) and Bunun (mother) descent."
          ],
          [
           "Givi Ioseliani (born 25 October 1990 in Tbilisi) is a Georgian football player who currently plays for Meshakhte Tkibuli."
          ],
          [
           "Robert William Finn (born April 2, 1953) is a bishop of the Roman Catholic Church."
          ],
          [
           "ASC Agouado is a French Guianese football team based in Apatou that plays in the French Guiana Championnat National."
          ],
          [
           "Thomas L. Brodie, OP (born 1943) is a Dominican priest and writer."
          ],
          [
           "His father was Dutch and his mother English."
          ],
          [
           "Rufus French (born March 15, 1978) is a former American football tight end who played college football at the University of Mississippi and attended Amory High School in Amory, Mississippi."
          ],
          [
           "Don McKay, CM (born 1942) is a Canadian poet, editor, and educator."
          ],
          [
           "Carlo Peretti (born March 5, 1930) is an Italian water polo player who competed in the 1952 Summer Olympics."
          ],
          [
           "Agnar Sandmo (born 9 January 1938) is a Norwegian economist at the Norwegian School of Economics."
          ],
          [
           "Jacob Micflikier (born July 11, 1984) is a Canadian professional ice hockey forward who is currently playing for EHC Biel in the Swiss National League A (NLA)."
          ],
          [
           "Jefferson Bellaguarda (born 12 September 1976) is a Swiss male beach volleyball player."
          ],
          [
           "Simone Egeriis (born 28 January 1992), better known as simply Simone, is a Danish pop singer."
          ],
          [
           "Teenstra belonged to a prosperous Frisian farming family, and was the son of Douwe Martens Teenstra and Jantje Luies Dijkhuis."
          ],
          [
           "Bob Weissenfels (born April 21, 1968) is an American bobsledder."
          ],
          [
           "Sam Valcke (born 16 December 1992) is a Belgian footballer who plays with Belgian football association Lommel as a striker."
          ],
          [
           "Alfred Robert Morgan (born 1879) was an English professional footballer who played as a center-half."
          ],
          [
           "Oskar Johansson (born 23 June 1977) is a Canadian world class sailor from Toronto."
          ],
          [
           "Norlandair is an Icelandic airline."
          ],
          [
           "WCGR (1550 AM) is a radio station broadcasting a classic rock format, simulcasting WLLW 101.7 FM Geneva, New York."
          ],
          [
           "Rear-Admiral Scott Edward George Bishop CMM CD is an officer in the Royal Canadian Navy, currently serving as the commander of the Canadian Forces Intelligence Command."
          ],
          [
           "Paul Martin Brakefield FRS (born 31 May 1952, Woking) is a British evolutionary biologist and Professor of Zoology at the University of Cambridge, where he is also director of the Museum of Zoology and Fellow of Trinity College."
          ],
          [
           "Wetherell (born 24 December 1808, Westbury-on-Severn, Gloucestershire; died 7 February 1887, Pashley Moor, Ticehurst, Sussex) was an English cricketer with amateur status."
          ],
          [
           "Jean Bertolino (born 31 March 1936 in Marseille) is a French journalist and writer."
          ],
          [
           "Hasnaa Lachgar (born 27 September 1989) is a Moroccan boxer."
          ],
          [
           "Ambrose Avellano (born 1951) is an artist from Gibraltar."
          ],
          [
           "Bob Barr (born 9 July 1945) is a former Australian rules footballer who played with Footscray in the Victorian Football League (VFL)."
          ],
          [
           "Nathan Joel \"Nate\" Marquardt (born April 20, 1979) is an American retired mixed martial artist who was known to have competed in the middleweight and welterweight division of the Ultimate Fighting Championship."
          ],
          [
           "The following is a list of paintings by the 17th century French painter Valentin de Boulogne."
          ],
          [
           "Rita Ciresi (born in New Haven, Connecticut) is an Italian-American short story writer, and novelist."
          ],
          [
           "Meryl Danielle Cassie (born 2 April 1984) is a New Zealand actress and singer."
          ],
          [
           "Cox FRHistS (born 3 June 1965) is a New Zealand-born lawyer, legal scholar, and Anglican priest."
          ],
          [
           "Joanne McLeod is a Canadian figure skating coach."
          ],
          [
           "David Murphy (born 23 August 1962) is a former Australian rules footballer who played with the Sydney Swans in the Victorian/Australian Football League (VFL/AFL)."
          ],
          [
           "Ian Stanley (born 11 January 1963) is a Jamaican former cyclist."
          ],
          [
           "Christopher Nicholas Parsons CBE (born 10 October 1923) is an English radio and television presenter and actor."
          ],
          [
           "Olowofela (born 17 April 1998) is an English Rugby Union player who plays center or wing."
          ],
          [
           "Kevin Ernest Weldon AM (born 1933) is an Australian book publisher, businessman, aviator and philanthropist."
          ],
          [
           "MacGlashan is a Republican who was elected to the non-partisan Board in November 2004."
          ],
          [
           "POP Montreal is an annual music festival occurring in Montreal, Quebec, Canada, in the early fall, usually at the end of September or the beginning of October."
          ],
          [
           "Knight was drafted with the 29th overall pick in the first round of the 1996 NBA draft by the Chicago Bulls."
          ],
          [
           "Chris Thompson (born May 9, 1994) is an American football wide receiver for the Houston Texans of the National Football League (NFL)."
          ],
          [
           "Montour was selected by the Ducks in the second round, 55th overall, of the 2014 NHL Entry Draft."
          ],
          [
           "Raymond Zarpanelian (born 17 May 1933 in Paris, France; died 29 March 2011 in Paris, France) was an Armenian-French football coach who was last known to have been based at Al-Ansar in Saudi Arabia."
          ],
          [
           "Tookoome (December 9, 1934, Chantrey Inlet - November 7, 2010 Baker Lake) was an Utkusiksalingmiut Inuk artist."
          ],
          [
           "In four seasons with the Eagles, Alberts was named Hockey East's Best Defensive Defenseman and was a two-time NCAA All-American."
          ],
          [
           "Arnold was born near Hubbardton, Vermont, the date seems to be disputed."
          ],
          [
           "Abby Dobson (born 1969) is an Australian singer and musician."
          ],
          [
           "Necati \"Neco\" Arabaci (born 14 February 1972 in Cologne) is a Turkish businessman, criminal and high-ranking member of the Hells Angels, who was formerly active in Cologne, Germany and now lives in Turkey."
          ],
          [
           "James Elliot-Square (born 22 May 1983) was an English cricketer."
          ],
          [
           "George J. Prokopiou (born 1946) is a billionaire Greek shipowner, founder of Dynacom Tankers, Sea Traders and Dynagas."
          ]
         ],
         "hovertemplate": "cluster=Notable Individuals and Biographies<br>umap_x=%{x}<br>umap_y=%{y}<br>sentence=%{customdata[0]}<extra></extra>",
         "legendgroup": "Notable Individuals and Biographies",
         "marker": {
          "color": "#FECB52",
          "symbol": "circle"
         },
         "mode": "markers",
         "name": "Notable Individuals and Biographies",
         "orientation": "v",
         "showlegend": true,
         "type": "scatter",
         "x": {
          "bdata": "plWEQFlJSEDWqmxAEqdrQB/NUEBCpFhA7jWFQNBHWECkV2ZAMnJxQGToVUDPnWhAE6lHQDjsX0DFrIBATDRYQDkGfECc60xA7blIQASyWUBb8UxA4ehiQO+8gkDqTU1AbY5MQMykVUAS0kdAafuDQD+JrEAAgoBA5XJxQHWxYUA/VUhABAhWQHfGP0ACe1tAyE1hQIsVv0AoCXJAGMpmQNlaWEDHQ3RAVjFUQHbQXkCnHmlAzRdLQOYeV0CKwIlAEkhnQO1ebUDOwF1ASr9oQJY3SEDGy2dAyjJjQN+RX0D/SVVAElBNQJLTWUByuF1A",
          "dtype": "f4"
         },
         "xaxis": "x",
         "y": {
          "bdata": "B900v8GAMb/XQB2/cEebvzlxcb+MEX6/DBiEv79hKb4uDom/gdEOv+72M7/SKiu/+LaUv/kWaL98QoG/T5iNv+lXXb9Yi36/gEz9vuftZr9KMky/5KEDv8tb5b4xiWm/bjGBv/tgq7801lO/i0XtPdW6rj9Mr1C/dUY9v/k6WL9yHhi/72Mnv+7xF78h17q/C4WAv6gIZL9kZfC+Qi40v8BRXL/wH3a/vF7Cv6g/Tr/A9VC/8imOvyNASb99fn+/+Jpyvks5sr+pupq/a2qtv2qKar89+ci+vwrVv+bVdr8NmlS/dGLdvjFyk7+A9vm+",
          "dtype": "f4"
         },
         "yaxis": "y"
        }
       ],
       "layout": {
        "autosize": false,
        "height": 400,
        "legend": {
         "title": {
          "text": "cluster"
         },
         "tracegroupgap": 0
        },
        "margin": {
         "t": 60
        },
        "template": {
         "data": {
          "bar": [
           {
            "error_x": {
             "color": "#2a3f5f"
            },
            "error_y": {
             "color": "#2a3f5f"
            },
            "marker": {
             "line": {
              "color": "#E5ECF6",
              "width": 0.5
             },
             "pattern": {
              "fillmode": "overlay",
              "size": 10,
              "solidity": 0.2
             }
            },
            "type": "bar"
           }
          ],
          "barpolar": [
           {
            "marker": {
             "line": {
              "color": "#E5ECF6",
              "width": 0.5
             },
             "pattern": {
              "fillmode": "overlay",
              "size": 10,
              "solidity": 0.2
             }
            },
            "type": "barpolar"
           }
          ],
          "carpet": [
           {
            "aaxis": {
             "endlinecolor": "#2a3f5f",
             "gridcolor": "white",
             "linecolor": "white",
             "minorgridcolor": "white",
             "startlinecolor": "#2a3f5f"
            },
            "baxis": {
             "endlinecolor": "#2a3f5f",
             "gridcolor": "white",
             "linecolor": "white",
             "minorgridcolor": "white",
             "startlinecolor": "#2a3f5f"
            },
            "type": "carpet"
           }
          ],
          "choropleth": [
           {
            "colorbar": {
             "outlinewidth": 0,
             "ticks": ""
            },
            "type": "choropleth"
           }
          ],
          "contour": [
           {
            "colorbar": {
             "outlinewidth": 0,
             "ticks": ""
            },
            "colorscale": [
             [
              0,
              "#0d0887"
             ],
             [
              0.1111111111111111,
              "#46039f"
             ],
             [
              0.2222222222222222,
              "#7201a8"
             ],
             [
              0.3333333333333333,
              "#9c179e"
             ],
             [
              0.4444444444444444,
              "#bd3786"
             ],
             [
              0.5555555555555556,
              "#d8576b"
             ],
             [
              0.6666666666666666,
              "#ed7953"
             ],
             [
              0.7777777777777778,
              "#fb9f3a"
             ],
             [
              0.8888888888888888,
              "#fdca26"
             ],
             [
              1,
              "#f0f921"
             ]
            ],
            "type": "contour"
           }
          ],
          "contourcarpet": [
           {
            "colorbar": {
             "outlinewidth": 0,
             "ticks": ""
            },
            "type": "contourcarpet"
           }
          ],
          "heatmap": [
           {
            "colorbar": {
             "outlinewidth": 0,
             "ticks": ""
            },
            "colorscale": [
             [
              0,
              "#0d0887"
             ],
             [
              0.1111111111111111,
              "#46039f"
             ],
             [
              0.2222222222222222,
              "#7201a8"
             ],
             [
              0.3333333333333333,
              "#9c179e"
             ],
             [
              0.4444444444444444,
              "#bd3786"
             ],
             [
              0.5555555555555556,
              "#d8576b"
             ],
             [
              0.6666666666666666,
              "#ed7953"
             ],
             [
              0.7777777777777778,
              "#fb9f3a"
             ],
             [
              0.8888888888888888,
              "#fdca26"
             ],
             [
              1,
              "#f0f921"
             ]
            ],
            "type": "heatmap"
           }
          ],
          "histogram": [
           {
            "marker": {
             "pattern": {
              "fillmode": "overlay",
              "size": 10,
              "solidity": 0.2
             }
            },
            "type": "histogram"
           }
          ],
          "histogram2d": [
           {
            "colorbar": {
             "outlinewidth": 0,
             "ticks": ""
            },
            "colorscale": [
             [
              0,
              "#0d0887"
             ],
             [
              0.1111111111111111,
              "#46039f"
             ],
             [
              0.2222222222222222,
              "#7201a8"
             ],
             [
              0.3333333333333333,
              "#9c179e"
             ],
             [
              0.4444444444444444,
              "#bd3786"
             ],
             [
              0.5555555555555556,
              "#d8576b"
             ],
             [
              0.6666666666666666,
              "#ed7953"
             ],
             [
              0.7777777777777778,
              "#fb9f3a"
             ],
             [
              0.8888888888888888,
              "#fdca26"
             ],
             [
              1,
              "#f0f921"
             ]
            ],
            "type": "histogram2d"
           }
          ],
          "histogram2dcontour": [
           {
            "colorbar": {
             "outlinewidth": 0,
             "ticks": ""
            },
            "colorscale": [
             [
              0,
              "#0d0887"
             ],
             [
              0.1111111111111111,
              "#46039f"
             ],
             [
              0.2222222222222222,
              "#7201a8"
             ],
             [
              0.3333333333333333,
              "#9c179e"
             ],
             [
              0.4444444444444444,
              "#bd3786"
             ],
             [
              0.5555555555555556,
              "#d8576b"
             ],
             [
              0.6666666666666666,
              "#ed7953"
             ],
             [
              0.7777777777777778,
              "#fb9f3a"
             ],
             [
              0.8888888888888888,
              "#fdca26"
             ],
             [
              1,
              "#f0f921"
             ]
            ],
            "type": "histogram2dcontour"
           }
          ],
          "mesh3d": [
           {
            "colorbar": {
             "outlinewidth": 0,
             "ticks": ""
            },
            "type": "mesh3d"
           }
          ],
          "parcoords": [
           {
            "line": {
             "colorbar": {
              "outlinewidth": 0,
              "ticks": ""
             }
            },
            "type": "parcoords"
           }
          ],
          "pie": [
           {
            "automargin": true,
            "type": "pie"
           }
          ],
          "scatter": [
           {
            "fillpattern": {
             "fillmode": "overlay",
             "size": 10,
             "solidity": 0.2
            },
            "type": "scatter"
           }
          ],
          "scatter3d": [
           {
            "line": {
             "colorbar": {
              "outlinewidth": 0,
              "ticks": ""
             }
            },
            "marker": {
             "colorbar": {
              "outlinewidth": 0,
              "ticks": ""
             }
            },
            "type": "scatter3d"
           }
          ],
          "scattercarpet": [
           {
            "marker": {
             "colorbar": {
              "outlinewidth": 0,
              "ticks": ""
             }
            },
            "type": "scattercarpet"
           }
          ],
          "scattergeo": [
           {
            "marker": {
             "colorbar": {
              "outlinewidth": 0,
              "ticks": ""
             }
            },
            "type": "scattergeo"
           }
          ],
          "scattergl": [
           {
            "marker": {
             "colorbar": {
              "outlinewidth": 0,
              "ticks": ""
             }
            },
            "type": "scattergl"
           }
          ],
          "scattermap": [
           {
            "marker": {
             "colorbar": {
              "outlinewidth": 0,
              "ticks": ""
             }
            },
            "type": "scattermap"
           }
          ],
          "scattermapbox": [
           {
            "marker": {
             "colorbar": {
              "outlinewidth": 0,
              "ticks": ""
             }
            },
            "type": "scattermapbox"
           }
          ],
          "scatterpolar": [
           {
            "marker": {
             "colorbar": {
              "outlinewidth": 0,
              "ticks": ""
             }
            },
            "type": "scatterpolar"
           }
          ],
          "scatterpolargl": [
           {
            "marker": {
             "colorbar": {
              "outlinewidth": 0,
              "ticks": ""
             }
            },
            "type": "scatterpolargl"
           }
          ],
          "scatterternary": [
           {
            "marker": {
             "colorbar": {
              "outlinewidth": 0,
              "ticks": ""
             }
            },
            "type": "scatterternary"
           }
          ],
          "surface": [
           {
            "colorbar": {
             "outlinewidth": 0,
             "ticks": ""
            },
            "colorscale": [
             [
              0,
              "#0d0887"
             ],
             [
              0.1111111111111111,
              "#46039f"
             ],
             [
              0.2222222222222222,
              "#7201a8"
             ],
             [
              0.3333333333333333,
              "#9c179e"
             ],
             [
              0.4444444444444444,
              "#bd3786"
             ],
             [
              0.5555555555555556,
              "#d8576b"
             ],
             [
              0.6666666666666666,
              "#ed7953"
             ],
             [
              0.7777777777777778,
              "#fb9f3a"
             ],
             [
              0.8888888888888888,
              "#fdca26"
             ],
             [
              1,
              "#f0f921"
             ]
            ],
            "type": "surface"
           }
          ],
          "table": [
           {
            "cells": {
             "fill": {
              "color": "#EBF0F8"
             },
             "line": {
              "color": "white"
             }
            },
            "header": {
             "fill": {
              "color": "#C8D4E3"
             },
             "line": {
              "color": "white"
             }
            },
            "type": "table"
           }
          ]
         },
         "layout": {
          "annotationdefaults": {
           "arrowcolor": "#2a3f5f",
           "arrowhead": 0,
           "arrowwidth": 1
          },
          "autotypenumbers": "strict",
          "coloraxis": {
           "colorbar": {
            "outlinewidth": 0,
            "ticks": ""
           }
          },
          "colorscale": {
           "diverging": [
            [
             0,
             "#8e0152"
            ],
            [
             0.1,
             "#c51b7d"
            ],
            [
             0.2,
             "#de77ae"
            ],
            [
             0.3,
             "#f1b6da"
            ],
            [
             0.4,
             "#fde0ef"
            ],
            [
             0.5,
             "#f7f7f7"
            ],
            [
             0.6,
             "#e6f5d0"
            ],
            [
             0.7,
             "#b8e186"
            ],
            [
             0.8,
             "#7fbc41"
            ],
            [
             0.9,
             "#4d9221"
            ],
            [
             1,
             "#276419"
            ]
           ],
           "sequential": [
            [
             0,
             "#0d0887"
            ],
            [
             0.1111111111111111,
             "#46039f"
            ],
            [
             0.2222222222222222,
             "#7201a8"
            ],
            [
             0.3333333333333333,
             "#9c179e"
            ],
            [
             0.4444444444444444,
             "#bd3786"
            ],
            [
             0.5555555555555556,
             "#d8576b"
            ],
            [
             0.6666666666666666,
             "#ed7953"
            ],
            [
             0.7777777777777778,
             "#fb9f3a"
            ],
            [
             0.8888888888888888,
             "#fdca26"
            ],
            [
             1,
             "#f0f921"
            ]
           ],
           "sequentialminus": [
            [
             0,
             "#0d0887"
            ],
            [
             0.1111111111111111,
             "#46039f"
            ],
            [
             0.2222222222222222,
             "#7201a8"
            ],
            [
             0.3333333333333333,
             "#9c179e"
            ],
            [
             0.4444444444444444,
             "#bd3786"
            ],
            [
             0.5555555555555556,
             "#d8576b"
            ],
            [
             0.6666666666666666,
             "#ed7953"
            ],
            [
             0.7777777777777778,
             "#fb9f3a"
            ],
            [
             0.8888888888888888,
             "#fdca26"
            ],
            [
             1,
             "#f0f921"
            ]
           ]
          },
          "colorway": [
           "#636efa",
           "#EF553B",
           "#00cc96",
           "#ab63fa",
           "#FFA15A",
           "#19d3f3",
           "#FF6692",
           "#B6E880",
           "#FF97FF",
           "#FECB52"
          ],
          "font": {
           "color": "#2a3f5f"
          },
          "geo": {
           "bgcolor": "white",
           "lakecolor": "white",
           "landcolor": "#E5ECF6",
           "showlakes": true,
           "showland": true,
           "subunitcolor": "white"
          },
          "hoverlabel": {
           "align": "left"
          },
          "hovermode": "closest",
          "mapbox": {
           "style": "light"
          },
          "paper_bgcolor": "white",
          "plot_bgcolor": "#E5ECF6",
          "polar": {
           "angularaxis": {
            "gridcolor": "white",
            "linecolor": "white",
            "ticks": ""
           },
           "bgcolor": "#E5ECF6",
           "radialaxis": {
            "gridcolor": "white",
            "linecolor": "white",
            "ticks": ""
           }
          },
          "scene": {
           "xaxis": {
            "backgroundcolor": "#E5ECF6",
            "gridcolor": "white",
            "gridwidth": 2,
            "linecolor": "white",
            "showbackground": true,
            "ticks": "",
            "zerolinecolor": "white"
           },
           "yaxis": {
            "backgroundcolor": "#E5ECF6",
            "gridcolor": "white",
            "gridwidth": 2,
            "linecolor": "white",
            "showbackground": true,
            "ticks": "",
            "zerolinecolor": "white"
           },
           "zaxis": {
            "backgroundcolor": "#E5ECF6",
            "gridcolor": "white",
            "gridwidth": 2,
            "linecolor": "white",
            "showbackground": true,
            "ticks": "",
            "zerolinecolor": "white"
           }
          },
          "shapedefaults": {
           "line": {
            "color": "#2a3f5f"
           }
          },
          "ternary": {
           "aaxis": {
            "gridcolor": "white",
            "linecolor": "white",
            "ticks": ""
           },
           "baxis": {
            "gridcolor": "white",
            "linecolor": "white",
            "ticks": ""
           },
           "bgcolor": "#E5ECF6",
           "caxis": {
            "gridcolor": "white",
            "linecolor": "white",
            "ticks": ""
           }
          },
          "title": {
           "x": 0.05
          },
          "xaxis": {
           "automargin": true,
           "gridcolor": "white",
           "linecolor": "white",
           "ticks": "",
           "title": {
            "standoff": 15
           },
           "zerolinecolor": "white",
           "zerolinewidth": 2
          },
          "yaxis": {
           "automargin": true,
           "gridcolor": "white",
           "linecolor": "white",
           "ticks": "",
           "title": {
            "standoff": 15
           },
           "zerolinecolor": "white",
           "zerolinewidth": 2
          }
         }
        },
        "title": {
         "text": "UMAP of sentence embeddings with clusters"
        },
        "width": 1000,
        "xaxis": {
         "anchor": "y",
         "domain": [
          0,
          1
         ],
         "title": {
          "text": "umap_x"
         }
        },
        "yaxis": {
         "anchor": "x",
         "domain": [
          0,
          1
         ],
         "title": {
          "text": "umap_y"
         }
        }
       }
      }
     },
     "metadata": {},
     "output_type": "display_data"
    }
   ],
   "source": [
    "# visualize the clusters\n",
    "visualize_clusters(df_cluster)"
   ]
  },
  {
   "cell_type": "markdown",
   "metadata": {},
   "source": [
    "## CHI 2024 Papers (JSON Example)"
   ]
  },
  {
   "cell_type": "code",
   "execution_count": 24,
   "metadata": {},
   "outputs": [],
   "source": [
    "# load json data\n",
    "file_name = \"chi2024data.json\" # TODO: REPLACE WITH YOUR FILE NAME\n",
    "dataset_name = \"chi\" # TODO: REPLACE WITH YOUR DATASET NAME\n",
    "\n",
    "with open(file_name, \"r\", encoding=\"utf-8\") as f:\n",
    "    data = json.load(f)"
   ]
  },
  {
   "cell_type": "code",
   "execution_count": 25,
   "metadata": {},
   "outputs": [],
   "source": [
    "# check if folder exists\n",
    "if not os.path.exists(dataset_name):\n",
    "    os.makedirs(dataset_name)"
   ]
  },
  {
   "cell_type": "code",
   "execution_count": 26,
   "metadata": {},
   "outputs": [
    {
     "data": {
      "text/plain": [
       "1763"
      ]
     },
     "execution_count": 26,
     "metadata": {},
     "output_type": "execute_result"
    }
   ],
   "source": [
    "papers = data[\"contents\"]\n",
    "\n",
    "# get title from each paper\n",
    "titles = [paper[\"title\"].strip() for paper in papers]\n",
    "\n",
    "len(titles)"
   ]
  },
  {
   "cell_type": "code",
   "execution_count": 27,
   "metadata": {},
   "outputs": [],
   "source": [
    "# randomly sample 1000 transcripts from this dataset\n",
    "np.random.seed(random_state)\n",
    "sampled_indices = np.random.choice(len(titles), sample_size, replace=False)\n",
    "\n",
    "sentences = titles"
   ]
  },
  {
   "cell_type": "code",
   "execution_count": 28,
   "metadata": {},
   "outputs": [
    {
     "data": {
      "text/plain": [
       "['Seam Work and Simulacra of Societal Impact in Networking Research: A Critical Technical Practice Approach',\n",
       " 'Make This! Introduction to Electronics Prototyping Using Arduino',\n",
       " '“I was able to give her the confidence”: Reciprocal Capacity Building in a Community-based Program for Digital Engagement',\n",
       " 'ClassInSight: Designing Conversation Support Tools to Visualize Classroom Discussion for Personalized Teacher Professional Development',\n",
       " 'Playing on Hard Mode: Accessibility, Difficulty and Joy in Video Game Adoption for Gamers with Disabilities']"
      ]
     },
     "execution_count": 28,
     "metadata": {},
     "output_type": "execute_result"
    }
   ],
   "source": [
    "sentences[:5]"
   ]
  },
  {
   "cell_type": "code",
   "execution_count": 29,
   "metadata": {},
   "outputs": [
    {
     "name": "stdout",
     "output_type": "stream",
     "text": [
      "Embeddings for chi generated and saved to file.\n"
     ]
    }
   ],
   "source": [
    "# generate embeddings\n",
    "embeddings = generate_embeddings(sentences, dataset_name)"
   ]
  },
  {
   "cell_type": "code",
   "execution_count": 30,
   "metadata": {},
   "outputs": [
    {
     "name": "stderr",
     "output_type": "stream",
     "text": [
      "c:\\Users\\euije\\.virtualenvs\\ml-interactive-data-augmentation-oGByDv0u\\Lib\\site-packages\\umap\\umap_.py:1952: UserWarning:\n",
      "\n",
      "n_jobs value 1 overridden to 1 by setting random_state. Use no seed for parallelism.\n",
      "\n"
     ]
    },
    {
     "name": "stdout",
     "output_type": "stream",
     "text": [
      "UMAP model for chi saved to file.\n"
     ]
    }
   ],
   "source": [
    "# get umap coords\n",
    "df_res = run_umap(embeddings, sentences, dataset_name)"
   ]
  },
  {
   "cell_type": "code",
   "execution_count": 31,
   "metadata": {},
   "outputs": [
    {
     "name": "stdout",
     "output_type": "stream",
     "text": [
      "Cluster labels generated.\n",
      "Cluster info and umap coords for chi saved to file.\n"
     ]
    }
   ],
   "source": [
    "# cluster the data\n",
    "df_cluster = get_clusters(df_res, embeddings, dataset_name, num_clusters=25)"
   ]
  },
  {
   "cell_type": "code",
   "execution_count": 32,
   "metadata": {},
   "outputs": [
    {
     "data": {
      "application/vnd.plotly.v1+json": {
       "config": {
        "plotlyServerURL": "https://plot.ly"
       },
       "data": [
        {
         "customdata": [
          [
           "Seam Work and Simulacra of Societal Impact in Networking Research: A Critical Technical Practice Approach"
          ],
          [
           "Integrating measures of replicability into scholarly search: Challenges and opportunities"
          ],
          [
           "Strategies in securing industry funding for your academic research program"
          ],
          [
           "Designing for Caregiver-facing Values Elicitation Tools"
          ],
          [
           "The ``Colonial Impulse\" of Natural Language Processing: An Audit of Bengali Sentiment Analysis Tools and Their Identity-based Biases"
          ],
          [
           "Cognitive Modeling: From GOMS to Deep Reinforcement Learning"
          ],
          [
           "STMG: A Machine Learning Microgesture Recognition System for Supporting Thumb-Based VR/AR Input"
          ],
          [
           "Talaria: Interactively Optimizing Machine Learning Models for Efficient Inference"
          ],
          [
           "Enhancing Auto-Generated Baseball Highlights via Win Probability and Bias Injection Method"
          ],
          [
           "EXMOS: Explanatory Model Steering through Multifaceted Explanations and Data Configurations"
          ],
          [
           "Evaluating the Utility of Conformal Prediction Sets for AI-Advised Image Labeling"
          ],
          [
           "Milliways: Taming Multiverses through Principled Evaluation of Data Analysis Paths"
          ],
          [
           "Odds and Insights: Decision Quality in Exploratory Data Analysis Under Uncertainty"
          ],
          [
           "Design Patterns for Data-Driven News Articles"
          ],
          [
           "Simulating Emotions With an Integrated Computational Model of Appraisal and Reinforcement Learning"
          ],
          [
           "Charting Ethical Tensions in Multispecies Technology Research through Beneficiary-Epistemology Space"
          ],
          [
           "Open Sesame? Open Salami! Personalizing Vocabulary Assessment-Intervention for Children via Pervasive Profiling and Bespoke Storybook Generation"
          ],
          [
           "Writing out the Storm: Designing and Evaluating Tools for Weather Risk Messaging"
          ],
          [
           "Demystifying Tacit Knowledge in Graphic Design: Characteristics, Instances, Approaches, and Guidelines"
          ],
          [
           "Understanding Documentation Use Through Log Analysis: A Case Study of Four Cloud Services"
          ],
          [
           "Intelligent Support Engages Writers Through Relevant Cognitive Processes"
          ],
          [
           "Tunnel Runner: a Proof-of-principle for the Feasibility and Benefits of Facilitating Players' Sense of Control in Cognitive Assessment Games"
          ],
          [
           "Griot-Style Methodology: Longitudinal Study of Navigating Design With Unwritten Stories"
          ],
          [
           "PaperWeaver: Enriching Topical Paper Alerts by Contextualizing Recommended Papers with User-collected Papers"
          ],
          [
           "A Quantitative Approach to Identifying Emergent Editor Roles in Open Street Map"
          ],
          [
           "Better Definition and Calculation of Throughput and Effective Parameters for Steering to Account for Subjective Speed-accuracy Tradeoffs"
          ],
          [
           "Enhancing Communication Equity: Evaluation of an Automated Speech Recognition Application in Ghana"
          ],
          [
           "Think Fast, Think Slow, Think Critical: Designing an Automated Propaganda Detection Tool"
          ],
          [
           "Investigating Demographics and Motivation in Engineering Education Using Radio and Phone-Based Educational Technologies"
          ],
          [
           "STILE: Exploring and Debugging Social Biases in Pre-trained Text Representations"
          ],
          [
           "Understanding Takeovers and Telestration in Laparoscopic Surgery to Inform Telementoring System Design"
          ],
          [
           "Go-Go Biome: Evaluation of a Casual Game for Gut Health Engagement and Reflection"
          ],
          [
           "SalChartQA: Question-driven Saliency on Information Visualisations"
          ],
          [
           "Comic-making to Study Game-making: Using Comics in Qualitative Longitudinal Research on Game Development"
          ],
          [
           "Sitting Posture Recognition and Feedback: A Literature Review"
          ],
          [
           "Is it just a score? Understanding Training Load Management Practices Beyond Sports Tracking"
          ],
          [
           "Formulating or Fixating: Effects of Examples on Problem Solving Vary as a Function of Example Presentation Interface Design"
          ],
          [
           "Mental Models, Expectations and Implications of Client-Side Scanning: An Interview Study with Experts"
          ],
          [
           "Fast-Forward Reality: Authoring Error-Free Context-Aware Policies with Real-Time Unit Tests in Extended Reality"
          ],
          [
           "Reading Between the Lines: Identifying the Linguistic Markers of Anhedonia for the Stratification of Depression"
          ],
          [
           "DiaryHelper: Exploring the Use of an Automatic Contextual Information Recording Agent for Elicitation Diary Study"
          ],
          [
           "Ivie: Lightweight Anchored Explanations of Just-Generated Code"
          ],
          [
           "From Plating to Tasting: Towards Understanding the Choreography of Computational Food"
          ],
          [
           "LegalWriter: An Intelligent Writing Support System for Structured and Persuasive Legal Case Writing for Novice Law Students"
          ],
          [
           "That's Rough! Encoding Data into Roughness for Physicalization"
          ],
          [
           "DISCERN: Designing Decision Support Interfaces to Investigate the Complexities of Workplace Social Decision-Making With Line Managers"
          ],
          [
           "Designing a Data-Driven Survey System: Leveraging Participants' Online Data to Personalize Surveys"
          ],
          [
           "DeepStress: Supporting Stressful Context Sensemaking in Personal Informatics Systems Using a Quasi-experimental Approach"
          ],
          [
           "A Human-Centered Review of Algorithms in Homelessness Research"
          ],
          [
           "Designing Instructions using Self-Determination Theory to Improve Motivation and Engagement for Learning Craft"
          ],
          [
           "Building an Ethics-Focused Action Plan: Roles, Process Moves, and Trajectories"
          ],
          [
           "Toward Supporting Adaptation: Exploring Affect’s Role in Cognitive Load when Using a Literacy Game"
          ],
          [
           "rTisane: Externalizing conceptual models for data analysis increases engagement with domain knowledge and improves statistical model quality"
          ],
          [
           "\"This is not a data problem\": Algorithms and Power in Public Higher Education in Canada"
          ],
          [
           "SalienTime: User-driven Selection of Salient Time Steps for Large-Scale Geospatial Data Visualization"
          ],
          [
           "\"I Know What You Mean\": Context-Aware Recognition to Enhance Speech-Based Games"
          ],
          [
           "SustAInable: How Values in the Form of Individual Motivation Shape Algorithms’ Outcomes. An Example Promoting Ecological and Social Sustainability"
          ],
          [
           "Mapping Accessibility Assignments into Core Computer Science Topics: An Empirical Study with Interviews and Surveys of Instructors and Students"
          ],
          [
           "Not All the Same: Understanding and Informing Similarity Estimation in Tile-Based Video Games"
          ],
          [
           "Surgment: Segmentation-enabled Semantic Search and Creation of Visual Question and Feedback to Support Video-Based Surgery Learning"
          ],
          [
           "JupyterLab in Retrograde: Contextual Notifications That Highlight Fairness and Bias Issues for Data Scientists"
          ],
          [
           "Model Compression in Practice: Lessons Learned from Practitioners Creating On-device Machine Learning Experiences"
          ],
          [
           "Partiality and Misconception: Investigating Cultural Representativeness in Text-to-Image Models"
          ],
          [
           "Understanding Contestability on the Margins: Implications for the Design of Algorithmic Decision-making in Public Services"
          ],
          [
           "Erie: A Declarative Grammar for Data Sonification"
          ],
          [
           "WheelPose: Data Synthesis Techniques to Improve Pose Estimation Performance on Wheelchair Users"
          ],
          [
           "If in a Crowdsourced Data Annotation Pipeline, a GPT-4"
          ],
          [
           "Aligning Data with the Goals of an Organization and Its Workers: Designing Data Labeling for Social Service Case Notes"
          ],
          [
           "SQL Puzzles: Evaluating Micro Parsons Problems With Different Feedbacks as Practice for Novices"
          ],
          [
           "\"I Am So Overwhelmed I Don't Know Where to Begin!\" Towards Developing Relationship-Based and Values-Based End-of-Life Data Planning Approaches"
          ],
          [
           "A Browser Extension for in-place Signaling and Assessment of Misinformation"
          ],
          [
           "COR Themes for Readability from Iterative Feedback"
          ],
          [
           "Understanding Reader Takeaways in Thematic Maps Under Varying Text, Detail, and Spatial Autocorrelation"
          ],
          [
           "How does Juicy Game Feedback Motivate? Testing Curiosity, Competence, and Effectance"
          ],
          [
           "Understanding the Effect of Reflective Iteration on Individuals’ Physical Activity Planning"
          ],
          [
           "Establishing Heuristics for Improving the Usability of GUI Machine Learning Tools for Novice Users"
          ],
          [
           "Cosmovision Of Data: An Indigenous Approach to Technologies for Self-Determination"
          ],
          [
           "EXPLORA: A teacher-apprentice methodology for eliciting natural child-computer interactions"
          ],
          [
           "Empowering Independence Through Design: Investigating Standard Digital Design Patterns For Easy-to-Read Users."
          ],
          [
           "Understanding Feedback in Rhythmic Gymnastics Training: An Ethnographic-Informed Study of a Competition Class"
          ],
          [
           "From Fitting Participation to Forging Relationships: The Art of Participatory ML"
          ],
          [
           "GenQuery: Supporting Expressive Visual Search with Generative Models"
          ],
          [
           "Towards Estimating Missing Emotion Self-reports Leveraging User Similarity: A Multi-task Learning Approach"
          ],
          [
           "Supporting Cognitive Reappraisal With Digital Technology: A Content Analysis and Scoping Review of Challenges, Interventions, and Future Directions"
          ],
          [
           "Epigraphics: Message-Driven Infographics Authoring"
          ],
          [
           "A Mixed-Method Case Study: Medical Practitioner Sensemaking in the Context of Practice Analytics"
          ],
          [
           "Designing digital tools for creative thinking: a case study from elite sports coaching"
          ],
          [
           "COOKNOOK: Intelligent Meal Planning Application"
          ],
          [
           "Pheno-data: knowledge from tomatoes' becoming with different ecological worlds"
          ],
          [
           "Board Games as a Research Method: A Case Study on Research Game Design and Use in Studying Algorithmic Mediation"
          ],
          [
           "Queering/Cripping Technologies of Productivity"
          ],
          [
           "Situated Analytics Process and Mantra"
          ],
          [
           "GPTs in Mafia-like Game Simulation"
          ],
          [
           "Case Study of a Model that evaluates the Learner Experience with DICTs"
          ],
          [
           "Computational Methodologies for Understanding, Automating, and Evaluating User Interfaces"
          ],
          [
           "Weaving ML with Human Aesthetic Assessments to Augment Design Space Exploration: An Automotive Wheel Design Case Study"
          ],
          [
           "\"Never The Same\": Systematic Analysis of the Methodological Issues in the Presence Studies That Employ Questionnaires"
          ],
          [
           "Evaluating Interactive Topic Models in Applied Settings"
          ],
          [
           "GHOJA: Human-in-the-Loop Joint Pose Optimization based on Geometric Constraint and Human Common-sense"
          ],
          [
           "Designing and Evaluating Explanations for a Predictive Health Dashboard: A User-Centred Case Study"
          ],
          [
           "Toward a Measure of Collective Digital Capacity: An Exploratory Analysis"
          ],
          [
           "A Case Study Exploring the Applicability of Heuristic Evaluation in Smart Home Systems"
          ],
          [
           "Understanding Risks of Data Science Failures through Sociotechnical Approach"
          ],
          [
           "Exploring How Multiple Levels of GPT-Generated Programming Hints Support or Disappoint Novices"
          ],
          [
           "Computational Notebook as a Tool for Supporting Black Engineers Non-Profit Organizations in the Context of Workforce Participation"
          ],
          [
           "SciCapenter: Supporting Caption Composition for Scientific Figures with Machine-Generated Captions and Ratings"
          ],
          [
           "Expectations Vs Reality of Conducting Ethnographic Research in Nigeria to Inform Autonomous Ground Vehicles Design"
          ],
          [
           "Transitioning Cognitive Aids into Decision Support Platforms: Requirements and Design Guidelines"
          ],
          [
           "Lessons Learnt from a Multimodal Learning Analytics Deployment In-the-wild"
          ],
          [
           "Towards an Evaluation Framework for Extended Reality Authentication Schemes"
          ],
          [
           "Exploring Subjective and Objective Measures of System Effectiveness"
          ],
          [
           "Towards Fair and Inclusive Speech Recognition for Stuttering: Community-led Chinese Stuttered Speech Dataset Creation and Benchmarking"
          ],
          [
           "The Art of Gift-Giving with Limited Preference Data: How Fashion Recommender Systems Can Help"
          ],
          [
           "Building Knowledge through Action: Considerations for Machine Learning in the Workplace"
          ],
          [
           "CLERA: A Unified Model for Joint Cognitive Load and Eye Region Analysis in the Wild"
          ],
          [
           "Creating an authoring tool for K-12 teachers to design ML-supported scientific inquiry learning"
          ],
          [
           "“What’s Your Name Again?”: How Race and Gender Dynamics Impact Codesign Processes and Output"
          ],
          [
           "Blueprints: Systematizing Behavior Change Designs - The Case of Social Comparison Theory"
          ],
          [
           "An Autoethnographic Reflection of Prompting a Custom GPT Based on Oneself"
          ],
          [
           "Unveiling the Inherent Needs: GPT Builder as Participatory Design Tool for Exploring Needs and Expectation of AI with Middle-Aged Users"
          ],
          [
           "3CPEs: Concrete Computational Concepts Programming Environments for Elementary Computer Science Education"
          ],
          [
           "Evaluating Creativity Support Tools via Homogenization Analysis"
          ],
          [
           "Why Do Skimmers Perform Better with Grammar-Preserving Text Saliency Modulation (GP-TSM)? Evidence from an Eye Tracking Study"
          ],
          [
           "Understanding Environmental Sustainability and Information Practices in Global South Fish Farming"
          ],
          [
           "How’s Your Sewing? Investigating Metrics to Automatically Assess Sewing Expertise"
          ],
          [
           "Biometric Methods for User Research: Three Case Studies"
          ],
          [
           "Towards Algorithmic Reform: Low-Income Individuals Inclusion in AI/ML Literacy and Ethical Values-Informed Tool Design"
          ],
          [
           "Beyond Aesthetics: Evaluating Response Widgets for Reliability & Construct Validity of Scale Questionnaires"
          ],
          [
           "NLP4Gov: A Comprehensive Library for Computational Policy Analysis"
          ],
          [
           "Auto-Generated Personas: Enhancing User-centered Design Practices among University Students"
          ]
         ],
         "hovertemplate": "cluster=Educational Technologies and Cognitive Engagement<br>umap_x=%{x}<br>umap_y=%{y}<br>sentence=%{customdata[0]}<extra></extra>",
         "legendgroup": "Educational Technologies and Cognitive Engagement",
         "marker": {
          "color": "#636efa",
          "symbol": "circle"
         },
         "mode": "markers",
         "name": "Educational Technologies and Cognitive Engagement",
         "showlegend": true,
         "type": "scattergl",
         "x": {
          "bdata": "RxAvwL99Q8CCGU3AoQpawBjHgcDRmITA9z6rvwNqlcABpafAP3YMwNRyncDZzTjAq+tuwJMGKsCyFmXA/9NCwF1omsBZFVfARAZ3wOw0e8Als3fAo30iwHFAOsCD7FXAEYjBv9mH87+VFGjAcVRowM5oMMCj9jTAQglEwH3UHcCk9ADAhy07wA1EIMDIIRjA6+RJwJHVdsCecoW/PsCPwAcal8C8EarAofpCwMnWfMBhmSTA7wKBwHRpur9MWQTAt0ZqwG+Id8Ct1FnAtldhwLnwhsCjzmbAY9QKwJiHScBYQFDAkTFSwBMALsCHq0TAWE04wAZCmMBBsmDAjO2RwBf1o8BglRPA80qCwAxigMCtcj7Asb41wHqUzb9UMG7AhCuLwI3+KcBpYhnAJ/yBwDcYU8CtZWHA8pQqwFjMLcANBjfA7MSJwOu2NcA1yT7AJQh6wCOpEMBiXmnA/BZUwAgWQcDGWDrAp1AtwJ87+7+ls4DARpGCwJhoUMDIzlXAyfY7wMkIY8DVn33AnZZXwEJHNsD+1FzAI5IrwExnhMDRhGbAO0mMwCEkfsDw5nvA2xIEwAl6V8AuAhrAZIBAwAfGWsCO2YfAk3mVwAAtiMDR0GTAuy9AwJezg8DogoLAZddfwJkJgsCoVyjAHXBFwCDCiMCrtFLAWd6ewMJBUcAnUI7A842kwA==",
          "dtype": "f4"
         },
         "xaxis": "x",
         "y": {
          "bdata": "Ax22P01WyT8QD+g/RHIkQGmYPUCfvwtAvnCEQJynHkDaADNAW9x6QJVERUCdRE9Al0o/QKMoJUB+qTVAU/zHPywHKUB/5U1AmgBeQFAQ0T+8VStAVQV0QKhzJkD9LkFA4MpaQBFYGkCjDkdA42VkQFm59T8mZDRAAnhZQGm0F0B8AF5ACEoeQKjiSEDVFj1AV4VrQJWfrT9zsH1AMQLyPwalOEBV9zlAZn5AQGAeOUDWBDNArLo6QN91qj/1Y29AemXiP9I3R0CFzhRAQQQRQKINvT8mKtM/a9N2QMR/P0AvJsA/4JoPQJFlPEA/+VtAWFIMQCDFHUD06PI/H/VAQIHhJkDv1IxA0ikmQFkIJkBQPEJAGrcuQISSFUCsTSpAQJ9CQNqHHEAR2DhAuWtPQAoZMEDfZixAFo8bQCaKHUDAkxdAxZQ/QH4lO0DM8fs/wh1YQEwoTkBoPFdAgt44QH2QqT8RKg9Adub9P6g9RUAAzCtAerjHP88IPkCU42xAujCUP0YuHECQ72BAWDbzP2e27T/MDeg/F+SeP+soKECUHy1A3s1gQJHENkDIsT5A3n9RQKI2A0COD/Q/s6lDQChMOkCbjlJACwIcQIdiIECCqSlAiueeP3BQK0C+FClASGEhQDFHRUAFKndA8k+xP9RAW0BIYhpAgMAoQM/d9j9nrRRAN6IlQA==",
          "dtype": "f4"
         },
         "yaxis": "y"
        },
        {
         "customdata": [
          [
           "Make This! Introduction to Electronics Prototyping Using Arduino"
          ],
          [
           "SkullID: Through-Skull Sound Conduction based Authentication for Smartglasses"
          ],
          [
           "TacTex: A Textile Interface with Seamlessly-Integrated Electrodes for High-Resolution electrotactile Stimulation"
          ],
          [
           "SolderlessPCB: Reusing Electronic Components in PCB Prototyping through Detachable 3D Printed Housings"
          ],
          [
           "EchoWrist: Continuous Hand Pose Tracking and Hand-Object Interaction Recognition Using Low-Power Active Acoustic Sensing On a Wristband"
          ],
          [
           "EITPose: Wearable and Practical Electrical Impedance Tomography for Continuous Hand Pose Estimation"
          ],
          [
           "ecSkin: Low-Cost Fabrication of Epidermal Electrochemical Sensors for Detecting Biomarkers in Sweat"
          ],
          [
           "WooDowel: Electrode Isolation for Electromagnetic Shielding in Triboelectric Plywood Sensors"
          ],
          [
           "Stochastic Machine Witnesses at Work: Today's Critiques of Taylorism are Inadequate for Workplace Surveillance Epistemologies of the Future"
          ],
          [
           "Reconfigurable Interfaces by Shape Change and Embedded Magnets"
          ],
          [
           "Towards More Sustainable Interactive Textiles: A Literature Review on The Use of Biomaterials for eTextiles."
          ],
          [
           "EmoWear: Exploring Emotional Teasers for Voice Message Interaction on Smartwatches"
          ],
          [
           "Thermal Masking: When the Illusion Takes Over the Real"
          ],
          [
           "Ecothreads: Prototyping Biodegradable E-textiles Through Thread-based Fabrication"
          ],
          [
           "Desktop Biofibers Spinning: An Open-Source Machine for Exploring Biobased Fibers and their Application Towards Sustainable Smart Textile Design"
          ],
          [
           "VabricBeads : Variable Stiffness Structured Fabric using Artificial Muscle in Woven Beads"
          ],
          [
           "Microbial Revolt: Redefining biolab tools and practices for more-than-human care ecologies"
          ],
          [
           "Socioeconomic Class in Physical Activity Wearables Research and Design"
          ],
          [
           "New Understandings of Loss: Examining the Role of Reflective Technology Within Bereavement and Meaning-Making"
          ],
          [
           "PonDeFlick: A Japanese Text Entry on Smartwatch Commonalizing Flick Operation with Smartphone Interface"
          ],
          [
           "ExCell: High Expansion Ratio Moisture-Responsive Wooden Actuators for DIY Shape-Changing and Deployable Structures"
          ],
          [
           "Expressive Clothing: Understanding Hobbyist-Sewers' Visions for Self-Expression Through Clothing"
          ],
          [
           "E-Acrylic: Electronic-Acrylic Composites for Making Interactive Artifacts"
          ],
          [
           "MR Microsurgical Suture Training System with Level-Appropriate Support"
          ],
          [
           "Momentary Stressor Logging and Reflective Visualizations: Implications for Stress Management with Wearables"
          ],
          [
           "Somaesthetic Meditation Wearable: Exploring the Effect of Targeted Warmth Technology on Meditators' Experiences"
          ],
          [
           "SoniWeight Shoes: Investigating Effects and Personalization of a Wearable Sound Device for Altering Body Perception, Behavior and Emotion"
          ],
          [
           "AirPush: A Pneumatic Wearable Haptic Device Providing Multi-Dimensional Force Feedback on a Fingertip"
          ],
          [
           "FoodSkin: Fabricating Edible Gold Leaf Circuits on Food Surfaces"
          ],
          [
           "“I think it saved me. I think it saved my heart”: The Complex Journey From Self-Tracking With Wearables To Diagnosis"
          ],
          [
           "Unpacking the Lived Experience of Collaborative Pregnancy Tracking"
          ],
          [
           "Wrist-bound Guanxi, Jiazu, and Kuolie: Unpacking Chinese Adolescent Smartwatch-Mediated Socialization"
          ],
          [
           "Designing PhenoProbe: An Interview Tool for Inquiring into the Phenological Knowledge of Taiwanese Elders"
          ],
          [
           "Sustainable Unmaking: Designing for Biodegradation, Decay, and Disassembly"
          ],
          [
           "ThermoTumbler: A Tumbler-type Device that Changes Flavor Perception by Controlling Temperature to the Lower Lip"
          ],
          [
           "EcoFashion Scanner: Bridging the Gen Z and Millennial 'Green Gap' by Facilitating Sustainable Fashion Consumption Behaviours"
          ],
          [
           "EcoWatt: An Electricity Management App to Illuminate Community-Driven Sustainability in Student Accommodations"
          ],
          [
           "Patient Acceptance of Self-Monitoring on a Smartwatch in a Routine Digital Therapy: A Mixed-Methods Study"
          ],
          [
           "LeatherBoard: Sustainable On-body Rapid Prototyping with Leather Scraps and Machine Embroidery"
          ],
          [
           "3DA: Assessing 3D-Printed Electrodes for Measuring Electrodermal Activity"
          ],
          [
           "Warmth on Demand: Designing Headphones for Enhanced Thermal Comfort in Work Environments"
          ],
          [
           "Applying Feminist HCI to Ultra-Personalization: The Case of Electric Breast Pumps"
          ],
          [
           "UserJourney2Vector: Enterprise Application of Transformer Models on User Telemetry Data"
          ],
          [
           "EmoScribe Camera: A Virtual Camera System to Enliven Online Conferencing with Automatically Generated Emotional Text Captions"
          ],
          [
           "Guttation Sensor: Wearable Microfluidic Chip for Plant Condition Monitoring and Diagnosis"
          ],
          [
           "Wearable Electronic Textiles for Healthcare, Wellbeing, and Protective Applications"
          ],
          [
           "MeMic: Towards Social Acceptability of User-Only Speech Recording Wearables"
          ],
          [
           "Interaction-Power Stations: Turning Environments into Ubiquitous Power Stations for Charging Wearables"
          ],
          [
           "Food Printing with Electrolysis Bubbles for Texture Control"
          ],
          [
           "AromaBlendz: An Olfactory System for Crafting Personalized Scents"
          ],
          [
           "Breathm: A Calm Device with Personalized Slow Breathing Guidance"
          ],
          [
           "Snapping Out of It: How a Wearable for Self-Tracking Assisted Psychotherapy Bridges the Gap Between Thoughts and the World"
          ],
          [
           "Hexing Twitter: Channeling Ancient Magic to Bind Mechanisms of Extraction"
          ],
          [
           "Creating Positive Social Experiences Through the Design of Custom Wearables"
          ],
          [
           "PneuMa: Designing Pneumatic Bodily Extensions for Supporting Movement in Everyday Life"
          ]
         ],
         "hovertemplate": "cluster=Wearable Technology and Emotional Interaction<br>umap_x=%{x}<br>umap_y=%{y}<br>sentence=%{customdata[0]}<extra></extra>",
         "legendgroup": "Wearable Technology and Emotional Interaction",
         "marker": {
          "color": "#EF553B",
          "symbol": "circle"
         },
         "mode": "markers",
         "name": "Wearable Technology and Emotional Interaction",
         "showlegend": true,
         "type": "scattergl",
         "x": {
          "bdata": "scEywGsnHL/CPgnAX28dwDSotr8EpNG/PBUBwNv0/78BxF7A3rIQwNmqC8CA5+K/0fIWv76xHMAqpyTATxj/v5mfHsCiIda/wv4DwHd34L9hDRfA8GpYwDeTF8CiZ36/4+Tpvypyyr9Jt7y/kXXAv57qEMA7QQHAt53Kv9VU7r8WME3AVCgjwL6E37/JKDnAApUewA5u+79Zxx7AivYSwL9cvr/5ox/AG5RDwJWkC8AVUse/wujKv5Blyb97KNy/HLIXwEIyCcCEm/C/VBftvwPSVcCtKcy/yi8uwA==",
          "dtype": "f4"
         },
         "xaxis": "x",
         "y": {
          "bdata": "rpChQBIlUkBah5lAbNCuQE3wiECpiJJAjEKcQPiipkDxWX5AnJ+UQH+eg0AwrG5AU2KHQP8YoECzTJ5A/VOiQJOagkDXUHVA+8YiQNtFgkBhb5dAE9tLQCKCgkBLE4NAP2hiQIMDjECLmYVAdjuPQGGXp0A4GFtACw8uQBS1bkCGqnRAA4ehQM4nlUBaIRNAXCo5QG9LYkAKEZ9AJ+auQLNHjkB1HDQ/+3hIQNUNg0D3a4xAErKEQDSoWUBT+mtAgAOwQJo1lUCj/IxATxpvQEB/d0B5snxAXNt4QA==",
          "dtype": "f4"
         },
         "yaxis": "y"
        },
        {
         "customdata": [
          [
           "“I was able to give her the confidence”: Reciprocal Capacity Building in a Community-based Program for Digital Engagement"
          ],
          [
           "Collaborative School Mental Health System: Leveraging a Conversational Agent for Enhancing Children's Executive Function"
          ],
          [
           "Empirical Research Methods for Human-Computer Interaction"
          ],
          [
           "COMPA: Using Conversation Context to Achieve Common Ground in AAC"
          ],
          [
           "The Effects of Group Discussion and Role-playing Training on Self-efficacy, Support-seeking, and Reporting Phishing Emails: Evidence from a Mixed-design Experiment"
          ],
          [
           "Conversational Voice Interfaces: Translating Research Into Actionable Design"
          ],
          [
           "Interaction Techniques – History, Design and Evaluation"
          ],
          [
           "Quantifying the Pollan Effect: Investigating the Impact of Emerging Psychiatric Interventions on Online Mental Health Discourse"
          ],
          [
           "Perceived Empathy of Technology Scale (PETS): Measuring Empathy of Systems Toward the User"
          ],
          [
           "A Meta-Bayesian Approach for Rapid Online Parametric Optimization for Wrist-based Interactions"
          ],
          [
           "\"Butt call me once you get a chance to chat &#128578;\" : Designing Persuasive Reminders for Veterans to Facilitate Peer-Mentor Support"
          ],
          [
           "Maintaining Continuing Bonds in Bereavement: A Participatory Design Process of Be.side"
          ],
          [
           "SolarClub: Supporting Renewable Energy Communities through an Interactive Coordination System"
          ],
          [
           "Machine and Human Understanding of Empathy in Online Peer Support: A Cognitive Behavioral Approach"
          ],
          [
           "‘We Do Not Have the Capacity to Monitor All Media’: A Design Case Study on Cyber Situational Awareness in Computer Emergency Response Teams"
          ],
          [
           "Technology-Mediated Non-pharmacological Interventions for Dementia: Needs for and Challenges in Professional, Personalized and Multi-Stakeholder Collaborative Interventions"
          ],
          [
           "PsiNet: Toward Understanding the Design of Brain-to-Brain Interfaces for Augmenting Inter-Brain Synchrony"
          ],
          [
           "I see an IC: A Mixed-Methods Approach to Study Human Problem-Solving Processes in Hardware Reverse Engineering"
          ],
          [
           "Mental Models of Meeting Goals: Supporting Intentionality in Meeting Technologies"
          ],
          [
           "Unpacking ICT-supported Social Connections and Support of Late-life Migration: From the Lens of Social Convoys"
          ],
          [
           "Interdisciplinary Approaches to Cybervulnerability Impact Assessment for Energy Critical Infrastructure"
          ],
          [
           "The Hidden Toll of Instant Messaging Use in Remote Work: Interaction Dynamics Between Subordinates and Supervisors"
          ],
          [
           "HelpCall: Designing Informal Technology Assistance for Older Adults via Videoconferencing"
          ],
          [
           "Investigating the Effects of External Communication and Platoon Behavior on Manual Drivers at Highway Access"
          ],
          [
           "Better to Ask Than Assume: Proactive Voice Assistants’ Communication Strategies That Respect User Agency in a Smart Home Environment"
          ],
          [
           "CareJournal: A Voice-Based Conversational Agent for Supporting Care Communications"
          ],
          [
           "Cooking With Agents: Designing Context-aware Voice Interaction"
          ],
          [
           "Beyond Repairing with Electronic Speech: Towards Embodied Communication and Assistive Technology"
          ],
          [
           "InteractOut: Leveraging Interaction Proxies as Input Manipulation Strategies for Reducing Smartphone Overuse"
          ],
          [
           "Designing for Harm Reduction: Communication Repair for Multicultural Users' Voice Interactions"
          ],
          [
           "Examining the Role of Peer Acknowledgements on Social Annotations: Unraveling the Psychological Underpinnings"
          ],
          [
           "Seeking Soulmate via Voice: Understanding Promises and Challenges of Online Synchronized Voice-Based Mobile Dating"
          ],
          [
           "Mitigating Barriers to Public Social Interaction with Meronymous Communication"
          ],
          [
           "Automatic Macro Mining from Interaction Traces at Scale"
          ],
          [
           "Evolving Presentation of Self: The Influence of Dementia Communication Challenges on Everyday Interactions"
          ],
          [
           "``It Is a Moving Process'': Understanding the Evolution of Explainability Needs of Clinicians in Pulmonary Medicine"
          ],
          [
           "Model-based Evaluation of Recall-based Interaction Techniques"
          ],
          [
           "Make Interaction Situated: Designing User Acceptable Interaction for Situated Visualization in Public Environments"
          ],
          [
           "Help Me Reflect: Leveraging Self-Reflection Interface Nudges to Enhance Deliberativeness on Online Deliberation Platforms"
          ],
          [
           "Navigating User-System Gaps: Understanding User-Interactions in User-Centric Context-Aware Systems for Digital Well-being Intervention"
          ],
          [
           "\"If This Person is Suicidal, What Do I Do?\": Designing Computational Approaches to Help Online Volunteers Respond to Suicidality"
          ],
          [
           "“I never realized sidewalks were a big deal”: A Case Study of a Community-Driven Sidewalk Accessibility Assessment using Project Sidewalk"
          ],
          [
           "Designing Communication Feedback Systems To Reduce Healthcare Providers’ Implicit Biases In Patient Encounters"
          ],
          [
           "Investigating Why Clinicians Deviate from Standards of Care: Liberating Patients from Mechanical Ventilation in the ICU"
          ],
          [
           "HIV Client Perspectives on Digital Health in Malawi"
          ],
          [
           "Approaches for tailoring between-session mental health therapy activities"
          ],
          [
           "The Social Journal: Investigating Technology to Support and Reflect on Social Interactions"
          ],
          [
           "Call of the Wild Web: Comparing Parrot Engagement in Live vs. Pre-Recorded Video Calls"
          ],
          [
           "Towards Co-Creating Access and Inclusion: A Group Autoethnography on a Hearing Individual's Journey Towards Effective Communication in Mixed-Hearing Ability Higher Education Settings"
          ],
          [
           "The Illusion of Empathy? Notes on Displays of Emotion in Human-Computer Interaction"
          ],
          [
           "Designing Scaffolding Strategies for Conversational Agents in Dialog Task of Neurocognitive Disorders Screening"
          ],
          [
           "Listening to the Voices: Describing Ethical Caveats of Conversational User Interfaces According to Experts and Frequent Users"
          ],
          [
           "Engaged and Affective Virtual Agents: Their Impact on Social Presence, Trustworthiness, and Decision-Making in the Group Discussion"
          ],
          [
           "Apple’s Knowledge Navigator: Why Doesn’t that Conversational Agent Exist Yet?"
          ],
          [
           "Whispering Through Walls: Towards Inclusive Backchannel Communication in Hybrid Meetings"
          ],
          [
           "ConverSense: An Automated Approach to Assess Patient-Provider Interactions using Social Signals"
          ],
          [
           "MµSE: Supporting Exploration of Software-Hardware Interactions Through Examples"
          ],
          [
           "Recordkeeping in Voice-based Remote Community Engagement"
          ],
          [
           "In Between Users and Developers: Serendipitous Connections and Intermediaries in Volunteer-Driven Open-Source Software Development"
          ],
          [
           "Exploring the Impact of Interconnected External Interfaces in Autonomous Vehicles on Pedestrian Safety and Experience"
          ],
          [
           "Empowering Calibrated (Dis-)Trust in Conversational Agents: A User Study on the Persuasive Power of Limitation Disclaimers vs. Authoritative Style"
          ],
          [
           "Human I/O: Towards a Unified Approach to Detecting Situational Impairments"
          ],
          [
           "The Effects of Update Interval and Reveal Method on Writer Comfort in Synchronized Shared-Editors"
          ],
          [
           "Promoting Engagement in Remote Patient Monitoring Using Asynchronous Messaging"
          ],
          [
           "Interrupting for Microlearning: Understanding Perceptions and Interruptibility of Proactive Conversational Microlearning Services"
          ],
          [
           "Supporting Interpersonal Emotion Regulation of Call Center Workers via Customer Voice Modulation"
          ],
          [
           "Exploring Collective Theory of Mind on Pedestrian Behavioral Intentions"
          ],
          [
           "Look Over Here! Comparing Interaction Methods for User-Assisted Remote Scene Reconstruction"
          ],
          [
           "Designing Conversational Agents to Facilitate Patient-Physician Communication and Clinical Consulation"
          ],
          [
           "Motives and Role of Psychological Ownership in AR Workspaces for Remote Collaboration"
          ],
          [
           "CO-Coffee: A Technology Probe Study to Facilitate Coffee Breaks in Open Offices"
          ],
          [
           "Giggling in the Shower: Humor Increases the Acceptance of Technology-mediated Behavioral Interventions."
          ],
          [
           "Towards Equitable CPR: An Interactive System for Female CPR Training"
          ],
          [
           "Dark Sides: Envisioning, Understanding, and Preventing Harmful Effects of Writing Assistants - The Third Workshop on Intelligent and Interactive Writing Assistants"
          ],
          [
           "Relational Affect in Dyadic Interactions"
          ],
          [
           "Addressing the Technology Learning Divide Using Co-Learning with Familiarization Method"
          ],
          [
           "PeerConnect: Co-designing a Peer-Mentoring Support System with Computing Transfer Students"
          ],
          [
           "Human-Notebook Interactions: The CHI of Computational Notebooks"
          ],
          [
           "“I just embodied you”: Psychological Ownership of Personalized Photorealistic Avatars"
          ],
          [
           "Metaphors in Voice User Interfaces: A Slippery Fish"
          ],
          [
           "“It’s Weird That it Knows What I Want”: Usability and Interactions with Copilot for Novice Programmers"
          ],
          [
           "FETCH: Fostering and Enhancing Teamwork, Communication, and Healthy Community Among Animal Shelter Volunteers through Mobile Technology"
          ],
          [
           "Supporting the Digital Aspects of Reentry for Formerly Incarcerated Individuals"
          ],
          [
           "There is an “I” in “We”: Relatedness Technologies Viewed Through the Lens of the Need for Autonomy"
          ],
          [
           "Post-growth Human–Computer Interaction"
          ],
          [
           "Examining Voice Community Use"
          ],
          [
           "Enabling Multi-modal Conversational Interface for Clinical Imaging"
          ],
          [
           "Exploring Redesigning Digital P2P Payments to Facilitate Social Connections: A Participatory Design Approach"
          ],
          [
           "No Risk, No Reward: Towards An Automated Measure of Psychological Safety from Online Communication"
          ],
          [
           "No Joke: An Embodied Conversational Agent Greeting Older Adults with Humour or a Smile Unrelated to Initial Acceptance"
          ],
          [
           "Kawaii Computing: Scoping Out the Japanese Notion of Cute in User Experiences with Interactive Systems"
          ],
          [
           "Improving Advising Relationships Between PhD Students and Faculty in Human-Computer Interaction"
          ],
          [
           "Sustaining Scalable Sustainability: Human-Centered Green Technology for Community-wide Carbon Reduction"
          ],
          [
           "Comparing the Agency of Hybrid Meeting Remote Users in 2D and 3D Interfaces of the Hybridge System"
          ],
          [
           "Towards Improving Real-Time Head-Worn Display Caption Mediated Conversations with Speaker Feedback for Hearing Conversation Partners"
          ],
          [
           "Passive Co-presence: Exploring How Peripheral Devices Connect People Over Distance"
          ],
          [
           "Afro-centric Collaborative care: Technology support for Type 2 Diabetes Management in Port Harcourt, Nigeria"
          ],
          [
           "Through the Interface and What Followed..."
          ],
          [
           "A Lifetime of Design Research in Human-Computer Interaction"
          ]
         ],
         "hovertemplate": "cluster=Psychological Aspects of Interaction Design<br>umap_x=%{x}<br>umap_y=%{y}<br>sentence=%{customdata[0]}<extra></extra>",
         "legendgroup": "Psychological Aspects of Interaction Design",
         "marker": {
          "color": "#00cc96",
          "symbol": "circle"
         },
         "mode": "markers",
         "name": "Psychological Aspects of Interaction Design",
         "showlegend": true,
         "type": "scattergl",
         "x": {
          "bdata": "0jY8wChBgMAAGlrAg4aIwDEBr78iom/AqrswwIYaKsCr0T7AN+PIv9bayr8+fhvAIVUbwAHya8B8VyLAEwLSv2ajVcAdFw7AG/etvzeFHMATQCjAr6P/vz8dkb+cqmvAcL70v8bYdsDX22fAPBAywGH9CcAHPlvAfDMDwFVotr82zsq/1YlbwGmewb/pEGfAPVJRwKrJA8DsY0PAGmf7vxbhU8C3NwDAaxJrwHHZXcCj+zvAKrZAwL1fEsD0/X2/44A5v4FPRMC2Vn3AhGJowIJv7b7rUYLAgIdyv6KNZcBd4U/Ag9WXv+N2rr8W5WfA8uSBwEkEdcCqPwDA6bmVv1kpgcDtNYjA1kfPvxmpKsC0dYLA7GtXv5d1MMCp4BbAs3wLwAc9RcBKjUzApTE0wBjTHsCnI3rAn/0Av3/4MMAme4PAREkCwDlcNcCZRIfAPFtowEMPRcA1pKW/Z8sowCzLbsBYvYDAxnkcwMMKTMDm70XAvAGyv5sxwr5wJZ+/K64wwJirUcAI3F7A",
          "dtype": "f4"
         },
         "xaxis": "x",
         "y": {
          "bdata": "IpzqP0qBD0Dz6S5AJDg0QP/mB0AQSx9AGY83QPssjz8MZChAMo+YQO51GkCNghpAx0toQML1MUA0WNk/RTkVQNGrWUBmIV1AtFMSQORhxj+uwMI/lhEvQIkVGEACn31AKcEpQMQmHECgqiFAs2xXQM44LUDgQQhAVOjxP6T6IkBU5fg/oQV1QAnaEUD9ZvI/ijg6QH3VVUB6XCVASt75Pw6wFUCGZypAwhoTQCEM3j/KVo0/2K2tP51P0T8F2ylArMszQAqHW0AxlhVAF+IPQFttUEBRRRxAaWwvQMwTRUCekjZANz49QGkOD0DSM3tAJ0kaQNAxU0BkAztA6/NHQHknFEA6TANA1nwcQLw6T0C3BxhAsUNGQJUdH0DJRT5AtjeDQH6IXkDPoy9ACgYcQAJyAkBnzTpAd7VAQCunNUDh91ZAG1MTQDKZ5j97v2tA37czQA0iJ0C3l2hA6BUGQJh7RUBijHtAqsJsQEVZHEBBxL4/SZg+QMAfKEAINUBARPwGQMyAdkCx9TBA",
          "dtype": "f4"
         },
         "yaxis": "y"
        },
        {
         "customdata": [
          [
           "ClassInSight: Designing Conversation Support Tools to Visualize Classroom Discussion for Personalized Teacher Professional Development"
          ],
          [
           "Is Stack Overflow Obsolete? An Empirical Study of the Characteristics of ChatGPT Answers to Stack Overflow Questions"
          ],
          [
           "Evaluating the Experience of LGBTQ+ People Using Large Language Model Based Chatbots for Mental Health Support"
          ],
          [
           "CharacterMeet: Supporting Creative Writers' Entire Story Character Construction Processes Through Conversation with LLM-Powered Chatbot Avatars"
          ],
          [
           "Unlock Life with a Chat(GPT): Integrating Conversational AI with Large Language Models into Everyday Lives of Autistic Individuals"
          ],
          [
           "Eternagram: Probing Player Attitudes Towards Climate Change Using a ChatGPT-driven Text-based Adventure"
          ],
          [
           "The Promise and Peril of ChatGPT in Higher Education: Opportunities, Challenges, and Design Implications"
          ],
          [
           "CloChat: Understanding How People Customize, Interact, and Experience Personas in Large Language Models"
          ],
          [
           "A Piece of Theatre: Investigating How Teachers Design LLM Chatbots to Assist Adolescent Cyberbullying Education"
          ],
          [
           "Towards Designing a Question-Answering Chatbot for Online News: Understanding Questions and Perspectives"
          ],
          [
           "More than Model Documentation: Uncovering Teachers' Bespoke Information Needs for Informed Classroom Integration of ChatGPT"
          ],
          [
           "Debate Chatbots to Facilitate Critical Thinking on YouTube: Social Identity and Conversational Style Make A Difference"
          ],
          [
           "Beyond the Waiting Room: Patient's Perspectives on the Conversational Nuances of Pre-Consultation Chatbots"
          ],
          [
           "ChatScratch: An AI-Augmented System Toward Autonomous Visual Programming Learning for Children Aged 6-12"
          ],
          [
           "Let’s Talk About Death: Existential Conversations with Chatbots"
          ],
          [
           "VAL: Interactive Task Learning with GPT Dialog Parsing"
          ],
          [
           "Testing, Socializing, Exploring: Characterizing Middle Schoolers’ Approaches to and Conceptions of ChatGPT"
          ],
          [
           "StayFocused: Examining the Effects of Reflective Prompts and Chatbot Support on Compulsive Smartphone Use"
          ],
          [
           "Understanding the Impact of Long-Term Memory on Self-Disclosure with Large Language Model-Driven Chatbots for Public Health Intervention"
          ],
          [
           "Silver-Tongued and Sundry: Exploring Intersectional Pronouns with ChatGPT"
          ],
          [
           "ChatDirector: Enhancing Video Conferencing with Space-Aware Scene Rendering and Speech-Driven Layout Transition"
          ],
          [
           "\"If the Machine Is As Good As Me, Then What Use Am I?\" – How the Use of ChatGPT Changes Young Professionals' Perception of Productivity and Accomplishment"
          ],
          [
           "Exploring the Impact of User-Participated Customization in Experiencing Chatbot Failure"
          ],
          [
           "Designing a Proactive Context-Aware AI Chatbot for People's Long-Term Goals"
          ],
          [
           "Comparing ChatGPT and Humans on World Knowledge and Common-sense Reasoning Tasks: A case study of the Japanese Winograd Schema Challenge"
          ],
          [
           "Exploring LLM-based Chatbot for Language Learning and Cultivation of Growth Mindset"
          ],
          [
           "Student Interaction with NewtBot: An LLM-as-tutor Chatbot for Secondary Physics Education"
          ],
          [
           "Human-AI Collaboration in Thematic Analysis using ChatGPT: A User Study and Design Recommendations"
          ],
          [
           "“I Don’t Want to be Pitied by a Bot”: Understand How to Design Chatbots to Support People Being Ghosted on Dating Applications"
          ],
          [
           "They Prefer Humans! Experimental Measurement of Student Trust in ChatGPT"
          ],
          [
           "Language of Zelda: Facilitating Language Learning Practices Using ChatGPT"
          ],
          [
           "Chatbot and Fatigued Driver: Exploring the Use of LLM-Based Voice Assistants for Driving Fatigue"
          ],
          [
           "Young Children and ChatGPT: Parents' Use of ChatGPT in Parenting"
          ],
          [
           "Exploring the Use of Large Language Model-Driven Chatbots in Virtual Reality to Train Autistic Individuals in Job Communication Skills"
          ],
          [
           "Co-Designing an AI Chatbot to Improve Patient Experience in the Hospital; A human-centered design case study of a collaboration between a hospital, a university, and ChatGPT"
          ],
          [
           "Leveraging ChatGPT for Adaptive Learning through Personalized Prompt-based Instruction: A CS1 Education Case Study"
          ],
          [
           "“Tele” Me More: Using Telepresence Charades to Connect Strangers and Exhibits in Different Museums"
          ],
          [
           "Young Children’s Creative Storytelling with ChatGPT vs. Parent: Comparing Interactive Styles"
          ],
          [
           "Anthropomorphism in Chatbot Systems Between Gender and Individual Differences"
          ],
          [
           "The Arizona Water Chatbot: Helping Residents Navigate a Water Uncertain Future One Response at a Time"
          ],
          [
           "Beyond ChatBots: ExploreLLM for Structured Thoughts and Personalized Model Responses"
          ],
          [
           "Do We Trust ChatGPT as much as Google Search and Wikipedia?"
          ],
          [
           "Empowering Learners: Chatbot-Mediated 'Learning-by-Teaching'"
          ],
          [
           "Empowering Personalized Learning through a Conversation-based Tutoring System with Student Modeling"
          ],
          [
           "How Does Conversation Length Impact User’s Satisfaction? A Case Study of Length-Controlled Conversations with LLM-Powered Chatbots"
          ],
          [
           "DrawTalking: Towards Building Interactive Worlds by Sketching and Speaking"
          ],
          [
           "Fireside Chat"
          ]
         ],
         "hovertemplate": "cluster=Chatbots and AI in Education and Communication<br>umap_x=%{x}<br>umap_y=%{y}<br>sentence=%{customdata[0]}<extra></extra>",
         "legendgroup": "Chatbots and AI in Education and Communication",
         "marker": {
          "color": "#ab63fa",
          "symbol": "circle"
         },
         "mode": "markers",
         "name": "Chatbots and AI in Education and Communication",
         "showlegend": true,
         "type": "scattergl",
         "x": {
          "bdata": "tnh3wMvfgcBMAZDAhreUwJC7jMCV0HLAalh5wNS7k8Dn2ZLATziSwGBmgcBzx5LAdZuRwJh7i8DfbpPAgH2CwDMXg8DNpnPAOwiQwPhgdsDRaPS+m0t9wE2BksBbApTAtZt8wBWumcAftpfAmOKPwP5kkcBRTYHAdZ2IwGZtnMAAS4LAFzSLwAUGlMAG1IDAkJFZwN+tb8BsO47AlbeTwI2yl8B+X4LAtY6KwL7OgMD8JZnAqiBCwNI+icA=",
          "dtype": "f4"
         },
         "xaxis": "x",
         "y": {
          "bdata": "/ZAlQE/M9D/V/+8/apEAQG7o+j+80wZAzvD0P5+g7z8FxQBA5aUIQCpCAED40gpAEqgUQDOyGUDK1AdA/WINQGdC+z8qWvY/zRroP7kk7T9HcFZAYpj9P4tRCUCCHgNArz34P2om5T8HZ/o/vdo6QE+3CUCN9ARAGqzxP0bZ9j92Ofc/eYUSQGKyGkCz1wBAWedtQCtyCEBO2SFAur4KQAGB9T88tfc/OQ8QQOFEE0DAIfw/VHGIQGg/A0A=",
          "dtype": "f4"
         },
         "yaxis": "y"
        },
        {
         "customdata": [
          [
           "Playing on Hard Mode: Accessibility, Difficulty and Joy in Video Game Adoption for Gamers with Disabilities"
          ],
          [
           "Visual Cues for Data Analysis Features Amplify Challenges for Blind Spreadsheet Users"
          ],
          [
           "Do You See What I See? A Qualitative Study Eliciting High-Level Visualization Comprehension"
          ],
          [
           "Looking Together ≠ Seeing the Same Thing: Understanding Surgeons' Visual Needs During Intra-operative Coordination and Instruction"
          ],
          [
           "“Customization is Key”: Reconfigurable Textual Tokens for Accessible Data Visualizations"
          ],
          [
           "“It’s Kind of Context Dependent”: Understanding Blind and Low Vision People’s Video Accessibility Preferences Across Viewing Scenarios"
          ],
          [
           "Uncovering Human Traits in Determining Real and Spoofed Audio: Insights from Blind and Sighted Individuals"
          ],
          [
           "Towards Inclusive Source Code Readability Based on the Preferences of Programmers with Visual Impairments"
          ],
          [
           "Data Storytelling in Data Visualisation: Does it Enhance the Efficiency and Effectiveness of Information Retrieval and Insights Comprehension?"
          ],
          [
           "SEAM-EZ: Simplifying Stateful Analytics through Visual Programming"
          ],
          [
           "Remembering through Sound: Co-creating Sound-based Mementos together with People with Blindness"
          ],
          [
           "Designing Unobtrusive Modulated Electrotactile Feedback on Fingertip Edge to Assist Blind and Low Vision (BLV) People in Comprehending Charts"
          ],
          [
           "How Do Low-Vision Individuals Experience Information Visualization?"
          ],
          [
           "Uncovering and Addressing Blink-Related Challenges in Using Eye Tracking for Interactive Systems"
          ],
          [
           "A Contextual Inquiry of People with Vision Impairments in Cooking"
          ],
          [
           "Algorithmic Ways of Seeing: Using Object Detection to Facilitate Art Exploration"
          ],
          [
           "Digital Comprehensibility Assessment of Simplified Texts among Persons with Intellectual Disabilities"
          ],
          [
           "Help Supporters: Exploring the Design Space of Assistive Technologies to Support Face-to-Face Help Between Blind and Sighted Strangers"
          ],
          [
           "Designing and Evaluating an Advanced Dance Video Comprehension Tool with In-situ Move Identification Capabilities"
          ],
          [
           "VisTorch: Interacting with Situated Visualizations using Handheld Projectors"
          ],
          [
           "Look Once to Hear: Target Speech Hearing with Noisy Examples"
          ],
          [
           "Designing Accessible Obfuscation Support for Blind Individuals’ Visual Privacy Management"
          ],
          [
           "\"Ah! I see'' - Facilitating Process Reflection in Gameplay through a Novel Spatio-Temporal Visualization System"
          ],
          [
           "Reading Between the Pixels: Investigating the Barriers to Visualization Literacy"
          ],
          [
           "Lights, Camera, Access: A Closeup on Audiovisual Media Accessibility and Aphasia"
          ],
          [
           "Enhancing ESL Learners' Experience and Performance through Gradual Adjustment of Video Speed during Extensive Viewing"
          ],
          [
           "SPICA: Interactive Video Content Exploration through Augmented Audio Descriptions for Blind or Low-Vision Viewers"
          ],
          [
           "SwapVid: Integrating Video Viewing and Document Exploration with Direct Manipulation"
          ],
          [
           "\"Speech is Silver, Silence is Golden \" Analyzing Micro-communication Strategies between Visually Impaired Runners and their Guides"
          ],
          [
           "Discovering Accessible Data Visualizations for People with ADHD"
          ],
          [
           "TADA: Making Node-link Diagrams Accessible to Blind and Low-Vision People"
          ],
          [
           "A Human Information Processing Theory of the Interpretation of Visualizations: Demonstrating Its Utility"
          ],
          [
           "Don’t Look Now: Audio/Haptic Guidance for 3D Scanning of Landmarks"
          ],
          [
           "FetchAid: Making Parcel Lockers More Accessible to Blind and Low Vision People With Deep-learning Enhanced Touchscreen Guidance, Error-Recovery Mechanism, and AR-based Search Support"
          ],
          [
           "Attention Receipts: Utilizing the Materiality of Receipts to Improve Screen-time Reflection on YouTube"
          ],
          [
           "Input Visualization: Collecting and Modifying Data with Visual Representations"
          ],
          [
           "\"Do You Want Me to Participate or Not?\": Investigating the Accessibility of Software Development Meetings for Blind and Low Vision Professionals"
          ],
          [
           "\"I Don't Really Get Involved In That Way\": Investigating Blind and Visually Impaired Individuals’ Experiences of Joint Attention with Sighted People"
          ],
          [
           "AccessLens: Auto-detecting Inaccessibility of Everyday Objects"
          ],
          [
           "Constrained Highlighting in a Document Reader can Improve Reading Comprehension"
          ],
          [
           "Surveyor: Facilitating Discovery Within Video Games for Blind and Low Vision Players"
          ],
          [
           "VAID: Indexing View Designs in Visual Analytics System"
          ],
          [
           "Designing to Support Blind and Visually Impaired Older Adults in Managing the Invisible Labor of Social Participation: Opportunities and Challenges"
          ],
          [
           "Glanceable Data Visualizations for Older Adults: Establishing Thresholds and Examining Disparities Between Age Groups"
          ],
          [
           "PD-Insighter: A Visual Analytics System to Monitor Daily Actions for Parkinson's Disease Treatment"
          ],
          [
           "Making Short-Form Videos Accessible with Hierarchical Video Summaries"
          ],
          [
           "PriviAware: Exploring Data Visualization and Dynamic Privacy Control Support for Data Collection in Mobile Sensing Research"
          ],
          [
           "Exploring Design Approaches for Reducing Viewers' Discomfort with Distressing Short-form Videos"
          ],
          [
           "Context matters: Investigating information sharing in mixed-visual ability social interactions"
          ],
          [
           "Keep Eyes on the Sentence: An Interactive Sentence Simplification System for English Learners Based on Eye Tracking and Large Language Models"
          ],
          [
           "Utilizing Video and Sensor Technology for Analyzing Non-Swimmer Children in Swimming Education Programs through Observational Methods"
          ],
          [
           "Understanding Expert Crafting Practices of Blind and Low Vision Creatives"
          ],
          [
           "Broadening Our View: Assistive Technology for Cerebral Visual Impairment"
          ],
          [
           "Tangible Stats: An Embodied and Multimodal Platform for Teaching Data and Statistics to Blind and Low Vision Students"
          ],
          [
           "Toward a More Comprehensive Understanding of Visualization Literacy"
          ],
          [
           "Charting Beyond Sight with DataStory: Sensory Substitution and Storytelling in Visual Literacy Education for Visually Impaired Children"
          ],
          [
           "Documentary Film of  Low Vision Boxing: Collaborative Design of Adaptive Kickboxing Experiences"
          ],
          [
           "Understanding the Effects of Short-Form Videos on Sustained Attention"
          ],
          [
           "Visual Noise Cancellation: Exploring Visual Discomfort and Opportunities for Vision Augmentations"
          ],
          [
           "Investigating Phishing Threats in the Email Browsing Experience of Visually Impaired Individuals"
          ],
          [
           "SmartLearn: Visual-Temporal Accessibility for Slide-based e-learning Videos"
          ],
          [
           "Visual Explanation for Advertising Creative Workflow"
          ],
          [
           "Early Autism Screening in Children Using Facial Recognition"
          ],
          [
           "OptiDot: An Optical Interface for Children to Explore Dot Product and AI Recommendation"
          ],
          [
           "BiasBuzz: Combining Visual Guidance with Haptic Feedback to Increase Awareness of Analytic Behavior during Visual Data Analysis"
          ],
          [
           "A Design of Interface for Visual-Impaired People to Access Visual Information from Images Featuring Large Language Models and Visual Language Models"
          ]
         ],
         "hovertemplate": "cluster=Accessibility and Assistive Technologies<br>umap_x=%{x}<br>umap_y=%{y}<br>sentence=%{customdata[0]}<extra></extra>",
         "legendgroup": "Accessibility and Assistive Technologies",
         "marker": {
          "color": "#FFA15A",
          "symbol": "circle"
         },
         "mode": "markers",
         "name": "Accessibility and Assistive Technologies",
         "showlegend": true,
         "type": "scattergl",
         "x": {
          "bdata": "7Nbxv2sMDb8uemG/7GXPvjjGtr8BgjC/sGXivpnuSL/+0qS/Mwz7v9KlAb9Bn7O/LOwkvwbjDMBK8AO/6S4cv5Bax782J0W/AS3uv8Lpwr5eEaq+QukvvxUTyb9Jzm2/a59Iv9aDe7/BozK/Bou4v1G1K7/C+si/W9wVv20r0L8hW5y/Ig0ev1LYeL9st7i/QzYavxZ3G7+RjyO/yJFlwCUBB78rSvy/cHV0v53/lL992QLAnW6Mv28Lyb/jFZm/WON3v9+SIMD+IVO/52fLvlP0Wr87nyi/32CAv2b9c7/tdm++gIKEvzZ4q76vSVG/UfOlv7lRUMCFmfG/KRBjwOq5/78gL3y/",
          "dtype": "f4"
         },
         "xaxis": "x",
         "y": {
          "bdata": "jpkVQNjOF0A67DlAFqMqQHaMRECR2BZAxq8QQI7TF0C+5jxAnPZdQICxH0DF5pJAbhwuQHyJdkCiXBhAAHcvQGmVK0CYcxRAwKiOQE/AcEDZlidAJakIQGn7VEB8wjJAln06QEh1XEDdziFA0SyBQHHCLkCbdUxACMQWQO1JSEBtnYhAl6YYQGlVD0A2UUlAEZ4RQOCXC0B3Wx9AtJMoQHMnGEAC7WJAROgbQPzjIkBFdmZADJsPQOiFVECggxdA9GUkQINNc0DLkkFAvV4WQHFyJ0Dv+g9AgvM5QBflNECDd0dAZJALQJaEUUAeGf8/jdprQDA6gEBYTkhAv8d7QBbrXkAwAx5A",
          "dtype": "f4"
         },
         "yaxis": "y"
        },
        {
         "customdata": [
          [
           "HCI History and the Trajectory to Generative AI"
          ],
          [
           "Generative AI in the Wild: Prospects, Challenges, and Strategies"
          ],
          [
           "Validating AI-Generated Code with Live Programming"
          ],
          [
           "Is Resistance Futile?: Early Career Game Developers, Generative AI, and Ethical Skepticism"
          ],
          [
           "Beyond Numbers: Creating Analogies to Enhance Data Comprehension and Communication with Generative AI"
          ],
          [
           "EmoEden: Applying Generative Artificial Intelligence to Emotional Learning for Children with High-Function Autism"
          ],
          [
           "Sketching AI Concepts with Capabilities and Examples: AI Innovation in the Intensive Care Unit"
          ],
          [
           "Is It AI or Is It Me? Understanding Users’ Prompt Journey with Text-to-Image Generative AI Tools"
          ],
          [
           "How AI Processing Delays Foster Creativity: Exploring Research Question Co-Creation with an LLM-based Agent"
          ],
          [
           "Fashioning Creative Expertise with Generative AI:  Graphical Interfaces for Design Space Exploration Better Support Ideation Than Text Prompts"
          ],
          [
           "Exploring AI Problem Formulation with Children via Teachable Machines"
          ],
          [
           "\"I want it to talk like Darth Vader\": Helping Children Construct Creative Self-Efficacy with Generative AI"
          ],
          [
           "Incremental XAI: Memorable Understanding of AI with Incremental Explanations"
          ],
          [
           "\"When He Feels Cold, He Goes to the Seahorse\"—Blending Generative AI into Multimaterial Storymaking for Family Expressive Arts Therapy"
          ],
          [
           "Charting the Future of AI in Project-Based Learning: A Co-Design Exploration with Students"
          ],
          [
           "Writer-Defined AI Personas for On-Demand Feedback Generation"
          ],
          [
           "Exploring Collaborative Movement Improvisation Towards the Design of LuminAI—a Co-Creative AI Dance Partner"
          ],
          [
           "(Un)making AI Magic: A Design Taxonomy"
          ],
          [
           "The Value, Benefits, and Concerns of Generative AI-Powered Assistance in Writing"
          ],
          [
           "Jess+: AI and robotics with inclusive music-making"
          ],
          [
           "Socio-technical Imaginaries: Envisioning and Understanding AI Parenting Supports through Design Fiction"
          ],
          [
           "Jigsaw: Supporting Designers to Prototype Multimodal Applications by Chaining AI Foundation Models"
          ],
          [
           "Prompting for Discovery: Flexible Sense-Making for AI Art-Making with Dreamsheets"
          ],
          [
           "RoomDreaming: Generative-AI Approach to Facilitating Iterative, Preliminary Interior Design Exploration"
          ],
          [
           "Exploring the Design of Generative AI in Supporting Music-based Reminiscence for Older Adults"
          ],
          [
           "The Metacognitive Demands and Opportunities of Generative AI"
          ],
          [
           "Unlocking Creator-AI Synergy: Challenges, Requirements, and Design Opportunities in AI-Powered Short-Form Video Production"
          ],
          [
           "PlantoGraphy: Incorporating Iterative Design Process into Generative Artificial Intelligence for Landscape Rendering"
          ],
          [
           "The Effects of Generative AI on Design Fixation and Divergent Thinking"
          ],
          [
           "How Knowledge Workers Think Generative AI Will (Not) Transform Their Industries"
          ],
          [
           "Neural Canvas: Supporting Scenic Design Prototyping by Integrating 3D Sketching and Generative AI"
          ],
          [
           "OutlineSpark: Igniting AI-powered Presentation Slides Creation from Computational Notebooks through Outlines"
          ],
          [
           "Teachers, Parents, and Students' perspectives on Integrating Generative AI into Elementary Literacy Education"
          ],
          [
           "Luminate: Structured Generation and Exploration of Design Space with Large Language Models for Human-AI Co-Creation"
          ],
          [
           "When Teams Embrace AI: Human Collaboration Strategies in Generative Prompting in a Creative Design Task"
          ],
          [
           "Deconstructing the Veneer of Simplicity: Co-Designing Introductory Generative AI Workshops with Local Entrepreneurs"
          ],
          [
           "Putting Things into Context: Generative AI-Enabled Context Personalization for Vocabulary Learning Improves Learning Motivation"
          ],
          [
           "In-Between Visuals and Visible: The Impacts of Text-to-Image Generative AI Tools on Digital Image-making Practices in the Global South"
          ],
          [
           "From Paper to Card: Transforming Design Implications with Generative AI"
          ],
          [
           "Design Principles for Generative AI Applications"
          ],
          [
           "ReelFramer: Human-AI Co-Creation for News-to-Video Translation"
          ],
          [
           "CreativeConnect: Supporting Reference Recombination for Graphic Design Ideation with Generative AI"
          ],
          [
           "Care-Based Eco-Feedback Augmented with Generative AI: Fostering Pro-Environmental Behavior through Emotional Attachment"
          ],
          [
           "Sound Designer-Generative AI Interactions: Towards Designing Creative Support Tools for Professional Sound Designers"
          ],
          [
           "ABScribe: Rapid Exploration & Organization of Multiple Writing Variations in Human-AI Co-Writing Tasks using Large Language Models"
          ],
          [
           "User Experience Design Professionals’ Perceptions of Generative Artificial Intelligence"
          ],
          [
           "A Canary in the AI Coal Mine: American Jews May Be Disproportionately Harmed by Intellectual Property Dispossession in Large Language Model Training"
          ],
          [
           "Towards a Diffractive Analysis of Prompt-Based Generative AI"
          ],
          [
           "The Impact of Sketch-guided vs. Prompt-guided 3D Generative AIs on the Design Exploration Process"
          ],
          [
           "Deus Ex Machina and Personas from Large Language Models: Investigating the Composition of AI-Generated Persona Descriptions"
          ],
          [
           "Generative AI in Creative Practice: ML-Artist Folk Theories of T2I Use, Harm, and Harm-Reduction"
          ],
          [
           "From Provenance to Aberrations: Image Creator and Screen Reader User Perspectives on Alt Text for AI-Generated Images"
          ],
          [
           "Machine Learning Processes As Sources of Ambiguity: Insights from AI Art"
          ],
          [
           "GenAICHI 2024: Generative AI and HCI at CHI 2024"
          ],
          [
           "Introducing Children to AI and ML with Five Software Exhibits"
          ],
          [
           "The Social Construction of Generative AI Prompts"
          ],
          [
           "What’s the Look of \"Negative Gender\" and “Max Ethnicity” in AI-Generated Images? A Critical Visual Analysis of the Intersectional Politics of Portrayal"
          ],
          [
           "Enhancing Programming Error Messages in Real Time with Generative AI"
          ],
          [
           "Unlocking Memories with AI: Exploring the Role of AI-Generated Cues in Personal Reminiscing"
          ],
          [
           "Virtual Dream Reliving: Exploring Generative AI in Immersive Environment for Dream Re-experiencing"
          ],
          [
           "The Potential of Learning With AI-Generated Pedagogical Agents in Instructional Videos"
          ],
          [
           "AI and the Afterlife"
          ],
          [
           "Generative AI in User-Generated Content"
          ],
          [
           "To Search or To Gen? Exploring the Synergy between Generative AI and Web Search in Programming"
          ],
          [
           "Exploring the Evolvement of Artwork Descriptions in Online Creative Community under the Surge of Generative AI: A Case Study of DeviantArt"
          ],
          [
           "Transforming HCI Research Cycles using Generative AI and “Large Whatever Models” (LWMs)"
          ],
          [
           "AI-Generated Media for Exploring Alternate Realities"
          ],
          [
           "\"A New Golden Era\" or \"Slap Comps\": How Non-Profit Driven Indie Game Developers Perceive the Emerging Role of Generative AI in Game Development"
          ],
          [
           "Bias by Default. Neocolonial Visual Vocabularies in AI Image Generating Design Practices"
          ],
          [
           "Can AI Help Inspire Healthy Eating? Exploring the Potential of Generated Motivational Texts and Images Related to Healthy Food Choices"
          ],
          [
           "\"It's Really Enjoyable to See Me Solve the Problem like a Hero\": GenAI-enhanced Data Comics as a Learning Analytics Tool"
          ],
          [
           "On the Design of Quologue: Uncovering Opportunities and Challenges with Generative AI as a Resource for Creating a Self-Morphing E-book Metadata Archive"
          ],
          [
           "SHADE: Empowering Consumer Choice for Sustainable Fashion with AI and Digital Tooling"
          ],
          [
           "StoryPrompt: Exploring the Design Space of an AI-Empowered Creative Storytelling System for Elementary Children"
          ],
          [
           "Understanding the Use of AI-Based Audio Generation Models by End-Users"
          ],
          [
           "Implications of Regulations on the Use of AI and Generative AI for Human-Centered Responsible Artificial Intelligence"
          ],
          [
           "CoExplorer: Generative AI Powered 2D and 3D Adaptive Interfaces to Support Intentionality in Video Meetings"
          ],
          [
           "GELEX: Generative AI-Hybrid System for Example-Based Learning"
          ],
          [
           "Artists and AI: Creative Interactions and Tensions"
          ],
          [
           "A Preliminary Exploration of YouTubers' Use of Generative-AI in Content Creation"
          ],
          [
           "Challenging Transhumanist Apocalyptic AI Narratives Through Speculative Fabulation"
          ],
          [
           "Keynote: Rematerializing AI"
          ]
         ],
         "hovertemplate": "cluster=Generative AI in Design and Creativity<br>umap_x=%{x}<br>umap_y=%{y}<br>sentence=%{customdata[0]}<extra></extra>",
         "legendgroup": "Generative AI in Design and Creativity",
         "marker": {
          "color": "#19d3f3",
          "symbol": "circle"
         },
         "mode": "markers",
         "name": "Generative AI in Design and Creativity",
         "showlegend": true,
         "type": "scattergl",
         "x": {
          "bdata": "6+m1wPVXscD2AKrAdlCqwET6q8CVeqrAvyGtwJ2sosByEqrARcmgwPzYssCzy6/AoXy1wAy/qsBbWKnApn+swEIPksDUh6bAHcytwHZ2m8DT26rAHO+VwEROqcChYabAXESlwJvMtcCK/6nAqTCdwEICp8COFqzAci6lwDg3osAQwKvA4pWdwBuLn8C2+abAWISfwPX1k8DH1a7Ak1SpwFMPmcCfgqHAY3KnwAZmncBgZKbAsMGswHjsrMAcdq/Any6nwJV6qMCenKfAp9WdwCd9rsA1X7jA+cOvwKSRsMDWY5fAmRqrwI2SssBJH6LAtz2xwIexrcCJKLHAtfmwwA3UsMAbfa/AAjmswLc+ssA6R57AkXCmwKh4sMBkhbTASkGcwIEMs8AcEanAOwutwPLunMAz87XArUmkwDOQssDCgqjA1q6wwA==",
          "dtype": "f4"
         },
         "xaxis": "x",
         "y": {
          "bdata": "EbU9QJJFYUB31idAZ8dcQAg1R0B5e1FATi5bQAW4UkBuAg1AxzBxQJjkSUDh2V5A+cJCQP11XECQgk9Ahug5QACdbUCKe3FAEA9LQKfvfUDpF2xApqZrQNSNbUCuXnlAkxh4QGhkWkBdk3dA/yyCQPTKcEBXV1hATFCAQFiBX0CexTtAKdMgQKOUcECJsW5A8Z9BQIKbWkCTlmdAgOl0QAEQc0BERHdALjVSQAwed0BCXxZA/QpvQKN5Q0A5PmhAnXB4QP2NLUD+SWlAnNRYQJjOSUDZi0JAnHhJQJl8bECYIklAveo1QIafWECNTIdAlExQQFU4YkC6yWVAALBlQDjFcEDOiyBAAehpQGNhZUBjkkdAs99FQHx1VkABxF5AO+BsQL5ZTEDYjWlAAIdgQL4Bg0B7kUZA47J4QArRb0Bi0m9AsWRmQA==",
          "dtype": "f4"
         },
         "yaxis": "y"
        },
        {
         "customdata": [
          [
           "TypeDance: Creating Semantic Typographic Logos from Image through Personalized Generation"
          ],
          [
           "Emotion Embodied: Unveiling the Expressive Potential of Single-Hand Gestures"
          ],
          [
           "The Illusion of Increased Customization: Framing Choices as a Creative Process Increases Perceived Customization"
          ],
          [
           "Xylocode: A Novel Approach to Fostering Interest in Computer Science via an Embodied Music Simulation"
          ],
          [
           "“Can you be with that feeling?”: Extending Design Strategies for Interoceptive Awareness for the Context of Mental Health"
          ],
          [
           "Towards Inclusive Video Commenting: Introducing Signmaku for the Deaf and Hard-of-Hearing"
          ],
          [
           "“It is hard to remove from my eye”: Design Makeup Residue Visualization System for Chinese Traditional Opera (Xiqu) Performers"
          ],
          [
           "Unspoken Sound: Identifying Trends in Non-Speech Audio Captioning on YouTube"
          ],
          [
           "\"Waves Push Me to Slumberland\": Reducing Pre-Sleep Stress through Spatio-Temporal Tactile Displaying of Music."
          ],
          [
           "Audio Engineering by People Who Are deaf and Hard of Hearing: Balancing Confidence and Limitations"
          ],
          [
           "iPose: Interactive Human Pose Reconstruction from Video"
          ],
          [
           "When the Body Became Data: Historical Data Cultures and Anatomical Illustration"
          ],
          [
           "Capturing Cancer as Music: Cancer Mechanisms Expressed through Musification"
          ],
          [
           "A Way for Deaf and Hard of Hearing People to Enjoy Music by Exploring and Customizing Cross-modal Music Concepts"
          ],
          [
           "Supporting Experiential Learning in People with Gestational Diabetes Mellitus"
          ],
          [
           "Conveying Emotions through Shape-changing to Children with and without Visual Impairment"
          ],
          [
           "Using Low-frequency Sound to Create Non-contact Sensations On and In the Body"
          ],
          [
           "Thinking with Sound: Exploring the Experience of Listening to an Ultrasonic Art Installation"
          ],
          [
           "Silent Delivery: Practices and Challenges of Delivering Among Deaf or Hard of Hearing Couriers"
          ],
          [
           "StarRescue: the Design and Evaluation of A Turn-Taking Collaborative Game for Facilitating Autistic Children's Social Skills"
          ],
          [
           "Digital Knick-Knacks: Standalone Audiovisual Digital Possessions or Embellishments in Digital Environments"
          ],
          [
           "ReHEarSSE: Recognizing Hidden-in-the-Ear Silently Spelled Expressions"
          ],
          [
           "Sharing Frissons among Online Video Viewers: Exploring the Design of Affective Communication for Aesthetic Chills"
          ],
          [
           "Interactive Shape Sonification for Tumor Localization in Breast Cancer Surgery"
          ],
          [
           "C2Ideas: Supporting Creative Interior Color Design Ideation with a Large Language Model"
          ],
          [
           "Heart and Soul: The Ethics of Biometric Capture in Immersive Artistic Performance"
          ],
          [
           "Designing an Archive of Feelings: Queering Tangible Interaction with Button Portraits"
          ],
          [
           "Message in a Bottle: Investigating Bioart Installations as a Transdisciplinary Means of Community Engagement"
          ],
          [
           "Investigating the Effects of Self-selected Pleasant Scents on Text Composition and Transcription Performance"
          ],
          [
           "MARingBA: Music-Adaptive Ringtones for Blended Audio Notification Delivery"
          ],
          [
           "Co-designing the Collaborative Digital Musical Instruments for Group Music Therapy"
          ],
          [
           "Cymatics Cup: Shape-Changing Drinks by Leveraging Cymatics"
          ],
          [
           "Better Little People Pictures: Generative Creation of Demographically Diverse Anthropographics"
          ],
          [
           "From Disorientation to Harmony: Autoethnographic Insights into Transformative Videogame Experiences"
          ],
          [
           "Affective Design: The Influence of Facebook Reactions on the Emotional Expression of the 114th US Congress"
          ],
          [
           "Leveraging Idle Games to Incentivize Intermittent and Frequent Practice of Deep Breathing"
          ],
          [
           "Uncovering Lemur Cross-Species Usage of an Interactive Audio Device In Zoos"
          ],
          [
           "Personalizing Products with Stylized Head Portraits for Self-Expression"
          ],
          [
           "On Stress: Combining Human Factors and Biosignals to Inform the Placement and Design of a Skin-like Stress Sensor"
          ],
          [
           "A Game of Love for Women: Social Support in Otome Game Mr. Love: Queen’s Choice in China"
          ],
          [
           "Justice-oriented Design Listening: Participatory Ecoacoustics with a Ghanaian Forest Community"
          ],
          [
           "Interactive Murals: New Opportunities for Collaborative STEAM Learning"
          ],
          [
           "Ellie Talks About the Weather: Toward Evaluating the Expressive and Enrichment Potential of a Tablet-Based Speech Board in a single Goffin’s Cockatoo"
          ],
          [
           "Caption Royale: Exploring the Design Space of Affective Captions from the Perspective of Deaf and Hard-of-Hearing Individuals"
          ],
          [
           "GustosonicSense: Towards understanding the design of playful gustosonic eating experiences"
          ],
          [
           "Challenges of Music Score Writing and the Potentials of Interactive Surfaces"
          ],
          [
           "“Can It Be Customized According to My Motor Abilities?”: Toward Designing User-Defined Head Gestures for People with Dystonia"
          ],
          [
           "Squishy, Yet Satisfying: Exploring Deformable Shapes' Cross-Modal Correspondences with Colours and Emotions"
          ],
          [
           "The Sound of Support: Gendered Voice Agent as Support to Minority Teammates in Gender-Imbalanced Team"
          ],
          [
           "An Emotion Translator: Speculative Design By Neurodiverse Dyads"
          ],
          [
           "“Is Text-Based Music Search Enough to Satisfy Your Needs?” A New Way to Discover Music with Images"
          ],
          [
           "Collaborative Job Seeking for People with Autism: Challenges and Design Opportunities"
          ],
          [
           "Exposed or Erased: Algorithmic Censorship of Nudity in Art"
          ],
          [
           "\"Voices Help Correlate Signs and Words\": Analyzing Deaf and Hard-of-Hearing (DHH) TikTokers’ Content, Practices, and Pitfalls"
          ],
          [
           "Exploring Effective Sensing Indicators of Loneliness For Elderly Community in US and Japan"
          ],
          [
           "ExBreath: Explore the Expressive Breath System as Nonverbal Signs towards Semi-unintentional Expression"
          ],
          [
           "Simple But Iconic: Implications for Designing Icons Representing Delays in Time-Critical Medical Events"
          ],
          [
           "MOJI: Enhancing Emoji Search System with Query Expansions and Emoji Recommendations"
          ],
          [
           "Squeeze and Slide: Real-time continuous self-reports with physiological arousal to evaluate emotional engagement in short films of contemporary dance"
          ],
          [
           "SocialCueSwitch: Towards Customizable Accessibility by Representing Social Cues in Multiple Senses"
          ],
          [
           "Investigating Lemurs Sensory Modality in Technologies: How do Lemurs Engage with Single and Multimodal Stimuli in Zoos?"
          ],
          [
           "Soothing Systems: A Meditative Somaesthetic Experience"
          ],
          [
           "What Factors Motivate Culturally Deaf People to Want Assistive Technologies?"
          ],
          [
           "Harmonizing Abilities: Collaborative Digital Musical Instruments for Students with Complex Disabilities Using the Some for Many Strategy"
          ],
          [
           "Halfway : Towards a Warmer Neighborhood"
          ],
          [
           "SoulSkipper: A Voice-Controlled Emotional Adaptive Game to Complement Therapy for Social Anxiety Disorder"
          ],
          [
           "VitalStep: Revitalizing Elderly Health and Connectivity with E-Square-Dance"
          ],
          [
           "Do People Mirror Emotion Differently with a Human or TTS Voice? Comparing Listener Ratings and Word Embeddings"
          ],
          [
           "Music Corner - A Feasibility Study for Creating a Gesture-Based Rhythm Game for Music Education Inspired by Solfege Hand Signs"
          ],
          [
           "A Mystery for You"
          ],
          [
           "Outside In: Creating Digital Nature Tailored To The Needs of Intensive Care Unit Patients"
          ],
          [
           "Listen to the Sword: Using Breathing and Spatial Audio for Wuxia Narratives"
          ],
          [
           "Using Live Tags for Summarizing Surgical Videos Collaboratively"
          ],
          [
           "EmoEcho: Designing Emotion Mimicry Mechanics for Enhancing Social Engagement in Digital Games"
          ],
          [
           "Sensemaking: What is it today?"
          ],
          [
           "Exploring Potential of Electromyography-based Avatar Operation Using Residual Muscles of ALS Individuals: Case Study on Avatar DJ Performance"
          ],
          [
           "MusicTraces: A collaborative music and paint activity for autistic people"
          ],
          [
           "Co-Designing Emotion: Supporting Positive Affect in a Culturally Sensitive Application for African-American Heart Health"
          ],
          [
           "Color Singer: Composing Music via the Construction of LEGO Blocks with Various Colors"
          ],
          [
           "SeEar: Tailoring Real-time AR Caption Interfaces for Deaf and Hard-of-Hearing (DHH) Students in Specialized Educational Settings"
          ],
          [
           "Exploring Gender, Computational Making and  E-Textiles using the BBC Micro:bit"
          ],
          [
           "Leveraging Nonverbal Signals for Hands-Free Input in Digital Surveys"
          ],
          [
           "The Body as Sound: Extending the Vocalist-Voice Relationship Through Biosignal Feedback"
          ]
         ],
         "hovertemplate": "cluster=Emotional Engagement and Interactive Design<br>umap_x=%{x}<br>umap_y=%{y}<br>sentence=%{customdata[0]}<extra></extra>",
         "legendgroup": "Emotional Engagement and Interactive Design",
         "marker": {
          "color": "#FF6692",
          "symbol": "circle"
         },
         "mode": "markers",
         "name": "Emotional Engagement and Interactive Design",
         "showlegend": true,
         "type": "scattergl",
         "x": {
          "bdata": "qrmNwF/8xL/tKny/ZxUvwIikCMDt1rq+EFIawI2Pur62j92/Sa3Bvn6I87/D90HAhAwewPLq2r5huuy/7hcNwNV6kr/42LK/CPjTvgvdE8B5S+W/mUh9vvi2yL9ghxrA0Hl3wHXb3L/TlQvAjtAOwMMohsC7T8u/0SA6wEl0D8BFl5jAJJ4ZwC0yJsC3t/G/3B6bvyMb4r8X8u2/WO5HwCmtO8BfCRXAPANRwBp8cr6CGHm/qCUlwDsktL8t4RDAPhdtwAIuQMBeFwbAjfgiwB+WUsDZvLi+97Ccv7Rc9b8hP/y/z/yCwG4Usr/FaZW/w6ywv1tzs79XtCa/XHktwKWWqr/79QrAaqN9v+5oRMCcux/AnT3Zv5YMPcD4dMa/1reBv5zvIsAHF3nAkq4pvwg1MMAsAFLAItM8wNUXnr4umyXAAGOtv0N2AsA=",
          "dtype": "f4"
         },
         "xaxis": "x",
         "y": {
          "bdata": "Oy9QQMQDhkCtw1pAfjaDQBqr7z8LOSRACjIlQBgXF0D4d4ZAqFwlQF6PkUADmLw/iKh3QAlKIEDAWDBAjd5sQHUmeED1yXlABEwgQJ+lWEDYiixAgHYmQE18Y0ARuXhAmbFrQFqwgUDFYVhAxX16QO8+SECBMl9AafhuQOrwokBaJjdAFk8kQE6xQEDVQYZADql9QOgjc0DaoYZAAnQDQJFkB0BL13BAi09eQGzIHkB2LY5AVK1uQEiFiEDD+HVA9+YWQALQVUBeqSlAA7ZXQGL1E0AbLx9ARNkyQOUdgEAS6F5A7mk9QL1WakA8XlpAr+R0QNlZlUCW3B5A4tRkQB1blED5W3xAvQRTQLvgX0Crcm1AO35aQFO13z+CUn1AqAEcQPuFZUDTzMw/D/2hQOU3c0A0vwxA29+DQGleJ0DEek1Alcs5QNIdgEA=",
          "dtype": "f4"
         },
         "yaxis": "y"
        },
        {
         "customdata": [
          [
           "My Voice as a Daily Reminder: Self-Voice Alarm for Daily Goal Achievement"
          ],
          [
           "Exploring Mobile Device Accessibility: Challenges, Insights, and Recommendations for Evaluation Methodologies"
          ],
          [
           "A case for \"little English\" in Nurse Notes from the Telehealth Intervention Program for Seniors: Implications for Future Design and Research"
          ],
          [
           "Real-World Winds: Micro Challenges to Promote Balance Post Smartphone Overload"
          ],
          [
           "S-ADL: Exploring Smartphone-based Activities of Daily Living to Detect Blood Alcohol Concentration in a Controlled Environment"
          ],
          [
           "“Our Users' Privacy is Paramount to Us”: A Discourse Analysis of How Period and Fertility Tracking App Companies Address the Roe v Wade Overturn"
          ],
          [
           "Understanding Antenatal Care Needs through Co-Creation with Roma Women to Inform the Design of mHealth Technologies"
          ],
          [
           "Politics of the Past: Understanding the Role of Memory, Postmemory, and Remembrance in Navigating the History of Migrant Families"
          ],
          [
           "\"It's Sink or Swim\": Exploring Patients' Challenges and Tool Needs for Self-Management of Postoperative Acute Pain"
          ],
          [
           "Family Caregiver Experiences of Using a Mobile App for Music-based Training to Support Dementia Care"
          ],
          [
           "Challenges to Online Disability Rights Advocacy in India"
          ],
          [
           "Good Days, Bad Days: Understanding the Trajectories of Technology Use During Chronic Fatigue Syndrome"
          ],
          [
           "Tracking During Ramadan: Examining the Intersection of Menstrual and Religious Tracking Practices Among Muslim Women in the United States"
          ],
          [
           "Understanding the Needs of Novice Developers in Creating Self-Powered IoT"
          ],
          [
           "“I know I have this till my Last Breath”: Unmasking the Gaps in Chronic Obstructive Pulmonary Disease (COPD) Care in India"
          ],
          [
           "Keyboard Fighters: The Use of ICTs by Activists in Times of Military Coup in Myanmar"
          ],
          [
           "Using and Appropriating Technology to Support The Menopause Journey in the UK"
          ],
          [
           "Living with Cyanobacteria: Exploring Materiality in Caring for Microbes in Everyday Life"
          ],
          [
           "Migrant Farmworkers' Experiences of Agricultural Technologies: Implications for Worker Sociality and Desired Change"
          ],
          [
           "\"It Is Easy Using My Apps:\" Understanding Technology Use and Needs of Adults with Down Syndrome"
          ],
          [
           "Exploring Privacy Practices of Female mHealth Apps in a Post-Roe World"
          ],
          [
           "\"Islamically, I am not on my period\": A Study of Menstrual Tracking in Muslim Women in the US"
          ],
          [
           "Reducing Search Space on Demand Helps Older Adults Find Mobile UI Features Quickly, on Par With Younger Adults"
          ],
          [
           "“You can’t write down the logic”: Bringing smart technology into the water infrastructure control room"
          ],
          [
           "Hospital Employee Experiences Caring for Patients in Smart Patient Rooms"
          ],
          [
           "Single-handed Folding Interactions with a Modified Clamshell Flip Phone"
          ],
          [
           "A Longitudinal In-the-Wild Investigation of Design Frictions to Prevent Smartphone Overuse"
          ],
          [
           "\"I Deleted It After the Overturn of Roe v. Wade\": Understanding Women's Privacy Concerns Toward Period-Tracking Apps in the Post Roe v. Wade Era"
          ],
          [
           "Navigating the Maze of Routine Disruption: Exploring How Older Adults Living Alone Navigate Barriers to Establishing and Maintaining Physical Activity Habits"
          ],
          [
           "Mnemosyne - Supporting Reminiscence for Individuals with Dementia in Residential Care Settings"
          ],
          [
           "Empirical Investigation of Accessibility Bug Reports in Mobile Platforms: A Chromium Case Study"
          ],
          [
           "\"At the end of the day, I am accountable\": Gig Workers' Self-Tracking for Multi-Dimensional Accountability Management"
          ],
          [
           "Understanding Cultural and Religious Values Relating to Awareness of Women’s Intimate Health among Arab Muslims"
          ],
          [
           "Functional Design Requirements to Facilitate Menstrual Health Data Exploration"
          ],
          [
           "Design Opportunities for Care Transitions in Dementia: Understanding Informal Caregivers' Experiences Through a Practice-Informed Approach"
          ],
          [
           "Critiquing Menstrual Pain Technologies through the Lens of Feminist Disability Studies"
          ],
          [
           "\"Unrest and trauma stays with you!\": Navigating mental health and professional service-seeking in Kashmir"
          ],
          [
           "“If Someone Walks In On Us Talking, Pretend to be My Friend, Not My Therapist\": Challenges and Opportunities for Digital Mental Health Support in Saudi Arabia"
          ],
          [
           "“This app said I had severe depression, and now I don’t know what to do”: the unintentional harms of mental health applications"
          ],
          [
           "A Tool for Capturing Smartphone Screen Text"
          ],
          [
           "Learning About Social Context From Smartphone Data: Generalization Across Countries and Daily Life Moments"
          ],
          [
           "Multimedia-Enabled 911: Exploring 911 Callers’ Experience of Call Taker Controlled Video Calling in Simulated Emergencies"
          ],
          [
           "MoodCapture: Depression Detection using In-the-Wild Smartphone Images"
          ],
          [
           "“You Can Find a Part of my Life in Every Single App”: An Interview Study of What Makes Smartphone Applications Special to Their Users"
          ],
          [
           "Investigating Contextual Notifications to Drive Self-Monitoring in mHealth Apps for Weight Maintenance"
          ],
          [
           "\"Things on the Ground are Different\": Utility, Survival and Ethics in Multi-Device Ownership and Smartphone Sharing"
          ],
          [
           "Bodywork at Work: Attending to Bodily Needs in Gig, Shift, and Knowledge Work"
          ],
          [
           "#PoetsOfInstagram: Navigating The Practices And Challenges Of Novice Poets On Instagram"
          ],
          [
           "SimUser: Generating Usability Feedback by Simulating Various Users Interacting with Mobile Applications"
          ],
          [
           "A Situated-Infrastructuring of WhatsApp for Business in India"
          ],
          [
           "Understanding Challenges and Design Opportunities for Digital Mental Well-Being in Saudi Arabia"
          ],
          [
           "Expanding Personal Informatics: Menstruation and Pregnancy Healthcare Journey For Practising Muslim Women"
          ],
          [
           "Managing Finances for Persons Living with Dementia: Current Practices and Challenges for Care Partners"
          ],
          [
           "An Article a Day: Towards Personal Informatics for Healthy News Consumption"
          ],
          [
           "Kill Two Stacks with One Stone: \"Fitts\" Yourself while Doing Rehabilitation"
          ],
          [
           "LCBuddy: Towards a Smartphone-based Self-Assessment Tool for Postpartum Patients With Breast Pain"
          ],
          [
           "“Sometimes it’s Like Putting the Track in Front of the Rushing Train”: Having to Be ‘On Call’ for Work Limits the Temporal Flexibility of Crowdworkers"
          ],
          [
           "From Cash to Cashless: UPI’s Impact on Spending Behavior among Indian Users"
          ],
          [
           "Showcasing MobileGravity"
          ],
          [
           "Investigating the Potential of User Interface Shortcuts and Control Panes to Support Mobile Phone Use by People with Mild Dementia – a Diary Study"
          ],
          [
           "Office Wellbeing by Design: Don’t Stand for Anything Less"
          ],
          [
           "\"In the Only House in the Whole World but Everyone Doing the Same\" Co-designed Animation as a Method of Critical Enquiry to Explore HCI Considerations for Remote Eating Disorder Support"
          ],
          [
           "``People may assume that my mother is mad'': Unpacking Alzheimer's Care in Bangladesh"
          ],
          [
           "Investigating Phubbing in Everyday Life: Challenges & Lessons for Future Research"
          ],
          [
           "Navigating Daily Life: Insights from Powered Wheelchair Users on Assistive Technologies and Caregiver Support"
          ],
          [
           "Exploring Information Needs for Tracking to Support Using Wheelchairs in Everyday Life"
          ],
          [
           "Beyond the Clock: Rethinking Time in Technologies for People with Dementia"
          ],
          [
           "Overcoming Barriers, Achieving Goals: A Case Study of an Older User's Technology Autonomy"
          ],
          [
           "\"Is Long-distance Hiking an Emotional Roller Coaster?\" Evaluating Emotions and Weather Effects on the Appalachian Trail"
          ],
          [
           "Where’s the Water? Supporting Clean Water Access for the Homeless Community"
          ],
          [
           "Wendy's Words of Wisdom"
          ],
          [
           "A Funny Thing Happened on the Way to the Farm"
          ]
         ],
         "hovertemplate": "cluster=Cultural Perspectives on Technology and Health<br>umap_x=%{x}<br>umap_y=%{y}<br>sentence=%{customdata[0]}<extra></extra>",
         "legendgroup": "Cultural Perspectives on Technology and Health",
         "marker": {
          "color": "#B6E880",
          "symbol": "circle"
         },
         "mode": "markers",
         "name": "Cultural Perspectives on Technology and Health",
         "showlegend": true,
         "type": "scattergl",
         "x": {
          "bdata": "Z/T2vxalR8BoXXTAGQoIwDKZ5L9mxL+/7YASwJaT1r8YmCnA/XbFv2n58r89bB3A+eb0vwEEfMABOQ3A48kZwMx/A8CkaSTASY5nwOIP9L83LtK/+hb9vwJT2r9SQ23A2CRjwGiGq78EBBDA0W3KvzpNpb916MC/r49IwHfUDsApVg3AMvkLwPpqu7/frxfAom0EwEIPI8C3lPm/iSfZv7Dwx7+7eoC/c2vxv0vewb+S0wDAUyHgvzFlQ8DAXlLAjTAcwGNmDMBGzS3A0VcKwG0SyL89KRvAfAnev7Bog8CO9Ke/wS0EwEsUL7/JEMC/k1A6wKIiK8DwqRXA/wAhwM4vq7/1g8y/QcnGv+9ue8Bx80/AHstPwKUnNMDALmbA",
          "dtype": "f4"
         },
         "xaxis": "x",
         "y": {
          "bdata": "hFNCQOFZHkBBJLc/FyEuQKLUZkAOtU4/J9URP3H+I0Bf/0VAoKcRQOX+6j/XNg5AP71GP47LbEBei7o/SHHBP2YiCECFA8w/Z0cyQFRGFEBPMEM/NjBAPwqUJEBSWmNAPUH3P0hnhkC3QztAgcZGP3QML0C1QhlA8vsOQCimWkBiJEQ/sOM2P0anEkBflnU/EAFYP5FFgT/ImD0/3/hYQJv15j/uhiJA+f9oQE5t6z8kG0VAGAOqPzQ1LUCz/0VAhWU8QHA1OEAWcpE/Ep8yP5joDEDtgrE/gmkwQKDIB0CMDyBAp3fkP9GYmUCvEh5A6yMrQBsxYz94wkI/OC3HPyLXJkAsJxNAHtYVQFVRckDRm0tAM4W5P+saRUAsr0NA",
          "dtype": "f4"
         },
         "yaxis": "y"
        },
        {
         "customdata": [
          [
           "Bridging Cultural Differences with Critical Design in a Globalized World"
          ],
          [
           "A Design Framework for Reflective Play"
          ],
          [
           "User Experience Research and Design in Video Games"
          ],
          [
           "On the Benefits of Image-Schematic Metaphors when Designing Mixed Reality Systems"
          ],
          [
           "Designing Diverse Pathways for Participation"
          ],
          [
           "Leveraging Implementation Science in Human-Centred Design for Digital Health"
          ],
          [
           "Data Cubes in Hand: A Design Space of Tangible Cubes for Visualizing 3D Spatio-Temporal Data in Mixed Reality"
          ],
          [
           "Engaging recently incarcerated and gang affiliated Black and Latino/a young adults in designing social collocated applications for mixed reality smart glasses through community-based participatory design workshops."
          ],
          [
           "Exploring the Diminishing Allure of Paper and Low-Fidelity Prototyping Among Designers in the Software Industry: Impacts of Hybrid Work, Digital Tools, and Corporate Culture"
          ],
          [
           "Reinforcing and Reclaiming The Home: Co-speculating Future Technologies to Support Remote and Hybrid Work"
          ],
          [
           "A Design Space for Intelligent and Interactive Writing Assistants"
          ],
          [
           "The Matchmaker Inclusive Design Curriculum: A Faculty-Enabling Curriculum to Teach Inclusive Design Throughout Undergraduate CS"
          ],
          [
           "Investigating the Design of Augmented Narrative Spaces Through Virtual-Real Connections: A Systematic Literature Review"
          ],
          [
           "Products of Positionality: How Tech Workers Shape Identity Concepts in Computer Vision"
          ],
          [
           "The Trick is to Stay Behind?: Defining and Exploring the Design Space of Player Balancing Mechanics"
          ],
          [
           "Beyond Dark Patterns: A Concept-Based Framework for Ethical Software Design"
          ],
          [
           "Co-designing Customizable Clinical Dashboards with Multidisciplinary Teams: Bridging the Gap in Chronic Disease Care"
          ],
          [
           "Palette, Purpose, Prototype: The Three Ps of Color Design and How Designers Navigate Them"
          ],
          [
           "Play Across Boundaries: Exploring Cross-Cultural Maldaimonic Game Experiences"
          ],
          [
           "Exploring the association between engagement with location-based game features and getting inspired about environmental issues and nature"
          ],
          [
           "Choosing the Right Reality: A Comparative Analysis of Tangibility in Immersive Trauma Simulations"
          ],
          [
           "Design Space Exploration for Board-level Circuits: Exploring Alternatives in Component-based Design"
          ],
          [
           "Volumetric Hybrid Workspaces: Interactions with Objects in Remote and Co-located Telepresence"
          ],
          [
           "Rehearsal: Simulating Conflict to Teach Conflict Resolution"
          ],
          [
           "From Prisons to Programming: Fostering Self-Efficacy via Virtual Web Design Curricula in Prisons and Jails"
          ],
          [
           "Designing a Card-Based Design Tool to Bridge Academic Research & Design Practice For Societal Resilience"
          ],
          [
           "From Exploration to End of Life: Unpacking Sustainability in Physicalization Practices"
          ],
          [
           "Design Space of Visual Feedforward And Corrective Feedback in XR-Based Motion Guidance Systems"
          ],
          [
           "Design With Rural-To-Urban Migrant Women: Opportunities and Challenges in Designing within a Precarious Marriage Context in South China"
          ],
          [
           "SharedNeRF: Leveraging Photorealistic and View-dependent Rendering for Real-time and Remote Collaboration"
          ],
          [
           "Damage Optimization in Video Games: A Player-Driven Co-Creative Approach"
          ],
          [
           "Imagining Sustainable Energy Communities: Design Narratives of Future Digital Technologies, Sites, and Participation"
          ],
          [
           "From Concept to Community: Unpacking the Work of Designing Educational and Activist Toolkits"
          ],
          [
           "Emergency Remote Education in Nigeria: Challenges and Design Opportunities"
          ],
          [
           "Ecological In/Congruence: Becoming Sensitised to Nature in Video Games through Humanistic First-Person Research"
          ],
          [
           "Meaning Follows Purpose: Unravelling the Architectural Design Conventions in the Contemporary Metaverse"
          ],
          [
           "\\textit{Cohabitant}: The Design, Implementation, and Evaluation of a Virtual Reality Application for Interfaith Learning and Empathy Building"
          ],
          [
           "Practice-informed Patterns for Organising Large Groups in Distributed Mixed Reality Collaboration"
          ],
          [
           "Mapping the Design Space of Teachable Social Media Feed Experiences"
          ],
          [
           "Older Adults Imagining Future Technologies in Participatory Design Workshops: Supporting Continuity in the Pursuit of Meaningful Activities"
          ],
          [
           "A temporal vocabulary of Design Events for Research through Design"
          ],
          [
           "(Re)activate, (Re)direct, (Re)arrange: Exploring the Design Space of Direct Interactions with Flavobacteria"
          ],
          [
           "Where Generalized Equitable Design Practice Meet Specific Indigenous Communities"
          ],
          [
           "Designing for Strengths: Opportunities to Support Neurodiversity in the Workplace"
          ],
          [
           "Designing for Human Operations on the Moon: Challenges and Opportunities of Navigational HUD Interfaces"
          ],
          [
           "Lessons From Working in the Metaverse: Challenges, Choices, and Implications from a Case Study"
          ],
          [
           "A Living Framework for Understanding Cooperative Games"
          ],
          [
           "See Widely, Think Wisely: Toward Designing a Generative Multi-agent System to Burst Filter Bubbles"
          ],
          [
           "Born to Run, Programmed to Play: Mapping the Extended Reality Exergames Landscape"
          ],
          [
           "BioSpark: An End-to-End Generative System for Biological-Analogical Inspirations and Ideation"
          ],
          [
           "SuperNOVA: Design Strategies and Opportunities for Interactive Visualization in Computational Notebooks"
          ],
          [
           "Designing Stick-Based Extended Reality Controllers: A Participatory Approach"
          ],
          [
           "GameFlow Affordances: Towards a Tool for Designing Gameful Experiences"
          ],
          [
           "Cultural Dimensions and Mental Health Technology: A Systematic Review of Hofstede's Dimensions in Shaping Mental Health Experiences"
          ],
          [
           "Towards Designing for Multimodal Remembering: Findings from an Interview Study"
          ],
          [
           "Haptic Playground: Empowering Inclusive Haptic Design for Everyone"
          ],
          [
           "Building a Metaverse for All: Opportunities and Challenges for Future Inclusive and Accessible Virtual Environments"
          ],
          [
           "An Equal Seat at the Table: Exploring Videoconferencing with Shared Spatial Context combined with 3D Video Representations"
          ],
          [
           "Connectopia: A Modular Board Game Simulating Digital Interfaces to Assist Refugee and Asylum Seeker Integration"
          ],
          [
           "Co-located Mixed Reality Classrooms: Four Case Studies from Higher Education"
          ],
          [
           "Participatory Design of a Serious Game to Improve Wildfire Preparedness with Community Residents and Experts"
          ],
          [
           "Knowledge Work on Airplanes: Challenges, Workarounds, and Design Implications"
          ],
          [
           "A Design Framework for Ingestible Play"
          ],
          [
           "\"That's Not Good Science!\": An Argument for the Thoughtful Use of Formative Situations in Research Through Design"
          ],
          [
           "Might as Well Be on Mars: Insights on the Extraterrestrial Applicability of Interaction Design Frameworks from Earth"
          ],
          [
           "Experiential Views: Towards Human Experience Evaluation of Designed Spaces using Vision-Language Models"
          ],
          [
           "The Fernstudent. A User-Centered Design Case Study on Improvements of Hybrid Teaching Through A Physical Avatar in the Classroom."
          ],
          [
           "Extreme Ungrading: Rewilding the Classroom through Human-Centered Design"
          ],
          [
           "Spatial Computing: Defining the Vision for the Future"
          ],
          [
           "Exploring Similarities and Differences in a set of Linked Multiple-site Design Sessions with Children"
          ],
          [
           "Exploring Embodied Asymmetric Two-Handed Interactions for Immersive Data Exploration"
          ],
          [
           "iCONTRA: Toward Thematic Collection Design Via Interactive Concept Transfer"
          ],
          [
           "Enhancing Mobile Visualisation Interactivity: Insights on a Mixed-fidelity Prototyping Approach"
          ],
          [
           "Liturgy for Technology: A Reflection on Designing for Conquest or Liberation"
          ],
          [
           "Queering the Space: Location-Based Stories for Transforming Space into Place"
          ],
          [
           "Working In Mixed Realities: 3D User Interfaces And Interaction Patterns To Integrate Practices In Different Perceptual Spaces"
          ],
          [
           "“We are Researchers, but we are also Humans”: Creating a Design Space for Managing Graduate Student Stress"
          ],
          [
           "Methods for Family-Centered Design: Bridging the Gap between Research and Practice"
          ],
          [
           "VisHanfu: An Interactive System Centered on the Cross-Shaped Flat Structure for the Preservation of Hanfu Culture"
          ],
          [
           "Case Study: End users in recovery from substance use disorders as designers and developers of digital games with therapeutic potential"
          ],
          [
           "Novel Approaches for Understanding and Mitigating Emerging New Harms in Immersive and Embodied Virtual Spaces: A Workshop at CHI 2024"
          ],
          [
           "Understanding Visual, Integrated, and Flexible Workspace for Comprehensive Literature Reviews with SketchingRelatedWork"
          ],
          [
           "Ethnography at the Edge: Exploring Research Dynamics in Crisis and Conflict Areas"
          ],
          [
           "Design for Temporal Cohabitation"
          ],
          [
           "The Old and the New Axioms of User Interfaces"
          ],
          [
           "Examining the Impact of Video Reality-level to Support Transition from Screen Time to Screen-Free Time (TSSF)"
          ],
          [
           "Designing Celebratory Technology for Neurodiversity with Neurodivergent Scholars"
          ],
          [
           "Exploring Spatial Organization Strategies for Virtual Content in Mixed Reality Environments"
          ],
          [
           "Exploring Stage Lighting Education in Metaverse"
          ],
          [
           "Shaping The Future: Developing Principles for Policy Recommendations for Responsible Innovation in Virtual Worlds"
          ],
          [
           "Beyond the Screen: Gestural Perspective-Taking with a Biochemistry Simulation"
          ],
          [
           "Supporting Interdisciplinary Research with Cards-based Workshops - A Case Study on Participatory Planning for Mountain Pastoralism"
          ],
          [
           "EmpathiCH: Scrutinizing Empathy-Centric Design Beyond the Individual"
          ],
          [
           "FormationCreator: Designing A VR Dance Formation System for Intangible Cultural Heritage Dance"
          ],
          [
           "The Pop-Up Metaverse: A Multi-User, Multi-Tasking Spatial Computing Environment for Collaborative Spatial Problem-Solving."
          ],
          [
           "Not a Playroom, but a Passage: Exploring the Design Space of a Technology-mediated Calm-down Corner"
          ],
          [
           "Toward Humanity-Centered Design without Hubris"
          ],
          [
           "DreamCeption : Towards Understanding the Design of Targeted Lucid Dream Mediation"
          ]
         ],
         "hovertemplate": "cluster=Ethical Design and Social Responsibility<br>umap_x=%{x}<br>umap_y=%{y}<br>sentence=%{customdata[0]}<extra></extra>",
         "legendgroup": "Ethical Design and Social Responsibility",
         "marker": {
          "color": "#FF97FF",
          "symbol": "circle"
         },
         "mode": "markers",
         "name": "Ethical Design and Social Responsibility",
         "showlegend": true,
         "type": "scattergl",
         "x": {
          "bdata": "kF9BwHkvJsAJJhfABeAQvwZjLMB17mPA3fQ9v0CUIL9AdjTA4VrQv8avQMCopVDA4ZZFvza+u7/FfwrAQnoZwBR/P8CH8jnABqYpwKk1GMB38Ve/+kYfwDyrfr9R1V/A/+FTwGKCPcDW9UDApeyHvxRTOcAhLJ++P5QPwAHeFMAPp0nAMx9MwEmVFsDhjy3AMuxDv35Tcr9U7BfAcXIgwK6QLMD/RiK/YMU/wKABO8Dazea/EDAqwKvIJ8Cx4yTAQwTtvr0PJsBPqzrA8mYuv6guH8CxWinA2Mbkv91Ovr/PHEi/P4nevjjZGsDaTte+BOQvwHLaTcCX2CjAObREwP1cNcAgX6O+JLxJwGGmVsCs2+K+sZYawIhTnr+ahjjAcZr5v1HwRMC+yqa/tSuHv4KPRcDs2jnA138GwBVyGsA2DmG/qPM2wDVBSsDYKOi/q5U8wPD/J70gwUXADLGOvv/5pb8e0xm/jdCev6SuNcBGBUXARfnvv6uZrb9vvxLAqAtiwEwuDcA=",
          "dtype": "f4"
         },
         "xaxis": "x",
         "y": {
          "bdata": "vBbeP4EBWEAW/BlAKtt4QDrIEkAfFOU/sOSKQA78XEDgzfw/Zn8/QOisZkDxEDlAJ1FmQCp5L0BIaSpA19kxQBeC/z9McoBAE5gAQGYpFUALCYdAslpKQGYMUEDqGEBAITojQKEFG0DjW70/DNGDQL/9BECMxoBAI+8TQLJBHUAF1CtA2vzpP9vpDkDTbk5AHgeQQA1nX0Dlo0hAExIdQCpSQEDm3YdA0uUgQLsIEUCClmlAia0ZQHkJX0CN6opAEgyEQB0CiEBCT2ZAcyeSQGV0dEC3+Yk/UVtKQLo/jkDCt2VAPJFfQL/8gkAFw3ZA7VEXQAFd+T9ivWxAzzsPQMk4U0AkmlNAs8IHQLR3/T9fbl1ATlw5QGXIgkDrCYFAytVeQBf/A0DzGkdABAxlQJkZFUC3bwFA86l+QOm1E0CgeG5A+ll3QNqPrz/AjYRAGIc4QGIcfEB+QydAJE12QDRXVkAtN2hAACOZQOUDEUCJKNE/dnmcQDwnbUBC8DpAIYLYP2VBlkA=",
          "dtype": "f4"
         },
         "yaxis": "y"
        },
        {
         "customdata": [
          [
           "Multimodal Healthcare AI: Identifying and Designing Clinically Relevant Vision-Language Applications for Radiology"
          ],
          [
           "PANDALens: Towards AI-Assisted In-Context Writing on OHMD During Travels"
          ],
          [
           "MindTalker: Navigating the Complexities of AI-Enhanced Social Engagement for People with Early-Stage Dementia"
          ],
          [
           "Reading Between the Lines: Modeling User Behavior and Costs in AI-Assisted Programming"
          ],
          [
           "How Much Decision Power Should (A)I Have?: Investigating Patients’ Preferences Towards AI Autonomy in Healthcare Decision Making"
          ],
          [
           "From Text to Self: Users’ Perception of AIMC Tools on Interpersonal Communication and Self"
          ],
          [
           "Mentorable Interfaces for Automated Vehicles: A New Paradigm for Designing Learnable Technology for Older Adults"
          ],
          [
           "Investigating Use Cases of AI-Powered Scene Description Applications for Blind and Low Vision People"
          ],
          [
           "Assessment of Sign Language-Based versus Touch-Based Input for Deaf Users Interacting with Intelligent Personal Assistants"
          ],
          [
           "Patient Perspectives on AI-Driven Predictions of Schizophrenia Relapses: Understanding Concerns and Opportunities for Self-Care and Treatment"
          ],
          [
           "AXNav: Replaying Accessibility Tests from Natural Language"
          ],
          [
           "Co-Designing QuickPic: Automated Topic-Specific Communication Boards from Photographs for AAC-Based Language Instruction"
          ],
          [
           "Amplifying Human Capabilities in Prostate Cancer Diagnosis: An Empirical Study of Current Practices and AI Potentials in Radiology"
          ],
          [
           "Human-Algorithmic Interaction Using a Large Language Model-Augmented Artificial Intelligence Clinical Decision Support System"
          ],
          [
           "Artful Path to Healing: Using Machine Learning for Visual Art Recommendation to Prevent and Reduce Post-Intensive Care Syndrome (PICS)"
          ],
          [
           "Towards AI-Driven Healthcare: Systematic Optimization, Linguistic Analysis, and Clinicians’ Evaluation of Large Language Models for Smoking Cessation Interventions"
          ],
          [
           "Explainable Notes: Examining How to Unlock Meaning in Medical Notes with Interactivity and Artificial Intelligence"
          ],
          [
           "AdaptiveVoice: Cognitively Adaptive Voice Interface for Driving Assistance"
          ],
          [
           "“They only care to show us the wheelchair”: disability representation in text-to-image AI models"
          ],
          [
           "Voice Assistive Technology for Activities of Daily Living: Developing an Alexa Telehealth Training for Adults with Cognitive-Communication Disorders"
          ],
          [
           "Facilitating Self-Guided Mental Health Interventions Through Human-Language Model Interaction: A Case Study of Cognitive Restructuring"
          ],
          [
           "One Size Does Not Fit All: Designing and Evaluating Criticality-Adaptive Displays in Highly Automated Vehicles"
          ],
          [
           "Exploring Context-Aware Mental Health Self-Tracking Using Multimodal Smart Speakers in Home Environments"
          ],
          [
           "An AI-Resilient Text Rendering Technique for Reading and Skimming Documents"
          ],
          [
           "\"It's like a glimpse into the future\": Exploring the Role of Blood Glucose Prediction Technologies for Type 1 Diabetes Self-Management"
          ],
          [
           "ml-machine.org: Infrastructuring a Research Product to Disseminate AI Literacy in Education"
          ],
          [
           "Societal-Scale Human-AI Interaction Design? How Hospitals and Companies are Integrating Pervasive Sensing into Mental Healthcare"
          ],
          [
           "Advancing Patient-Centered Shared Decision-Making with AI Systems for Older Adult Cancer Patients"
          ],
          [
           "AQuA: Automated Question-Answering in Software Tutorial Videos with Visual Anchors"
          ],
          [
           "AI-Driven Support for People with Speech & Language Difficulties"
          ],
          [
           "Translating Human-Centred Artificial Intelligence for Clinical Decision Support Systems into Practice: A Medical Retina Case Study."
          ],
          [
           "Enhancing Productivity Applications for People who are Blind using AI Assistants"
          ],
          [
           "User-Driven Adaptation: Tailoring Autonomous Driving Systems with Dynamic Preferences"
          ],
          [
           "Conversational AI in health: Design considerations from a Wizard-of-Oz dermatology case study with users, clinicians and a medical LLM"
          ],
          [
           "Enhancing User Experience in Chinese Initial Text Conversations with Personalised AI-Powered Assistant"
          ],
          [
           "Will AI allow us to dispense with all or most accessibility regulations?"
          ],
          [
           "Sign Language-Based versus Touch-Based Input for Deaf Users with Interactive Personal Assistants in Simulated Kitchen Environments"
          ],
          [
           "Translating motivational interviewing for the HPV vaccine into a computable ontology model for automated AI conversational interaction"
          ],
          [
           "PaperPlain: Making Medical Research Papers Approachable to Healthcare Consumers with Natural Language Processing"
          ],
          [
           "Artificial Intelligence Systems for Supporting Informal Caregivers of People Living with Alzheimer's Disease or Related Dementias: A Systematic Review"
          ],
          [
           "Text2AC: A Framework for Game-Ready 2D Agent Character(AC) Generation from Natural Language"
          ],
          [
           "Find My Things: Personalized Accessibility through Teachable AI for People who are Blind or Low Vision"
          ],
          [
           "Human-Centered Explainable AI (HCXAI): Reloading Explainability in the Era of Large Language Models (LLMs)"
          ],
          [
           "Demonstrating PANDALens: Enhancing Daily Activity Documentation with AI-assisted In-Context Writing on OHMD"
          ],
          [
           "Machine-Assisted Error Discovery in Conversational AI Systems"
          ],
          [
           "Machine Learning Insights Into Eating Disorder Twitter Communities"
          ],
          [
           "Integrating AI with Care: Lessons Learned in Public Health"
          ]
         ],
         "hovertemplate": "cluster=AI and Accessibility in Human-Centered Design<br>umap_x=%{x}<br>umap_y=%{y}<br>sentence=%{customdata[0]}<extra></extra>",
         "legendgroup": "AI and Accessibility in Human-Centered Design",
         "marker": {
          "color": "#FECB52",
          "symbol": "circle"
         },
         "mode": "markers",
         "name": "AI and Accessibility in Human-Centered Design",
         "showlegend": true,
         "type": "scattergl",
         "x": {
          "bdata": "QZukwB43qsAVtYvAjQyiwD8omsDw5ITAp+RvwHZpD7/Cy2C/OVOlwKpyp8D+LonA3jGpwBI4lMAUa5jAifObwBCussBwYnbAdB2lwJnZtL/f12jAIvRzwOnm4b94bazAA4ALwCx0qMDFJ2HAIvKewMtclMBTAaDAu3+dwO6vCL+cp4HASOWVwLwToMB6dK/ALgA6v94IlsCjNaDAfzqhwHv8lMAJBQu/Cq20wPt6qsBmrqfAWO+TwK/lrcA=",
          "dtype": "f4"
         },
         "xaxis": "x",
         "y": {
          "bdata": "roofQJL8N0CFPjZAztU7QAHaSEBEHkZALSxwQLhdFUC8ZR1AlP0+QLBbFECVrFFAyulUQNnYFUDrHzFAzc0dQB4HR0CzcXhAf1M7QImESEAegLQ/t7J+QAl4SUBjakJA3mtEQDxzJUBce90/JR09QDIFP0D9ci9Abno6QOCEDkDTjndAOdEgQJ2/KEBG7zVAfdEcQFKQGkAKxxhA07kzQGwaPkDthBVAgz4qQNTuN0Aa1StAfCw2QKHgPEA=",
          "dtype": "f4"
         },
         "yaxis": "y"
        },
        {
         "customdata": [
          [
           "Towards Digital Independence: Identifying the Tensions between Autistic Young Adults and Their Support Network When Mediating Social Media"
          ],
          [
           "\"Are we all in the same boat?\" Customizable and Evolving Avatars to Improve Worker Engagement and Foster a Sense of Community in Online Crowd Work"
          ],
          [
           "\"I Got Flagged for Supposed Bullying, Even Though It Was in Response to Someone Harassing Me About My Disability.\": A Study of Blind TikTokers’ Content Moderation Experiences"
          ],
          [
           "Platforming PCOS Treatment Online: FemTech Logics of Care"
          ],
          [
           "Community Begins Where Moderation Ends: Peer Support and Its Implications for Community-Based Rehabilitation"
          ],
          [
           "Examining the Unique Online Risk Experiences and Mental Health Outcomes of LGBTQ+ versus Heterosexual Youth"
          ],
          [
           "Examining the \"Local\" in ICT4D: A Postcolonial Perspective on Participation"
          ],
          [
           "For Me or Not for Me? The Ease With Which Teens Navigate Accurate and Inaccurate Personalized Social Media Content"
          ],
          [
           "Pika: Empowering Non-Programmers to Author Executable Governance Policies in Online Communities"
          ],
          [
           "Understanding Online Job and Housing Search Practices of Neurodiverse Young Adults to Support Their Independence"
          ],
          [
           "Digital Repression in Palestine"
          ],
          [
           "Teen Reproductive Health Information Seeking and Sharing Post-Roe"
          ],
          [
           "Negotiating Sociotechnical Boundaries: Moderation Work to Counter Racist Attacks in Online Communities"
          ],
          [
           "Counterspeakers’ Perspectives: Unveiling Barriers and AI Needs in the Fight against Online Hate"
          ],
          [
           "\"Delete it and Move On\": Digital Management of Shared Sexual Content after a Breakup"
          ],
          [
           "“I Prefer Regular Visitors to Answer My Questions”: Users’ Desired Experiential Background of Contributors for Location-based Crowdsourcing Platform"
          ],
          [
           "Individual Differences and Technology Affordances Combine to Predict Mobile Social Media Distraction Behaviors and Consequences"
          ],
          [
           "\"I'm gonna KMS\": From Imminent Risk to Youth Joking about Suicide and Self-Harm via Social Media"
          ],
          [
           "Behind the Pup-ularity Curtain: Understanding the Motivations, Challenges, and Work Performed in Creating and Managing Pet Influencer Accounts"
          ],
          [
           "\"To Click or not to Click\": Back to Basic for Experience Sampling for Office Well-being in Shared Office Spaces"
          ],
          [
           "“Vulnerable, Victimized, and Objectified”: Understanding Ableist Hate and Harassment Experienced by Disabled Content Creators on Social Media"
          ],
          [
           "Persuasion or Insulting? Unpacking Discursive Strategies of Gender Debate in Everyday Feminism in China"
          ],
          [
           "Toxicity in Online Games: The Prevalence and Efficacy of Coping Strategies"
          ],
          [
           "Third-Party Developers and Tool Development For Community Management on Live Streaming Platform Twitch"
          ],
          [
           "Trading as Gambling: Social Investing and Financial Risks on the r/WallStreetBets subreddit"
          ],
          [
           "Do We Run How We Say We Run? Formalization and Practice of Governance in OSS Communities"
          ],
          [
           "\"It’s Not What We Were Trying to Get At, but I Think Maybe It Should Be\": Learning How to Do Trauma-Informed Design With a Data Donation Platform for Online Dating Sexual Violence"
          ],
          [
           "“Some Hope, Many Despair”: Experiences of the Normalization within Online Dating among Queer Women in a Closeted Society"
          ],
          [
           "Cheat Codes as External Support for Players Navigating Fear of Failure and Self-Regulation Challenges In Digital Games"
          ],
          [
           "How Founder Motivations, Goals, and Actions Influence Early Trajectories of Online Communities"
          ],
          [
           "Outplay Your Weaker Self: A Mixed-Methods Study on Gamification to Overcome Procrastination in Academia"
          ],
          [
           "\"We happen to be different and different is not bad\": Designing for Intersectional Fat-Positive Information-Seeking"
          ],
          [
           "Not What it Used to Be: Characterizing Content and User-base Changes in Newly Created Online Communities"
          ],
          [
           "Independent Validation of the Player Experience Inventory: Findings from a Large Set of Video Game Players"
          ],
          [
           "To Cut or Not To Cut? A Systematic Exploration of Y-Axis Truncation"
          ],
          [
           "Investigating the Potential of Group Recommendation Systems As a Medium of Social Interactions: A Case of Spotify Blend Experiences between Two Users"
          ],
          [
           "``Backseat Gaming\" A Study of Co-Regulated Learning within a Collegiate Male Esports Community"
          ],
          [
           "Not as easy as just update: Survey of System Administrators and Patching Behaviours"
          ],
          [
           "It's Trying Too Hard To Look Real: Deepfake Moderation Mistakes and Identity-Based Bias"
          ],
          [
           "Designing for Inclusive Experiences: Investigating Opportunities for Supporting Older Adults in Community-based Social Programs"
          ],
          [
           "Situating Datasets: Making Public Eviction Data Actionable for Housing Justice"
          ],
          [
           "\"Community Guidelines Make this the Best Party on the Internet\": An In-Depth Study of Online Platforms' Content Moderation Policies"
          ],
          [
           "Traumatizing or Just Annoying? Unveiling the Spectrum of Gamer Toxicity in the StarCraft II Community"
          ],
          [
           "‘A Teaspoon of Authenticity’: Exploring How Young Adults BeReal on Social Media"
          ],
          [
           "A Playbook to be Proud of: Making the Case for LGBTQ+ Inclusive User Account Design"
          ],
          [
           "Bystanders of Online Moderation: Examining the Effects of Witnessing Post-Removal Explanations"
          ],
          [
           "Characterizing and Quantifying Expert Input Behavior in League of Legends"
          ],
          [
           "Stranger Danger? Investor Behavior and Incentives on Cryptocurrency Copy-Trading Platforms"
          ],
          [
           "Predicting early user churn in a public digital weight loss intervention"
          ],
          [
           "Hostile Systems: A Taxonomy of Harms Articulated by Citizens Living with Socio-Economic Deprivation"
          ],
          [
           "Balancing Expertise: Designing an Eviction Defense Web Tool with Legal Experts and Tenants"
          ],
          [
           "Cross-Country Examination of People’s Experience with Targeted Advertising on Social Media"
          ],
          [
           "Content Moderation Justice and Fairness on Social Media: Comparisons Across Different Contexts and Platforms"
          ],
          [
           "Beyond Dollars: Unveiling the Deeper Layers of Online Romance Scams Introducing “Body Scam”"
          ],
          [
           "Navigating Afrocentric Human-Computer Interaction Research: A Scoping Review and Proposition of Afro-Postmodernism for Decolonial Praxis"
          ],
          [
           "Exploring the Difference of Attention, Emotion, and Neurobiological Domains as Underlying Vulnerabilities For Game Addiction"
          ],
          [
           "A Case Study on Facilitating a Long-Term Youth Advisory Board to Involve Youth in Adolescent Online Safety Research"
          ],
          [
           "Trust and Transparency: An Exploratory Study on Emerging Adults' Interpretations of Credibility Indicators on Social Media Platforms"
          ],
          [
           "ModeratorHub: A Knowledge Sharing and Relationship Building Platform for Moderators"
          ],
          [
           "User Voices, Platform Choices: Social Media Policy Puzzle with Decentralization Salt"
          ],
          [
           "Navigating the Shadows of Cyber Vigilantism: A Preliminary Analysis of Social Dynamics and Activities of Scambaiting"
          ],
          [
           "Green Cloud: Supporting Sustainable Behavior by Helping Users Remove Unnecessary Photos from Cloud Storage Service"
          ],
          [
           "Towards the Safety of Film Viewers from Sensitive Content: Advancing Traditional Content Warnings on Film Streaming Services"
          ],
          [
           "Towards a Safer Digital Future: Exploring Stakeholder Perspectives on Creating a Sustainable Youth Online Safety Community"
          ],
          [
           "Country as a proxy for culture? An exploratory study of players in an Online Multiplayer Game"
          ],
          [
           "Quiet Asian and Spicy Latino? Designing to Address Racial Microaggression"
          ],
          [
           "DCitizens Roles Unveiled: SIG Navigating Identities in Digital Civics and the Spectrum of Societal Impact"
          ],
          [
           "Communication Challenges Reported by UX Designers on Social Media: An Analysis of Subreddit Discussions"
          ],
          [
           "Addressing Interpersonal Harm in Online Gaming Communities: The Opportunities and Challenges for a Restorative Justice Approach"
          ],
          [
           "“Now I am Socially Well Respected” - From being Bullied in the Society to being Important Community Member"
          ],
          [
           "How Do People Use a Public Gratitude Platform in the Wild?"
          ],
          [
           "Understanding How to Design a Social Computing System That Helps PhD Students Collectively Navigate Mistreatment or Abuse in Advising Relationships"
          ],
          [
           "Why We Do What We Do - Societal Impact as a Driving Force for Your Research"
          ],
          [
           "Keynote: Modeling the Hawaiian Islands as a Socioecological Microcosm of the World -- WHAT IF..."
          ]
         ],
         "hovertemplate": "cluster=Trust and Governance in Digital Platforms<br>umap_x=%{x}<br>umap_y=%{y}<br>sentence=%{customdata[0]}<extra></extra>",
         "legendgroup": "Trust and Governance in Digital Platforms",
         "marker": {
          "color": "#636efa",
          "symbol": "circle"
         },
         "mode": "markers",
         "name": "Trust and Governance in Digital Platforms",
         "showlegend": true,
         "type": "scattergl",
         "x": {
          "bdata": "3Jvyvx4oyr+4oJ6/MTcIwPL5CsDJCRbApsUmwIjLz7/IbxTA6Tn9v+1qH8CICgDAKAwMwFiVi8AAQfO/zyrgv7oK7L8DbAbAoU7Rv2j3AcBYuca/DY8vwBrNEsC0KqO/7bPpvycZ279WswDAUFsRwKWkGcBAzN+/Zc4pwArpScA8NNy/yFgDwGE/HcDCPA3AZdYZwGeWFMBbadi/QEufv1N1KMDa5v2/XgENwH835r8kOxPALALGvxYeFcDdbNe/X5MOwCdgLsDYrjHAZ6i+v9N38b/xtc+/BeM4wM4aDcDIbBXA2wfavx9C+r9EcQDAUxwVwFnpPsC3ZPO/cQAHwDB3HcCKA0bABxMuwDErG8DauwTAVEDav7yh578HRCzABcYqwGdiLcA=",
          "dtype": "f4"
         },
         "xaxis": "x",
         "y": {
          "bdata": "D2rYP+2B9D/Lc9w/WeCfP2X11T9FyoE/6w7uPwDSyz+5BqU/BqLiP/8Unj+Kv0g/WsHKP6XyM0CC6Zk/J8afP3sY0j+bwIE/evq/PzMkH0BmUcw/GpHcPydp8z+tW78/f8GrPxDG5D+hn58/5jyHP060CEBcgds/XpcMQJmv4T+BjNY/p5gOQHfIgEC28w9AjNHtP5JaxD8Xmtw/nUMmQMONKECXC74/vmbpPwY8uz8xXn0/5YXrPy0m7T+WgZ4/2jfJP5aN0T+BoSNARoTMPzLQvz8Ejdo/bsbqP6CDFUCuyZE/XQy5P9Xeqj+L3a4/KsvGP7tPwT/te7Y/Fp6sP7ndAkDKt/g/gxKjP5+14z8v7tg/PH3QPxbGyj9B8gVAm2qpP5PapT8=",
          "dtype": "f4"
         },
         "yaxis": "y"
        },
        {
         "customdata": [
          [
           "Where Are We So Far? Understanding Data Storytelling Tools from the Perspective of Human-AI Collaboration"
          ],
          [
           "Time2Stop: Adaptive and Explainable Human-AI Loop for Smartphone Overuse Intervention"
          ],
          [
           "Dungeons & Deepfakes: Using scenario-based role-play to study journalists' behavior towards using AI-based verification tools for video content"
          ],
          [
           "(Beyond) Reasonable Doubt: Challenges that Public Defenders Face in Scrutinizing AI in Court"
          ],
          [
           "Human-Computer Interaction and AI:  What Practitioners Need to Know to Design and Build Effective AI systems from a Human Perspective"
          ],
          [
           "How to Write Better CHI Papers (with AI)"
          ],
          [
           "Wikibench: Community-Driven Data Curation for AI Evaluation on Wikipedia"
          ],
          [
           "How Do Data Analysts Respond to AI Assistance? A Wizard-of-Oz Study"
          ],
          [
           "Sensible and Sensitive AI for Worker Wellbeing: Factors that Inform Adoption and Resistance for Information Workers"
          ],
          [
           "Understanding Human-AI Collaboration in Music Therapy Through Co-Design with Therapists"
          ],
          [
           "Deepfakes, Phrenology, Surveillance, and More! A Taxonomy of AI Privacy Risks"
          ],
          [
           "Farsight: Fostering Responsible AI Awareness During AI Application Prototyping"
          ],
          [
           "AI is Entering Regulated Territory: Understanding the Supervisors' Perspective for Model Justifiability in Financial Crime Detection"
          ],
          [
           "\"Are You Really Sure?'' Understanding the Effects of Human Self-Confidence Calibration in AI-Assisted Decision Making"
          ],
          [
           "Understanding Choice Independence and Error Types in Human-AI Collaboration"
          ],
          [
           "AI-Driven Mediation Strategies for Audience Depolarisation in Online Debates"
          ],
          [
           "The Illusion of Artificial Inclusion"
          ],
          [
           "Impact of Model Interpretability and Outcome Feedback on Trust in AI"
          ],
          [
           "Data Ethics Emergency Drill: A Toolbox for Discussing Responsible AI for Industry Teams"
          ],
          [
           "An Evaluation of Situational Autonomy for Human-AI Collaboration in a Shared Workspace Setting"
          ],
          [
           "Which Artificial Intelligences Do People Care About Most? A Conjoint Experiment on Moral Consideration"
          ],
          [
           "Teaching artificial intelligence in extracurricular contexts through narrative-based learnersourcing"
          ],
          [
           "Dealing with Uncertainty: Understanding the Impact of Prognostic Versus Diagnostic Tasks on Trust and Reliance in Human-AI Decision Making"
          ],
          [
           "TutoAI: a cross-domain framework for AI-assisted mixed-media tutorial creation on physical tasks"
          ],
          [
           "Trust in AI-assisted Decision Making: Perspectives from Those Behind the System and Those for Whom the Decision is Made"
          ],
          [
           "Explanations, Fairness, and Appropriate Reliance in Human-AI Decision-Making"
          ],
          [
           "The Who in XAI: How AI Background Shapes Perceptions of AI Explanations"
          ],
          [
           "Shaping Human-AI Collaboration: Varied Scaffolding Levels in Co-writing with Language Models"
          ],
          [
           "From Primary Education to Premium Workforce: Drawing on K-12 Approaches for Developing AI Literacy"
          ],
          [
           "Understanding Human-machine Cooperation in Game-theoretical Driving Scenarios amid Mixed Traffic"
          ],
          [
           "The Effects of Perceived AI Use On Content Perceptions"
          ],
          [
           "Synlogue with Aizuchi-bot: Investigating the Co-Adaptive and Open-Ended Interaction Paradigm"
          ],
          [
           "AI-Assisted Causal Pathway Diagram for Human-Centered Design"
          ],
          [
           "LabelAId: Just-in-time AI Interventions for Improving Human Labeling Quality and Domain Knowledge in Crowdsourcing Systems"
          ],
          [
           "Authors' Values and Attitudes Towards AI-bridged Scalable Personalization of Creative Language Arts"
          ],
          [
           "Exploring the Association between Moral Foundations and Judgements of AI Behaviour"
          ],
          [
           "Unraveling the Dilemma of AI Errors: Exploring the Effectiveness of Human and Machine Explanations for Large Language Models"
          ],
          [
           "Explorable Explainable AI: Improving AI Understanding for Community Health Workers in India"
          ],
          [
           "A Scoping Study of Evaluation Practices for Responsible AI Tools: Steps Towards Effectiveness Evaluations"
          ],
          [
           "The Role of Inclusion, Control, and Ownership in Workplace AI-Mediated Communication"
          ],
          [
           "Enhancing UX Evaluation Through Collaboration with Conversational AI Assistants: Effects of Proactive Dialogue and Timing"
          ],
          [
           "Towards Building Condition-Based Cross-Modality Intention-Aware Human-AI Cooperation under VR Environment"
          ],
          [
           "Are We Asking the Right Questions?: Designing for Community Stakeholders’ Interactions with AI in Policing"
          ],
          [
           "The Situate AI Guidebook: Co-Designing a Toolkit to Support Multi-Stakeholder, Early-stage Deliberations Around Public Sector AI Proposals"
          ],
          [
           "Why the Fine, AI? The Effect of Explanation Level on Citizens' Fairness Perception of AI-based Discretion in Public Administrations"
          ],
          [
           "Show, Not Tell: A Human-AI Collaborative Approach for Designing Sound Awareness Systems"
          ],
          [
           "Rethinking Human-AI Collaboration in Complex Medical Decision Making: A Case Study in Sepsis Diagnosis"
          ],
          [
           "User Characteristics in Explainable AI: The Rabbit Hole of Personalization?"
          ],
          [
           "How Do Analysts Understand and Verify AI-Assisted Data Analyses?"
          ],
          [
           "ContextCam: Bridging Context Awareness with Creative Human-AI Image Co-Creation"
          ],
          [
           "Explaining It Your Way - Findings from a Co-Creative Design Workshop on Designing XAI Applications with AI End-Users from the Public Sector"
          ],
          [
           "Understanding Nonlinear Collaboration between Human and AI Agents: A Co-design Framework for Creative Design"
          ],
          [
           "Understanding Public Perceptions of AI Conversational Agents: A Cross-Cultural Analysis"
          ],
          [
           "How Culture Shapes What People Want From AI"
          ],
          [
           "The Role of AI in Peer Support for Young People: A Study of Preferences for Human- and AI-Generated Responses"
          ],
          [
           "\"AI enhances our performance, I have no doubt this one will do the same\": The Placebo effect is robust to negative descriptions of AI"
          ],
          [
           "VIVID: Human-AI Collaborative Authoring of Vicarious Dialogues from Lecture Videos"
          ],
          [
           "Guidelines for Integrating Value Sensitive Design in Responsible AI Toolkits"
          ],
          [
           "DiaryMate: Understanding User Perceptions and Experience in Human-AI Collaboration for Personal Journaling"
          ],
          [
           "Card-Based Approach to Engage Exploring Ethics in AI for Data Visualization"
          ],
          [
           "The Second Workshop on Child-Centered AI Design (CCAI)"
          ],
          [
           "A User-centered Framework for Human-AI Co-creativity"
          ],
          [
           "Getting Back Together: HCI and Human Factors Joining Forces to Meet the AI Interaction Challenge"
          ],
          [
           "Making Transparency Influencers: A Case Study of an Educational Approach to Improve Responsible AI Practices in News and Media"
          ],
          [
           "\"You can’t build what you don’t understand\": Practitioner Perspectives on Explainable AI in the Global South"
          ],
          [
           "Chart What I Say: Exploring Cross-Modality Prompt Alignment in AI-Assisted Chart Authoring"
          ],
          [
           "Optimizing Decision-Maker's Intrinsic Motivation for Effective Human-AI Decision-Making"
          ],
          [
           "Bridging the Integrity Gap: Towards AI-assisted Design Research"
          ],
          [
           "Silk Road Journey: A Real-time AI-based Interactive Art Installation for Silk Road Cultural Reenactment and Experience"
          ],
          [
           "AI Is Not Enough: A Hybrid Technical Approach to AI Adoption in UI Linting With Heuristics"
          ],
          [
           "Untangling Critical Interaction with AI in Students’ Written Assessment"
          ],
          [
           "Contextualizing the \"Why\": The Potential of Using Visual Map As a Novel XAI Method for Users with Low AI-literacy"
          ],
          [
           "Accelerating Scoping Reviews: A Case Study in the User-Centered Design of an AI-Enabled Interdisciplinary Research Tool"
          ],
          [
           "CoAIcoder: Examining the Effectiveness of AI-assisted Human-to-Human Collaboration in Qualitative Analysis"
          ],
          [
           "Synocene, Beyond the Anthropocene: De-Anthropocentralising Human-Nature-AI Interaction"
          ],
          [
           "Evaluating Interactive AI: Understanding and Controlling Placebo Effects in Human-AI Interaction"
          ],
          [
           "Theory of Mind in Human-AI Interaction"
          ],
          [
           "From Experience to Experience: Key Insights for Improved Interaction with AI in Radiology"
          ],
          [
           "The Effects of Expertise, Humanness, and Congruence on Perceived Trust, Warmth, Competence and Intention to Use Embodied AI"
          ],
          [
           "Adjusting Amount of AI Explanation for Visual Tasks"
          ],
          [
           "How Can I Trust AI? : Extending a UXer-AI Collaboration Process in the Early Stages"
          ],
          [
           "Trust and Reliance in Evolving Human-AI Workflows (TREW)"
          ],
          [
           "Gender Differences and Social Design in Human-AI Collaboration: Insights from Virtual Cobot Interactions Under Varying Task Loads"
          ],
          [
           "An Evidence-based Workflow for Studying and Designing Learning Supports for Human-AI Co-creation"
          ],
          [
           "What Does Evaluation of Explainable Artificial Intelligence Actually Tell Us? A Case for Compositional and Contextual Validation of XAI Building Blocks"
          ],
          [
           "Understanding the Dynamics in Creating Domain-Specific AI Design Guidelines: A Case Study of a Leading Digital Finance Company in South Korea"
          ],
          [
           "More than Task Performance: Developing New Criteria for Successful Human-AI Teaming Using the Cooperative Card Game Hanabi"
          ],
          [
           "Re-examining User Burden in Human-AI Interaction: Focusing on a Domain-Specific Approach"
          ],
          [
           "Holding AI to Account: Challenges for the Delivery of Trustworthy AI in Healthcare"
          ],
          [
           "Towards Directive Explanations: Crafting Explainable AI Systems for Actionable Human-AI Interactions"
          ],
          [
           "Exploring the Impact of AI Value Alignment in Collaborative Ideation: Effects on Perception, Ownership, and Output"
          ],
          [
           "Designing (with) AI for Wellbeing"
          ],
          [
           "Transparent AI Disclosure Obligations: Who, What, When, Where, Why, How"
          ],
          [
           "Spiritual AI: Exploring the Possibilities of a Human-AI Interaction Beyond Productive Goals"
          ],
          [
           "AI-Enhanced API Design: A New Paradigm in Usability and Efficiency"
          ],
          [
           "Designing for Human-AI Interaction: Comparing Intermittent, Continuous, and Proactive Interactions for a Music Application"
          ],
          [
           "Embracing Embodied Social Cognition in AI: Moving Away from Computational Theory of Mind"
          ],
          [
           "Establishing Appropriate Trust in AI through Transparency and Explainability"
          ],
          [
           "Concerns and Challenges of AI Tools in the UI/UX Design Process: A Cross-Sectional Survey"
          ],
          [
           "HCI and AI in Industry: Current and Future"
          ],
          [
           "Designing for Human-Agent Alignment: Understanding what humans want from their agents"
          ],
          [
           "Design, Development, and Deployment of Context-Adaptive AI Systems for Enhanced User Adoption"
          ],
          [
           "Outperformed by AI: Interacting with Superhuman AI Changes the Way We Perceive Ourselves"
          ],
          [
           "Practising Appropriate Trust in Human-Centred AI Design"
          ],
          [
           "Strengthening Communities: Towards AI-Empowered Knowledge Management for Community Social Services"
          ],
          [
           "AI as a Child of Mother Earth: Regrounding Human-AI Interaction in Ecological Thinking"
          ],
          [
           "Economic Concentration and Dispossessive Data Use: Can HCI Solve Challenges from and to AI?"
          ],
          [
           "The Human API: Understanding Ourselves Through Our Digital Self"
          ]
         ],
         "hovertemplate": "cluster=Human-AI Collaboration and Trust<br>umap_x=%{x}<br>umap_y=%{y}<br>sentence=%{customdata[0]}<extra></extra>",
         "legendgroup": "Human-AI Collaboration and Trust",
         "marker": {
          "color": "#EF553B",
          "symbol": "circle"
         },
         "mode": "markers",
         "name": "Human-AI Collaboration and Trust",
         "showlegend": true,
         "type": "scattergl",
         "x": {
          "bdata": "kH2VwNLThcDSsJjAHhOowFylnsBRKa3Ay12mwI9WrMAPLJ/AwxOTwOFopcDM7qLAc7umwB+IlcAYfJjAVxWTwHOHo8Ad1Z/Aa2WdwOgTi8D85qnAVAirwF/ckMAIMJ3AD/WcwMkxlMB4NrPADfuRwOD7qMCBsovAYLCYwD2Wk8AUzJvAyi+YwMYDosCc/aTAcc6kwMs5ssBrY47AuwaLwPCBiMBguR2/JBKfwPkEnMDYjqTA6bKJwNlJmMDAOazA2VOrwEmZi8Ac9avAzgKYwOD8ksDi6ajAErGhwPcupcAMqpXAz+eZwGFnkMAZn53AdPKhwJ2flMC1ha7AqYeewOl3sMDovZjAgeOWwGWCnsCMMJvAtEefwBSupsBiobDAn0mUwPPomsCZG6HAzKeZwP2wm8CMmbHAdoWdwMlJr8DzhZ/ANm6ZwBQZjsDoOpPAOmWxwNddq8DQ5pPAchSgwCbZpMDSbLXAe9GZwLJsq8CvibDApg6pwO+eocBR8ofA072hwItXq8DpRprARfu2wF1zmMDje6LAnCSlwOvboMBwGKDA46aowD0TtcBNiJXA",
          "dtype": "f4"
         },
         "xaxis": "x",
         "y": {
          "bdata": "nkRcQIWVZ0ADrmBAfmBFQIUTVED3yTtACCxDQD3CSEDSHlpA9EJpQIuPU0DXu2hAgOtMQM8JTUBsOD9AN9I4QL0uZEDQGEFAYAxLQAOAZkAWJ1FASWU/QF8ZTED3ZWJA4h9KQBX6RECJxk1ANnVXQI9TPkA3r25A+l5dQGHTdEARiF5AAuU9QFUFR0DmhV1ACFcjQDHSSUCt4EJApL5pQNwDMECHzWtA5+9MQIT5XkBAFUNAMypzQOD0RkC41jRAgBZFQPL4XUCDNFpAPQttQMooPUAfGF1AdjlBQBIYVkAyfm1Aut1eQIPEVkDJnFNAtPpeQG5OaEBY3DBATwsqQMt6WUDmxmdAhXVFQILoW0DBTYVANlRbQPiVVEBpXUBAfwFcQAzbSkDvwGlA6xpTQK1qZkB89lVAX0BWQFCBNECCNVRA349cQGT+WEB8dmBApTVAQNt7XkC4ZWBAKbpRQFW1S0AX309AYPxiQMqrXkC5JzdAVsRiQGo5aEA37WxAhv9dQC/kOkC46GZAEpA2QMJxRkBeSGpAmqFhQGNUWEBR4y9AhSZnQCo9J0AqMWJA",
          "dtype": "f4"
         },
         "yaxis": "y"
        },
        {
         "customdata": [
          [
           "Trash in Motion: Emergent Interactions with a Robotic Trashcan"
          ],
          [
           "PepperPose: Full-Body Pose Estimation with a Companion Robot"
          ],
          [
           "The Adaptive Architectural Layout: How the Control of a Semi-Autonomous Mobile Robotic Partition was Shared to Mediate the Environmental Demands and Resources of an Open-Plan Office"
          ],
          [
           "Robot-Assisted Decision-Making: Unveiling the Role of Uncertainty Visualisation and Embodiment"
          ],
          [
           "Swarm Body: Embodied Swarm Robots"
          ],
          [
           "Co-design Accessible Public Robots: Insights from People with Mobility Disability, Robotic Practitioners and Their Collaborations"
          ],
          [
           "\"It's Not a Replacement:'' Enabling Parent-Robot Collaboration to Support In-Home Learning Experiences of Young Children"
          ],
          [
           "\"Please Be Nice\": Robot Responses to User Bullying - Measuring Performance Across Aggression Levels"
          ],
          [
           "Giving Robots a Voice: Human-in-the-Loop Voice Creation and open-ended Labeling"
          ],
          [
           "“It looks useful, works just fine, but will it replace me ?\" Understanding Special Educators’ Perception of Social Robots for Autism Care in India"
          ],
          [
           "Navigating Real-World Challenges: A Quadruped Robot Guiding System for Visually Impaired People in Diverse Environments"
          ],
          [
           "Join Me Here if You Will: Investigating Embodiment and Politeness Behaviors When Joining Small Groups of Humans, Robots, and Virtual Characters"
          ],
          [
           "Firefighters' Perceptions on Collaboration and Interaction with Autonomous Drones: Results of a Field Trial"
          ],
          [
           "Are Robots Ready to Deliver Autism Inclusion?: A Critical Review"
          ],
          [
           "I feel being there, they feel being together: Exploring How Telepresence Robots Facilitate Long-Distance Family Communication"
          ],
          [
           "Contrasting Perspectives of Workers: Exploring Labor Relations in Workplace Automation and Potential Interventions"
          ],
          [
           "A Robot Jumping the Queue: Expectations About Politeness and Power During Conflicts in Everyday Human-Robot Encounters"
          ],
          [
           "“The bus is nothing without us”: Making Visible the Labor of Bus Operators amid the Ongoing Push Towards Transit Automation"
          ],
          [
           "Dances with Drones: Spatial Matching and Perceived Agency in Improvised Movements with Drone and Human Partners"
          ],
          [
           "Robotic Metamaterials: A Modular System for Hands-On Configuration of Ad-Hoc Dynamic Applications"
          ],
          [
           "Impact of Multi-Robot Presence and Anthropomorphism on Human Cognition and Emotion"
          ],
          [
           "Designing Multispecies Worlds for Robots, Cats, and Humans"
          ],
          [
           "Who Should Hold Control? Rethinking Empowerment in Home Automation among Cohabitants through the Lens of Co-Design"
          ],
          [
           "Understanding Entrainment in Human Groups: Optimising Human-Robot Collaboration from Lessons Learned during Human-Human Collaboration"
          ],
          [
           "HIFuzz: Human Interaction Fuzzing for Small Unmanned Aerial Vehicles"
          ],
          [
           "Exploring Intended Functions of Indoor Flying Robots Interacting With Humans in Proximity"
          ],
          [
           "InflatableBots: Inflatable Shape-Changing Mobile Robots for Large-Scale Encountered-Type Haptics in VR"
          ],
          [
           "Investigating Effect of Altered Auditory Feedback on Self-Representation, Subjective Operator Experience, and Task Performance in Teleoperation of a Social Robot"
          ],
          [
           "Towards Robotic Companions: Understanding Handler-Guide Dog Interactions for Informed Guide Dog Robot Design"
          ],
          [
           "People with Disabilities Redefining Identity through Robotic and Virtual Avatars: A Case Study in Avatar Robot Cafe"
          ],
          [
           "From Agent Autonomy to Casual Collaboration: A Design Investigation on Help-Seeking Urban Robots"
          ],
          [
           "Find the Bot!: Gamifying Facial Emotion Recognition for Both Human Training and Machine Learning Data Collection"
          ],
          [
           "Light it Up: Evaluating Versatile Autonomous Vehicle-Cyclist External Human-Machine Interfaces"
          ],
          [
           "Out of Place Robot in the Wild: Envisioning Urban Robot Contextual Adaptability Challenges Through a Design Probe"
          ],
          [
           "Begone, Orthot: A Near-Future Exploration of Bodily Autonomy"
          ],
          [
           "Should I Help a Delivery Robot? Cultivating Prosocial Norms through Observations"
          ],
          [
           "Exploring Holistic HMI Design for Automated Vehicles: Insights from a Participatory Workshop to Bridge In-Vehicle and External Communication"
          ],
          [
           "Design Exploration of Robotic In-Car Accessories for Semi-Autonomous Vehicles"
          ],
          [
           "Integration of a Shape Memory Alloy with a Soft Pneumatic Actuator to Improve the Haptic Interaction Performance of a Soft Social Robot"
          ],
          [
           "FaceVis: Exploring a Robot's Face for Affective Visualisation Design"
          ],
          [
           "Field Notes on Deploying Research Robots in Public Spaces"
          ],
          [
           "Revealing the Challenges to Automation Adoption in Organizations: Examining Practitioner Perspectives From an International Airport"
          ],
          [
           "When Research Becomes All About the Bots: A Case Study on Fraud Prevention and Participant Validation in the Context of Abortion Storytelling"
          ],
          [
           "Which Robot Do You Prefer When Boarding an Elevator: Fast vs. Considerate"
          ],
          [
           "Empowering Robot Designers: A Digital Tool for Early-Stage Social Robot Prototyping and Communication"
          ],
          [
           "\"Sit on me please\": Investigating Perception of Furniture Robotic Movements Using Video Prototyping"
          ],
          [
           "A Qualitative Study of Human Theorizing about Robot Bodily Behavior"
          ],
          [
           "Evaluating How Desktop Companion Robot Behaviors Influence Work Experience and Robot Perception"
          ],
          [
           "ROMEO: Towards the Design of Robot with Haptic Mediation for Remote Conflict"
          ],
          [
           "Performing a Task Alongside a Robot: Exploring the Impact of Social Comparison"
          ],
          [
           "Investigating Limits and Effectiveness of Privacy Conversations: the Case of Service Robots in an Office Environment"
          ],
          [
           "Softly Non-Spoken: Exploring the Potential of Soft Robotics to Support Non-Verbal Communication"
          ]
         ],
         "hovertemplate": "cluster=Human-Robot Interaction and Collaboration<br>umap_x=%{x}<br>umap_y=%{y}<br>sentence=%{customdata[0]}<extra></extra>",
         "legendgroup": "Human-Robot Interaction and Collaboration",
         "marker": {
          "color": "#00cc96",
          "symbol": "circle"
         },
         "mode": "markers",
         "name": "Human-Robot Interaction and Collaboration",
         "showlegend": true,
         "type": "scattergl",
         "x": {
          "bdata": "LfWAwMmOd8Bz5mfAlkCLwBV0gcBzpXrABAt5wKWLhsBE1IXAUyqAwHZed8D8w4LAHH2EwLHwhMD4OnrAVWeEwHz/hMD5X4HAxQhLwFB0McCxEpDAaxSIwJ9Rd8AIMIvAJh+AwNhegMDXv0G/ljiCwGV0hcDdD17A1lJ/wDG5hMBiUXXAFf+AwN4weMCEp4bA2bFuwM9JdcDQ6HTAJixywOo1gcBqJ4jAmyySwIsOh8DP+H3A/x+Sv9bGg8Cvk4bAdyd/wJ3UhMD8bYLAYOJ1wA==",
          "dtype": "f4"
         },
         "xaxis": "x",
         "y": {
          "bdata": "IaOOQKzDkUDZoYhAiyJ7QNlIj0B6H45AVs9kQBm+iEBRH4dArmyGQIx/j0B2CotAJGl/QLLRikCloolABTV5QFijjUBzFHVA92eNQBQ7l0D/82dAbziIQL8KeUAQoWJAkmyGQD5bjEBe/aRAMv+JQIlxikDDFY5AXrqGQColWkCt/IBA/YyLQGR1gkAH2IhA86CCQL5xhkDw6ZRAdQ6SQD2PkECaoGpAY1AOQGupj0BmyY1AyOunQKI4jUCu6YpAv9ORQFHbiUDCLI5AzcCNQA==",
          "dtype": "f4"
         },
         "yaxis": "y"
        },
        {
         "customdata": [
          [
           "DirectGPT: A Direct Manipulation Interface to Interact with Large Language Models"
          ],
          [
           "TensionFab: Fabrication of Room-scale Surface Structures From the Tension-Active Form of Planar Modules"
          ],
          [
           "To Sketching, And Beyond! A Course of Discovery with Pen and Paper"
          ],
          [
           "T4Train: Rapid Prototyping of ML-Driven Interactive Applications"
          ],
          [
           "Spatial Audio-Enhanced Multimodal Graph Rendering for Efficient Data Trend Learning on Touchscreen Devices"
          ],
          [
           "DeepSee: Multidimensional Visualizations of Seabed Ecosystems"
          ],
          [
           "Graph4GUI: Graph Neural Networks for Representing Graphical User Interfaces"
          ],
          [
           "Tandem: Reproducible Digital Fabrication Workflows as Multimodal Programs"
          ],
          [
           "MAIDR: Making Statistical Visualizations Accessible with Multimodal Data Representation"
          ],
          [
           "Understanding the Challenges of OpenSCAD Users for 3D Printing"
          ],
          [
           "PaperTouch: Tangible Interfaces through Paper Craft and Touchscreen Devices"
          ],
          [
           "IntelliTex: Fabricating Low-cost and Washable Functional Textiles using A Double-coating Process"
          ],
          [
           "DungeonMaker: Embedding Tangible Creation and Destruction in Hybrid Board Games through Personal Fabrication Technology"
          ],
          [
           "Shape-Changing Clay-Dough: Taking a Material-Oriented Approach to 3D Printing Ceramic Forms"
          ],
          [
           "MELDER: The Design and Evaluation of a Real-time Silent Speech Recognizer for Mobile Devices"
          ],
          [
           "Umwelt: Accessible Structured Editing of Multi-Modal Data Representations"
          ],
          [
           "MagneSwift: Low-Cost, Interactive Shape Display Leveraging Magnetic Materials"
          ],
          [
           "The Cadaver in the Machine: The Social Practices of Measurement and Validation in Motion Capture Technology"
          ],
          [
           "PaleoScan: Low-Cost Easy-to-Use High-Volume Fossil Scanning"
          ],
          [
           "Color Maker: a Mixed-Initiative Approach to Creating Accessible Color Maps"
          ],
          [
           "Piet: Facilitating Color Authoring for Motion Graphics Video"
          ],
          [
           "Rapid Prototyping with VideoClipper: In-camera Storyboarding and Video Capture"
          ],
          [
           "V-FRAMER: Visualization Framework for Mitigating Reasoning Errors in Public Policy"
          ],
          [
           "Painting Inferno: Novel Heat and Stiffness Control Methods with Carbon Nanomaterial Conductive Heating Paint"
          ],
          [
           "An Accessible, Three-Axis Plotter for Enhancing Calligraphy Learning through Generated Motion"
          ],
          [
           "ConeAct: A Multistable Actuator for Dynamic Materials"
          ],
          [
           "DoodleTunes: Interactive Visual Analysis of Music-Inspired Children Doodles with Automated Feature Annotation"
          ],
          [
           "MUD: Towards a Large-Scale and Noise-Filtered UI Dataset for Modern Style UI Modeling"
          ],
          [
           "Flextiles: Designing Customisable Shape-Change in Textiles with SMA-Actuated Smocking Patterns"
          ],
          [
           "IntentTuner: An Interactive Framework for Integrating Human Intentions in Fine-tuning Text-to-Image Generative Models"
          ],
          [
           "CamTroller: An Auxiliary Tool for Controlling Your Avatar in PC Games Using Natural Motion Mapping"
          ],
          [
           "Palette-PrintAR: augmented reality design and simulation for multicolor resin 3D printing"
          ],
          [
           "Real-time 3D Target Inference via Biomechanical Simulation"
          ],
          [
           "Griffith: A Storyboarding Tool Designed with Japanese Animation Professionals"
          ],
          [
           "KnitScape: Computational Design and Yarn-Level Simulation of Slip and Tuck Colorwork Knitting Patterns"
          ],
          [
           "GlucoMaker: Enabling Collaborative Customization of Glucose Monitors"
          ],
          [
           "3D Printing Locally Activated Visual-Displays Embedded in 3D Objects via Electrically Conductive and Thermochromic Materials"
          ],
          [
           "Touch-n-Go: Designing and Fabricating Touch Fastening Structures by FDM 3D Printing"
          ],
          [
           "ReactGenie: A Development Framework for Complex Multimodal Interactions Using Large Language Models"
          ],
          [
           "DisplayFab: The State of the Art and a Roadmap in the Personal Fabrication of Free-Form Displays Using Active Materials and Additive Manufacturing."
          ],
          [
           "Exploring Interactive Color Palettes for Abstraction-Driven Exploratory Image Colorization"
          ],
          [
           "pARam: Leveraging Parametric Design in Extended Reality to Support the Personalization of Artifacts for Personal Fabrication"
          ],
          [
           "DeepTreeSketch: Neural Graph Prediction for Faithful 3D Tree Modeling from Sketches"
          ],
          [
           "PhotoScout: Synthesis-Powered Multi-Modal Image Search"
          ],
          [
           "CollageVis: Rapid Previsualization Tool for Indie Filmmaking using Video Collages"
          ],
          [
           "Viewer2Explorer: Designing a Map Interface for Spatial Navigation in Linear 360 Museum Exhibition Video"
          ],
          [
           "WeaveSlicer: Expanding the Range of Printable Geometries in Clay"
          ],
          [
           "MoiréWidgets: High-Precision, Passive Tangible Interfaces via Moiré Effect"
          ],
          [
           "Cieran: Designing Sequential Colormaps via In-Situ Active Preference Learning"
          ],
          [
           "Inkeraction: An Interaction Modality Powered by Ink Recognition and Synthesis"
          ],
          [
           "InkBrush: A Sketching Tool for 3D Ink Painting"
          ],
          [
           "Taking ASCII Drawings Seriously: How Programmers Diagram Code"
          ],
          [
           "Throwing Out Conventions: Reimagining Craft-Centered CNC Tool Design through the Digital Pottery Wheel"
          ],
          [
           "Table Illustrator: Puzzle-based interactive authoring of plain tables"
          ],
          [
           "Meta-Manager: A Tool for Collecting and Exploring Meta Information about Code"
          ],
          [
           "Mindful Scroll: An Infinite Scroll Abstract Colouring App for Mindfulness"
          ],
          [
           "CeraMetal: A New Approach to Low-Cost Metal 3D Printing with Bronze Clay"
          ],
          [
           "The Effect of Orientation on the Readability and Comfort of 3D-Printed Braille"
          ],
          [
           "Metamorpheus: Interactive, Affective, and Creative Dream Narration Through Metaphorical Visual Storytelling"
          ],
          [
           "ChunkyEdit: Text-first video interview editing via chunking"
          ],
          [
           "SketchPath: Using Digital Drawing to Integrate the Gestural Qualities of Craft in CAM-Based Clay 3D Printing"
          ],
          [
           "AdapTics: A Toolkit for Creative Design and Integration of Real-Time Adaptive Mid-Air Ultrasound Tactons"
          ],
          [
           "Waxpaper Actuator: Sequentially and Conditionally Programmable Wax Paper for Morphing Interfaces"
          ],
          [
           "SnapInflatables: Designing Inflatables with Snap-through Instability for Responsive Interaction"
          ],
          [
           "DynaVis: Dynamically Synthesized UI Widgets for Visualization Editing"
          ],
          [
           "LumiMood: A Creativity Support Tool for Designing the Mood of a 3D Scene"
          ],
          [
           "PromptCharm: Text-to-Image Generation through Multi-modal Prompting and Refinement"
          ],
          [
           "LaCir: A multilayered laser-cuttable material to co-fabricate circuitry and structural components."
          ],
          [
           "Advancing 3D CAD with Workflow Graph-Driven Bayesian Command Inferences"
          ],
          [
           "An Interactive Tool for Simulating Mid-Air Ultrasound Tactons on the Skin"
          ],
          [
           "ARtVista: Gateway To Empower Anyone Into Artist"
          ],
          [
           "LuciEntry: A Modular Lucid Dream Induction Prototype"
          ],
          [
           "Shape Cast: Automating 3D Design for Plaster Molds in Ceramic Slip Casting"
          ],
          [
           "Foam2Form: 4D Printing with Programmable Foaming"
          ],
          [
           "Design and Fabrication for Dynamic Color-Changing on Curved 3D-Printed Surfaces"
          ],
          [
           "Flushner: A 3D Printing Technique That Inserts Stepped Objects to Achieve Surface Uniformity and High Speed"
          ],
          [
           "MagnaDip Kit: A User-Friendly Toolkit for Streamlined Fabrication of Electromagnetic Responsive Textiles"
          ],
          [
           "CommuTiles: Shape-Changeable Modular Computer System Using Proximity Wireless Communication"
          ],
          [
           "Digital Dotted Lines: Design and Evaluation of a Prototype for Digitally Signing Documents Using Identity Wallets"
          ],
          [
           "Thermaterial: Program Ambient Heat Transfer Behaviors on Objects through Fluidic Composites"
          ],
          [
           "LuciEntry HOME: An Anywhere Lucid Dream Induction Prototype"
          ],
          [
           "Cinemassist: An Intelligent Interactive System for Real-Time Cinematic Composition Design"
          ],
          [
           "Designing and Prototyping Applications Using Acoustophoretic Interfaces"
          ],
          [
           "ShadowMaker: Sketch-Based Creation Tool for Digital Shadow Puppetry"
          ],
          [
           "Scrappy and Substiports: User-Inserted Ad Hoc Objects For Faster, More Sustainable 3D Printing"
          ],
          [
           "Intercircuit: Electroplating with Cavities for Fast Fabrication of Complex and High-Performance 3D Circuits"
          ],
          [
           "milleCrepe: Extending Capabilities of Fluid-driven Interfaces with Multilayer Structures and Diverse Actuation Media"
          ],
          [
           "Spreadsheets on Interactive Surfaces: Breaking through the Grid with the Pen"
          ],
          [
           "Anesth-on-the-Go: Designing Portable Game-based Anesthetic Simulator for Education"
          ],
          [
           "HydroSkin: Rapid Prototyping On-Skin Interfaces via Low-Cost Hydrographic Printing"
          ],
          [
           "Thinking Outside the Box: Non-Designer Perspectives and Recommendations for Template-Based Graphic Design Tools"
          ],
          [
           "CanvasPic: An Interactive Tool for Freely Generating Facial Images Based on Spatial Layout"
          ],
          [
           "MagPixel: Modular Toolkit for Designing Interactive Magnetic Shape Displays"
          ],
          [
           "Examining approaches to personalized 3D printed wheelchair cushions"
          ],
          [
           "Demonstrating New Materials, Software, and Hardware from the Hand and Machine Lab"
          ],
          [
           "Magic Ball:  A globe-based system for multidimensional information display and interaction in MR"
          ],
          [
           "Rapid Fabrication of Haptic and Electric Input Interfaces using 4D Printed Origami"
          ],
          [
           "TactPrint: 3D Printing Lattice-based Tactile Displays with Optimized and Local Vibration"
          ],
          [
           "Playing the Print: MIDI-Based Fabrication Interfaces to Explore and Document Material Behavior"
          ],
          [
           "MAMMOTH: Mid-Air Mesh-based Modulation Optimization Toolkit for Haptics"
          ],
          [
           "Design and Simulation Tool for Sequentially and Conditionally Programmable Waxpaper Morphing Interfaces"
          ],
          [
           "Maelstrom: Spatial Instrument and Decision Making Tool Based on Pattern Progression"
          ],
          [
           "Temaneki: Map-Based Collaboration Tool for Consensus-Building in Student-Run Festival Management Teams"
          ],
          [
           "pic2eat: Facilitating Social Ice-breaking through Collaborative Design of 3D Printed Appetizer"
          ],
          [
           "Mappings in the Home: Selecting Home Appliances in 3D Space"
          ],
          [
           "Computational Representations for Graphical User Interfaces"
          ],
          [
           "Nothing Like Compilation: How Professional Digital Fabrication Workflows Go Beyond Extruding, Milling, and Machines"
          ]
         ],
         "hovertemplate": "cluster=Prototyping and Innovative Interfaces<br>umap_x=%{x}<br>umap_y=%{y}<br>sentence=%{customdata[0]}<extra></extra>",
         "legendgroup": "Prototyping and Innovative Interfaces",
         "marker": {
          "color": "#ab63fa",
          "symbol": "circle"
         },
         "mode": "markers",
         "name": "Prototyping and Innovative Interfaces",
         "showlegend": true,
         "type": "scattergl",
         "x": {
          "bdata": "ZTqGwOGqFMDgcTbAtp8kwEshwr8u56O+ovBmwDd8H8CpLce/CeYcwG+CD8ABiCXA50oawAWTH8C33TXAn3HGv7/rBsBv7LC/fyjmvy5xPMCBACzABvjnv6w3IMDUvRnAGLcXwM0MK8CSKzPAc0PWv716GcDydCfAC84BwOecFMA3C8G/QoVRwBZuLsCitxPAF/4ZwLNUHsDv0SfA74YQwDgUMsCi2tS/U3Q+wFK5CMCnTwHA7smIv7d1IcB87ui/UE08wHlP17+P7C/A29hqwKRuLsADqk/A+l49wPCvJsBzOh7Al/0YwLexvb8++de/V2YlwEv8+L8bME7ATugIwHRLxL/7kyfAis6JwI9XHsC2pDXAupz8v2pai7/fOgjAixsgwDaJGsATqBfATMMcwCKtF8BCYBDAcRUgwGIpJMCbvvW/vacMwKDQSsDJEDLAsRAewN1iFMDvHzzAgCwowEESdr9tnBvAvF9ZwPsWIsAhhQjArYwdwKj+K8D+LoW/69oZwLlnG8CfWyDAJ40CwO47PMBDqTjA80lMwEoXG8BC3mW/dlVTwBeCNcA=",
          "dtype": "f4"
         },
         "xaxis": "x",
         "y": {
          "bdata": "RYD7P0/SpECveotAYeCHQF/xfEDWzI5Au5NiQEiEn0DHz1xA682vQEIfnUCGk55AXPefQNBlrUB3oVZAHA9nQLDAl0CUtpNAw2+RQCKTiEDZRIpA8uaJQM6YXUD9E5pAmlCrQCFvlUB673lAFYhmQP/skkBUboVAghmUQPbRrkBRLp1AXaVlQMfekkAU+1JASyGwQGlvq0Ab4oVAne+jQEF2h0CSU5tAD/6gQDbZh0CfTIhArqOHQNVArUB+TY5A4f+JQBkNikBq2JFAilpFQK7bpkC22oFAUoxrQNYMjEB2W65AiMSxQNd2ZED4u1BAMKGqQPRKlkCmXI1AsKSJQOQxgkA8To5ApK1KQJZUrkBaQqdA6COXQHataUDFXJlAWDasQB75rUC9W6xAzVuvQNcak0A91pBAUZgMQNP/nUDI/ZdAlqSGQES7ikCmUpRAF4uvQG9Lr0DQRZNALtmEQCeFpUATmalArhZfQPGXkEBmJpZA3l+wQM1aokDmBXBA/nGrQLjmrkA9aqhAGEOVQHmMkkAmA3xAjsNxQLqPr0A1n4xAVOtXQB8bnUA=",
          "dtype": "f4"
         },
         "yaxis": "y"
        },
        {
         "customdata": [
          [
           "Comparison of Spatial Visualization Techniques for Radiation in Augmented Reality"
          ],
          [
           "What You Experience is What We Collect: User Experience Based Fine-Grained Permissions for Everyday Augmented Reality"
          ],
          [
           "Exploring the Opportunity of Augmented Reality (AR) in Supporting Older Adults to Explore and Learn Smartphone Applications"
          ],
          [
           "Can You Hazard a Guess?: Evaluating the Effect of Augmented Reality Cues on Driver Hazard Prediction"
          ],
          [
           "Exploring the Design Space of Optical See-through AR Head-Mounted Displays to Support First Responders in the Field"
          ],
          [
           "Assessing User Apprehensions About Mixed Reality Artifacts and Applications: The Mixed Reality Concerns (MRC) Questionnaire"
          ],
          [
           "“Oh My God! It’s Recreating Our Room!” Understanding Children’s Experiences with A Room-Scale Augmented Reality Authoring Toolkit"
          ],
          [
           "Connecting Home: Human-Centric Setup Automation in the Augmented Smart Home"
          ],
          [
           "What's the Rush?: Alternative Values in Navigation Technologies for Urban Placemaking"
          ],
          [
           "Using the Visual Language of Comics to Alter Sensations in Augmented Reality"
          ],
          [
           "Comfortable Mobility vs. Attractive Scenery: The Key to Augmenting Narrative Worlds in Outdoor Locative Augmented Reality Storytelling"
          ],
          [
           "OmniActions: Predicting Digital Actions in Response to Real-World Multimodal Sensory Inputs with LLMs"
          ],
          [
           "Flicker Augmentations: Rapid Brightness Modulation for Real-World Visual Guidance using Augmented Reality"
          ],
          [
           "Scientific and Fantastical: Creating Immersive, Culturally Relevant Learning Experiences with Augmented Reality and Large Language Models"
          ],
          [
           "From Letterboards to Holograms: Advancing Assistive Technology for Nonspeaking Autistic Individuals with the HoloBoard"
          ],
          [
           "An Iterative Participatory Design Approach to Develop Collaborative Augmented Reality Activities for Older Adults in Long-Term Care Facilities"
          ],
          [
           "Breaking Badge: Augmenting Communication with Wearable AAC Smartbadges and Displays"
          ],
          [
           "Elastica: Adaptive Live Augmented Presentations with Elastic Mappings Across Modalities"
          ],
          [
           "Communication, Collaboration, and Coordination in a Co-located Shared Augmented Reality Game: Perspectives From Deaf and Hard of Hearing People"
          ],
          [
           "ARTiST: Automated Text Simplification for Task Guidance in Augmented Reality"
          ],
          [
           "“X-Ray Vision” as a Compensatory Augmentation for Slowing Cognitive Map Decay in Older Adults"
          ],
          [
           "Narrating Routines through Game Dynamics: Impact of a Gamified Routine Management App for Autistic Individuals"
          ],
          [
           "Augmented Reality Cues Facilitate Task Resumption after Interruptions in Computer-Based and Physical Tasks"
          ],
          [
           "MineXR: Mining Personalized Extended Reality Interfaces"
          ],
          [
           "A Design Space for Vision Augmentations and Augmented Human Perception using Digital Eyewear"
          ],
          [
           "ARCADIA: A Gamified Mixed Reality System for Emotional Regulation and Self-Compassion"
          ],
          [
           "Jigsaw: Authoring Immersive Storytelling Experiences with Augmented Reality and Internet of Things"
          ],
          [
           "AudioXtend: Assisted Reality Visual Accompaniments for Audiobook Storytelling During Everyday Routine Tasks"
          ],
          [
           "RASSAR: Room Accessibility and Safety Scanning in Augmented Reality"
          ],
          [
           "Tagnoo: Enabling Smart Room-Scale Environments with RFID-Augmented Plywood"
          ],
          [
           "Exploring Opportunities for Augmenting Homes to Support Exercising"
          ],
          [
           "Augmented Reality at Zoo Exhibits: A Design Framework for Enhancing the Zoo Experience"
          ],
          [
           "ProInterAR: A Visual Programming Platform for Creating Immersive AR Interactions"
          ],
          [
           "Virtual Unreality: Augmentation-Oriented Ideation Through Design Cards"
          ],
          [
           "Exploring Mobile Devices as Haptic Interfaces for Mixed Reality"
          ],
          [
           "I Did Not Notice: A Comparison of Immersive Analytics with Augmented and Virtual Reality"
          ],
          [
           "Large-scale Validation of a Scalable and Portable Behavioral Digital Screening Tool for Autism at Home"
          ],
          [
           "XRPublicSpectator: Towards Public Mixed Reality Viewing in Collocated Asymmetric Groups"
          ],
          [
           "Towards Understanding Group Collaboration Patterns Around Mobile Augmented-Reality Interfaces for Geospatial Science Data Visualizations"
          ],
          [
           "Screen Augmentation Technique Using AR Glasses and Smartphone without External Sensors"
          ],
          [
           "AuctentionAR - Auctioning Off Visual Attention in Mixed Reality"
          ],
          [
           "ModifyAug: Data Augmentation for Virtual IMU Signal based on 3D Motion Modification Used for Real Activity Recognition"
          ],
          [
           "DentAR: Innovating Dental Visits with Sensory Experiences in AR for People with Autism Spectrum Disorder"
          ],
          [
           "Augmentation Residency: An Immersive Live-Work HCI R&D Model"
          ],
          [
           "Breaking the Plane: Exploring Real-Time Visualization of 3D Surfaces in Augmented Reality with Handwritten Input"
          ],
          [
           "Designing Interactive Technology to Support Children with Autism"
          ],
          [
           "SonifyAR: Context-Aware Sound Effect Generation in Augmented Reality"
          ],
          [
           "Footprints of Travel: AIoT and AR Enhanced Tourist Gaming Experience in Unmanned Cultural Sites"
          ],
          [
           "ARCollab: Towards Multi-User Interactive Cardiovascular Surgical Planning in Mobile Augmented Reality"
          ],
          [
           "We Are Still Here: The Thámien Ohlone Augmented Reality Tour"
          ],
          [
           "Mind the Mix: Exploring the Cognitive Underpinnings of Multimodal Interaction in Augmented Reality Systems"
          ],
          [
           "Public Assistive Displays: Employing Public Interactive Displays to Improve Public Transport Access 4All"
          ],
          [
           "Towards an Augmented Reality Agent to Support Communication for Nonspeaking Autistic People"
          ],
          [
           "Designing Inclusive Future Augmented Realities"
          ],
          [
           "Adaptive and Immersive XR Interactions with Wearable Interfaces (Demo of KAIST HCI Tech Lab)"
          ],
          [
           "With or Without Permission: Site-Specific Augmented Reality for Social Justice"
          ],
          [
           "Grow With Me: Exploring the Integration of Augmented Reality and Health Tracking Technologies to Promote Physical Activity"
          ]
         ],
         "hovertemplate": "cluster=Augmented Reality and Immersive Experiences<br>umap_x=%{x}<br>umap_y=%{y}<br>sentence=%{customdata[0]}<extra></extra>",
         "legendgroup": "Augmented Reality and Immersive Experiences",
         "marker": {
          "color": "#FFA15A",
          "symbol": "circle"
         },
         "mode": "markers",
         "name": "Augmented Reality and Immersive Experiences",
         "showlegend": true,
         "type": "scattergl",
         "x": {
          "bdata": "FCS7vjXQ5745ZDC/wVcUv6imML8qJ8++OWXsvmZ9RcDMq/C+cC4Lv3TUGb+mVq6/2Awiv0i8I79mZ5O/CDxav97vlL9STqq/KMACv7Zedb/P+w+/Pq7+v9+NR79n6GG/+4IEv6lpMb8CM4++3SI9v31b5L52awW/WOVqv4IBAr8Y1Ga/o/AYv+FfI79LYI++cez7v0jeB785YK2/XSMdv3lpI78Mh6O/4aJcv1ZNDb+MISK/LqcawJSUWL+B4j2/YflPv7K/nr6vI3m/Chlkv3WlWr8HnCa/IDk8v0iXxL6W24a+",
          "dtype": "f4"
         },
         "xaxis": "x",
         "y": {
          "bdata": "gjVzQN/nY0B4NHRAL+NrQPgWVkAM6ndAj8VyQFW0dUCwQoZAZYZuQIvrZkA9pIJAoQGBQBoIfkC4/EhAl91MQIdpX0Bz13pAHhg2QNGcYUDSG1VAksFLQNRqXUDBJYVAtLNpQKOnckAtUHhAcRVbQG59ckABBYFA4G1pQO9Fd0CctntANlBuQC9shUDKW3tAKLlCQB6rcUCrGVpAL95sQLBibUAU1oFAe+1zQAlLgUCPOIxAcrlmQAeCdUBcK31ApPFuQFfGgECe5XFASkopQPniT0D+FWlAns6KQE/FXUA1q3pA",
          "dtype": "f4"
         },
         "yaxis": "y"
        },
        {
         "customdata": [
          [
           "Understanding Pedestrians’ Perception of Safety and Safe Mobility Practices"
          ],
          [
           "Your Avatar Seems Hesitant to Share About Yourself: How People Perceive Others' Avatars in the Transparent System"
          ],
          [
           "Understanding User-Perceived Security Risks and Mitigation Strategies in the Web3 Ecosystem"
          ],
          [
           "“That’s Kind of Sus(picious)”: The Comprehensiveness of Mental Health Application Users’ Privacy and Security Concerns"
          ],
          [
           "Privacy Concerns of Student Data Shared with Instructors in an Online Learning Management System"
          ],
          [
           "Is a Trustmark and QR Code Enough? The Effect of IoT Security and Privacy Label Information Complexity on Consumer Comprehension and Behavior"
          ],
          [
           "Teaching Middle Schoolers about the Privacy Threats of Tracking and Pervasive Personalization: A Classroom Intervention Using Design-Based Research"
          ],
          [
           "An Empathy-Based Sandbox Approach to Bridge the Privacy Gap among Attitudes, Goals, Knowledge, and Behaviors"
          ],
          [
           "Seeking in Cycles: How Users Leverage Personal Information Ecosystems to Find Mental Health Information"
          ],
          [
           "“I Don’t Want to Become a Number’’: Examining Different Stakeholder Perspectives on a Video-Based Monitoring System for Senior Care with Inherent Privacy Protection (by Design)."
          ],
          [
           "Expanding Concepts of Non-Consensual Image-Disclosure Abuse: A Study of NCIDA in Pakistan"
          ],
          [
           "An Investigation of US Universities' Implementation of FERPA Student Directory Policies and Student Privacy Preferences"
          ],
          [
           "Decide Yourself or Delegate - User Preferences Regarding the Autonomy of Personal Privacy Assistants in Private IoT-Equipped Environments"
          ],
          [
           "Inter-regional Lens on the Privacy Preferences of Drivers for ITS and Future VANETs"
          ],
          [
           "Personalizing Privacy Protection With Individuals' Regulatory Focus: Would You Preserve or Enhance Your Information Privacy?"
          ],
          [
           "Data Probes as Boundary Objects for Technology Policy Design: Demystifying Technology for Policymakers and Aligning Stakeholder Objectives in Rideshare Gig Work"
          ],
          [
           "GigSousveillance: Designing Gig Worker Centric Sousveillance Tools"
          ],
          [
           "Privacy of Default Apps in Apple’s Mobile Ecosystem"
          ],
          [
           "Measuring Compliance with the California Consumer Privacy Act Over Space and Time"
          ],
          [
           "Understanding Users' Interaction with Login Notifications"
          ],
          [
           "On the Feasibility of Predicting Users' Privacy Concerns using Contextual Labels and Personal Preferences"
          ],
          [
           "Encoding Privacy: Sociotechnical Dynamics of Data Protection Compliance Work"
          ],
          [
           "Privacy in Immersive Extended Reality: Exploring User Perceptions, Concerns, and Coping Strategies"
          ],
          [
           "In Focus, Out of Privacy: The Wearer's Perspective on the Privacy Dilemma of Camera Glasses"
          ],
          [
           "Websites Need Your Permission Too -- User Sentiment and Decision-Making on Web Permission Prompts in Desktop Chrome"
          ],
          [
           "Bring Privacy To The Table: Interactive Negotiation for Privacy Settings of Shared Sensing Devices"
          ],
          [
           "What to the Muslim is Internet search: Digital Borders as Barriers to Information"
          ],
          [
           "“I Can’t Believe It’s Not Custodial!”: Usable Trustless Decentralized Key Management"
          ],
          [
           "Counting Carrds: Investigating Personal Disclosure and Boundary Management in Transformative Fandom"
          ],
          [
           "BubbleCam: Engaging Privacy in Remote Sighted Assistance"
          ],
          [
           "Systemization of Knowledge (SoK): Creating a Research Agenda for Human-Centered Real-Time Risk Detection on Social Media Platforms"
          ],
          [
           "Out-of-Device Privacy Unveiled: Designing and Validating the Out-of-Device Privacy Scale (ODPS)"
          ],
          [
           "Better Together: The Interplay Between a Phishing Awareness Video and a Link-centric Phishing Support Tool"
          ],
          [
           "Usable News Authentication: How the Presentation and Location of Cryptographic Information Impacts the Usability of Provenance Information and Perceptions of News Articles"
          ],
          [
           "Supportive Fintech for Individuals with Bipolar Disorder: Financial Data Sharing Preferences for Longitudinal Care Management"
          ],
          [
           "\"We Have No Security Concerns\": Understanding the Privacy-Security Nexus in Telehealth for Audiologists and Speech-Language Pathologists"
          ],
          [
           "FLUID-IoT : Flexible and Fine-Grained Access Control in Shared IoT Environments via Multi-user UI Distribution"
          ],
          [
           "Self-Efficacy and Security Behavior: Results from a Systematic Review of Research Methods"
          ],
          [
           "Do You Need to Touch? Exploring Correlations between Personal Attributes and Preferences for Tangible Privacy Mechanisms"
          ],
          [
           "Under the (neighbor)hood: Hyperlocal Surveillance on Nextdoor"
          ],
          [
           "Comparing the Use and Usefulness of Four IoT Security Labels"
          ],
          [
           "Analysis and Implementation of Nanotargeting on LinkedIn Based on Publicly Available Non-PII"
          ],
          [
           "Agency Aspirations: Understanding Users’ Preferences And Perceptions Of Their Role In Personalised News Curation"
          ],
          [
           "Towards Understanding Family Privacy and Security Literacy Conversations at Home: Design Implications for Privacy Literacy Interfaces"
          ],
          [
           "Analyzing Security and Privacy Advice During the 2022 Russian Invasion of Ukraine on Twitter"
          ],
          [
           "\"I Know I'm Being Observed:\" Video Interventions to Educate Users about Targeted Advertising on Facebook"
          ],
          [
           "More than just informed: The importance of consent facets in smart homes"
          ],
          [
           "Observer Effect in Social Media Use"
          ],
          [
           "Viblio: Introducing Credibility Signals and Citations to Video-Sharing Platforms"
          ],
          [
           "Computing and the Stigmatized: Trust, Surveillance, and Spatial Politics with the Sex Workers in Bangladesh"
          ],
          [
           "\"I know what you did last semester\": Understanding Privacy Expectations and Preferences in the Smart Campus"
          ],
          [
           "Dissecting users' needs for search result explanations"
          ],
          [
           "The Impact of Risk Appeal Approaches on Users’ Sharing Confidential Information"
          ],
          [
           "\"Don't put all your eggs in one basket\": How Cryptocurrency Users Choose and Secure Their Wallets"
          ],
          [
           "A Comparative Long-Term Study of Fallback Authentication Schemes"
          ],
          [
           "Redesigning Privacy with User Feedback: The Case of Zoom Attendee Attention Tracking"
          ],
          [
           "Examining Human Perception of Generative Content Replacement in Image Privacy Protection"
          ],
          [
           "\"I know even if you don't tell me\": Understanding Users' Privacy Preferences Regarding AI-based Inferences of Sensitive Information for Personalization"
          ],
          [
           "VeriSMS: A Message Verification System for Inclusive Patient Outreach against Phishing Attacks"
          ],
          [
           "“It doesn’t tell me anything about how my data is used”: User Perceptions of Data Collection Purposes"
          ],
          [
           "My Data, My Choice, My Insights: Women's Requirements when Collecting, Interpreting and Sharing their Personal Health Data"
          ],
          [
           "Trust, Privacy, and Safety Factors Associated with Decision Making in P2P Markets Based on Social Networks: A Case Study of Facebook Marketplace in USA and Canada"
          ],
          [
           "Profiling the Dynamics of Trust & Distrust in Social Media: A Survey Study"
          ],
          [
           "Trust by Interface: How Different User Interfaces Shape Human Trust in Health Information from Large Language Models"
          ],
          [
           "A Framework for Reasoning about Social Influences on Security and Privacy Adoption"
          ],
          [
           "Who is the Better Operator of an Identity Wallet Prioritised by the User? - A Quantitative Survey Between State and Company"
          ],
          [
           "Spreading the Word: Exploring a Network of Mobilizing Messages in a Telegram Conspiracy Group"
          ],
          [
           "Towards More Secure Interactions: Understanding User Experience and Behaviour in the NFT Domain"
          ],
          [
           "QR-Code Integrity by Design"
          ],
          [
           "Seeing Human Rights at Sea: How to Align Tech Development with the Needs of Maritime Human Rights Investigators and Affected Communities"
          ],
          [
           "A Critical Analysis of the Prevalence of Technology-Facilitated Abuse in US College Students"
          ],
          [
           "Bridging Informational Divides: A Community-Centered Analysis of “Public Safety” Surveillance Technology"
          ],
          [
           "Push, Scan, Tap: Embracing Commodity Technology for the provision of Accessible Information in Cultural Institutions"
          ],
          [
           "Examination of Users’ Privacy Issues in Live Streaming"
          ],
          [
           "“I Did Watch ‘The Handmaid’s Tale’”: Threat Modeling Privacy Post-Roe in the United States"
          ],
          [
           "\"I'm actually going to go and change these passwords\": Analyzing the Usability of Credential Audit Interfaces in Password Managers"
          ],
          [
           "Don't Accept All and Continue: Exploring Nudges for More Deliberate Interaction With Tracking Consent Notices"
          ],
          [
           "Awareness, Intention, (In)Action: Individuals' Reactions to Data Breaches"
          ],
          [
           "Un-Paradoxing Privacy: Considering Hopeful Trust"
          ],
          [
           "An Analysis of Password Managers’ Password Checkup Tools"
          ],
          [
           "Integrating Communications and Surveillance Technologies for effective community policing in Nigeria"
          ],
          [
           "Opportunistic Nudges for Task Migration Between Personal Devices"
          ],
          [
           "Reimagining Online Consent for More Responsible and Human-Centred Data Collection"
          ],
          [
           "From Notifications to Icons: Empowering People in the Face of Privacy Risks"
          ]
         ],
         "hovertemplate": "cluster=Privacy and Security in Digital Environments<br>umap_x=%{x}<br>umap_y=%{y}<br>sentence=%{customdata[0]}<extra></extra>",
         "legendgroup": "Privacy and Security in Digital Environments",
         "marker": {
          "color": "#19d3f3",
          "symbol": "circle"
         },
         "mode": "markers",
         "name": "Privacy and Security in Digital Environments",
         "showlegend": true,
         "type": "scattergl",
         "x": {
          "bdata": "38nrv97VhL+Sv/S/O07ivx6ewb8rtNG/nxudvyu/779f6/W/0XZ0v0kmB8C8Uqe/NBqhv8KnYL9aK6e/KsAewFFiFsBr4Yy/KJ+Zv5tw378vp52/Yvakv13qbL9diVy/hKiVvxRFgr/liRzAjqDlv0gS0L8QETO/MEUbwKwEh79rZpi/mMjZv5db5L8ZKKW/3plOwEmsMMBGM5m/FGJ6vxQm1b/AOsq/sz+2vwvmqr9mLqC/0iWAv7o9ir/rPJC/BXKrvzSyFMDmiJe/r7Lwv767wr+nu9W/RwMhwH8fXL9GII7A6auuv0T11795dca/v/7nv43Nxb/i9d6/JwMOwJTNpL9SgdC/vxPlvwIizr+HKSLAmJNCwBFDEcDMb66/o8wlwG/8iL/ygqK/H5r/v6+hi7/lDvK/3ACVv5zpBcDS0aO/f124v/MyzL+Hs5m/",
          "dtype": "f4"
         },
         "xaxis": "x",
         "y": {
          "bdata": "XEIfQFtwuz/Cpb8/u/BgP4RCqD9Hk4I/2u6MP7pDoT9SLnQ/I78dQN1xdD9yv5E/ytqCP1te2T+ycnI/DuLCP3DOYEBYnI4/ffmPPwoW8T+KQ4I/W1WEP1nLvT/Jx6g/UCfbP03dwj9gSJc/YRC0PwkVlT8Uevg/5NnHP/cblz8J8fc/zkCXPxsPlj+nuYc/tK6KQG77qj/LnYc/SE6ZP8hbhD/5lKY/+txwPym6iz++iJE/v2/hP0eUxT86xec/r+z1P1yMWT8ehoI/gdH0P8dshD9c050/JJmTP23frz+iJT1AIqZjP6qmDkAQuWw//UpHPxoXhD+L158/wKBlP8GCdD9J3ZQ/fb8VQA1niT/roJw/TV2aPwvXzj8v4Zc/uc7lPzvNmT8CjHY//Y2oPzSL1T+iLvk/hVeMP5+QsT92s6I/0SsMQMELgz84LII/",
          "dtype": "f4"
         },
         "yaxis": "y"
        },
        {
         "customdata": [
          [
           "Challenges and Opportunities for Responsible Prompting"
          ],
          [
           "Insights Into Legacy: Issues of Handover from a Partner-Initiated Project"
          ],
          [
           "Lies, Deceit, and Hallucinations: Player Perception and Expectations Regarding Trust and Deception in Games"
          ],
          [
           "A First Look into Targeted Clickbait and its Countermeasures: The Power of Storytelling"
          ],
          [
           "How Users Experience Closed Captions on Live Television: Quality Metrics Remain a Challenge"
          ],
          [
           "Watching the Election Sausage Get Made: How Data Journalists Visualize the Vote Counting Process in U.S. Elections"
          ],
          [
           "Fair Machine Guidance to Enhance Fair Decision Making in Biased People"
          ],
          [
           "Fragmented Moments, Balanced Choices: How Do People Make Use of Their Waiting Time?"
          ],
          [
           "An Ontology of Dark Patterns Knowledge: Foundations, Definitions, and a Pathway for Shared Knowledge-Building"
          ],
          [
           "Staying at the Roach Motel: Cross-Country Analysis of Manipulative Subscription and Cancellation Flows"
          ],
          [
           "“There is a Job Prepared for Me Here”: Understanding How Short Video and Live-streaming Platforms Empower Ageing Job Seekers in China"
          ],
          [
           "In Dice We Trust: Uncertainty Displays for Maintaining Trust in Election Forecasts Over Time"
          ],
          [
           "How Low is Low? Crowdworker Perceptions of Microtask Payments in Work versus Leisure Situations"
          ],
          [
           "Not Just A Dot on The Map: Food Delivery Workers as Infrastructure"
          ],
          [
           "Networks of care in digital domestic labour economies"
          ],
          [
           "Understanding fraudulence in online qualitative studies: From the researcher's perspective"
          ],
          [
           "Circle Back Next Week: The Effect of Meeting-Free Weeks on Distributed Workers’ Unstructured Time and Attention Negotiation"
          ],
          [
           "Mind The Gap: Designers and Standards on Algorithmic System Transparency for Users"
          ],
          [
           "Strategies of Product Managers: Negotiating Social Values in Digital Product Design"
          ],
          [
           "Understanding Underground Incentivized Review Services"
          ],
          [
           "Fighting Malicious Designs: Towards Visual Countermeasures Against Dark Patterns"
          ],
          [
           "On the Role of Materials Experience for Novel Interactions with Digital Representations of Historical Pop-up and Movable Books"
          ],
          [
           "Perceptions of Fairness in Technology-Mediated Marketplaces"
          ],
          [
           "\"Yeah, this graph doesn't show that\": Analysis of Online Engagement with Misleading Data Visualizations"
          ],
          [
           "I lose vs. I earn: Consumer perceived price fairness toward algorithmic (vs. human) price discrimination"
          ],
          [
           "Choosing What You Want Versus Getting What You Want: An Experiment with Choice in Video Ad Placement"
          ],
          [
           "Community, Storytelling, and Play: Making and Breaking Rituals in Destiny 2"
          ],
          [
           "Signs of the Smart City: Exploring the Limits and Opportunities of Transparency"
          ],
          [
           "Investigating the Mechanisms by which Prevalent Online Community Behaviors Influence Responses to Misinformation: Do Perceived Norms Really Act as a Mediator?"
          ],
          [
           "Shortchanged: Uncovering and Analyzing Intimate Partner Financial Abuse in Consumer Complaints"
          ],
          [
           "Non-Consensual Synthetic Intimate Imagery: Prevalence, Attitudes, and Knowledge in 10 Countries"
          ],
          [
           "Mobilizing Research and Regulatory Action on Dark Patterns and Deceptive Design Practices"
          ],
          [
           "Understanding and Balancing Trade-offs of Visibility in Support Requests"
          ],
          [
           "The Discontent with Intent Estimation In-the-Wild: The Case for Unrealized Intentions"
          ],
          [
           "Understanding and Supporting Financially-Constrained Aspiring Entrepreneurs’ Entrepreneurial Transitions"
          ],
          [
           "ShoppingCoach: Using Diminished Reality to Prevent Unhealthy Food Choices in an Offline Supermarket Scenario"
          ],
          [
           "Frustration: Still a Common User Experience"
          ],
          [
           "Theorizing Deception: A Scoping Review of Theory in Research on Dark Patterns and Deceptive Design"
          ],
          [
           "From Surplus and Scarcity towards Abundance: Understanding the Use of ICT in Food Resource Sharing Practices"
          ],
          [
           "“Is it Even Giving the Correct Reading or Not?”: How Trust and Relationships Mediate Blood Pressure Management in India"
          ],
          [
           "Use of ICTs during ongoing protracted socio-political disruptions"
          ],
          [
           "Technological Innovation in the Media Sector: Understanding Current Practices and Unraveling Opportunities"
          ],
          [
           "Reliability Criteria for News Websites"
          ],
          [
           "The Wicked Problem of Dropouts"
          ],
          [
           "Verifone: Building Trust in the Second-Hand Phone Market"
          ],
          [
           "Creating an equitable CHI - What does it mean to be an ally?"
          ],
          [
           "Deceptive, Disruptive, No Big Deal: Japanese People React to Simulated Dark Commercial Patterns"
          ],
          [
           "Casting Connections: A Fishy Approach to Conference Engagement"
          ],
          [
           "Reflections on Disinformation and Democracy"
          ]
         ],
         "hovertemplate": "cluster=Ethics and Fairness in Digital Design<br>umap_x=%{x}<br>umap_y=%{y}<br>sentence=%{customdata[0]}<extra></extra>",
         "legendgroup": "Ethics and Fairness in Digital Design",
         "marker": {
          "color": "#FF6692",
          "symbol": "circle"
         },
         "mode": "markers",
         "name": "Ethics and Fairness in Digital Design",
         "showlegend": true,
         "type": "scattergl",
         "x": {
          "bdata": "FthvwHzJvr+F4dm/M6THv2P67L6VmcO/5q+NwH2KsL9ZrgvAAdjrv0V7JMAuIuG/gtyqv/D6bsDEyS/AYlIjwIh4l7+nxL+/wvoXwOLYIMCOWfu/QgLtv/KB67/+9cC/sMiSwCd4m796Ae6/fl2rvwD98b/sr/G/DztjwGs/+b8Oc2e/6yunvwEDyL8TRhPAynf6v9k7/r9P7hvAqigLwDAeDMBRsQrAtvIBwCIwe8BeyMm/2gKtwHBKBMCjuCy/zhPbvw==",
          "dtype": "f4"
         },
         "xaxis": "x",
         "y": {
          "bdata": "A2PlPzYhEkCenBFAC973PxBOHUAoxzxAuAtAQEJIJkCruQlALkL3PyX8FUC8cwNA/yEPQPR7aEAM99M/JdGrP7akF0CJgcE/LO7aPyY+BUAslxVAl4QyQLhkwz/T+vU/ijk+QMJ/BUAXkhZAFkW8P/asAUDb7uE/9e0kQN0jD0AzEfE/feUQQIUG6D8ICvM/9aYLQO9pC0Cjg8A/BTyOPyHouj+kW+g/eE62PyH9vD/+LJg/y38oQLDGBEBlky9AOJv/Pw==",
          "dtype": "f4"
         },
         "yaxis": "y"
        },
        {
         "customdata": [
          [
           "HCI Research in Sensitive Settings: Learning Researcher Reflexivity, Ethical Conduct and Empathy in Participatory Design Approaches"
          ],
          [
           "Grand Challenges in SportsHCI"
          ],
          [
           "The Impact of Social Norms on Hybrid Workers’ Well-Being: A Cross-Cultural Comparison of Japan and the United States"
          ],
          [
           "HIFU Embossment of Acrylic Sheets"
          ],
          [
           "Charting the COVID Long Haul Experience - A Longitudinal Exploration of Symptoms, Activity, and Clinical Adherence"
          ],
          [
           "Thrown from Normative Ground: Exploring the Potential of Disorientation as a Critical Methodological Strategy in HCI"
          ],
          [
           "The Future of HCI-Policy Collaboration"
          ],
          [
           "Cruising Queer HCI on the DL: A Literature Review of LGBTQ+ People in HCI"
          ],
          [
           "Entangling Entanglement: A Diffractive Dialogue on HCI and Musical Interactions"
          ],
          [
           "Parent-Child Joint Media Engagement within HCI: A Scoping Analysis of the Research Landscape"
          ],
          [
           "Conceptualising Fatness within HCI: A Call for Fat Liberation"
          ],
          [
           "Who is \"I\"?: Subjectivity and  Ethnography in HCI"
          ],
          [
           "Searching for the Non-Consequential: Dialectical Activities in HCI and the Limits of Computers"
          ],
          [
           "Hearing Community Voices in HCI4D: Establishing Safe Places to Co-Create Counter-Collective Narratives with Women Farmers in Bangladesh"
          ],
          [
           "Commoning as a Strategy for HCI Research and Design in South Asia"
          ],
          [
           "Grand challenges in WaterHCI"
          ],
          [
           "A Systematic Review of Ability-diverse Collaboration through Ability-based Lens in HCI"
          ],
          [
           "Critical Heritage Studies as a Lens to Understand Short Video Sharing of Intangible Cultural Heritage on Douyin"
          ],
          [
           "Learning from Hybrid Craft: Investigating and Reflecting on Innovating and Enlivening Traditional Craft through Literature Review"
          ],
          [
           "HCI Contributions in Mental Health: A Modular Framework to Guide Psychosocial Intervention Design"
          ],
          [
           "Social Justice in HCI: A Systematic Literature Review"
          ],
          [
           "Technical Mentality: Principles for HCI Research and Practice"
          ],
          [
           "What Counts as ‘Creative’ Work? Articulating Four Epistemic Positions in Creativity-Oriented HCI Research"
          ],
          [
           "Air/time Travel: Rethinking Appropriation in Global HCI and Futures of Electronic Exchange"
          ],
          [
           "Playing with Perspectives and Unveiling the Autoethnographic Kaleidoscope in HCI – A Literature Review of Autoethnographies"
          ],
          [
           "Unpacking Norms, Narratives, and Nourishment: A Feminist HCI Critique on Food Tracking Technologies"
          ],
          [
           "The CHI’24 Workshop on the Future of Cognitive Personal Informatics"
          ],
          [
           "CUI@CHI 2024: Building Trust in CUIs—From Design to Deployment"
          ],
          [
           "Ecological HCI: Reflection and Future"
          ],
          [
           "Forms of Fraudulence in Human-Centered Design: Collective Strategies and Future Agenda for Qualitative HCI Research"
          ],
          [
           "Student Design Competitions as an Awareness-building activity for HCI in the Global South"
          ],
          [
           "Who’s in Charge of Charging Experience: Heuristic Evaluation Criteria for Addressing Design Issues in Electric Vehicle Charging"
          ],
          [
           "EcoSanté Lifestyle Intervention: Encourage Reflections on the Connections between Health and Environment"
          ],
          [
           "What Do We Do? Lessons Learned from Conducting Systematic Reviews to Improve HCI Dissemination"
          ],
          [
           "Beyond Theory: A UX Outcomes Casebook for HCI Education"
          ],
          [
           "Sevenfold Paths: HCI Journeys through Dystopian Sins and Utopian Virtues"
          ],
          [
           "Overworking in HCI: A Reflection on Why We Are Burned Out, Stressed, and Out of Control; and What We Can Do About It"
          ],
          [
           "\"It's Time!\" Toward a Human-AI Quantum Experience Design Paradigm: Reinventing the Theoretical Framework of HCI"
          ],
          [
           "Clinician-Facing AI in the Wild: Taking Stock of the Sociotechnical Challenges and Opportunities for HCI"
          ],
          [
           "HCI Papers Cite HCI Papers, Increasingly So"
          ],
          [
           "HCI and Aging: New Directions, New Principles"
          ],
          [
           "Post-growth HCI: Co-Envisioning HCI Beyond Economic Growth"
          ],
          [
           "HabiTech: Inhabiting Buildings, Data & Technology"
          ],
          [
           "Exploring the Lived Experience of Behavior Change Technologies: Towards an Existential Model of Behavior Change for HCI"
          ],
          [
           "Experimenting with new review methods, open practices, and interactive publications in HCI"
          ],
          [
           "Learning from Cycling: Discovering Lessons Learned from CyclingHCI"
          ],
          [
           "Games and Play SIG: Connecting Games Research to the Broader HCI Context"
          ],
          [
           "Traveling Arts x HCI Sketchbook: Exploring the Intersection Between Artistic Expression and Human-Computer Interaction"
          ],
          [
           "How to write a CHI paper (asking for a friend)"
          ],
          [
           "Sustainabilities and HCIs from the Souths"
          ],
          [
           "NeuroCHI: Are We Prepared for the Integration of the Brain with Computing?"
          ],
          [
           "Towards Lenses for Reviewing Playfulness in HCI"
          ],
          [
           "Conducting Research at the Intersection of HCI and Health: Building and Supporting Teams with Diverse Expertise to Increase Public Health Impact"
          ],
          [
           "A SIG on Understanding and Overcoming Barriers in Establishing HCI Degree Programs in Asia"
          ],
          [
           "PhysioCHI: Towards Best Practices for Integrating Physiological Signals in HCI"
          ],
          [
           "Still Not a Lot of Research? Re-Examining HCI Research on Religion and Spirituality"
          ],
          [
           "Panel Discussion with the SIGCHI Academy Class of 2024"
          ],
          [
           "Cultivating Connections: How HCI Can Address Educations Inequality"
          ]
         ],
         "hovertemplate": "cluster=HCI Research on Well-Being and Social Issues<br>umap_x=%{x}<br>umap_y=%{y}<br>sentence=%{customdata[0]}<extra></extra>",
         "legendgroup": "HCI Research on Well-Being and Social Issues",
         "marker": {
          "color": "#B6E880",
          "symbol": "circle"
         },
         "mode": "markers",
         "name": "HCI Research on Well-Being and Social Issues",
         "showlegend": true,
         "type": "scattergl",
         "x": {
          "bdata": "GKtPwHOEYcD4gzHAgCQhwKfK2L+m+17AG91fwC7AVcD9GVLAjD1OwDjaVcDFq1fALNlbwOQ3KcAFTFrAbypnwBIbVsCcfS7A6n9DwPkQUcAIiFvAxKdewGwyWMAMHWfAZ/NXwDSyJMAYgo7A+WaRwLXeYcBH3l3AeZtfwLqnWcAQa0vAdbVbwHrrX8BSklXAXqZewBOzb8AYb7HAg+1iwCJJZMCFkmLA7lvXv4gnXsA00F/AISVmwO9uUMDNJl/AEGWvwPHdY8DdxYrAWfNbwObGV8Btw1zAYGdlwHGDWMCaborA8IRcwA==",
          "dtype": "f4"
         },
         "xaxis": "x",
         "y": {
          "bdata": "8PiRPxEPbj+9e8o/wyycQP6LI0DdkyY/AmU8PzdcGz/nb0k/29w7P4PMCz/MKis/Yw1FP5f3Sz/AQi4/qVtsPw/FOT/ihKk/VED+P26eZj/F1Rc/sEQsP4qVQT+U3VA/IdZEP84TbD+kgxdA/84XQEq+KD9Le4I/8ulCPzPIoz/6TJ0//04gP2RgGj+E/i0/KXsTP6H+WD+GbSxA2QkGP/i9BD9wTf4+B3CCQBuPTz+2sQU/4Z8KP/4pXD81UlJAllIbQCD3Lz/flCNA47QhP+3POj+t2BM/7vE6P8sKKz/3zfE/ivcQPw==",
          "dtype": "f4"
         },
         "yaxis": "y"
        },
        {
         "customdata": [
          [
           "BLIP: Facilitating the Exploration of Undesirable Consequences of Digital Technologies"
          ],
          [
           "Investigating the Effects of Real-time Student Monitoring Interface on Instructors’ Monitoring Practices in Online Teaching"
          ],
          [
           "Children and Emerging Technologies: Ethical and Practical Research and Design"
          ],
          [
           "Understanding Socio-technical Opportunities for Enhancing Communication Between Older Adults and their Remote Family"
          ],
          [
           "FoodCensor: Promoting Mindful Digital Food Content Consumption for People with Eating Disorders"
          ],
          [
           "Bitacora: A Toolkit for Supporting  NonProfits to Critically Reflect on Social Media Data Use"
          ],
          [
           "Cuddling Up With a Print-Braille Book: How Intimacy and Access Shape Parents' Reading Practices with Children"
          ],
          [
           "Challenges and Opportunities for the Design of Inclusive Digital Mental Health Tools: Understanding Culturally Diverse Young People's Experiences"
          ],
          [
           "Shared Responsibility in Collaborative Tracking for Children with Type 1 Diabetes and their Parents"
          ],
          [
           "Time-Turner: A Bichronous Learning Environment to Support Positive In-class Multitasking of Online Learners"
          ],
          [
           "From Adolescents' Eyes: Assessing an Indicator-Based Intervention to Combat Misinformation on TikTok"
          ],
          [
           "Morphing Matter for Teens: Research Processes as a Template for Cross-Disciplinary Activities"
          ],
          [
           "Co-design Partners as Transformative Learners: Imagining Ideal Technology for Schools by Centering Speculative Relationships"
          ],
          [
           "Tricky vs. Transparent: Towards an Ecologically Valid and Safe Approach for Evaluating Online Safety Nudges for Teens"
          ],
          [
           "Creating Safe Places: Understanding the Lived Experiences of Families Managing Cystic Fibrosis in Young Children"
          ],
          [
           "Supporting Task Switching with Reinforcement Learning"
          ],
          [
           "\"I'd be watching him contour till 10 o'clock at night'': Understanding Tensions between Teaching Methods and Learning Needs in Healthcare Apprenticeship"
          ],
          [
           "Designing online peer support for parents of adolescents at risk of mental health challenges"
          ],
          [
           "Saharaline: A Collective Social Support Intervention for Teachers in Low-Income Indian Schools"
          ],
          [
           "Analyzing User Engagement with TikTok's Short Format Video Recommendations using Data Donations"
          ],
          [
           "“I finally felt I had the tools to control these urges”: Empowering Students to Achieve Their Device Use Goals With the Reduce Digital Distraction Workshop"
          ],
          [
           "Understanding Neurodiverse Social Play Between Autistic and Non-Autistic Children"
          ],
          [
           "Dancing with the Roles: Towards Designing Technology that Supports the Multifaceted Roles of Caregivers for Older Adults"
          ],
          [
           "Sharenting on TikTok: Exploring Parental Sharing Behaviors and the Discourse Around Children's Online Privacy"
          ],
          [
           "Starting a New Life after Crossing the Tumen River: How North Korean Defectors Use Digital Technology in Transition"
          ],
          [
           "\"Caption it in an Accessible Way That is Also Enjoyable\": Characterizing User-Driven Captioning Practices on TikTok"
          ],
          [
           "CHAITok: A Proof-of-Concept System Supporting Children's Sense of Data Autonomy on Social Media"
          ],
          [
           "Multi-stakeholder Perspectives on Mental Health Screening Tools for Children"
          ],
          [
           "eKichabi v2: Designing and Scaling a Dual-Platform Technology in Rural Tanzania"
          ],
          [
           "“I feel like he’s looking in the computer world to be social, but I can’t trust his judgement”: Reimagining Parental Control for Children with ASD"
          ],
          [
           "Redefining Activity Tracking Through Older Adults' Reflections on Meaningful Activities"
          ],
          [
           "Bridging the Literacy Gap for Adults: Streaming and Engaging in Adult Literacy Education through Livestreaming"
          ],
          [
           "Beyond Static Labels: Unpacking Nutrition Comprehension in the Digital Age"
          ],
          [
           "Co-Designing Situated Displays for Family Co-Regulation with ADHD Children"
          ],
          [
           "KOALA Hero Toolkit: A New Approach to Inform Families of Mobile Datafication Risks"
          ],
          [
           "“Obviously, Nothing's Gonna Happen in Five Minutes”: How Adolescents and Young Adults Infrastructure Resources to Learn Type 1 Diabetes Management"
          ],
          [
           "Supporting Physically Active CS-Ed for Children: Exploring the Design of Physical Play Friendly Coding Blocks"
          ],
          [
           "STAPP: Designing a Tool for People with Korsakoff’s Syndrome to Re-learn Daily Activities Step by Step"
          ],
          [
           "EasyTell: A Caregiver-Centered Prototype for Innovating Everyday Eldercare through Bite-Sized Digital Storytelling"
          ],
          [
           "Transformative Technologies for Children: Going beyond ‘Good’"
          ],
          [
           "PenLab: Towards Understanding of Active Collaboration for Solid Geometry Teaching"
          ],
          [
           "CHAT2App: Supporting Caregivers of Infants with Congenital Heart Disease"
          ],
          [
           "Investigating User Perceptions of Mental Health Content on TikTok: A Comprehensive Exploration"
          ],
          [
           "Like-minded, like-bodied: How users (18-26) trust online eating and health information"
          ],
          [
           "The Realities of Evaluating Educational Technology in School Settings"
          ],
          [
           "Support in Short Form: Investigating TikTok Comments on Videos with #Harassment"
          ],
          [
           "Leveraging technology for post-abuse peer support for people with intellectual and developmental disabilities"
          ],
          [
           "Empowering Autonomous Digital Learning for Older Adults"
          ],
          [
           "Integrating Family Privacy Education and Informal Learning Spaces: Characteristics, Challenges and Design Opportunities"
          ],
          [
           "Kitchef: A TUI for Parent-Child Cooking Together"
          ],
          [
           "Feeling Stressed and Unproductive? A Field Evaluation of a Therapy-Inspired Digital Intervention for Knowledge Workers"
          ],
          [
           "Impact of Static and Animated eBook Illustrations on Children's Engagement, Enjoyment, and Information Recall"
          ],
          [
           "A Survey of K-12 Teacher Needs for an Online Programming Learning System"
          ],
          [
           "Animated Scale: Adaption of the Motivational Scale for User Testing with Children"
          ],
          [
           "Malicious Selling Strategies in Livestream E-commerce: A Case Study of Alibaba’s Taobao and ByteDance’s TikTok"
          ],
          [
           "DiSandbox: A Low-cost Digital Sandbox Tool to Support Psychological Analysis and Therapy for Left-behind Children"
          ],
          [
           "Extracting the Affective Content of Fidgeting in Adults with ADHD via Machine Learning and a Hand-held Soft Tangible Device"
          ],
          [
           "Me, My Health, and My Watch: How Children with ADHD Understand Smartwatch Health Data"
          ],
          [
           "''My lollipop dropped...''–Probing Design Opportunities for SEL Agents through Children's Peer Co-Creation of Social-Emotional Stories"
          ],
          [
           "“It's like educating us older people...”: Unveiling Needs and Expectations Regarding Educational Features within Parental Control Tools"
          ],
          [
           "More Than Just Limits: How Technology Can Support Parents in Regulating Children's Eating Behaviors at Family Mealtimes"
          ],
          [
           "Food for Thought: GreenBasket's approach to helping SNAP Families and Local Farmers towards Self-reliance"
          ],
          [
           "An Exploration of Learned Values Through Lived Experiences to Design for BIPOC Students’ Flourishing"
          ],
          [
           "A Home Study of Parent-Child Co-Reading with a Bilingual Conversational Agent"
          ],
          [
           "Perspectives of Assistive Technology Industry Professionals on AT for Children"
          ],
          [
           "From Ideas to Impact: Cracking the Code for Effectively Engaging Teens in Long-Term Online Safety Research"
          ]
         ],
         "hovertemplate": "cluster=Co-Design and Educational Technology<br>umap_x=%{x}<br>umap_y=%{y}<br>sentence=%{customdata[0]}<extra></extra>",
         "legendgroup": "Co-Design and Educational Technology",
         "marker": {
          "color": "#FF97FF",
          "symbol": "circle"
         },
         "mode": "markers",
         "name": "Co-Design and Educational Technology",
         "showlegend": true,
         "type": "scattergl",
         "x": {
          "bdata": "drMjwM2k2b9fnT/AtlXFv2tXD8AqXA7ARqcbwCYMJsArifG/Qavlv1wan79fVjHAyaAxwIzayr++/gPA9wi+v55Kc8D8IBXAVnRvwF4jm7+rrBvA7i/0v+Xpmb++l8+/T2sfwJXRlL8I/YHAHFQbwIAJLMBnxfS/uuihv2Cglb8NqxbAHJfxvyN3XcAhmQDARZM1wIX2GsA4Tei/1oodwGAkMcBGf0zAzrTWv/Vv8L9VnyfAGL2iv/oBHMDx3nHAv9bMv7vZVMCF3i7AIZHdv8n/ccCVLxjA2Z+pv37lS8DYURLAfyDnv0qrk8D8fei/7b4WwDJBOsAfPiXAZWGBwBPxkb8GJQbA",
          "dtype": "f4"
         },
         "xaxis": "x",
         "y": {
          "bdata": "DonUP/8CP0DIpeE/qbwcQGk0wT9/1N0/nHQGQA27sT90LCZAzBQ7QI2d0T/oOro/xhQnQHPypD/fAbc/uO4wQKHo6j826aE/5NUFQA1x4z+LiBRAw2pEQNYgLEBaHaw/96YIQJGw1z8zQg9AGD2dP5UEB0DPKipABK4sQNlqvz934+E/PcpAQFBcOkAiZSVAWX5IQJsDdkCIQUNA4B4yQIvhfUBj9ApATN+ZP8fMiD9j2/8/es3DP9Px5D/2aF5AQESAP5vPCUBEDw1AKAc5QIlGC0B/Iz1A98a/Px6BZ0AaSE9Ax0hUQEDBA0CVWec/WEWkPwrtuz+6Sec/NaEQQLv1JEBKO48/",
          "dtype": "f4"
         },
         "yaxis": "y"
        },
        {
         "customdata": [
          [
           "Exploring Experience Gaps Between Active and Passive Users During Multi-user Locomotion in VR"
          ],
          [
           "Designing a Multisensory VR Game Prototype for Older Adults - the Acceptability and Design Implications"
          ],
          [
           "Exploration of Foot-based Text Entry Techniques for Virtual Reality Environments"
          ],
          [
           "Portobello: Extending Driving Simulation from the Lab to the Road"
          ],
          [
           "The Effect of Spatial Audio on Curvature Gains in VR Redirected Walking"
          ],
          [
           "Metrics of Motor Learning for Analyzing Movement Mapping in Virtual Reality"
          ],
          [
           "Sicknificant Steps: A Systematic Review and Meta-analysis of VR Sickness in Walking-based Locomotion for Virtual Reality"
          ],
          [
           "Just Undo It: Exploring Undo Mechanics in Multi-User Virtual Reality"
          ],
          [
           "SYNC-VR: Synchronizing Your Senses to Conquer Motion Sickness for Enriching In-Vehicle Virtual Reality"
          ],
          [
           "WieldingCanvas: Interactive Sketch Canvases for Freehand Drawing in VR"
          ],
          [
           "TimeTunnel: Integrating Spatial and Temporal Motion Editing for Character Animation in Virtual Reality"
          ],
          [
           "MobileGravity: Mobile Simulation of a High Range of Weight in Virtual Reality"
          ],
          [
           "Behind the Scenes: Adapting Cinematography and Editing Concepts to Navigation in Virtual Reality"
          ],
          [
           "SwitchSpace: Understanding Context-Aware Peeking Between VR and Desktop Interfaces"
          ],
          [
           "To Reach the Unreachable: Exploring the Potential of VR Hand Redirection for Upper Limb Rehabilitation"
          ],
          [
           "Investigating Virtual Reality Locomotion Techniques with Blind People"
          ],
          [
           "LightSword: A Customized Virtual Reality Exergame for Long-Term Cognitive Inhibition Training in Older Adults"
          ],
          [
           "Stairway to Heaven: A Gamified VR Journey for Breath Awareness"
          ],
          [
           "Rowing Beyond: Investigating Steering Methods for Rowing-based Locomotion in Virtual Environments"
          ],
          [
           "ArmDeformation: Inducing the Sensation of Arm Deformation in Virtual Reality Using Skin-Stretching"
          ],
          [
           "PhoneInVR: An Evaluation of Spatial Anchoring and Interaction Techniques for Smartphone Usage in Virtual Reality"
          ],
          [
           "Designing Upper-Body Gesture Interaction with and for People with Spinal Muscular Atrophy in VR"
          ],
          [
           "Exploring Visualizations for Precisely Guiding Bare Hand Gestures in Virtual Reality"
          ],
          [
           "WAVE: Anticipatory Movement Visualization for VR Dancing"
          ],
          [
           "Kinetic Signatures: A Systematic Investigation of Movement-Based User Identification in Virtual Reality"
          ],
          [
           "LegacySphere: Facilitating Intergenerational Communication Through Perspective-Taking and Storytelling in Embodied VR"
          ],
          [
           "Doorways Do Not Always Cause Forgetting: Studying the Effect of Locomotion Technique and Doorway Visualization in Virtual Reality"
          ],
          [
           "Implementation of Virtual Reality Motivated Physical Activity via Omnidirectional Treadmill in a Supported Living Facility for Older Adults: A Mixed-Methods Evaluation."
          ],
          [
           "QuadStretcher: A Forearm-Worn Skin Stretch Display for Bare-Hand Interaction in AR/VR"
          ],
          [
           "From Slow-Mo to Ludicrous Speed: Comfortably Manipulating the Perception of Linear In-Car VR Motion Through Vehicular Translational Gain and Attenuation"
          ],
          [
           "VeeR: Exploring the Feasibility of Deliberately Designing VR Motion that Diverges from Mundane, Everyday Physical Motion to Create More Entertaining VR Experiences"
          ],
          [
           "Immersive In-Situ Prototyping: Influence of Real-World Context on Evaluating Future Pedestrian Interfaces in Virtual Reality"
          ],
          [
           "Physical Locomotion for Virtual Environments"
          ],
          [
           "Accessibility Feature Implementation Within Free VR Experiences"
          ],
          [
           "Demonstrating VRScroll: A Shape-Changing Device for Precise Sketching in Virtual Reality"
          ],
          [
           "Lifelogging in Mixed Reality"
          ],
          [
           "Using Feedforward to Reveal Interaction Possibilities in Virtual Reality"
          ],
          [
           "Sleep No Mosquitoes: Compensating Distance-Aware Compression in a VR Audio Game"
          ],
          [
           "A Journey Inward: The Somaesthetic Experience of a Heated Walking Carpet"
          ],
          [
           "Curving the Virtual Route: Applying Redirected Steering Gains for Active Locomotion in In-Car VR"
          ],
          [
           "AnimalSense: Understanding Beyond-human Sensory Capabilities of Animals via VR Games"
          ],
          [
           "GeoBotsVR: A Robotics Learning Game for Beginners with Hands-on Learning Simulation"
          ],
          [
           "Exploring Effective Real-Time Ergonomic Guidance Methods for Immersive Virtual Reality Workspace"
          ],
          [
           "Self-Avatar Motion Retargeting for Virtual Reality Post-Stroke Rehabilitation Therapy"
          ],
          [
           "Bimanual Interactions for Surfacing Curve Networks in VR"
          ],
          [
           "VR-SSVEPeripheral: Designing Virtual Reality Friendly SSVEP Stimuli using Peripheral Vision Area for Immersive and Comfortable Experience"
          ],
          [
           "Immersive Flora: Re-Engaging with the Forest Through the Visualisation of Plant-Environment Interactions in Virtual Reality"
          ],
          [
           "DirActor: Creating Interaction Illustrations by Oneself through Directing and Acting Simultaneously in VR"
          ],
          [
           "GaitWay: Gait Data-Based VR Locomotion Prediction System Robust to Visual Distraction"
          ],
          [
           "The Metamorphosis of Storytelling: Time-based Interactivity in Virtual Reality Filmmaking"
          ],
          [
           "Spatial Orchestra: Locomotion Music Instruments through Spatial Exploration"
          ],
          [
           "Rowing Beyond: A Demonstration of Steering Methods for Rowing-based Locomotion in Virtual Environments"
          ],
          [
           "TimeTunnel Live: Recording and Editing Character Motion in Virtual Reality"
          ],
          [
           "Designing Shared VR Tools for Spatial Scientific Sensemaking About Wildfire Evacuation"
          ],
          [
           "WheelSkills: Prototyping Manual Wheelchair Training through Immersive Visual Feedback"
          ],
          [
           "Podscape: Exploring the Comfort Level with Pods in Pedestrian Spaces through Immersive Simulation"
          ]
         ],
         "hovertemplate": "cluster=Virtual Reality and Immersive Learning<br>umap_x=%{x}<br>umap_y=%{y}<br>sentence=%{customdata[0]}<extra></extra>",
         "legendgroup": "Virtual Reality and Immersive Learning",
         "marker": {
          "color": "#FECB52",
          "symbol": "circle"
         },
         "mode": "markers",
         "name": "Virtual Reality and Immersive Learning",
         "showlegend": true,
         "type": "scattergl",
         "x": {
          "bdata": "NMZvvjTfNr6wIEe+sqwkv/c/lb4Efqy+9ohXvmIvcr5Ipf29PvI8v91+vr6K9rq+jD2mvLw+Gr4d4Z6+4L/evR30pb4zLGS+PFYivmrJ474nkbK+9tX8vn7aA78tUoa+HUenvuFqPj1sVSG+AdmmvuFwFL+xPoC+4vyHvo2jQL82PSU9NSMZvh0POr808bK9At5mvs1H0r0N642/cYcdvqrAr7zALSW/jBiKvhx0Nr534jq+lbj+viQr772uARK+zvdVvkpaHD6VSxe+kHggvnW5rb607gM+wyqpvxGEYr8=",
          "dtype": "f4"
         },
         "xaxis": "x",
         "y": {
          "bdata": "9zuRQMuKjUD05ZJARN6hQPlqm0BORZlAntCaQKHFl0BxspxA8WifQHoek0BfQpdAGOaMQCdUhkADLZpA5yuWQBzJlEDGBaBA8c+iQDM4mUAbXIpAJiWcQP6gkkCloqBAGMqVQFM3g0Dc7JVAs++OQBVvnkB0JJhA7aqWQJJ6kkAP45lA0U+HQGk0pEB7BoVAEdGKQGYhnEB9Dp1ADNegQEhomkBX9qJAcWiTQESdnEBE4YxAmimdQBGPkEDJOo5AZ4SZQGVbh0AulJ1AyAOiQA0ekEDfophAzXyiQNdhlkA=",
          "dtype": "f4"
         },
         "yaxis": "y"
        },
        {
         "customdata": [
          [
           "Grip-Reach-Touch-Repeat: A Refined Model of Grasp to Encompass One-Handed Interaction with Arbitrary Form Factor Devices"
          ],
          [
           "Waiting Time Perceptions for Faster Count-downs/ups Are More Sensitive Than Slower Ones: Experimental Investigation and Its Application"
          ],
          [
           "Haptic Permeability: Adding Holes to Tactile Devices Improves Dexterity"
          ],
          [
           "Quantifying Wrist-Aiming Habits with A Dual-Sensor Mouse: Implications for Player Performance and Workload"
          ],
          [
           "Paired-EMS: Enhancing Electrical Muscle Stimulation (EMS)-based Force Feedback Experience by Stimulating Both Muscles in Antagonistic Pairs"
          ],
          [
           "Evaluating ActuAir: Building Occupants' Experiences of a Shape-Changing Air Quality Display"
          ],
          [
           "WriteUpRight: Regulating Children’s Handwriting Body Posture by Unobstrusively Error Amplification via Slow Visual Stimuli on Tablets"
          ],
          [
           "SplitBody: Reducing Mental Workload while Multitasking via Muscle Stimulation"
          ],
          [
           "Embodied Tentacle: Mapping Design to Control of Non-Analogous Body Parts with the Human Body"
          ],
          [
           "Big or Small, It’s All in Your Head: Visuo-Haptic Illusion of Size-Change Using Finger-Repositioning"
          ],
          [
           "User Performance in Consecutive Temporal Pointing: An Exploratory Study"
          ],
          [
           "Take a Seat, Make a Gesture: Charting User Preferences for On-Chair and From-Chair Gesture Input"
          ],
          [
           "Shaping Compliance: Inducing Haptic Illusion of Compliance in Different Shapes with Electrotactile Grains"
          ],
          [
           "Effects of Point Size and Opacity Adjustments in Scatterplots"
          ],
          [
           "Improving Attention Using Wearables via Haptic and Multimodal Rhythmic Stimuli"
          ],
          [
           "Füpop: \"Real Food\" Flavor Delivery via Focused Ultrasound"
          ],
          [
           "vARitouch: Back of the Finger Device for Adding Variable Compliance to Rigid Objects"
          ],
          [
           "FabSound: Audio-Tactile and Affective Fabric Experiences Through Mid-air Haptics"
          ],
          [
           "Designing Haptic Feedback for Sequential Gestural Inputs"
          ],
          [
           "Motionless Movement: Towards Vibrotactile Kinesthetic Displays"
          ],
          [
           "Loopsense: low-scale, unobtrusive, and minimally invasive knitted force sensors for multi-modal input, enabled by selective loop-meshing"
          ],
          [
           "Enhancing Home Exercise Experiences with Video Motion-Tracking for Automatic Display Height Adjustment"
          ],
          [
           "Impact of Fingernails Length on Mobile Tactile Interaction"
          ],
          [
           "Augmenting Perceived Length of Handheld Controllers: Effects of Object Handle Properties"
          ],
          [
           "TriPad: Touch Input in AR on Ordinary Surfaces with Hand Tracking Only"
          ],
          [
           "Controlling the Rooms: How People Prefer Using Gestures to Control Their Smart Homes"
          ],
          [
           "The Effect of Latency on Movement Time in Path-steering"
          ],
          [
           "Seated-WIP: Enabling Walking-in-Place Locomotion for Stationary Chairs in Confined Spaces"
          ],
          [
           "Behavioral Differences between Tap and Swipe: Observations on Time, Error, Touch-point Distribution, and Trajectory for Tap-and-swipe Enabled Targets"
          ],
          [
           "Did You Misclick? Reversing 5-Point Satisfaction Scales Causes Unintended Responses"
          ],
          [
           "Haptic Source-effector: Full-body Haptics via Non-invasive Brain Stimulation"
          ],
          [
           "MAF: Exploring Mobile Acoustic Field for Hand-to-Face Gesture Interactions"
          ],
          [
           "Controlled-STM: A two-stage model to predict user’s Perceived Intensity for Multi-point Spatiotemporal Modulation in Ultrasonic Mid-air Haptics"
          ],
          [
           "Designing Distinguishable Mid-Air Ultrasound Tactons with Temporal Parameters"
          ],
          [
           "CRTypist: Simulating Touchscreen Typing Behavior via Computational Rationality"
          ],
          [
           "Screenless Interactive Tabletop Gaming with Capacitive Surface Sensing"
          ],
          [
           "Mouse2Vec: Learning Reusable Semantic Representations of Mouse Behaviour"
          ],
          [
           "Heads-Up Multitasker: Simulating Attention Switching On Optical Head-Mounted Displays"
          ],
          [
           "UI Mobility Control in XR: Switching UI Positionings between Static, Dynamic, and Self Entities"
          ],
          [
           "Understanding User Acceptance of Electrical Muscle Stimulation in Human-Computer Interaction"
          ],
          [
           "Ultrasonic Mid-Air Haptics on the Face: Effects of Lateral Modulation Frequency and Amplitude on Users’ Responses"
          ],
          [
           "No More Angry Birds: Investigating Touchscreen Ergonomics to Improve Tablet-Based Enrichment for Parrots"
          ],
          [
           "Multi-Modal eHMIs: The Relative Impact of Light and Sound in AV-Pedestrian Interaction"
          ],
          [
           "Stick&Slip: Altering Fingerpad Friction via Liquid Coatings"
          ],
          [
           "ALCool: Utilizing Alcohol's Evaporative Cooling for Ubiquitous Cold Sensation Feedback"
          ],
          [
           "StableLev: Data-Driven Stability Enhancement for Multi-Particle Acoustic Levitation"
          ],
          [
           "Stacked Retargeting: Combining Redirected Walking and Hand Redirection to Expand Haptic Retargeting's Coverage"
          ],
          [
           "MouseRing: Always-available Touchpad Interaction with IMU Rings"
          ],
          [
           "The Eclectic User Experience of Combined On-Screen and On-Wrist Vibrotactile Feedback in Touchscreen Input"
          ],
          [
           "The Illusion of Performance: The Effect of Phantom Display Refresh Rates on User Expectations and Reaction Times"
          ],
          [
           "Pressure-Based Menu Selection on a Spherical Tangible Device"
          ],
          [
           "A Mid-air Multi-touch Interface using an Ultrafast Pan-tilt Camera"
          ],
          [
           "Multisensory Training Intervention for Hearing Impaired Children: Preliminary Results of a Pilot Study"
          ],
          [
           "Hapster: Using Apple Watch Haptics to Enable Live Low-Friction Student Feedback in the Physical Classroom"
          ],
          [
           "Data Physicalization with Haptic Variables: Exploring Resistance and Friction"
          ],
          [
           "DeformIO: Dynamic Stiffness Control on a Deformable Force-sensing Display"
          ],
          [
           "Expressive, Scalable, Mid-Air Haptics with Synthetic Jets"
          ],
          [
           "FingerPuppet: Finger-Walking Performance-based Puppetry for Human Avatar"
          ],
          [
           "What Is the User Experience of Eyes-Free Touch Input with Vibrotactile Feedback Decoupled from the Touchscreen?"
          ],
          [
           "Intent-driven input device arbitration for XR"
          ],
          [
           "Electrical Muscle Stimulation-Based Approach for Enhancing Hand-eye Coordination Training"
          ],
          [
           "Simulating Interaction Movements via Model Predictive Control"
          ],
          [
           "Extending Fitts’ Law for Tapping on Surfaces Angled in the Depth Direction"
          ],
          [
           "Folding Angle Control of Inter-Connected Pouch Motors"
          ],
          [
           "ArgusEyes: Interactions by Combining Multiple Modules with Optical Flow Sensors"
          ],
          [
           "STButton: Exploring Opportunities for Buttons with Spatio-Temporal Tactile Output"
          ],
          [
           "Effects of Computer Mouse Lift-off Distance Settings in Mouse Lifting Action"
          ],
          [
           "EMPop: Pin Based Electromagnetic Actuation for Projection Mapping"
          ],
          [
           "Enhancing the Human Tactile Sensitivity through an Individually Optimized Imperceptible Vibration Stimulation"
          ]
         ],
         "hovertemplate": "cluster=Ergonomics and Multitasking in Interaction Design<br>umap_x=%{x}<br>umap_y=%{y}<br>sentence=%{customdata[0]}<extra></extra>",
         "legendgroup": "Ergonomics and Multitasking in Interaction Design",
         "marker": {
          "color": "#636efa",
          "symbol": "circle"
         },
         "mode": "markers",
         "name": "Ergonomics and Multitasking in Interaction Design",
         "showlegend": true,
         "type": "scattergl",
         "x": {
          "bdata": "Xg6Pv3SPn78CoqG//X5xvz5xWr+p/ALAT9QNwLSOcL/UQua/k47Xvn/v979mGp2/yGyfv8hUUL8T1ry/rm2Vv5GNj7+HJ+K/FyC4vxi/Qb/EVp+/Yhtbv4GTkr/dODe/jVd9v3WdjL/OsKa++i5Wv2Ukjb+JNQXAioS3v7qmfb/Afw7AWdnvv6Zzsr9TIMO/YOFwv9i8jb8qo3y/SfJDvwSf47+Y4Kq/AVq2v7zOkr80NtK/lEkMwPTLCL+bXoa/dyN+v9tIP7/6pXS/TfzXv4uFjr9kPqq/zlWqv88gwb+C2N+/MriUv7laP786N3a/Yr84vzigv783kdW/4hXhv7mCn78r+g7AzZFuv5ApvL+r71i/",
          "dtype": "f4"
         },
         "xaxis": "x",
         "y": {
          "bdata": "4HaWQDOeSkCLK5RAB06YQK2UnEBUb5xA1LRqQGfOkUDuMohAiiSPQJx6d0AGGZFAhEGQQAiwk0AaxpBAo+OKQD7WoEDdt5ZA65WOQOuKoEA27ZdALtKNQD/LmEAbW41AF++WQPe6kECcDZ9A15qdQCz30z8P/kBAYPySQLciikAuq4tAbjyUQIvUn0B0S5ZAl26RQDMWX0AU+oZAChWdQPrTlkAK9ZtAzOh4QCfMoUAOFIJA47uLQD1EnkCSrJhA2kmbQKZvjkBKvotAklaUQOJ7cUDcLIpA24mSQMcxokCASJVAKAieQDyemUAGT4VAFfeeQLk6n0DU/5JAUd2WQIWOe0CimXdA5+OYQGWRlkACnZtA",
          "dtype": "f4"
         },
         "yaxis": "y"
        },
        {
         "customdata": [
          [
           "Envisioning Support-Centered Technologies for Language Practice and Use: Needs and Design Opportunities for Immigrant English Language Learners (ELLs)"
          ],
          [
           "Generating Automatic Feedback on UI Mockups with Large Language Models"
          ],
          [
           "MindShift: Leveraging Large Language Models for Mental-States-Based Problematic Smartphone Use Intervention"
          ],
          [
           "Supporting Sensemaking of Large Language Model Outputs at Scale"
          ],
          [
           "Natural Language Dataset Generation Framework for Visualizations Powered by Large Language Models"
          ],
          [
           "Memoro: Using Large Language Models to Realize a Concise Interface for Real-Time Memory Augmentation"
          ],
          [
           "The HaLLMark Effect: Supporting Provenance and Transparent Use of Large Language Models in Writing with Interactive Visualization"
          ],
          [
           "Using Open Data to Automatically Generate Localized Analogies"
          ],
          [
           "Know Your Audience: The benefits and pitfalls of generating plain language summaries beyond the \"general\" audience"
          ],
          [
           "Leveraging Prompt-Based Large Language Models: Predicting Pandemic Health Decisions and Outcomes Through Social Media Language"
          ],
          [
           "EvalLM: Interactive Evaluation of Large Language Model Prompts on User-Defined Criteria"
          ],
          [
           "CoPrompt: Supporting Prompt Sharing and Referring in Collaborative Natural Language Programming"
          ],
          [
           "CollabCoder: A Lower-barrier, Rigorous Workflow for Inductive Collaborative Qualitative Analysis with Large Language Models"
          ],
          [
           "Cultivating Spoken Language Technologies for Unwritten Languages"
          ],
          [
           "Evaluating Large Language Models on Academic Literature Understanding and Review: An Empirical Study among Early-stage Scholars"
          ],
          [
           "RELIC: Investigating Large Language Model Responses using Self-Consistency"
          ],
          [
           "Low-Resourced Languages and Online Knowledge Repositories: A Need-Finding Study."
          ],
          [
           "HILL: A Hallucination Identifier for Large Language Models"
          ],
          [
           "Art or Artifice? Large Language Models and the False Promise of Creativity"
          ],
          [
           "Narrating Fitness: Leveraging Large Language Models for Reflective Fitness Tracker Data Interpretation"
          ],
          [
           "Marco: Supporting Business Document Workflows via Collection-Centric Information Foraging with Large Language Models"
          ],
          [
           "MindfulDiary: Harnessing Large Language Model to Support Psychiatric Patients' Journaling"
          ],
          [
           "“It’s the only thing I can trust”: Envisioning Large Language Model Use by Autistic Workers for Communication Assistance"
          ],
          [
           "ChaCha: Leveraging Large Language Models to Prompt Children to Share Their Emotions about Personal Events"
          ],
          [
           "Selenite: Scaffolding Online Sensemaking with Comprehensive Overviews Elicited from Large Language Models"
          ],
          [
           "Understanding the Role of Large Language Models in Personalizing and Scaffolding Strategies to Combat Academic Procrastination"
          ],
          [
           "Teach AI How to Code: Using Large Language Models as Teachable Agents for Programming Education"
          ],
          [
           "VirtuWander: Enhancing Multi-modal Interaction for Virtual Tour Guidance through Large Language Models"
          ],
          [
           "Mathemyths: Leveraging Large Language Models to Teach Mathematical Language through Child-AI Co-Creative Storytelling"
          ],
          [
           "\"We Need Structured Output\": Towards User-centered Constraints on Large Language Model Output"
          ],
          [
           "Understanding the Dataset Practitioners Behind Large Language Models"
          ],
          [
           "Human-Centered Evaluation and Auditing of Language Models"
          ],
          [
           "Leveraging Large Language Models for Realizing Truly Intelligent User Interfaces"
          ],
          [
           "LaMI: Large Language Models for Multi-Modal Human-Robot Interaction"
          ],
          [
           "LLM-Mod: Can Large Language Models Assist Content Moderation?"
          ],
          [
           "Language Urban Odyssey: A Serious Game for Enhancing Second Language Acquisition through Large Language Models"
          ],
          [
           "Automatic Histograms: Leveraging Language Models for Text Dataset Exploration"
          ],
          [
           "“It’s in My language”: A Case Study on Multilingual mHealth Application for Immigrant Populations With Limited English Proficiency"
          ],
          [
           "Believing Anthropomorphism: Examining the Role of Anthropomorphic Cues on Trust in Large Language Models"
          ],
          [
           "Exploring and Characterizing Large Language Models for Embedded System Development and Debugging"
          ],
          [
           "Human-Centered Privacy Research in the Age of Large Language Models"
          ],
          [
           "Recourse for Reclamation: Chatting with Generative Language Models"
          ],
          [
           "Schrödinger's Update: User Perceptions of Uncertainties in Proprietary Large Language Model Updates"
          ],
          [
           "Supporting Novice Researchers to Write Literature Review using Language Models"
          ],
          [
           "Physiology-Driven Empathic Large Language Models (EmLLMs) for Mental Health Support"
          ],
          [
           "Leveraging Large Language Models to Enhance Domain Expert Inclusion in Data Science Workflows"
          ],
          [
           "The Promise and Challenge of Large Language Models for Knowledge Engineering: Insights from a Hackathon"
          ],
          [
           "Rapport Matters: Enhancing HIV mHealth Communication through Linguistic Analysis and Large Language Models"
          ],
          [
           "Promoting Cognitive Health in Older Adults through an Exercise Game Centered around Foreign Language Learning"
          ],
          [
           "Advancing Knowledge Together: Integrating Large Language Model-based Conversational AI in Small Group Collaborative Learning"
          ],
          [
           "Exploring Opportunities to Augment Psychotherapy with Language Models"
          ]
         ],
         "hovertemplate": "cluster=Large Language Models in Mental Health and Interaction<br>umap_x=%{x}<br>umap_y=%{y}<br>sentence=%{customdata[0]}<extra></extra>",
         "legendgroup": "Large Language Models in Mental Health and Interaction",
         "marker": {
          "color": "#EF553B",
          "symbol": "circle"
         },
         "mode": "markers",
         "name": "Large Language Models in Mental Health and Interaction",
         "showlegend": true,
         "type": "scattergl",
         "x": {
          "bdata": "gKmGwDfJg8A3ooLA626KwB1gkcBqrJDAfeiNwLsUm8CDWIC//fiJwCwQlsDPqojADp6UwHXPjMCBuojABhmJwPx1g8BnZZDAbO2OwLXCi8AGQovAbDiJwD0HicApOY/ACj5+wKgLisDkiqnA0Y9rvwCGrsBa4YjADRyLwCetiMCKsY3AS8mXwMXdlcBVJ4LAAXGRwFlegcBiZJHAUXSQwKWtjcD03I/Abo2KwObpicAfbJDAMIiMwPoHjcA89YvAfZeSv8RFl8AkuIvA",
          "dtype": "f4"
         },
         "xaxis": "x",
         "y": {
          "bdata": "i7+7P+tRHkDLyag/jsmxPwp0zD96Jbs/IwKdP0KrGUAPmwBAWlSxPzuesz+tRAJAzMgOQL7Qwj+Q+68/jsezP1J8xz9ugJg/kmmqP36kqT+lmsY/M4OeP0kI5j8+YdM/f4TJPyxGsT8rWiNAh292QDHRI0A+168/AV+yP0Gjwz8Sr6I//iy7Pzl3tD9ZArA//OvRPztXvj+2gN8/3rWcP4CHrz9Mraw/srScP6n0tz8hCaY/UZumPx0dmT/pE6Q/1jc6QPHwFkBgJKQ/",
          "dtype": "f4"
         },
         "yaxis": "y"
        },
        {
         "customdata": [
          [
           "Virtual Body Swapping: A VR-Based Approach to Embodied Third-Person Self-Processing in Mind-Body Therapy"
          ],
          [
           "From Real to Virtual: Exploring Replica-Enhanced Environment Transitions along the Reality-Virtuality Continuum"
          ],
          [
           "Evaluating Navigation and Comparison Performance of Computational Notebooks on Desktop and in Virtual Reality"
          ],
          [
           "Mindfulness-based Embodied Tangible Interactions for Stroke Rehabilitation at Home"
          ],
          [
           "Watch This! Observational Learning in VR Promotes Better Far Transfer than Active Learning for a Fine Psychomotor Task"
          ],
          [
           "Virtual Reality, Real Pedagogy: A Contextual Inquiry of Instructor Practices with VR Video"
          ],
          [
           "\"I Shot the Interviewer!\": The Effects of In-VR Interviews on Participant Feedback and Rapport"
          ],
          [
           "Unlocking Understanding: An Investigation of Multimodal Communication in Virtual Reality Collaboration"
          ],
          [
           "Simulator-based Mixed Reality eVTOL Pilot Training: The Instructor Operator Station"
          ],
          [
           "\"Pikachu would electrocute people who are misbehaving\": Expert, Guardian and Child Perspectives on Automated Embodied Moderators for Safeguarding Children in Social Virtual Reality"
          ],
          [
           "ShareYourReality: Investigating Haptic Feedback and Agency in Virtual Avatar Co-embodiment"
          ],
          [
           "The Impact of Avatar Completeness on Embodiment and the Detectability of Hand Redirection in Virtual Reality"
          ],
          [
           "Development and Validation of the Collision Anxiety Questionnaire for VR Applications"
          ],
          [
           "Toward Making Virtual Reality (VR) More Inclusive for Older Adults: Investigating Aging Effect on Target Selection and Manipulation Tasks in VR"
          ],
          [
           "Beyond the Blink: Investigating Combined Saccadic & Blink-Suppressed Hand Redirection in Virtual Reality"
          ],
          [
           "Blended Whiteboard: Physicality and Reconfigurability in Remote Mixed Reality Collaboration"
          ],
          [
           "Experiencing Dynamic Weight Changes in Virtual Reality Through Pseudo-Haptics and Vibrotactile Feedback"
          ],
          [
           "Stretch your reach: Studying Self-Avatar and Controller Misalignment in Virtual Reality Interaction"
          ],
          [
           "ErgoPulse: Electrifying Your Lower Body With Biomechanical Simulation-based Electrical Muscle Stimulation Haptic System in Virtual Reality"
          ],
          [
           "Effects of Device Environment and Information Layout on Spatial Memory and Performance in VR Selection Tasks"
          ],
          [
           "An Artists' Perspectives on Natural Interactions for Virtual Reality 3D Sketching"
          ],
          [
           "Barriers to Photosensitive Accessibility in Virtual Reality"
          ],
          [
           "''I Call Upon a Friend'': Virtual Reality-Based Supports for Cognitive Reappraisal Identified through Co-designing with Adolescents"
          ],
          [
           "Facilitating Virtual Reality Integration in Medical Education: A Case Study of Acceptability and Learning Impact in Childbirth Delivery Training"
          ],
          [
           "Was it Real or Virtual? Confirming the Occurrence and Explaining Causes of Memory Source Confusion between Reality and Virtual Reality"
          ],
          [
           "Touching the Moon: Leveraging Passive Haptics, Embodiment and Presence for Operational Assessments in Virtual Reality"
          ],
          [
           "“I’d rather drink in VRChat”: Understanding Drinking in Social Virtual Reality"
          ],
          [
           "Process, Roles, Tools, and Team: Understanding the Emerging Medium of Virtual Reality Theatre"
          ],
          [
           "ClassMeta: Designing Interactive Virtual Classmate to Promote VR Classroom Participation"
          ],
          [
           "A Change of Scenery: Transformative Insights from Retrospective VR Embodied Perspective-Taking of Conflict With a Close Other"
          ],
          [
           "Promoting Eco-Friendly Behaviour through Virtual Reality - Implementation and Evaluation of Immersive Feedback Conditions of a Virtual CO2 Calculator"
          ],
          [
           "Predicting the Noticeability of Dynamic Virtual Elements in Virtual Reality"
          ],
          [
           "Exploring an Extended Reality Floatation Tank Experience to Reduce the Fear of Being in Water"
          ],
          [
           "Sweating the Details: Emotion Recognition and the Influence of Physical Exertion in Virtual Reality Exergaming"
          ],
          [
           "Socially Late, Virtually Present: The Effects of Transforming Asynchronous Social Interactions in Virtual Reality"
          ],
          [
           "Improving Electromyographic Muscle Response Times through Visual and Tactile Prior Stimulation in Virtual Reality"
          ],
          [
           "A Survey On Measuring Presence in Mixed Reality"
          ],
          [
           "Assessing the Influence of Visual Cues in Virtual Reality on the Spatial Perception of Physical Thermal Stimuli"
          ],
          [
           "Navigating the Virtual Gaze: Social Anxiety's Role in VR proxemics"
          ],
          [
           "The Effects of False but Stable Heart Rate Feedback on Cybersickness and User Experience in Virtual Reality"
          ],
          [
           "Examining the Use of VR as a Study Aid for University Students with ADHD"
          ],
          [
           "Virtual Reality Therapy Model for Treatment of Mental Disorders Associated with Gender-Based Violence"
          ],
          [
           "Adaptive 3D UI Placement in Mixed Reality Using Deep Reinforcement Learning"
          ],
          [
           "Increasing Meditation Efficiency with Virtual Reality"
          ],
          [
           "Virtual Reality  as an Automated Stress-Reduction Therapy Tool - Case Study on War Refugees"
          ],
          [
           "Exploring the Influence of Object Shapes and Colors on Depth Perception in Virtual Reality for Minimally Invasive Neurosurgical Training"
          ],
          [
           "Gamification Concepts for a VR-based Visuospatial Training for Intraoperative Liver Ultrasound"
          ],
          [
           "From 2D-Screens to VR: Exploring the Effect of Immersion on the Plausibility of Virtual Humans"
          ],
          [
           "Exploring Optimal eHMI Display Location for Various Vehicle Types: A VR User Study"
          ],
          [
           "Rekindle: Enhancing Interactive Narrative in Virtual Reality with Coherent, Agency-driven Interactions"
          ],
          [
           "Virtual Triplets: A Mixed Modal Synchronous and Asynchronous Collaboration with Human-Agent Interaction in Virtual Reality"
          ],
          [
           "Designing Conversational Agents to Support Student Teacher Learning in Virtual Reality Simulation: A Case Study"
          ],
          [
           "A Virtual Environment for Collaborative Inspection in Additive Manufacturing"
          ],
          [
           "Leveraging Virtual Reality to Enhance Diversity, Equity and Inclusion training at Google"
          ],
          [
           "A Virtual Reality Scene Taxonomy: Identifying and Designing Accessible Scene-Viewing Techniques"
          ],
          [
           "Navigating the Design Implications for Integrating Virtual-Reality Cues Clinically in Drug Psychotherapy"
          ],
          [
           "DragonIce, an Initial Full-Body Mixed Reality Experience to Facilitate Interpersonal Synchrony in Children"
          ],
          [
           "VestiCare: A Holistic and Smart Digital Platform to Improve the Vestibular Rehabilitation Experience"
          ],
          [
           "Has the Virtualization of the Face Changed Facial Perception? A Study of the Impact of Photo Editing and Augmented Reality on Facial Perception"
          ],
          [
           "Just Look at Them! Encouraging Self-Reflection on Teacher Gaze Behavior through Data Visualizations in Virtual Reality"
          ],
          [
           "Virtual Games, Real Interactions: A Look at Cross-reality Asymmetrical Co-located Social Games"
          ],
          [
           "\"My Audience Gets to Know Me on a More Realistic Level\": Exploring Social VR Streamers’ Unique Strategies to Engage with Their Audiences"
          ],
          [
           "A Systematic Review and Meta-analysis of the Effectiveness of Body Ownership Illusions in Virtual Reality"
          ],
          [
           "Understanding Through Virtual Reality the Cinematic Expressionistic Architecture: The Case Study of The Cabinet of Dr Caligari"
          ],
          [
           "REVEAL: REal and Virtual Environments Augmentation Lab @ Bath"
          ],
          [
           "`Something I Can Lean On': A Qualitative Evaluation of a Virtual Palliative Care Counselor for Patients with Life-Limiting Illnesses"
          ],
          [
           "Understanding the Impact of Coherence between Virtual Representations and Possible Interactions on Embodiment in VR: an Affordance Perspective"
          ],
          [
           "Live and Interactive 3D Photomanipulation under the Microscope using Virtual Reality"
          ],
          [
           "Read the Fine Print: Assessing the User Experience of Reading in High Resolution Virtual Reality"
          ],
          [
           "Adaptive Virtual Environments in Small Physical Spaces: Navigation Design for Customized User Experiences in Virtual Reality"
          ],
          [
           "Factors Influencing Engagement in Hybrid Virtual and Augmented Reality"
          ],
          [
           "Exploring the Multimodal Integration of VR and MRI Biomarkers for Enhanced Early Detection of Mild Cognitive Impairment"
          ],
          [
           "Eye Ball: Gazing as a Dilemma in a Competitive Virtual Reality Game"
          ],
          [
           "An Open-ended System in Virtual Reality for Training Machining Skills"
          ],
          [
           "FractalBrain: A Neuro-interactive Virtual Reality Experience using Electroencephalogram (EEG) for Mindfulness"
          ],
          [
           "Simulating projective Augmented Reality Visualizations in Virtual Reality: Is VR a feasible Environment for medical AR Evaluations?"
          ],
          [
           "The Sense of Agency Improves Visual Search and Holds Up Against External Salient Distractions in Virtual Reality"
          ],
          [
           "Closing the Loop: The Effects of Biofeedback Awareness on Physiological Stress Response Using Electrodermal Activity in Virtual Reality"
          ],
          [
           "DeepFear: Game Usage within Virtual Reality to Provoke Physiological Responses of Fear"
          ],
          [
           "CardboardHRV: Bridging Virtual Reality and Biofeedback with a Cost-Effective Heart Rate Variability System"
          ],
          [
           "Use of Virtual Reality for Emergency Service Training"
          ],
          [
           "Mitigating Ageism through Virtual Reality: Intergenerational Collaborative Escape Room Design"
          ],
          [
           "Virtual Reality for Health and Wellbeing of People with Disabilities"
          ],
          [
           "Understanding the Impact of Referent Design on Scale Perception in Immersive Data Visualization"
          ],
          [
           "Effect of Onset Position of Ray Casting in Virtual Reality"
          ],
          [
           "Decoding Behavior: Utilizing Virtual Reality Digital Marker and Machine Learning for Early Detection of Mild Cognitive Impairment"
          ],
          [
           "SynCocreate: Fostering Interpersonal Connectedness via Brainwave-Driven Co-creation in Virtual Reality"
          ]
         ],
         "hovertemplate": "cluster=Medical Applications of Virtual Reality<br>umap_x=%{x}<br>umap_y=%{y}<br>sentence=%{customdata[0]}<extra></extra>",
         "legendgroup": "Medical Applications of Virtual Reality",
         "marker": {
          "color": "#00cc96",
          "symbol": "circle"
         },
         "mode": "markers",
         "name": "Medical Applications of Virtual Reality",
         "showlegend": true,
         "type": "scattergl",
         "x": {
          "bdata": "WaAWv9YOFr4R+p++LM4Ov+jGub2bppc9KNimPL5eRL/BgzG96fHNvusbTb/fPn6+t5HFPUq5tz04IZO+Cg28vnFDAr81KBW+V6TWvocwa7wggtu+dEu8vVjTBTy2Fjw+5Bixu2/lC78d+Vg+6CwzPjslDb9ChDW+0AuWvvrDRb6Ipk2+QYcrvuXPZb4wn46+729WvjeLF72b31M+/qsGPhx7Yj4M7JA+ONMrvxeNDDugcGs+K5cjPQpkF70ZtBS+rULPvUGs8zy2NBa/CeN6wIhzo75A0kI+OUS7PSYWGj6QOxq+hPt4PgjJob71byA+gITZvo93Pj6QMyW+UpciPrnqhb5HB4o+NhxsveitgL15Aao9caWIvg8sXb5fBSu/JFQnPpxeEj7Rpqa8+1yFPufzQz44ds89VCfvPcrr9z2hfnk+XcDEvWV4qD5SC4i+p+lNvp+3kr9dXoe9",
          "dtype": "f4"
         },
         "xaxis": "x",
         "y": {
          "bdata": "H02XQIOtiECn/IhAtkGQQFMyhkB1cJZAUyiDQNFSdECRFJxACe6SQPYeh0DGFo9ArheGQGV6fEC9VZhAjZB8QNYplkCiPJJAokGdQEh6h0CwJI1AcTOIQG3qh0BcrZBAVKWNQJTIjUDjuodAveuJQBNUjkB1iIVATaOPQBj7kEC2QoVAMt+KQKZHfkAkyZlA2+l7QC6xkEAgnYNABnmQQDaQk0CJM5FASHKBQDEXl0AiaZdAHs2RQAj7k0DUEYdAWdmSQIFShkCz0YFAR04aQAJTikDprZFA8W6QQPIKh0Cv64xAzmmMQAAre0DoT4xAon9hQGkjgECJIo5Ar+GRQHO3jUBQXZVAwDyEQOZplUDQnYRA9m+DQFPPf0CEgIRAF2KHQOs5nEBkb5dAuWWRQIqCjkC8kY9AKOaPQLiGh0BSuphA69GFQFV9j0CZnG5Aiw6YQOZBeEAv8ZBA",
          "dtype": "f4"
         },
         "yaxis": "y"
        },
        {
         "customdata": [
          [
           "EyeEcho: Continuous and Low-power Facial Expression Tracking on Glasses"
          ],
          [
           "FocusFlow: 3D Gaze-Depth Interaction in Virtual Reality Leveraging Active Visual Depth Manipulation"
          ],
          [
           "Finding My Voice over Zoom: An Autoethnography of Videoconferencing Experience for a Person Who Stutters"
          ],
          [
           "Gaze on the Go: Effect of Spatial Reference Frame on Visual Target Acquisition During Physical Locomotion in Extended Reality"
          ],
          [
           "Towards an Eye-Brain-Computer Interface: Combining Gaze with the Stimulus-Preceding Negativity for Target Selections in XR"
          ],
          [
           "\"It Must Be Gesturing Towards Me\": Gesture-Based Interaction between Autonomous Vehicles and Pedestrians"
          ],
          [
           "GazePointAR: A Context-Aware Multimodal Voice Assistant for Pronoun Disambiguation in Wearable Augmented Reality"
          ],
          [
           "Watch Your Mouth: Silent Speech Recognition with Depth Sensing"
          ],
          [
           "GazePrompt: Enhancing Low Vision People's Reading Experience with Gaze-Aware Augmentations"
          ],
          [
           "MigraineTracker: Examining Patient Experiences with Goal-Directed Self-Tracking for a Chronic Health Condition"
          ],
          [
           "EyeGuide & EyeConGuide: Gaze-based Visual Guides to Improve 3D Sketching Systems"
          ],
          [
           "An Eye Gaze Heatmap Analysis of Uncertainty Head-Up Display Designs for Conditional Automated Driving"
          ],
          [
           "Snap, Pursuit and Gain: Virtual Reality Viewport Control by Gaze"
          ],
          [
           "Spatial Gaze Markers: Supporting Effective Task Switching in Augmented Reality"
          ],
          [
           "Capra: Making Use of Multiple Perspectives for Capturing, Noticing and Revisiting Hiking Experiences Over Time"
          ],
          [
           "MOSion: Gaze Guidance with Motion-triggered Visual Cues by Mosaic Patterns"
          ],
          [
           "Exploring the Effectiveness of Time-lapse Screen Recording for Self-Reflection in Work Context"
          ],
          [
           "Hand Gesture Recognition for Blind Users by Tracking 3D Gesture Trajectory"
          ],
          [
           "The RayHand Navigation: A Virtual Navigation Method with Relative Position between Hand and Gaze-Ray"
          ],
          [
           "Effects of a Gaze-Based 2D Platform Game on User Enjoyment, Perceived Competence, and Digital Eye Strain"
          ],
          [
           "Towards Personalized Head-Tracking Pointing"
          ],
          [
           "Where Do You Look When Unlocking Your Phone? : A Field Study of Gaze Behaviour During Smartphone Unlock"
          ],
          [
           "User Experience Research: Point of View Playbook"
          ],
          [
           "GazeAway: Designing for Gaze Aversion Experiences"
          ],
          [
           "To Show or Hide - Investigating the Effect of Cursor Visibility in Gaze-controlled Interfaces"
          ],
          [
           "Enhancing Online Meeting Experience through Shared Gaze-Attention"
          ],
          [
           "How Gaze Visualization Facilitates Initiation of Informal Communication in 3D Virtual Spaces"
          ],
          [
           "GlassBoARd: A Gaze-Enabled AR Interface for Collaborative Work"
          ],
          [
           "Gaze-based Opportunistic Privacy-preserving Human-Agent Collaboration"
          ]
         ],
         "hovertemplate": "cluster=User Experience and Accessibility in Technology<br>umap_x=%{x}<br>umap_y=%{y}<br>sentence=%{customdata[0]}<extra></extra>",
         "legendgroup": "User Experience and Accessibility in Technology",
         "marker": {
          "color": "#ab63fa",
          "symbol": "circle"
         },
         "mode": "markers",
         "name": "User Experience and Accessibility in Technology",
         "showlegend": true,
         "type": "scattergl",
         "x": {
          "bdata": "pZ7uvqloN71Qnja/Gk+gvYdbOb3oOaK/XmH5vmw4L79A/xi+0pX3vzoGOL2lEoa+u907Ptwzn76u2Im+cZNWvDsW0L/cuoq/BDCLvnFpRLyeRc2/oyTcPPUnVr7Gf8M8eV9ZPGNB4L3Mn4u61WUyvSSBJrw=",
          "dtype": "f4"
         },
         "xaxis": "x",
         "y": {
          "bdata": "RENHQMA0j0Cu2zlAVPx5QESSTUDbn5RA701YQCh7RECYTktAgu1eQDqiSEADqEpABY6MQLByX0ADSWlA4kJPQBZ4U0DaS5dAsTaaQMRfSkAesHhANfJNQPjRX0Dac0ZAYIZGQBErOUB6RkVAoSVKQHoaOkA=",
          "dtype": "f4"
         },
         "yaxis": "y"
        },
        {
         "customdata": [
          [
           "How Beginning Programmers and Code LLMs (Mis)read Each Other"
          ],
          [
           "LLMR: Real-time Prompting of Interactive Worlds using Large Language Models"
          ],
          [
           "Human-LLM Collaborative Annotation Through Effective Verification of LLM Labels"
          ],
          [
           "Concept Induction: Analyzing Unstructured Text with High-Level Concepts Using LLooM"
          ],
          [
           "Rambler: Supporting Writing With Speech via LLM-Assisted Gist Manipulation"
          ],
          [
           "CodeAid: Evaluating a Classroom Deployment of an LLM-based Programming Assistant that Balances Student and Educator Needs"
          ],
          [
           "Generative Echo Chamber? Effect of LLM-Powered Search Systems on Diverse Information Seeking"
          ],
          [
           "Transitioning Towards a Proactive Practice: A Longitudinal Field Study on the Implementation of a ML System in Adult Social Care"
          ],
          [
           "Integrating Expertise in LLMs: Crafting a Customized Nutrition Assistant with Refined Template Instructions"
          ],
          [
           "AI-Augmented Brainwriting: Investigating the use of LLMs in group ideation"
          ],
          [
           "Bridging the Gulf of Envisioning: Cognitive Challenges in Prompt Based Interactions with LLMs"
          ],
          [
           "ChainForge: A Visual Toolkit for Prompt Engineering and LLM Hypothesis Testing"
          ],
          [
           "Unblind Text Inputs: Predicting Hint-text of Text Input in Mobile Apps via LLM"
          ],
          [
           "BIDTrainer: An LLMs-driven Education Tool for Enhancing the Understanding and Reasoning in Bio-inspired Design"
          ],
          [
           "\"It's a Fair Game\", or Is It? Examining How Users Navigate Disclosure Risks and Benefits When Using LLM-Based Conversational Agents"
          ],
          [
           "Towards a Non-Ideal Methodological Framework for Responsible ML"
          ],
          [
           "“As an AI language model, I cannot”: Investigating LLM Denials of User Requests"
          ],
          [
           "Learning Agent-based Modeling with LLM Companions: Experiences of Novices and Experts Using ChatGPT & NetLogo Chat"
          ],
          [
           "Challenges and Opportunities of LLM-Based Synthetic Personae and Data in HCI"
          ],
          [
           "Evaluating Human-AI Partnership for LLM-based Code Migration"
          ],
          [
           "LLM Comparator: Visual Analytics for Side-by-Side Evaluation of Large Language Models"
          ],
          [
           "Experiencing InstructPipe: Building Multi-modal AI Pipelines via Prompting LLMs and Visual Programming"
          ],
          [
           "Investigating Interaction Modes and User Agency in Human-LLM Collaboration for Domain-Specific Data Analysis"
          ],
          [
           "ChatTL;DR – You Really Ought to Check What the LLM Said on Your Behalf"
          ],
          [
           "AscleAI: A LLM-based Clinical Note Management System for Enhancing Clinician Productivity"
          ],
          [
           "\"My agent understands me better\": Integrating Dynamic Human-like Memory Recall and Consolidation in LLM-Based Agents"
          ],
          [
           "Generating personas using LLMs and assessing their viability"
          ],
          [
           "How Knowledge Workers Use and Want to Use LLMs in an Enterprise Context"
          ],
          [
           "CareerSim: Gamification Design Leveraging LLMs For Career Development Reflection"
          ],
          [
           "LanternOperAR: A Hybrid Cultural Gift for Quality Education and Family Well-being"
          ],
          [
           "LLMs as Research Tools: Applications and Evaluations in HCI Data Work"
          ],
          [
           "Building LLM-based AI Agents in Social Virtual Reality"
          ],
          [
           "Prompt-Gaming: A Pilot Study on LLM-Evaluating Agent in a Meaningful Energy Game"
          ],
          [
           "Contextual AI Journaling: Integrating LLM and Time Series Behavioral Sensing Technology to Promote Self-Reflection and Well-being using the MindScape App"
          ],
          [
           "Engaging and Entertaining Adolescents in Health Education Using LLM-Generated Fantasy Narrative Games and Virtual Agents"
          ],
          [
           "A Taxonomy for Human-LLM Interaction Modes: An Initial Exploration"
          ],
          [
           "PeerGPT: Probing the Roles of LLM-based Peer Agents as Team Moderators and Participants in Children's Collaborative Learning"
          ]
         ],
         "hovertemplate": "cluster=LLM Applications in Social and Collaborative Contexts<br>umap_x=%{x}<br>umap_y=%{y}<br>sentence=%{customdata[0]}<extra></extra>",
         "legendgroup": "LLM Applications in Social and Collaborative Contexts",
         "marker": {
          "color": "#FFA15A",
          "symbol": "circle"
         },
         "mode": "markers",
         "name": "LLM Applications in Social and Collaborative Contexts",
         "showlegend": true,
         "type": "scattergl",
         "x": {
          "bdata": "aFucwBYemcA6HaLArQOdwMnUocBxSaXAIxGiwMq6W8ACFKDAhdymwFo4osB5yFLA0tSfwLMkm8CFxpzACjFCwF7gocDNNp7A8QSpwFvKqMBSLaDAKQCiwCyvmcBwPp3AvZ6mwNZwpMDEo6bA01mkwParoMDJqYK/fAukwL30psBke6LAYm8wwLiunsBB+5zA6V2ewA==",
          "dtype": "f4"
         },
         "xaxis": "x",
         "y": {
          "bdata": "UPPhP2RjuT8hObc/DpvvPxS21j9Kwt0/fe3LP3wSwz+yhco/OT3zPxkWxT/COXVAECLIP7pdyz9RUMQ/DL0+QBCk2T+Mddo/7XfIP3gj7j8mSr0/Co7uP+Vdrz++qNM/Cr3eP9FJyz934b8/8MK/P2b5vj+TQIJALb20Pwk40z/RoLY//DFVQBYcsD/RSrI/Y5W2Pw==",
          "dtype": "f4"
         },
         "yaxis": "y"
        }
       ],
       "layout": {
        "autosize": false,
        "height": 400,
        "legend": {
         "title": {
          "text": "cluster"
         },
         "tracegroupgap": 0
        },
        "margin": {
         "t": 60
        },
        "template": {
         "data": {
          "bar": [
           {
            "error_x": {
             "color": "#2a3f5f"
            },
            "error_y": {
             "color": "#2a3f5f"
            },
            "marker": {
             "line": {
              "color": "#E5ECF6",
              "width": 0.5
             },
             "pattern": {
              "fillmode": "overlay",
              "size": 10,
              "solidity": 0.2
             }
            },
            "type": "bar"
           }
          ],
          "barpolar": [
           {
            "marker": {
             "line": {
              "color": "#E5ECF6",
              "width": 0.5
             },
             "pattern": {
              "fillmode": "overlay",
              "size": 10,
              "solidity": 0.2
             }
            },
            "type": "barpolar"
           }
          ],
          "carpet": [
           {
            "aaxis": {
             "endlinecolor": "#2a3f5f",
             "gridcolor": "white",
             "linecolor": "white",
             "minorgridcolor": "white",
             "startlinecolor": "#2a3f5f"
            },
            "baxis": {
             "endlinecolor": "#2a3f5f",
             "gridcolor": "white",
             "linecolor": "white",
             "minorgridcolor": "white",
             "startlinecolor": "#2a3f5f"
            },
            "type": "carpet"
           }
          ],
          "choropleth": [
           {
            "colorbar": {
             "outlinewidth": 0,
             "ticks": ""
            },
            "type": "choropleth"
           }
          ],
          "contour": [
           {
            "colorbar": {
             "outlinewidth": 0,
             "ticks": ""
            },
            "colorscale": [
             [
              0,
              "#0d0887"
             ],
             [
              0.1111111111111111,
              "#46039f"
             ],
             [
              0.2222222222222222,
              "#7201a8"
             ],
             [
              0.3333333333333333,
              "#9c179e"
             ],
             [
              0.4444444444444444,
              "#bd3786"
             ],
             [
              0.5555555555555556,
              "#d8576b"
             ],
             [
              0.6666666666666666,
              "#ed7953"
             ],
             [
              0.7777777777777778,
              "#fb9f3a"
             ],
             [
              0.8888888888888888,
              "#fdca26"
             ],
             [
              1,
              "#f0f921"
             ]
            ],
            "type": "contour"
           }
          ],
          "contourcarpet": [
           {
            "colorbar": {
             "outlinewidth": 0,
             "ticks": ""
            },
            "type": "contourcarpet"
           }
          ],
          "heatmap": [
           {
            "colorbar": {
             "outlinewidth": 0,
             "ticks": ""
            },
            "colorscale": [
             [
              0,
              "#0d0887"
             ],
             [
              0.1111111111111111,
              "#46039f"
             ],
             [
              0.2222222222222222,
              "#7201a8"
             ],
             [
              0.3333333333333333,
              "#9c179e"
             ],
             [
              0.4444444444444444,
              "#bd3786"
             ],
             [
              0.5555555555555556,
              "#d8576b"
             ],
             [
              0.6666666666666666,
              "#ed7953"
             ],
             [
              0.7777777777777778,
              "#fb9f3a"
             ],
             [
              0.8888888888888888,
              "#fdca26"
             ],
             [
              1,
              "#f0f921"
             ]
            ],
            "type": "heatmap"
           }
          ],
          "histogram": [
           {
            "marker": {
             "pattern": {
              "fillmode": "overlay",
              "size": 10,
              "solidity": 0.2
             }
            },
            "type": "histogram"
           }
          ],
          "histogram2d": [
           {
            "colorbar": {
             "outlinewidth": 0,
             "ticks": ""
            },
            "colorscale": [
             [
              0,
              "#0d0887"
             ],
             [
              0.1111111111111111,
              "#46039f"
             ],
             [
              0.2222222222222222,
              "#7201a8"
             ],
             [
              0.3333333333333333,
              "#9c179e"
             ],
             [
              0.4444444444444444,
              "#bd3786"
             ],
             [
              0.5555555555555556,
              "#d8576b"
             ],
             [
              0.6666666666666666,
              "#ed7953"
             ],
             [
              0.7777777777777778,
              "#fb9f3a"
             ],
             [
              0.8888888888888888,
              "#fdca26"
             ],
             [
              1,
              "#f0f921"
             ]
            ],
            "type": "histogram2d"
           }
          ],
          "histogram2dcontour": [
           {
            "colorbar": {
             "outlinewidth": 0,
             "ticks": ""
            },
            "colorscale": [
             [
              0,
              "#0d0887"
             ],
             [
              0.1111111111111111,
              "#46039f"
             ],
             [
              0.2222222222222222,
              "#7201a8"
             ],
             [
              0.3333333333333333,
              "#9c179e"
             ],
             [
              0.4444444444444444,
              "#bd3786"
             ],
             [
              0.5555555555555556,
              "#d8576b"
             ],
             [
              0.6666666666666666,
              "#ed7953"
             ],
             [
              0.7777777777777778,
              "#fb9f3a"
             ],
             [
              0.8888888888888888,
              "#fdca26"
             ],
             [
              1,
              "#f0f921"
             ]
            ],
            "type": "histogram2dcontour"
           }
          ],
          "mesh3d": [
           {
            "colorbar": {
             "outlinewidth": 0,
             "ticks": ""
            },
            "type": "mesh3d"
           }
          ],
          "parcoords": [
           {
            "line": {
             "colorbar": {
              "outlinewidth": 0,
              "ticks": ""
             }
            },
            "type": "parcoords"
           }
          ],
          "pie": [
           {
            "automargin": true,
            "type": "pie"
           }
          ],
          "scatter": [
           {
            "fillpattern": {
             "fillmode": "overlay",
             "size": 10,
             "solidity": 0.2
            },
            "type": "scatter"
           }
          ],
          "scatter3d": [
           {
            "line": {
             "colorbar": {
              "outlinewidth": 0,
              "ticks": ""
             }
            },
            "marker": {
             "colorbar": {
              "outlinewidth": 0,
              "ticks": ""
             }
            },
            "type": "scatter3d"
           }
          ],
          "scattercarpet": [
           {
            "marker": {
             "colorbar": {
              "outlinewidth": 0,
              "ticks": ""
             }
            },
            "type": "scattercarpet"
           }
          ],
          "scattergeo": [
           {
            "marker": {
             "colorbar": {
              "outlinewidth": 0,
              "ticks": ""
             }
            },
            "type": "scattergeo"
           }
          ],
          "scattergl": [
           {
            "marker": {
             "colorbar": {
              "outlinewidth": 0,
              "ticks": ""
             }
            },
            "type": "scattergl"
           }
          ],
          "scattermap": [
           {
            "marker": {
             "colorbar": {
              "outlinewidth": 0,
              "ticks": ""
             }
            },
            "type": "scattermap"
           }
          ],
          "scattermapbox": [
           {
            "marker": {
             "colorbar": {
              "outlinewidth": 0,
              "ticks": ""
             }
            },
            "type": "scattermapbox"
           }
          ],
          "scatterpolar": [
           {
            "marker": {
             "colorbar": {
              "outlinewidth": 0,
              "ticks": ""
             }
            },
            "type": "scatterpolar"
           }
          ],
          "scatterpolargl": [
           {
            "marker": {
             "colorbar": {
              "outlinewidth": 0,
              "ticks": ""
             }
            },
            "type": "scatterpolargl"
           }
          ],
          "scatterternary": [
           {
            "marker": {
             "colorbar": {
              "outlinewidth": 0,
              "ticks": ""
             }
            },
            "type": "scatterternary"
           }
          ],
          "surface": [
           {
            "colorbar": {
             "outlinewidth": 0,
             "ticks": ""
            },
            "colorscale": [
             [
              0,
              "#0d0887"
             ],
             [
              0.1111111111111111,
              "#46039f"
             ],
             [
              0.2222222222222222,
              "#7201a8"
             ],
             [
              0.3333333333333333,
              "#9c179e"
             ],
             [
              0.4444444444444444,
              "#bd3786"
             ],
             [
              0.5555555555555556,
              "#d8576b"
             ],
             [
              0.6666666666666666,
              "#ed7953"
             ],
             [
              0.7777777777777778,
              "#fb9f3a"
             ],
             [
              0.8888888888888888,
              "#fdca26"
             ],
             [
              1,
              "#f0f921"
             ]
            ],
            "type": "surface"
           }
          ],
          "table": [
           {
            "cells": {
             "fill": {
              "color": "#EBF0F8"
             },
             "line": {
              "color": "white"
             }
            },
            "header": {
             "fill": {
              "color": "#C8D4E3"
             },
             "line": {
              "color": "white"
             }
            },
            "type": "table"
           }
          ]
         },
         "layout": {
          "annotationdefaults": {
           "arrowcolor": "#2a3f5f",
           "arrowhead": 0,
           "arrowwidth": 1
          },
          "autotypenumbers": "strict",
          "coloraxis": {
           "colorbar": {
            "outlinewidth": 0,
            "ticks": ""
           }
          },
          "colorscale": {
           "diverging": [
            [
             0,
             "#8e0152"
            ],
            [
             0.1,
             "#c51b7d"
            ],
            [
             0.2,
             "#de77ae"
            ],
            [
             0.3,
             "#f1b6da"
            ],
            [
             0.4,
             "#fde0ef"
            ],
            [
             0.5,
             "#f7f7f7"
            ],
            [
             0.6,
             "#e6f5d0"
            ],
            [
             0.7,
             "#b8e186"
            ],
            [
             0.8,
             "#7fbc41"
            ],
            [
             0.9,
             "#4d9221"
            ],
            [
             1,
             "#276419"
            ]
           ],
           "sequential": [
            [
             0,
             "#0d0887"
            ],
            [
             0.1111111111111111,
             "#46039f"
            ],
            [
             0.2222222222222222,
             "#7201a8"
            ],
            [
             0.3333333333333333,
             "#9c179e"
            ],
            [
             0.4444444444444444,
             "#bd3786"
            ],
            [
             0.5555555555555556,
             "#d8576b"
            ],
            [
             0.6666666666666666,
             "#ed7953"
            ],
            [
             0.7777777777777778,
             "#fb9f3a"
            ],
            [
             0.8888888888888888,
             "#fdca26"
            ],
            [
             1,
             "#f0f921"
            ]
           ],
           "sequentialminus": [
            [
             0,
             "#0d0887"
            ],
            [
             0.1111111111111111,
             "#46039f"
            ],
            [
             0.2222222222222222,
             "#7201a8"
            ],
            [
             0.3333333333333333,
             "#9c179e"
            ],
            [
             0.4444444444444444,
             "#bd3786"
            ],
            [
             0.5555555555555556,
             "#d8576b"
            ],
            [
             0.6666666666666666,
             "#ed7953"
            ],
            [
             0.7777777777777778,
             "#fb9f3a"
            ],
            [
             0.8888888888888888,
             "#fdca26"
            ],
            [
             1,
             "#f0f921"
            ]
           ]
          },
          "colorway": [
           "#636efa",
           "#EF553B",
           "#00cc96",
           "#ab63fa",
           "#FFA15A",
           "#19d3f3",
           "#FF6692",
           "#B6E880",
           "#FF97FF",
           "#FECB52"
          ],
          "font": {
           "color": "#2a3f5f"
          },
          "geo": {
           "bgcolor": "white",
           "lakecolor": "white",
           "landcolor": "#E5ECF6",
           "showlakes": true,
           "showland": true,
           "subunitcolor": "white"
          },
          "hoverlabel": {
           "align": "left"
          },
          "hovermode": "closest",
          "mapbox": {
           "style": "light"
          },
          "paper_bgcolor": "white",
          "plot_bgcolor": "#E5ECF6",
          "polar": {
           "angularaxis": {
            "gridcolor": "white",
            "linecolor": "white",
            "ticks": ""
           },
           "bgcolor": "#E5ECF6",
           "radialaxis": {
            "gridcolor": "white",
            "linecolor": "white",
            "ticks": ""
           }
          },
          "scene": {
           "xaxis": {
            "backgroundcolor": "#E5ECF6",
            "gridcolor": "white",
            "gridwidth": 2,
            "linecolor": "white",
            "showbackground": true,
            "ticks": "",
            "zerolinecolor": "white"
           },
           "yaxis": {
            "backgroundcolor": "#E5ECF6",
            "gridcolor": "white",
            "gridwidth": 2,
            "linecolor": "white",
            "showbackground": true,
            "ticks": "",
            "zerolinecolor": "white"
           },
           "zaxis": {
            "backgroundcolor": "#E5ECF6",
            "gridcolor": "white",
            "gridwidth": 2,
            "linecolor": "white",
            "showbackground": true,
            "ticks": "",
            "zerolinecolor": "white"
           }
          },
          "shapedefaults": {
           "line": {
            "color": "#2a3f5f"
           }
          },
          "ternary": {
           "aaxis": {
            "gridcolor": "white",
            "linecolor": "white",
            "ticks": ""
           },
           "baxis": {
            "gridcolor": "white",
            "linecolor": "white",
            "ticks": ""
           },
           "bgcolor": "#E5ECF6",
           "caxis": {
            "gridcolor": "white",
            "linecolor": "white",
            "ticks": ""
           }
          },
          "title": {
           "x": 0.05
          },
          "xaxis": {
           "automargin": true,
           "gridcolor": "white",
           "linecolor": "white",
           "ticks": "",
           "title": {
            "standoff": 15
           },
           "zerolinecolor": "white",
           "zerolinewidth": 2
          },
          "yaxis": {
           "automargin": true,
           "gridcolor": "white",
           "linecolor": "white",
           "ticks": "",
           "title": {
            "standoff": 15
           },
           "zerolinecolor": "white",
           "zerolinewidth": 2
          }
         }
        },
        "title": {
         "text": "UMAP of sentence embeddings with clusters"
        },
        "width": 1000,
        "xaxis": {
         "anchor": "y",
         "domain": [
          0,
          1
         ],
         "title": {
          "text": "umap_x"
         }
        },
        "yaxis": {
         "anchor": "x",
         "domain": [
          0,
          1
         ],
         "title": {
          "text": "umap_y"
         }
        }
       }
      }
     },
     "metadata": {},
     "output_type": "display_data"
    }
   ],
   "source": [
    "# visualize the clusters\n",
    "visualize_clusters(df_cluster)"
   ]
  },
  {
   "cell_type": "markdown",
   "metadata": {},
   "source": [
    "# HCSLAB (json)"
   ]
  },
  {
   "cell_type": "code",
   "execution_count": 14,
   "metadata": {},
   "outputs": [],
   "source": [
    "# load json data\n",
    "file_name = \"hcslab.json\" # TODO: REPLACE WITH YOUR FILE NAME\n",
    "dataset_name = \"hcslab\" # TODO: REPLACE WITH YOUR DATASET NAME\n",
    "\n",
    "with open(file_name, \"r\", encoding=\"utf-8\") as f:\n",
    "    data = json.load(f)"
   ]
  },
  {
   "cell_type": "code",
   "execution_count": 15,
   "metadata": {},
   "outputs": [],
   "source": [
    "# check if folder exists\n",
    "if not os.path.exists(dataset_name):\n",
    "    os.makedirs(dataset_name)"
   ]
  },
  {
   "cell_type": "code",
   "execution_count": 16,
   "metadata": {},
   "outputs": [
    {
     "data": {
      "text/plain": [
       "30"
      ]
     },
     "execution_count": 16,
     "metadata": {},
     "output_type": "execute_result"
    }
   ],
   "source": [
    "papers = data[\"contents\"]\n",
    "\n",
    "# get title from each paper\n",
    "titles = [paper[\"title\"].strip() for paper in papers]\n",
    "\n",
    "len(titles)"
   ]
  },
  {
   "cell_type": "code",
   "execution_count": null,
   "metadata": {},
   "outputs": [
    {
     "ename": "ValueError",
     "evalue": "Cannot take a larger sample than population when 'replace=False'",
     "output_type": "error",
     "traceback": [
      "\u001b[31m---------------------------------------------------------------------------\u001b[39m",
      "\u001b[31mValueError\u001b[39m                                Traceback (most recent call last)",
      "\u001b[36mCell\u001b[39m\u001b[36m \u001b[39m\u001b[32mIn[17]\u001b[39m\u001b[32m, line 3\u001b[39m\n\u001b[32m      1\u001b[39m \u001b[38;5;66;03m# randomly sample 1000 transcripts from this dataset\u001b[39;00m\n\u001b[32m      2\u001b[39m np.random.seed(random_state)\n\u001b[32m----> \u001b[39m\u001b[32m3\u001b[39m sampled_indices = \u001b[43mnp\u001b[49m\u001b[43m.\u001b[49m\u001b[43mrandom\u001b[49m\u001b[43m.\u001b[49m\u001b[43mchoice\u001b[49m\u001b[43m(\u001b[49m\u001b[38;5;28;43mlen\u001b[39;49m\u001b[43m(\u001b[49m\u001b[43mtitles\u001b[49m\u001b[43m)\u001b[49m\u001b[43m,\u001b[49m\u001b[43m \u001b[49m\u001b[43msample_size\u001b[49m\u001b[43m,\u001b[49m\u001b[43m \u001b[49m\u001b[43mreplace\u001b[49m\u001b[43m=\u001b[49m\u001b[38;5;28;43;01mFalse\u001b[39;49;00m\u001b[43m)\u001b[49m\n\u001b[32m      5\u001b[39m sentences = titles\n",
      "\u001b[36mFile \u001b[39m\u001b[32mnumpy\\\\random\\\\mtrand.pyx:1001\u001b[39m, in \u001b[36mnumpy.random.mtrand.RandomState.choice\u001b[39m\u001b[34m()\u001b[39m\n",
      "\u001b[31mValueError\u001b[39m: Cannot take a larger sample than population when 'replace=False'"
     ]
    }
   ],
   "source": [
    "# randomly sample 1000 transcripts from this dataset\n",
    "np.random.seed(random_state)\n",
    "sampled_indices = np.random.choice(len(titles), len(titles), replace=False)\n",
    "\n",
    "sentences = titles"
   ]
  },
  {
   "cell_type": "code",
   "execution_count": null,
   "metadata": {},
   "outputs": [],
   "source": [
    "sentences[:5]"
   ]
  },
  {
   "cell_type": "code",
   "execution_count": null,
   "metadata": {},
   "outputs": [],
   "source": [
    "# generate embeddings\n",
    "embeddings = generate_embeddings(sentences, dataset_name)"
   ]
  },
  {
   "cell_type": "code",
   "execution_count": null,
   "metadata": {},
   "outputs": [],
   "source": [
    "# get umap coords\n",
    "df_res = run_umap(embeddings, sentences, dataset_name)"
   ]
  },
  {
   "cell_type": "code",
   "execution_count": null,
   "metadata": {},
   "outputs": [],
   "source": [
    "# cluster the data\n",
    "df_cluster = get_clusters(df_res, embeddings, dataset_name, num_clusters=25)"
   ]
  },
  {
   "cell_type": "code",
   "execution_count": null,
   "metadata": {},
   "outputs": [],
   "source": [
    "# visualize the clusters\n",
    "visualize_clusters(df_cluster)"
   ]
  }
 ],
 "metadata": {
  "kernelspec": {
   "display_name": "ml-interactive-data-augmentation-oGByDv0u",
   "language": "python",
   "name": "python3"
  },
  "language_info": {
   "codemirror_mode": {
    "name": "ipython",
    "version": 3
   },
   "file_extension": ".py",
   "mimetype": "text/x-python",
   "name": "python",
   "nbconvert_exporter": "python",
   "pygments_lexer": "ipython3",
   "version": "3.11.9"
  }
 },
 "nbformat": 4,
 "nbformat_minor": 2
}
